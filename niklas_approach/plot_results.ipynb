{
 "cells": [
  {
   "cell_type": "code",
   "execution_count": 1,
   "metadata": {},
   "outputs": [],
   "source": [
    "import pandas as pd\n",
    "import nltk"
   ]
  },
  {
   "cell_type": "code",
   "execution_count": 2,
   "metadata": {},
   "outputs": [
    {
     "data": {
      "text/html": [
       "<div>\n",
       "<style scoped>\n",
       "    .dataframe tbody tr th:only-of-type {\n",
       "        vertical-align: middle;\n",
       "    }\n",
       "\n",
       "    .dataframe tbody tr th {\n",
       "        vertical-align: top;\n",
       "    }\n",
       "\n",
       "    .dataframe thead th {\n",
       "        text-align: right;\n",
       "    }\n",
       "</style>\n",
       "<table border=\"1\" class=\"dataframe\">\n",
       "  <thead>\n",
       "    <tr style=\"text-align: right;\">\n",
       "      <th></th>\n",
       "      <th>movie_name</th>\n",
       "      <th>index</th>\n",
       "      <th>utterance</th>\n",
       "      <th>count_utterances</th>\n",
       "      <th>tag</th>\n",
       "      <th>we_label_fox_news</th>\n",
       "      <th>we_label_twitter</th>\n",
       "      <th>bert_label_twitter</th>\n",
       "      <th>bert_label_fox_news</th>\n",
       "      <th>lstm_label_twitter</th>\n",
       "      <th>lstm_label_fox_news</th>\n",
       "      <th>hate_keyword_count</th>\n",
       "      <th>hate_keyword_count_unique</th>\n",
       "      <th>hate_keyword</th>\n",
       "      <th>hate_keyword_sources</th>\n",
       "    </tr>\n",
       "  </thead>\n",
       "  <tbody>\n",
       "    <tr>\n",
       "      <th>0</th>\n",
       "      <td>12 Angry Men</td>\n",
       "      <td>0</td>\n",
       "      <td>Thank you very much, sir.</td>\n",
       "      <td>2065</td>\n",
       "      <td>racism</td>\n",
       "      <td>not hate speech</td>\n",
       "      <td>neither</td>\n",
       "      <td>neither</td>\n",
       "      <td>not hate speech</td>\n",
       "      <td>hate speech</td>\n",
       "      <td>not hate speech</td>\n",
       "      <td>0</td>\n",
       "      <td>0</td>\n",
       "      <td>[]</td>\n",
       "      <td>[]</td>\n",
       "    </tr>\n",
       "  </tbody>\n",
       "</table>\n",
       "</div>"
      ],
      "text/plain": [
       "     movie_name  index                  utterance  count_utterances     tag  \\\n",
       "0  12 Angry Men      0  Thank you very much, sir.              2065  racism   \n",
       "\n",
       "  we_label_fox_news we_label_twitter bert_label_twitter bert_label_fox_news  \\\n",
       "0   not hate speech          neither            neither     not hate speech   \n",
       "\n",
       "  lstm_label_twitter lstm_label_fox_news  hate_keyword_count  \\\n",
       "0        hate speech     not hate speech                   0   \n",
       "\n",
       "   hate_keyword_count_unique hate_keyword hate_keyword_sources  \n",
       "0                          0           []                   []  "
      ]
     },
     "execution_count": 2,
     "metadata": {},
     "output_type": "execute_result"
    }
   ],
   "source": [
    "df_result = pd.read_csv(\"data/results.csv\", index_col=0)\n",
    "df_result.head(1)"
   ]
  },
  {
   "cell_type": "code",
   "execution_count": 3,
   "metadata": {},
   "outputs": [],
   "source": [
    "def replace_val(df):\n",
    "    df = df.replace('neither',0)\n",
    "    df = df.replace('not hate speech',0)\n",
    "    df = df.replace('offensive language',1)\n",
    "    df = df.replace('hate speech',2)\n",
    "    return df"
   ]
  },
  {
   "cell_type": "code",
   "execution_count": 4,
   "metadata": {},
   "outputs": [],
   "source": [
    "def calculate_keyword_formular(count):\n",
    "    if count == 1:\n",
    "        return 1\n",
    "    elif count == 2:\n",
    "        return 2\n",
    "    elif count==0:\n",
    "        return 0\n",
    "    else:\n",
    "        return 3"
   ]
  },
  {
   "cell_type": "code",
   "execution_count": 5,
   "metadata": {},
   "outputs": [],
   "source": [
    "df_result['we_label_fox_news'] = replace_val(df_result['we_label_fox_news'])\n",
    "df_result['we_label_twitter'] = replace_val(df_result['we_label_twitter'])\n",
    "df_result['bert_label_twitter'] = replace_val(df_result['bert_label_twitter'])\n",
    "df_result['bert_label_fox_news'] = replace_val(df_result['bert_label_fox_news'])\n",
    "df_result['lstm_label_twitter'] = replace_val(df_result['lstm_label_twitter'])\n",
    "df_result['lstm_label_fox_news'] = replace_val(df_result['lstm_label_fox_news'])"
   ]
  },
  {
   "cell_type": "code",
   "execution_count": 6,
   "metadata": {},
   "outputs": [],
   "source": [
    "df_result['keyword_count_formular'] = df_result['hate_keyword_count_unique'].apply(calculate_keyword_formular)"
   ]
  },
  {
   "cell_type": "code",
   "execution_count": 7,
   "metadata": {},
   "outputs": [
    {
     "data": {
      "text/html": [
       "<div>\n",
       "<style scoped>\n",
       "    .dataframe tbody tr th:only-of-type {\n",
       "        vertical-align: middle;\n",
       "    }\n",
       "\n",
       "    .dataframe tbody tr th {\n",
       "        vertical-align: top;\n",
       "    }\n",
       "\n",
       "    .dataframe thead th {\n",
       "        text-align: right;\n",
       "    }\n",
       "</style>\n",
       "<table border=\"1\" class=\"dataframe\">\n",
       "  <thead>\n",
       "    <tr style=\"text-align: right;\">\n",
       "      <th></th>\n",
       "      <th>movie_name</th>\n",
       "      <th>index</th>\n",
       "      <th>utterance</th>\n",
       "      <th>count_utterances</th>\n",
       "      <th>tag</th>\n",
       "      <th>we_label_fox_news</th>\n",
       "      <th>we_label_twitter</th>\n",
       "      <th>bert_label_twitter</th>\n",
       "      <th>bert_label_fox_news</th>\n",
       "      <th>lstm_label_twitter</th>\n",
       "      <th>lstm_label_fox_news</th>\n",
       "      <th>hate_keyword_count</th>\n",
       "      <th>hate_keyword_count_unique</th>\n",
       "      <th>hate_keyword</th>\n",
       "      <th>hate_keyword_sources</th>\n",
       "      <th>keyword_count_formular</th>\n",
       "    </tr>\n",
       "  </thead>\n",
       "  <tbody>\n",
       "    <tr>\n",
       "      <th>0</th>\n",
       "      <td>12 Angry Men</td>\n",
       "      <td>0</td>\n",
       "      <td>Thank you very much, sir.</td>\n",
       "      <td>2065</td>\n",
       "      <td>racism</td>\n",
       "      <td>0</td>\n",
       "      <td>0</td>\n",
       "      <td>0</td>\n",
       "      <td>0</td>\n",
       "      <td>2</td>\n",
       "      <td>0</td>\n",
       "      <td>0</td>\n",
       "      <td>0</td>\n",
       "      <td>[]</td>\n",
       "      <td>[]</td>\n",
       "      <td>0</td>\n",
       "    </tr>\n",
       "  </tbody>\n",
       "</table>\n",
       "</div>"
      ],
      "text/plain": [
       "     movie_name  index                  utterance  count_utterances     tag  \\\n",
       "0  12 Angry Men      0  Thank you very much, sir.              2065  racism   \n",
       "\n",
       "   we_label_fox_news  we_label_twitter  bert_label_twitter  \\\n",
       "0                  0                 0                   0   \n",
       "\n",
       "   bert_label_fox_news  lstm_label_twitter  lstm_label_fox_news  \\\n",
       "0                    0                   2                    0   \n",
       "\n",
       "   hate_keyword_count  hate_keyword_count_unique hate_keyword  \\\n",
       "0                   0                          0           []   \n",
       "\n",
       "  hate_keyword_sources  keyword_count_formular  \n",
       "0                   []                       0  "
      ]
     },
     "execution_count": 7,
     "metadata": {},
     "output_type": "execute_result"
    }
   ],
   "source": [
    "df_result.head(1)"
   ]
  },
  {
   "cell_type": "code",
   "execution_count": 8,
   "metadata": {},
   "outputs": [],
   "source": [
    "df_result['combined_results'] = (df_result['we_label_fox_news']\n",
    "                                    +df_result['we_label_twitter']\n",
    "                                    +df_result['bert_label_twitter']\n",
    "                                    +df_result['bert_label_fox_news']\n",
    "                                    +df_result['lstm_label_twitter']\n",
    "                                    +df_result['lstm_label_fox_news']\n",
    "                                    +df_result['keyword_count_formular'])"
   ]
  },
  {
   "cell_type": "code",
   "execution_count": 9,
   "metadata": {},
   "outputs": [],
   "source": [
    "df_result['combined_normlized'] = round(df_result['combined_results']/df_result['combined_results'].max(),2)"
   ]
  },
  {
   "cell_type": "markdown",
   "metadata": {},
   "source": [
    "## add bins"
   ]
  },
  {
   "cell_type": "code",
   "execution_count": 10,
   "metadata": {},
   "outputs": [],
   "source": [
    "df_result['combined_normlized_bin'] = pd.cut(df_result['combined_normlized'], bins=[0, .5, .8, 1], labels=['neither', 'offensive', 'hate'])"
   ]
  },
  {
   "cell_type": "code",
   "execution_count": 11,
   "metadata": {},
   "outputs": [
    {
     "data": {
      "text/html": [
       "<div>\n",
       "<style scoped>\n",
       "    .dataframe tbody tr th:only-of-type {\n",
       "        vertical-align: middle;\n",
       "    }\n",
       "\n",
       "    .dataframe tbody tr th {\n",
       "        vertical-align: top;\n",
       "    }\n",
       "\n",
       "    .dataframe thead th {\n",
       "        text-align: right;\n",
       "    }\n",
       "</style>\n",
       "<table border=\"1\" class=\"dataframe\">\n",
       "  <thead>\n",
       "    <tr style=\"text-align: right;\">\n",
       "      <th></th>\n",
       "      <th>movie_name</th>\n",
       "      <th>index</th>\n",
       "      <th>utterance</th>\n",
       "      <th>count_utterances</th>\n",
       "      <th>tag</th>\n",
       "      <th>we_label_fox_news</th>\n",
       "      <th>we_label_twitter</th>\n",
       "      <th>bert_label_twitter</th>\n",
       "      <th>bert_label_fox_news</th>\n",
       "      <th>lstm_label_twitter</th>\n",
       "      <th>lstm_label_fox_news</th>\n",
       "      <th>hate_keyword_count</th>\n",
       "      <th>hate_keyword_count_unique</th>\n",
       "      <th>hate_keyword</th>\n",
       "      <th>hate_keyword_sources</th>\n",
       "      <th>keyword_count_formular</th>\n",
       "      <th>combined_results</th>\n",
       "      <th>combined_normlized</th>\n",
       "      <th>combined_normlized_bin</th>\n",
       "    </tr>\n",
       "  </thead>\n",
       "  <tbody>\n",
       "    <tr>\n",
       "      <th>0</th>\n",
       "      <td>12 Angry Men</td>\n",
       "      <td>0</td>\n",
       "      <td>Thank you very much, sir.</td>\n",
       "      <td>2065</td>\n",
       "      <td>racism</td>\n",
       "      <td>0</td>\n",
       "      <td>0</td>\n",
       "      <td>0</td>\n",
       "      <td>0</td>\n",
       "      <td>2</td>\n",
       "      <td>0</td>\n",
       "      <td>0</td>\n",
       "      <td>0</td>\n",
       "      <td>[]</td>\n",
       "      <td>[]</td>\n",
       "      <td>0</td>\n",
       "      <td>2</td>\n",
       "      <td>0.15</td>\n",
       "      <td>neither</td>\n",
       "    </tr>\n",
       "  </tbody>\n",
       "</table>\n",
       "</div>"
      ],
      "text/plain": [
       "     movie_name  index                  utterance  count_utterances     tag  \\\n",
       "0  12 Angry Men      0  Thank you very much, sir.              2065  racism   \n",
       "\n",
       "   we_label_fox_news  we_label_twitter  bert_label_twitter  \\\n",
       "0                  0                 0                   0   \n",
       "\n",
       "   bert_label_fox_news  lstm_label_twitter  lstm_label_fox_news  \\\n",
       "0                    0                   2                    0   \n",
       "\n",
       "   hate_keyword_count  hate_keyword_count_unique hate_keyword  \\\n",
       "0                   0                          0           []   \n",
       "\n",
       "  hate_keyword_sources  keyword_count_formular  combined_results  \\\n",
       "0                   []                       0                 2   \n",
       "\n",
       "   combined_normlized combined_normlized_bin  \n",
       "0                0.15                neither  "
      ]
     },
     "execution_count": 11,
     "metadata": {},
     "output_type": "execute_result"
    }
   ],
   "source": [
    "df_result.head(1)"
   ]
  },
  {
   "cell_type": "raw",
   "metadata": {},
   "source": [
    "for row in df_result[df_result.combined_normlized_bin=='hate'][['utterance', 'combined_normlized', 'movie_name']].values:\n",
    "    print(row)\n",
    "    print('---')"
   ]
  },
  {
   "cell_type": "markdown",
   "metadata": {},
   "source": [
    "# Analysis"
   ]
  },
  {
   "cell_type": "markdown",
   "metadata": {},
   "source": [
    "# Creating Movie Metadata Dataframe"
   ]
  },
  {
   "cell_type": "code",
   "execution_count": 12,
   "metadata": {},
   "outputs": [],
   "source": [
    "mean_hate_score_by_movie_df = df_result.groupby('movie_name').combined_normlized.mean().to_frame('mean_hate_score').reset_index().sort_values(by='mean_hate_score', ascending=False)"
   ]
  },
  {
   "cell_type": "code",
   "execution_count": 13,
   "metadata": {},
   "outputs": [
    {
     "data": {
      "text/html": [
       "<div>\n",
       "<style scoped>\n",
       "    .dataframe tbody tr th:only-of-type {\n",
       "        vertical-align: middle;\n",
       "    }\n",
       "\n",
       "    .dataframe tbody tr th {\n",
       "        vertical-align: top;\n",
       "    }\n",
       "\n",
       "    .dataframe thead th {\n",
       "        text-align: right;\n",
       "    }\n",
       "</style>\n",
       "<table border=\"1\" class=\"dataframe\">\n",
       "  <thead>\n",
       "    <tr style=\"text-align: right;\">\n",
       "      <th></th>\n",
       "      <th>movie_name</th>\n",
       "      <th>mean_hate_score</th>\n",
       "    </tr>\n",
       "  </thead>\n",
       "  <tbody>\n",
       "    <tr>\n",
       "      <th>207</th>\n",
       "      <td>The Red Pill</td>\n",
       "      <td>0.286429</td>\n",
       "    </tr>\n",
       "  </tbody>\n",
       "</table>\n",
       "</div>"
      ],
      "text/plain": [
       "       movie_name  mean_hate_score\n",
       "207  The Red Pill         0.286429"
      ]
     },
     "execution_count": 13,
     "metadata": {},
     "output_type": "execute_result"
    }
   ],
   "source": [
    "mean_hate_score_by_movie_df.head(1)"
   ]
  },
  {
   "cell_type": "code",
   "execution_count": 14,
   "metadata": {},
   "outputs": [
    {
     "data": {
      "text/html": [
       "<div>\n",
       "<style scoped>\n",
       "    .dataframe tbody tr th:only-of-type {\n",
       "        vertical-align: middle;\n",
       "    }\n",
       "\n",
       "    .dataframe tbody tr th {\n",
       "        vertical-align: top;\n",
       "    }\n",
       "\n",
       "    .dataframe thead th {\n",
       "        text-align: right;\n",
       "    }\n",
       "</style>\n",
       "<table border=\"1\" class=\"dataframe\">\n",
       "  <thead>\n",
       "    <tr style=\"text-align: right;\">\n",
       "      <th></th>\n",
       "      <th>movie_name</th>\n",
       "      <th>tag</th>\n",
       "      <th>combined_normlized_bin</th>\n",
       "      <th>count_bin</th>\n",
       "    </tr>\n",
       "  </thead>\n",
       "  <tbody>\n",
       "    <tr>\n",
       "      <th>0</th>\n",
       "      <td>12 Angry Men</td>\n",
       "      <td>racism</td>\n",
       "      <td>neither</td>\n",
       "      <td>1959</td>\n",
       "    </tr>\n",
       "    <tr>\n",
       "      <th>1</th>\n",
       "      <td>12 Angry Men</td>\n",
       "      <td>racism</td>\n",
       "      <td>offensive</td>\n",
       "      <td>30</td>\n",
       "    </tr>\n",
       "    <tr>\n",
       "      <th>2</th>\n",
       "      <td>1917</td>\n",
       "      <td>friendship</td>\n",
       "      <td>neither</td>\n",
       "      <td>1408</td>\n",
       "    </tr>\n",
       "  </tbody>\n",
       "</table>\n",
       "</div>"
      ],
      "text/plain": [
       "     movie_name         tag combined_normlized_bin  count_bin\n",
       "0  12 Angry Men      racism                neither       1959\n",
       "1  12 Angry Men      racism              offensive         30\n",
       "2          1917  friendship                neither       1408"
      ]
     },
     "execution_count": 14,
     "metadata": {},
     "output_type": "execute_result"
    }
   ],
   "source": [
    "new_label_distribution_df = df_result.groupby(['movie_name', 'tag']).combined_normlized_bin.value_counts().to_frame('count_bin').reset_index()\n",
    "new_label_distribution_df.head(3)"
   ]
  },
  {
   "cell_type": "code",
   "execution_count": 15,
   "metadata": {},
   "outputs": [
    {
     "data": {
      "text/html": [
       "<div>\n",
       "<style scoped>\n",
       "    .dataframe tbody tr th:only-of-type {\n",
       "        vertical-align: middle;\n",
       "    }\n",
       "\n",
       "    .dataframe tbody tr th {\n",
       "        vertical-align: top;\n",
       "    }\n",
       "\n",
       "    .dataframe thead th {\n",
       "        text-align: right;\n",
       "    }\n",
       "</style>\n",
       "<table border=\"1\" class=\"dataframe\">\n",
       "  <thead>\n",
       "    <tr style=\"text-align: right;\">\n",
       "      <th></th>\n",
       "      <th>movie_name</th>\n",
       "      <th>tag</th>\n",
       "      <th>combined_normlized_bin</th>\n",
       "      <th>count_bin</th>\n",
       "    </tr>\n",
       "  </thead>\n",
       "  <tbody>\n",
       "  </tbody>\n",
       "</table>\n",
       "</div>"
      ],
      "text/plain": [
       "Empty DataFrame\n",
       "Columns: [movie_name, tag, combined_normlized_bin, count_bin]\n",
       "Index: []"
      ]
     },
     "execution_count": 15,
     "metadata": {},
     "output_type": "execute_result"
    }
   ],
   "source": [
    "new_label_distribution_df[new_label_distribution_df.movie_name=='friendship']"
   ]
  },
  {
   "cell_type": "code",
   "execution_count": 16,
   "metadata": {},
   "outputs": [],
   "source": [
    "df = new_label_distribution_df.groupby(['tag', 'combined_normlized_bin']).count_bin.sum().to_frame('count').reset_index()\n",
    "df_pivot = pd.pivot_table(\n",
    "    df,\n",
    "    values=\"count\",\n",
    "    index=\"tag\",\n",
    "    columns='combined_normlized_bin'\n",
    ")"
   ]
  },
  {
   "cell_type": "code",
   "execution_count": 17,
   "metadata": {},
   "outputs": [
    {
     "ename": "NameError",
     "evalue": "name 'title' is not defined",
     "output_type": "error",
     "traceback": [
      "\u001b[1;31m---------------------------------------------------------------------------\u001b[0m",
      "\u001b[1;31mNameError\u001b[0m                                 Traceback (most recent call last)",
      "\u001b[1;32m<ipython-input-17-4b9116d25bc0>\u001b[0m in \u001b[0;36m<module>\u001b[1;34m\u001b[0m\n\u001b[1;32m----> 1\u001b[1;33m \u001b[0max\u001b[0m \u001b[1;33m=\u001b[0m \u001b[0mdf_pivot\u001b[0m\u001b[1;33m.\u001b[0m\u001b[0mplot\u001b[0m\u001b[1;33m(\u001b[0m\u001b[0mkind\u001b[0m\u001b[1;33m=\u001b[0m\u001b[1;34m'bar'\u001b[0m\u001b[1;33m,\u001b[0m \u001b[0mtitle\u001b[0m\u001b[1;33m=\u001b[0m\u001b[0mtitle\u001b[0m\u001b[1;33m)\u001b[0m\u001b[1;33m\u001b[0m\u001b[1;33m\u001b[0m\u001b[0m\n\u001b[0m",
      "\u001b[1;31mNameError\u001b[0m: name 'title' is not defined"
     ]
    }
   ],
   "source": [
    "ax = df_pivot.plot(kind='bar', title=title)"
   ]
  },
  {
   "cell_type": "code",
   "execution_count": null,
   "metadata": {},
   "outputs": [],
   "source": [
    "new_label_distribution_df.groupby(['tag', 'combined_normlized_bin']).count_bin.sum().to_frame('sum').reset_index()"
   ]
  },
  {
   "cell_type": "code",
   "execution_count": null,
   "metadata": {},
   "outputs": [],
   "source": [
    "a = df_result.groupby(['tag']).combined_normlized_bin.value_counts(normalize=True).to_frame('percentage').reset_index()"
   ]
  },
  {
   "cell_type": "code",
   "execution_count": null,
   "metadata": {},
   "outputs": [],
   "source": [
    "a"
   ]
  },
  {
   "cell_type": "code",
   "execution_count": null,
   "metadata": {},
   "outputs": [],
   "source": [
    "a[a.tag=='friendship'].percentage.plot(kind='pie', autopct='%1.0f%%')"
   ]
  },
  {
   "cell_type": "code",
   "execution_count": null,
   "metadata": {},
   "outputs": [],
   "source": [
    "a[a.tag=='hate_speech'].percentage.plot(kind='pie', autopct='%1.0f%%')"
   ]
  },
  {
   "cell_type": "code",
   "execution_count": null,
   "metadata": {},
   "outputs": [],
   "source": [
    "a[a.tag=='racism'].percentage.plot(kind='pie', autopct='%1.0f%%')"
   ]
  },
  {
   "cell_type": "code",
   "execution_count": null,
   "metadata": {},
   "outputs": [],
   "source": [
    "ax = df_result.groupby(['tag']).combined_normlized_bin.value_counts(normalize=True).unstack().plot(kind='bar', stacked = True, title=title, color=['orange', 'green', 'blue'])\n",
    "for i, p in enumerate(ax.patches):\n",
    "    width = p.get_width()\n",
    "    height = p.get_height()\n",
    "    x, y = p.get_xy() \n",
    "    a = round(x + width/2, 2)\n",
    "    b = round(y + height*1.00, 2)\n",
    "    height = round(height, 2)\n",
    "    ax.annotate(f'{height}', (a, b), ha='center')\n",
    "ax.legend(bbox_to_anchor=(1.5, 1))"
   ]
  },
  {
   "cell_type": "code",
   "execution_count": null,
   "metadata": {},
   "outputs": [],
   "source": [
    "new_label_distribution_df[new_label_distribution_df.combined_normlized_bin=='hate'].groupby('tag').count_bin.mean()"
   ]
  },
  {
   "cell_type": "code",
   "execution_count": null,
   "metadata": {},
   "outputs": [],
   "source": [
    "new_label_distribution_df[new_label_distribution_df.combined_normlized_bin=='offensive'].groupby('tag').count_bin.mean()"
   ]
  },
  {
   "cell_type": "code",
   "execution_count": null,
   "metadata": {},
   "outputs": [],
   "source": [
    "new_label_distribution_df[new_label_distribution_df.combined_normlized_bin=='neither'].groupby('tag').count_bin.mean()"
   ]
  },
  {
   "cell_type": "code",
   "execution_count": null,
   "metadata": {},
   "outputs": [],
   "source": [
    "new_label_distribution_df[new_label_distribution_df.combined_normlized_bin=='hate'].sort_values(by='count_bin', ascending=False).head(10)"
   ]
  },
  {
   "cell_type": "code",
   "execution_count": null,
   "metadata": {},
   "outputs": [],
   "source": [
    "new_label_distribution_df[new_label_distribution_df.combined_normlized_bin=='offensive'].sort_values(by='count_bin', ascending=True).head(10)"
   ]
  },
  {
   "cell_type": "code",
   "execution_count": null,
   "metadata": {},
   "outputs": [],
   "source": [
    "movie_metadata = df_result.drop_duplicates(subset=['movie_name'])[['movie_name', 'count_utterances', 'tag']]"
   ]
  },
  {
   "cell_type": "code",
   "execution_count": null,
   "metadata": {},
   "outputs": [],
   "source": [
    "movie_metadata = movie_metadata.merge(mean_hate_score_by_movie_df, on='movie_name')"
   ]
  },
  {
   "cell_type": "code",
   "execution_count": null,
   "metadata": {},
   "outputs": [],
   "source": [
    "movie_metadata.sort_values(by='mean_hate_score', ascending=False).head(20)"
   ]
  },
  {
   "cell_type": "markdown",
   "metadata": {},
   "source": [
    "# Mean hate_score of movies distributed by tags"
   ]
  },
  {
   "cell_type": "code",
   "execution_count": null,
   "metadata": {},
   "outputs": [],
   "source": [
    "movie_metadata.groupby('tag').mean_hate_score.max()"
   ]
  },
  {
   "cell_type": "code",
   "execution_count": null,
   "metadata": {},
   "outputs": [],
   "source": [
    "movie_metadata.groupby('tag').count_utterances.mean()"
   ]
  },
  {
   "cell_type": "code",
   "execution_count": null,
   "metadata": {},
   "outputs": [],
   "source": [
    "movie_metadata.tag.value_counts()"
   ]
  },
  {
   "cell_type": "code",
   "execution_count": null,
   "metadata": {},
   "outputs": [],
   "source": [
    "ax = movie_metadata.groupby('movie_name').mean_hate_score.max().sort_values(ascending=False).plot(kind='bar', figsize=(30,5))\n",
    "ax.set_ylim([0, 1])"
   ]
  },
  {
   "cell_type": "code",
   "execution_count": null,
   "metadata": {},
   "outputs": [],
   "source": [
    "ax = movie_metadata.groupby('movie_name').mean_hate_score.max().sort_values(ascending=False).plot(kind='line', figsize=(30,5))\n",
    "ax.set_ylim([0, 1])"
   ]
  },
  {
   "cell_type": "code",
   "execution_count": null,
   "metadata": {},
   "outputs": [],
   "source": []
  }
 ],
 "metadata": {
  "kernelspec": {
   "display_name": "Python 3",
   "language": "python",
   "name": "python3"
  },
  "language_info": {
   "codemirror_mode": {
    "name": "ipython",
    "version": 3
   },
   "file_extension": ".py",
   "mimetype": "text/x-python",
   "name": "python",
   "nbconvert_exporter": "python",
   "pygments_lexer": "ipython3",
   "version": "3.7.9"
  }
 },
 "nbformat": 4,
 "nbformat_minor": 5
}
