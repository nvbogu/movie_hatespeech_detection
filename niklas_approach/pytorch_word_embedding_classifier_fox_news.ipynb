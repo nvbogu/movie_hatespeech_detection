{
 "cells": [
  {
   "cell_type": "code",
   "execution_count": 1,
   "metadata": {},
   "outputs": [],
   "source": [
    "import torch\n",
    "import pandas as pd\n",
    "import numpy as np\n",
    "import sklearn\n",
    "from collections import Counter"
   ]
  },
  {
   "cell_type": "code",
   "execution_count": 2,
   "metadata": {},
   "outputs": [],
   "source": [
    "from sklearn.utils import Bunch\n",
    "from sklearn.model_selection import train_test_split\n",
    "from sklearn.metrics import classification_report"
   ]
  },
  {
   "cell_type": "code",
   "execution_count": 3,
   "metadata": {},
   "outputs": [],
   "source": [
    "from itertools import combinations"
   ]
  },
  {
   "cell_type": "code",
   "execution_count": 4,
   "metadata": {},
   "outputs": [],
   "source": [
    "import re\n",
    "import os"
   ]
  },
  {
   "cell_type": "code",
   "execution_count": 5,
   "metadata": {},
   "outputs": [],
   "source": [
    "import torch.nn as nn"
   ]
  },
  {
   "cell_type": "code",
   "execution_count": 6,
   "metadata": {},
   "outputs": [],
   "source": [
    "import matplotlib.pyplot as plt"
   ]
  },
  {
   "cell_type": "markdown",
   "metadata": {},
   "source": [
    "# Data Loading"
   ]
  },
  {
   "cell_type": "code",
   "execution_count": 7,
   "metadata": {},
   "outputs": [
    {
     "data": {
      "text/html": [
       "<div>\n",
       "<style scoped>\n",
       "    .dataframe tbody tr th:only-of-type {\n",
       "        vertical-align: middle;\n",
       "    }\n",
       "\n",
       "    .dataframe tbody tr th {\n",
       "        vertical-align: top;\n",
       "    }\n",
       "\n",
       "    .dataframe thead th {\n",
       "        text-align: right;\n",
       "    }\n",
       "</style>\n",
       "<table border=\"1\" class=\"dataframe\">\n",
       "  <thead>\n",
       "    <tr style=\"text-align: right;\">\n",
       "      <th></th>\n",
       "      <th>text</th>\n",
       "      <th>label</th>\n",
       "    </tr>\n",
       "  </thead>\n",
       "  <tbody>\n",
       "    <tr>\n",
       "      <th>0</th>\n",
       "      <td>barryswallows Merkel would never say NO</td>\n",
       "      <td>1</td>\n",
       "    </tr>\n",
       "    <tr>\n",
       "      <th>1</th>\n",
       "      <td>PostApocalypticHero Expect more and more women...</td>\n",
       "      <td>1</td>\n",
       "    </tr>\n",
       "    <tr>\n",
       "      <th>2</th>\n",
       "      <td>californiamojo Groping people in public wasn't...</td>\n",
       "      <td>0</td>\n",
       "    </tr>\n",
       "    <tr>\n",
       "      <th>3</th>\n",
       "      <td>MikeSte Merkel, possible the only person in ch...</td>\n",
       "      <td>1</td>\n",
       "    </tr>\n",
       "    <tr>\n",
       "      <th>4</th>\n",
       "      <td>scientist They know very well, no means NO! Th...</td>\n",
       "      <td>1</td>\n",
       "    </tr>\n",
       "  </tbody>\n",
       "</table>\n",
       "</div>"
      ],
      "text/plain": [
       "                                                text  label\n",
       "0            barryswallows Merkel would never say NO      1\n",
       "1  PostApocalypticHero Expect more and more women...      1\n",
       "2  californiamojo Groping people in public wasn't...      0\n",
       "3  MikeSte Merkel, possible the only person in ch...      1\n",
       "4  scientist They know very well, no means NO! Th...      1"
      ]
     },
     "execution_count": 7,
     "metadata": {},
     "output_type": "execute_result"
    }
   ],
   "source": [
    "path = \"data/fox_news.csv\"\n",
    "df = pd.read_csv(path, index_col=0)\n",
    "df = df.rename(columns={'class': 'label'})\n",
    "df.head()"
   ]
  },
  {
   "cell_type": "code",
   "execution_count": 8,
   "metadata": {},
   "outputs": [],
   "source": [
    "path = 'data/all_movies.csv'\n",
    "movie_data = pd.read_csv(path, index_col=0)"
   ]
  },
  {
   "cell_type": "code",
   "execution_count": 9,
   "metadata": {},
   "outputs": [
    {
     "data": {
      "text/html": [
       "<div>\n",
       "<style scoped>\n",
       "    .dataframe tbody tr th:only-of-type {\n",
       "        vertical-align: middle;\n",
       "    }\n",
       "\n",
       "    .dataframe tbody tr th {\n",
       "        vertical-align: top;\n",
       "    }\n",
       "\n",
       "    .dataframe thead th {\n",
       "        text-align: right;\n",
       "    }\n",
       "</style>\n",
       "<table border=\"1\" class=\"dataframe\">\n",
       "  <thead>\n",
       "    <tr style=\"text-align: right;\">\n",
       "      <th></th>\n",
       "      <th>movie_name</th>\n",
       "      <th>index</th>\n",
       "      <th>utterance</th>\n",
       "      <th>count_utterances</th>\n",
       "      <th>tag</th>\n",
       "    </tr>\n",
       "  </thead>\n",
       "  <tbody>\n",
       "    <tr>\n",
       "      <th>0</th>\n",
       "      <td>12 Angry Men</td>\n",
       "      <td>0</td>\n",
       "      <td>Thank you very much, sir.</td>\n",
       "      <td>2065</td>\n",
       "      <td>racism</td>\n",
       "    </tr>\n",
       "    <tr>\n",
       "      <th>1</th>\n",
       "      <td>12 Angry Men</td>\n",
       "      <td>1</td>\n",
       "      <td>You did a wonderful job. Wonderful.</td>\n",
       "      <td>2065</td>\n",
       "      <td>racism</td>\n",
       "    </tr>\n",
       "    <tr>\n",
       "      <th>2</th>\n",
       "      <td>12 Angry Men</td>\n",
       "      <td>2</td>\n",
       "      <td>Shh. Shh.</td>\n",
       "      <td>2065</td>\n",
       "      <td>racism</td>\n",
       "    </tr>\n",
       "    <tr>\n",
       "      <th>3</th>\n",
       "      <td>12 Angry Men</td>\n",
       "      <td>3</td>\n",
       "      <td>We did it, Pete. We did it.</td>\n",
       "      <td>2065</td>\n",
       "      <td>racism</td>\n",
       "    </tr>\n",
       "    <tr>\n",
       "      <th>4</th>\n",
       "      <td>12 Angry Men</td>\n",
       "      <td>4</td>\n",
       "      <td>For a moment, we had our doubts.</td>\n",
       "      <td>2065</td>\n",
       "      <td>racism</td>\n",
       "    </tr>\n",
       "  </tbody>\n",
       "</table>\n",
       "</div>"
      ],
      "text/plain": [
       "     movie_name  index                            utterance  count_utterances  \\\n",
       "0  12 Angry Men      0            Thank you very much, sir.              2065   \n",
       "1  12 Angry Men      1  You did a wonderful job. Wonderful.              2065   \n",
       "2  12 Angry Men      2                            Shh. Shh.              2065   \n",
       "3  12 Angry Men      3          We did it, Pete. We did it.              2065   \n",
       "4  12 Angry Men      4     For a moment, we had our doubts.              2065   \n",
       "\n",
       "      tag  \n",
       "0  racism  \n",
       "1  racism  \n",
       "2  racism  \n",
       "3  racism  \n",
       "4  racism  "
      ]
     },
     "execution_count": 9,
     "metadata": {},
     "output_type": "execute_result"
    }
   ],
   "source": [
    "movie_data.head()"
   ]
  },
  {
   "cell_type": "code",
   "execution_count": 10,
   "metadata": {},
   "outputs": [
    {
     "name": "stdout",
     "output_type": "stream",
     "text": [
      "0    2186\n",
      "1     870\n",
      "Name: label, dtype: int64\n"
     ]
    },
    {
     "data": {
      "text/plain": [
       "array([<AxesSubplot:ylabel='label'>], dtype=object)"
      ]
     },
     "execution_count": 10,
     "metadata": {},
     "output_type": "execute_result"
    },
    {
     "data": {
      "image/png": "[encoded data removed]",
      "text/plain": [
       "<Figure size 432x288 with 1 Axes>"
      ]
     },
     "metadata": {},
     "output_type": "display_data"
    }
   ],
   "source": [
    "print(df.label.value_counts())\n",
    "df.label.value_counts().plot(kind='pie', subplots=True, autopct='%1.0f%%', title='Hate Speech Distribution')"
   ]
  },
  {
   "cell_type": "markdown",
   "metadata": {},
   "source": [
    "## Data Cleansing"
   ]
  },
  {
   "cell_type": "code",
   "execution_count": 11,
   "metadata": {},
   "outputs": [],
   "source": [
    "def filter_hatespeech_texts(df):\n",
    "    \n",
    "    def filter_texts(text):\n",
    "        text = re.sub('@.\\:|!|@\\w+|&#[0-9]*;|#\\w+|RT|\\/\\/t.co\\/\\w+|&gt|&lt', '', text)\n",
    "        return text\n",
    "\n",
    "    df['text'] = df['text'].apply(filter_texts)\n",
    "    df.replace(\"\", np.nan, inplace=True)\n",
    "    df = df.dropna()\n",
    "    \n",
    "    return df"
   ]
  },
  {
   "cell_type": "code",
   "execution_count": 12,
   "metadata": {},
   "outputs": [],
   "source": [
    "df = filter_hatespeech_texts(df)\n",
    "df = filter_hatespeech_texts(df)"
   ]
  },
  {
   "cell_type": "code",
   "execution_count": 13,
   "metadata": {},
   "outputs": [
    {
     "data": {
      "text/html": [
       "<div>\n",
       "<style scoped>\n",
       "    .dataframe tbody tr th:only-of-type {\n",
       "        vertical-align: middle;\n",
       "    }\n",
       "\n",
       "    .dataframe tbody tr th {\n",
       "        vertical-align: top;\n",
       "    }\n",
       "\n",
       "    .dataframe thead th {\n",
       "        text-align: right;\n",
       "    }\n",
       "</style>\n",
       "<table border=\"1\" class=\"dataframe\">\n",
       "  <thead>\n",
       "    <tr style=\"text-align: right;\">\n",
       "      <th></th>\n",
       "      <th>text</th>\n",
       "      <th>label</th>\n",
       "    </tr>\n",
       "  </thead>\n",
       "  <tbody>\n",
       "    <tr>\n",
       "      <th>0</th>\n",
       "      <td>barryswallows Merkel would never say NO</td>\n",
       "      <td>1</td>\n",
       "    </tr>\n",
       "    <tr>\n",
       "      <th>1</th>\n",
       "      <td>PostApocalypticHero Expect more and more women...</td>\n",
       "      <td>1</td>\n",
       "    </tr>\n",
       "    <tr>\n",
       "      <th>2</th>\n",
       "      <td>californiamojo Groping people in public wasn't...</td>\n",
       "      <td>0</td>\n",
       "    </tr>\n",
       "    <tr>\n",
       "      <th>3</th>\n",
       "      <td>MikeSte Merkel, possible the only person in ch...</td>\n",
       "      <td>1</td>\n",
       "    </tr>\n",
       "    <tr>\n",
       "      <th>4</th>\n",
       "      <td>scientist They know very well, no means NO The...</td>\n",
       "      <td>1</td>\n",
       "    </tr>\n",
       "  </tbody>\n",
       "</table>\n",
       "</div>"
      ],
      "text/plain": [
       "                                                text  label\n",
       "0            barryswallows Merkel would never say NO      1\n",
       "1  PostApocalypticHero Expect more and more women...      1\n",
       "2  californiamojo Groping people in public wasn't...      0\n",
       "3  MikeSte Merkel, possible the only person in ch...      1\n",
       "4  scientist They know very well, no means NO The...      1"
      ]
     },
     "execution_count": 13,
     "metadata": {},
     "output_type": "execute_result"
    }
   ],
   "source": [
    "df.head()"
   ]
  },
  {
   "cell_type": "markdown",
   "metadata": {},
   "source": [
    "## Data Splitting"
   ]
  },
  {
   "cell_type": "code",
   "execution_count": 14,
   "metadata": {},
   "outputs": [],
   "source": [
    "def split_dataset(df, seed, test_size):\n",
    "    train, test = train_test_split(df, test_size=test_size, random_state=seed, shuffle=True)\n",
    "    return train.text.values, train.label.values, test.text.values, test.label.values"
   ]
  },
  {
   "cell_type": "code",
   "execution_count": 15,
   "metadata": {},
   "outputs": [],
   "source": [
    "# categories = ['not hate speech', 'hate speech]\n",
    "categories = [0,1]\n",
    "seed = 11\n",
    "test_size = 0.2"
   ]
  },
  {
   "cell_type": "code",
   "execution_count": 16,
   "metadata": {},
   "outputs": [],
   "source": [
    "train, train_targets, test, test_targets = split_dataset(df, seed=seed, test_size=test_size)"
   ]
  },
  {
   "cell_type": "code",
   "execution_count": 17,
   "metadata": {},
   "outputs": [],
   "source": [
    "train_size = len(train)\n",
    "test_size = len(test)"
   ]
  },
  {
   "cell_type": "code",
   "execution_count": 18,
   "metadata": {},
   "outputs": [],
   "source": [
    "def calculate_dataset_class_distribution(targets, categories):\n",
    "    df = pd.DataFrame({'category':targets})\n",
    "    s = df.category.value_counts(normalize=True)\n",
    "    s = s.reindex(categories)\n",
    "    return [s.index[0], s[0]], [s.index[1], s[1]]"
   ]
  },
  {
   "cell_type": "code",
   "execution_count": 19,
   "metadata": {},
   "outputs": [],
   "source": [
    "train_class_distribution = calculate_dataset_class_distribution(train_targets, categories)\n",
    "test_class_distribution = calculate_dataset_class_distribution(test_targets, categories)"
   ]
  },
  {
   "cell_type": "code",
   "execution_count": 20,
   "metadata": {},
   "outputs": [],
   "source": [
    "train_ds = Bunch(data=train, target=train_targets)\n",
    "test_ds = Bunch(data=test, target=test_targets)"
   ]
  },
  {
   "cell_type": "markdown",
   "metadata": {},
   "source": [
    "## Buidling the Model"
   ]
  },
  {
   "cell_type": "code",
   "execution_count": 21,
   "metadata": {},
   "outputs": [],
   "source": [
    "# Getting all the vocabularies and indexing to a unique position\n",
    "vocab = Counter()\n",
    "#Indexing words from the training data\n",
    "for text in train_ds.data:\n",
    "    for word in text.split(' '):\n",
    "        vocab[word.lower()]+=1\n",
    "\n",
    "#Indexing words from the training data\n",
    "for text in test_ds.data:\n",
    "    for word in text.split(' '):\n",
    "        vocab[word.lower()]+=1\n",
    "\n",
    "for text in movie_data.utterance.values:\n",
    "    for word in text.split(' '):\n",
    "        vocab[word.lower()]+=1\n",
    "        \n",
    "total_words = len(vocab)\n",
    "\n",
    "def get_word_2_index(vocab):\n",
    "    word2index = {}\n",
    "    for i,word in enumerate(vocab):\n",
    "        word2index[word.lower()] = i\n",
    "\n",
    "    return word2index\n",
    "\n",
    "word2index = get_word_2_index(vocab)"
   ]
  },
  {
   "cell_type": "code",
   "execution_count": 22,
   "metadata": {},
   "outputs": [
    {
     "name": "stdout",
     "output_type": "stream",
     "text": [
      "114912\n",
      "34\n",
      "114912\n"
     ]
    }
   ],
   "source": [
    "print(len(word2index))\n",
    "print(word2index[\"the\"]) # Showing the index of 'the'\n",
    "print (total_words)"
   ]
  },
  {
   "cell_type": "code",
   "execution_count": 23,
   "metadata": {},
   "outputs": [],
   "source": [
    "# define the network\n",
    "class News_20_Net(nn.Module):\n",
    "     def __init__(self, input_size, hidden_size, num_classes):\n",
    "        super(News_20_Net, self).__init__()\n",
    "        self.layer_1 = nn.Linear(input_size,hidden_size, bias=True).cuda()\n",
    "        self.relu = nn.ReLU().cuda()\n",
    "        self.layer_2 = nn.Linear(hidden_size, hidden_size, bias=True).cuda()\n",
    "        self.output_layer = nn.Linear(hidden_size, num_classes, bias=True).cuda()\n",
    "    # accept input and return an output\n",
    "     def forward(self, x):\n",
    "        out = self.layer_1(x)\n",
    "        out = self.relu(out)\n",
    "        out = self.layer_2(out)\n",
    "        out = self.relu(out)\n",
    "        out = self.output_layer(out)\n",
    "        return out"
   ]
  },
  {
   "cell_type": "code",
   "execution_count": 24,
   "metadata": {},
   "outputs": [],
   "source": [
    "def get_batch(df,i,batch_size):\n",
    "    batches = []\n",
    "    results = []\n",
    "    # Split into different batchs, get the next batch \n",
    "    texts = df.data[i*batch_size:i*batch_size+batch_size]\n",
    "    # get the targets \n",
    "    categories = df.target[i*batch_size:i*batch_size+batch_size]\n",
    "    #print(categories)\n",
    "    for text in texts:\n",
    "        # Dimension, 196609\n",
    "        layer = np.zeros(total_words,dtype=float)\n",
    "\n",
    "        for word in text.split(' '):\n",
    "            layer[word2index[word.lower()]] += 1\n",
    "        batches.append(layer)\n",
    "\n",
    "    # We have 5 categories\n",
    "    for category in categories:\n",
    "        #print(category)\n",
    "        index_y = -1\n",
    "        if category == 0:\n",
    "            index_y = 0\n",
    "        elif category == 1:\n",
    "            index_y = 1\n",
    "        elif category == 2:\n",
    "            index_y = 2\n",
    "        results.append(index_y)\n",
    "\n",
    "    # the training and the targets\n",
    "    return np.array(batches),np.array(results)"
   ]
  },
  {
   "cell_type": "code",
   "execution_count": 25,
   "metadata": {},
   "outputs": [],
   "source": [
    "# Parameters\n",
    "learning_rate = 0.001\n",
    "num_epochs = 8\n",
    "batch_size = 32\n",
    "display_step = 1 # ADDED will multiplied by 10\n",
    "\n",
    "# Network Parameters\n",
    "hidden_size = 100      # 1st layer and 2nd layer number of features\n",
    "input_size = total_words # Words in vocab\n",
    "num_classes = len(categories)         # Categories: \"graphics\",\"space\",\"baseball\",\"guns\", \"christian\""
   ]
  },
  {
   "cell_type": "markdown",
   "metadata": {},
   "source": [
    "## Training"
   ]
  },
  {
   "cell_type": "code",
   "execution_count": 26,
   "metadata": {},
   "outputs": [],
   "source": [
    "results = []"
   ]
  },
  {
   "cell_type": "code",
   "execution_count": 27,
   "metadata": {},
   "outputs": [
    {
     "name": "stdout",
     "output_type": "stream",
     "text": [
      "{'Epoch': 1, 'Step': 10, 'Loss': 0.6728976964950562}\n",
      "{'Epoch': 1, 'Step': 20, 'Loss': 0.6108188629150391}\n",
      "{'Epoch': 1, 'Step': 30, 'Loss': 0.6024702787399292}\n",
      "{'Epoch': 1, 'Step': 40, 'Loss': 0.478333443403244}\n",
      "{'Epoch': 1, 'Step': 50, 'Loss': 0.5201638340950012}\n",
      "{'Epoch': 1, 'Step': 60, 'Loss': 0.34656694531440735}\n",
      "{'Epoch': 1, 'Step': 70, 'Loss': 0.5303338170051575}\n",
      "{'Epoch': 2, 'Step': 10, 'Loss': 0.29577165842056274}\n",
      "{'Epoch': 2, 'Step': 20, 'Loss': 0.29947778582572937}\n",
      "{'Epoch': 2, 'Step': 30, 'Loss': 0.15183094143867493}\n",
      "{'Epoch': 2, 'Step': 40, 'Loss': 0.10003000497817993}\n",
      "{'Epoch': 2, 'Step': 50, 'Loss': 0.06609705835580826}\n",
      "{'Epoch': 2, 'Step': 60, 'Loss': 0.04118756204843521}\n",
      "{'Epoch': 2, 'Step': 70, 'Loss': 0.10062792897224426}\n",
      "{'Epoch': 3, 'Step': 10, 'Loss': 0.03320088982582092}\n",
      "{'Epoch': 3, 'Step': 20, 'Loss': 0.020052503794431686}\n",
      "{'Epoch': 3, 'Step': 30, 'Loss': 0.03360023722052574}\n",
      "{'Epoch': 3, 'Step': 40, 'Loss': 0.024990303441882133}\n",
      "{'Epoch': 3, 'Step': 50, 'Loss': 0.012263369746506214}\n",
      "{'Epoch': 3, 'Step': 60, 'Loss': 0.002102331258356571}\n",
      "{'Epoch': 3, 'Step': 70, 'Loss': 0.03036809340119362}\n",
      "{'Epoch': 4, 'Step': 10, 'Loss': 0.003674501786008477}\n",
      "{'Epoch': 4, 'Step': 20, 'Loss': 0.008888949640095234}\n",
      "{'Epoch': 4, 'Step': 30, 'Loss': 0.007741827517747879}\n",
      "{'Epoch': 4, 'Step': 40, 'Loss': 0.001639737980440259}\n",
      "{'Epoch': 4, 'Step': 50, 'Loss': 0.004149021580815315}\n",
      "{'Epoch': 4, 'Step': 60, 'Loss': 0.0008217962458729744}\n",
      "{'Epoch': 4, 'Step': 70, 'Loss': 0.006738230586051941}\n",
      "{'Epoch': 5, 'Step': 10, 'Loss': 0.0010022930800914764}\n",
      "{'Epoch': 5, 'Step': 20, 'Loss': 0.002213485538959503}\n",
      "{'Epoch': 5, 'Step': 30, 'Loss': 0.002405914245173335}\n",
      "{'Epoch': 5, 'Step': 40, 'Loss': 0.0007372925756499171}\n",
      "{'Epoch': 5, 'Step': 50, 'Loss': 0.0019569233991205692}\n",
      "{'Epoch': 5, 'Step': 60, 'Loss': 0.00039878071402199566}\n",
      "{'Epoch': 5, 'Step': 70, 'Loss': 0.002590806921944022}\n",
      "{'Epoch': 6, 'Step': 10, 'Loss': 0.0004938620841130614}\n",
      "{'Epoch': 6, 'Step': 20, 'Loss': 0.0009088373044505715}\n",
      "{'Epoch': 6, 'Step': 30, 'Loss': 0.0013605817221105099}\n",
      "{'Epoch': 6, 'Step': 40, 'Loss': 0.0003530259127728641}\n",
      "{'Epoch': 6, 'Step': 50, 'Loss': 0.0009164817165583372}\n",
      "{'Epoch': 6, 'Step': 60, 'Loss': 0.0002054775395663455}\n",
      "{'Epoch': 6, 'Step': 70, 'Loss': 0.0013426763471215963}\n",
      "{'Epoch': 7, 'Step': 10, 'Loss': 0.000264594767941162}\n",
      "{'Epoch': 7, 'Step': 20, 'Loss': 0.0004663291620090604}\n",
      "{'Epoch': 7, 'Step': 30, 'Loss': 0.000785976939368993}\n",
      "{'Epoch': 7, 'Step': 40, 'Loss': 0.0001828949898481369}\n",
      "{'Epoch': 7, 'Step': 50, 'Loss': 0.0004671637143474072}\n",
      "{'Epoch': 7, 'Step': 60, 'Loss': 0.00010424351785331964}\n",
      "{'Epoch': 7, 'Step': 70, 'Loss': 0.0008286169613711536}\n",
      "{'Epoch': 8, 'Step': 10, 'Loss': 0.00015621820057276636}\n",
      "{'Epoch': 8, 'Step': 20, 'Loss': 0.00027228312683291733}\n",
      "{'Epoch': 8, 'Step': 30, 'Loss': 0.00046341004781425}\n",
      "{'Epoch': 8, 'Step': 40, 'Loss': 0.00010287379700457677}\n",
      "{'Epoch': 8, 'Step': 50, 'Loss': 0.000265772279817611}\n",
      "{'Epoch': 8, 'Step': 60, 'Loss': 5.762776709161699e-05}\n",
      "{'Epoch': 8, 'Step': 70, 'Loss': 0.0005513291689567268}\n"
     ]
    }
   ],
   "source": [
    "news_net = News_20_Net(input_size, hidden_size, num_classes)\n",
    "# Loss and Optimizer\n",
    "criterion = nn.CrossEntropyLoss()  # This includes the Softmax loss function\n",
    "optimizer = torch.optim.Adam(news_net.parameters(), lr=learning_rate)  \n",
    "\n",
    "# Train the Model\n",
    "for epoch in range(num_epochs):\n",
    "    # determine the number of min-batches based on the batch size and size of training data\n",
    "    total_batch = int(len(train_ds.data)/batch_size)\n",
    "    # Loop over all batches\n",
    "    for i in range(total_batch):\n",
    "        batch_x,batch_y = get_batch(train_ds,i,batch_size)\n",
    "        \n",
    "        articles = torch.cuda.FloatTensor(batch_x, device='cuda')\n",
    "        labels = torch.cuda.LongTensor(batch_y, device='cuda')\n",
    "\n",
    "        # Forward + Backward + Optimize\n",
    "        optimizer.zero_grad()  # zero the gradient buffer\n",
    "        outputs = news_net(articles)\n",
    "        loss = criterion(outputs, labels)\n",
    "        loss.backward()\n",
    "        optimizer.step()\n",
    "\n",
    "        if (i+1) % display_step == 0:\n",
    "            result = 'Epoch [%d/%d], Step [%d/%d], Loss: %.4f'%(epoch+1, num_epochs, i+1, len(train_ds.data)/batch_size, loss.data)\n",
    "            results.append({'Epoch': epoch+1, 'Step': i+1, 'Loss': loss.data.item()})\n",
    "            if (i+1) % (display_step*10) == 0:\n",
    "                print({'Epoch': epoch+1, 'Step': i+1, 'Loss': loss.data.item()})"
   ]
  },
  {
   "cell_type": "markdown",
   "metadata": {},
   "source": [
    "## Validation"
   ]
  },
  {
   "cell_type": "code",
   "execution_count": 28,
   "metadata": {},
   "outputs": [],
   "source": [
    "# Test the Model\n",
    "correct = 0\n",
    "total = 0\n",
    "total_test_data = len(test_ds.target)"
   ]
  },
  {
   "cell_type": "code",
   "execution_count": 29,
   "metadata": {},
   "outputs": [],
   "source": [
    "iterates = total_test_data/batch_size # ignore last (<batch_size) batch"
   ]
  },
  {
   "cell_type": "code",
   "execution_count": 30,
   "metadata": {},
   "outputs": [],
   "source": [
    "all_total = []\n",
    "all_correct = []\n",
    "labels_all = []\n",
    "predicted_all = []"
   ]
  },
  {
   "cell_type": "code",
   "execution_count": 31,
   "metadata": {},
   "outputs": [],
   "source": [
    "for i in range(int(iterates)):\n",
    "    batch_x_test,batch_y_test = get_batch(test_ds,i,batch_size)\n",
    "    \n",
    "    articles = torch.FloatTensor(batch_x_test).to('cuda')\n",
    "    \n",
    "    labels = torch.LongTensor(batch_y_test).to('cuda')\n",
    "    outputs = news_net(articles)\n",
    "    _, predicted = torch.max(outputs.data, 1)\n",
    "    \n",
    "    labels_all.extend([x.item() for x in labels])\n",
    "    predicted_all.extend([x.item() for x in predicted])"
   ]
  },
  {
   "cell_type": "code",
   "execution_count": 32,
   "metadata": {},
   "outputs": [],
   "source": [
    "categories = ['not hate speech', 'hate speech']"
   ]
  },
  {
   "cell_type": "code",
   "execution_count": 33,
   "metadata": {},
   "outputs": [],
   "source": [
    "report = classification_report(labels_all, predicted_all, target_names=categories, output_dict=True)"
   ]
  },
  {
   "cell_type": "code",
   "execution_count": 34,
   "metadata": {},
   "outputs": [],
   "source": [
    "df_report = pd.DataFrame(report).transpose()"
   ]
  },
  {
   "cell_type": "code",
   "execution_count": 35,
   "metadata": {},
   "outputs": [
    {
     "data": {
      "text/html": [
       "<div>\n",
       "<style scoped>\n",
       "    .dataframe tbody tr th:only-of-type {\n",
       "        vertical-align: middle;\n",
       "    }\n",
       "\n",
       "    .dataframe tbody tr th {\n",
       "        vertical-align: top;\n",
       "    }\n",
       "\n",
       "    .dataframe thead th {\n",
       "        text-align: right;\n",
       "    }\n",
       "</style>\n",
       "<table border=\"1\" class=\"dataframe\">\n",
       "  <thead>\n",
       "    <tr style=\"text-align: right;\">\n",
       "      <th></th>\n",
       "      <th>precision</th>\n",
       "      <th>recall</th>\n",
       "      <th>f1-score</th>\n",
       "      <th>support</th>\n",
       "    </tr>\n",
       "  </thead>\n",
       "  <tbody>\n",
       "    <tr>\n",
       "      <th>not hate speech</th>\n",
       "      <td>0.938095</td>\n",
       "      <td>0.956311</td>\n",
       "      <td>0.947115</td>\n",
       "      <td>412.000000</td>\n",
       "    </tr>\n",
       "    <tr>\n",
       "      <th>hate speech</th>\n",
       "      <td>0.904255</td>\n",
       "      <td>0.867347</td>\n",
       "      <td>0.885417</td>\n",
       "      <td>196.000000</td>\n",
       "    </tr>\n",
       "    <tr>\n",
       "      <th>accuracy</th>\n",
       "      <td>0.927632</td>\n",
       "      <td>0.927632</td>\n",
       "      <td>0.927632</td>\n",
       "      <td>0.927632</td>\n",
       "    </tr>\n",
       "    <tr>\n",
       "      <th>macro avg</th>\n",
       "      <td>0.921175</td>\n",
       "      <td>0.911829</td>\n",
       "      <td>0.916266</td>\n",
       "      <td>608.000000</td>\n",
       "    </tr>\n",
       "    <tr>\n",
       "      <th>weighted avg</th>\n",
       "      <td>0.927186</td>\n",
       "      <td>0.927632</td>\n",
       "      <td>0.927226</td>\n",
       "      <td>608.000000</td>\n",
       "    </tr>\n",
       "  </tbody>\n",
       "</table>\n",
       "</div>"
      ],
      "text/plain": [
       "                 precision    recall  f1-score     support\n",
       "not hate speech   0.938095  0.956311  0.947115  412.000000\n",
       "hate speech       0.904255  0.867347  0.885417  196.000000\n",
       "accuracy          0.927632  0.927632  0.927632    0.927632\n",
       "macro avg         0.921175  0.911829  0.916266  608.000000\n",
       "weighted avg      0.927186  0.927632  0.927226  608.000000"
      ]
     },
     "execution_count": 35,
     "metadata": {},
     "output_type": "execute_result"
    }
   ],
   "source": [
    "df_report"
   ]
  },
  {
   "cell_type": "code",
   "execution_count": 36,
   "metadata": {},
   "outputs": [],
   "source": [
    "df_results = pd.DataFrame(results)"
   ]
  },
  {
   "cell_type": "code",
   "execution_count": 37,
   "metadata": {},
   "outputs": [],
   "source": [
    "df_results['learning_rate'] = learning_rate\n",
    "df_results['num_epochs'] = num_epochs\n",
    "df_results['batch_size'] = batch_size\n",
    "df_results['num_classes'] = num_classes\n",
    "df_results['test_size'] = test_size\n",
    "df_results['train_size'] = train_size\n",
    "df_results['seed'] = seed\n",
    "df_results['test_size'] = test_size\n",
    "df_results['train_class_proportion_' + categories[0]] = round(train_class_distribution[0][1], 2)\n",
    "df_results['train_class_proportion_' + categories[1]] = round(train_class_distribution[1][1], 2)\n",
    "df_results['test_class_proportion_' + categories[0]] = round(test_class_distribution[0][1], 2)\n",
    "df_results['test_class_proportion_' + categories[1]] = round(test_class_distribution[1][1], 2)"
   ]
  },
  {
   "cell_type": "code",
   "execution_count": 38,
   "metadata": {},
   "outputs": [
    {
     "data": {
      "text/html": [
       "<div>\n",
       "<style scoped>\n",
       "    .dataframe tbody tr th:only-of-type {\n",
       "        vertical-align: middle;\n",
       "    }\n",
       "\n",
       "    .dataframe tbody tr th {\n",
       "        vertical-align: top;\n",
       "    }\n",
       "\n",
       "    .dataframe thead th {\n",
       "        text-align: right;\n",
       "    }\n",
       "</style>\n",
       "<table border=\"1\" class=\"dataframe\">\n",
       "  <thead>\n",
       "    <tr style=\"text-align: right;\">\n",
       "      <th></th>\n",
       "      <th>Epoch</th>\n",
       "      <th>Step</th>\n",
       "      <th>Loss</th>\n",
       "      <th>learning_rate</th>\n",
       "      <th>num_epochs</th>\n",
       "      <th>batch_size</th>\n",
       "      <th>num_classes</th>\n",
       "      <th>test_size</th>\n",
       "      <th>train_size</th>\n",
       "      <th>seed</th>\n",
       "      <th>train_class_proportion_not hate speech</th>\n",
       "      <th>train_class_proportion_hate speech</th>\n",
       "      <th>test_class_proportion_not hate speech</th>\n",
       "      <th>test_class_proportion_hate speech</th>\n",
       "    </tr>\n",
       "  </thead>\n",
       "  <tbody>\n",
       "    <tr>\n",
       "      <th>0</th>\n",
       "      <td>1</td>\n",
       "      <td>1</td>\n",
       "      <td>0.707816</td>\n",
       "      <td>0.001</td>\n",
       "      <td>8</td>\n",
       "      <td>32</td>\n",
       "      <td>2</td>\n",
       "      <td>612</td>\n",
       "      <td>2444</td>\n",
       "      <td>11</td>\n",
       "      <td>0.73</td>\n",
       "      <td>0.27</td>\n",
       "      <td>0.68</td>\n",
       "      <td>0.32</td>\n",
       "    </tr>\n",
       "    <tr>\n",
       "      <th>1</th>\n",
       "      <td>1</td>\n",
       "      <td>2</td>\n",
       "      <td>0.701499</td>\n",
       "      <td>0.001</td>\n",
       "      <td>8</td>\n",
       "      <td>32</td>\n",
       "      <td>2</td>\n",
       "      <td>612</td>\n",
       "      <td>2444</td>\n",
       "      <td>11</td>\n",
       "      <td>0.73</td>\n",
       "      <td>0.27</td>\n",
       "      <td>0.68</td>\n",
       "      <td>0.32</td>\n",
       "    </tr>\n",
       "    <tr>\n",
       "      <th>2</th>\n",
       "      <td>1</td>\n",
       "      <td>3</td>\n",
       "      <td>0.695859</td>\n",
       "      <td>0.001</td>\n",
       "      <td>8</td>\n",
       "      <td>32</td>\n",
       "      <td>2</td>\n",
       "      <td>612</td>\n",
       "      <td>2444</td>\n",
       "      <td>11</td>\n",
       "      <td>0.73</td>\n",
       "      <td>0.27</td>\n",
       "      <td>0.68</td>\n",
       "      <td>0.32</td>\n",
       "    </tr>\n",
       "    <tr>\n",
       "      <th>3</th>\n",
       "      <td>1</td>\n",
       "      <td>4</td>\n",
       "      <td>0.689004</td>\n",
       "      <td>0.001</td>\n",
       "      <td>8</td>\n",
       "      <td>32</td>\n",
       "      <td>2</td>\n",
       "      <td>612</td>\n",
       "      <td>2444</td>\n",
       "      <td>11</td>\n",
       "      <td>0.73</td>\n",
       "      <td>0.27</td>\n",
       "      <td>0.68</td>\n",
       "      <td>0.32</td>\n",
       "    </tr>\n",
       "    <tr>\n",
       "      <th>4</th>\n",
       "      <td>1</td>\n",
       "      <td>5</td>\n",
       "      <td>0.694559</td>\n",
       "      <td>0.001</td>\n",
       "      <td>8</td>\n",
       "      <td>32</td>\n",
       "      <td>2</td>\n",
       "      <td>612</td>\n",
       "      <td>2444</td>\n",
       "      <td>11</td>\n",
       "      <td>0.73</td>\n",
       "      <td>0.27</td>\n",
       "      <td>0.68</td>\n",
       "      <td>0.32</td>\n",
       "    </tr>\n",
       "  </tbody>\n",
       "</table>\n",
       "</div>"
      ],
      "text/plain": [
       "   Epoch  Step      Loss  learning_rate  num_epochs  batch_size  num_classes  \\\n",
       "0      1     1  0.707816          0.001           8          32            2   \n",
       "1      1     2  0.701499          0.001           8          32            2   \n",
       "2      1     3  0.695859          0.001           8          32            2   \n",
       "3      1     4  0.689004          0.001           8          32            2   \n",
       "4      1     5  0.694559          0.001           8          32            2   \n",
       "\n",
       "   test_size  train_size  seed  train_class_proportion_not hate speech  \\\n",
       "0        612        2444    11                                    0.73   \n",
       "1        612        2444    11                                    0.73   \n",
       "2        612        2444    11                                    0.73   \n",
       "3        612        2444    11                                    0.73   \n",
       "4        612        2444    11                                    0.73   \n",
       "\n",
       "   train_class_proportion_hate speech  test_class_proportion_not hate speech  \\\n",
       "0                                0.27                                   0.68   \n",
       "1                                0.27                                   0.68   \n",
       "2                                0.27                                   0.68   \n",
       "3                                0.27                                   0.68   \n",
       "4                                0.27                                   0.68   \n",
       "\n",
       "   test_class_proportion_hate speech  \n",
       "0                               0.32  \n",
       "1                               0.32  \n",
       "2                               0.32  \n",
       "3                               0.32  \n",
       "4                               0.32  "
      ]
     },
     "execution_count": 38,
     "metadata": {},
     "output_type": "execute_result"
    }
   ],
   "source": [
    "df_results.head()"
   ]
  },
  {
   "cell_type": "code",
   "execution_count": 39,
   "metadata": {},
   "outputs": [],
   "source": [
    "name = 'training_logs_word_embedding_fox_news.csv'"
   ]
  },
  {
   "cell_type": "code",
   "execution_count": 40,
   "metadata": {},
   "outputs": [],
   "source": [
    "df_results.to_csv(name)"
   ]
  },
  {
   "cell_type": "code",
   "execution_count": 41,
   "metadata": {},
   "outputs": [],
   "source": [
    "name = 'matrix_report_fox_news.csv'"
   ]
  },
  {
   "cell_type": "code",
   "execution_count": 42,
   "metadata": {},
   "outputs": [],
   "source": [
    "df_report.to_csv(name)"
   ]
  },
  {
   "cell_type": "code",
   "execution_count": 43,
   "metadata": {},
   "outputs": [],
   "source": [
    "def plot_loss(path, ax, title):\n",
    "    df = pd.read_csv(path)\n",
    "    df.groupby('Epoch').Loss.plot(kind='line', legend=True, title=title, ax=ax, figsize=(15,8))\n",
    "    ax.legend(loc='upper right')\n",
    "    plt.xlabel('Step') \n",
    "    plt.ylabel('Loss')"
   ]
  },
  {
   "cell_type": "code",
   "execution_count": 44,
   "metadata": {},
   "outputs": [
    {
     "data": {
      "image/png": "[encoded data removed]",
      "text/plain": [
       "<Figure size 1080x576 with 1 Axes>"
      ]
     },
     "metadata": {
      "needs_background": "light"
     },
     "output_type": "display_data"
    }
   ],
   "source": [
    "fig, axs = plt.subplots(1,1)\n",
    "path = './training_logs_word_embedding_fox_news.csv'\n",
    "plot_loss(path, axs, title='Loss Word Embeddings, Fox News Dataset')"
   ]
  },
  {
   "cell_type": "markdown",
   "metadata": {},
   "source": [
    "----"
   ]
  },
  {
   "cell_type": "markdown",
   "metadata": {},
   "source": [
    "## Classication of Movies"
   ]
  },
  {
   "cell_type": "markdown",
   "metadata": {},
   "source": [
    "### Load Movies"
   ]
  },
  {
   "cell_type": "code",
   "execution_count": 45,
   "metadata": {},
   "outputs": [],
   "source": [
    "def read_movie_files(pathes):\n",
    "    result = []\n",
    "    for path in pathes: \n",
    "        directory = os.fsencode(path)\n",
    "\n",
    "        for file in os.listdir(directory):\n",
    "            filename = os.fsdecode(file)\n",
    "\n",
    "            if filename.endswith(\".csv\"):\n",
    "                #print(os.path.join(directory, filename))\n",
    "                #local_df = read_content(path + '//' + filename)\n",
    "                movie_df = pd.read_csv(path + '//' + filename)\n",
    "                tag = path.split('/')[1]\n",
    "                count_utterances = movie_df.shape[0]\n",
    "                result.append({'movie_name': filename[:-9], 'count_utterances': count_utterances, 'tag': tag, 'path': path + '//' + filename})\n",
    "    result_df = pd.DataFrame(result)\n",
    "    return result_df"
   ]
  },
  {
   "cell_type": "code",
   "execution_count": 46,
   "metadata": {},
   "outputs": [],
   "source": [
    "pathes = ['movies/racism', 'movies/hate_speech', 'movies/friendship']"
   ]
  },
  {
   "cell_type": "code",
   "execution_count": 47,
   "metadata": {},
   "outputs": [],
   "source": [
    "movie_metadata_df = read_movie_files(pathes)"
   ]
  },
  {
   "cell_type": "code",
   "execution_count": 48,
   "metadata": {},
   "outputs": [
    {
     "data": {
      "text/html": [
       "<div>\n",
       "<style scoped>\n",
       "    .dataframe tbody tr th:only-of-type {\n",
       "        vertical-align: middle;\n",
       "    }\n",
       "\n",
       "    .dataframe tbody tr th {\n",
       "        vertical-align: top;\n",
       "    }\n",
       "\n",
       "    .dataframe thead th {\n",
       "        text-align: right;\n",
       "    }\n",
       "</style>\n",
       "<table border=\"1\" class=\"dataframe\">\n",
       "  <thead>\n",
       "    <tr style=\"text-align: right;\">\n",
       "      <th></th>\n",
       "      <th>movie_name</th>\n",
       "      <th>count_utterances</th>\n",
       "      <th>tag</th>\n",
       "      <th>path</th>\n",
       "    </tr>\n",
       "  </thead>\n",
       "  <tbody>\n",
       "    <tr>\n",
       "      <th>0</th>\n",
       "      <td>12 Angry Men</td>\n",
       "      <td>2065</td>\n",
       "      <td>racism</td>\n",
       "      <td>movies/racism//12 Angry Men_conv.csv</td>\n",
       "    </tr>\n",
       "    <tr>\n",
       "      <th>1</th>\n",
       "      <td>12 Years a Slave</td>\n",
       "      <td>110</td>\n",
       "      <td>racism</td>\n",
       "      <td>movies/racism//12 Years a Slave_conv.csv</td>\n",
       "    </tr>\n",
       "    <tr>\n",
       "      <th>2</th>\n",
       "      <td>42</td>\n",
       "      <td>1288</td>\n",
       "      <td>racism</td>\n",
       "      <td>movies/racism//42_conv.csv</td>\n",
       "    </tr>\n",
       "    <tr>\n",
       "      <th>3</th>\n",
       "      <td>A Bronx Tale</td>\n",
       "      <td>1961</td>\n",
       "      <td>racism</td>\n",
       "      <td>movies/racism//A Bronx Tale_conv.csv</td>\n",
       "    </tr>\n",
       "    <tr>\n",
       "      <th>4</th>\n",
       "      <td>A Time to Kill</td>\n",
       "      <td>2219</td>\n",
       "      <td>racism</td>\n",
       "      <td>movies/racism//A Time to Kill_conv.csv</td>\n",
       "    </tr>\n",
       "  </tbody>\n",
       "</table>\n",
       "</div>"
      ],
      "text/plain": [
       "         movie_name  count_utterances     tag  \\\n",
       "0      12 Angry Men              2065  racism   \n",
       "1  12 Years a Slave               110  racism   \n",
       "2                42              1288  racism   \n",
       "3      A Bronx Tale              1961  racism   \n",
       "4    A Time to Kill              2219  racism   \n",
       "\n",
       "                                       path  \n",
       "0      movies/racism//12 Angry Men_conv.csv  \n",
       "1  movies/racism//12 Years a Slave_conv.csv  \n",
       "2                movies/racism//42_conv.csv  \n",
       "3      movies/racism//A Bronx Tale_conv.csv  \n",
       "4    movies/racism//A Time to Kill_conv.csv  "
      ]
     },
     "execution_count": 48,
     "metadata": {},
     "output_type": "execute_result"
    }
   ],
   "source": [
    "movie_metadata_df.head()"
   ]
  },
  {
   "cell_type": "code",
   "execution_count": 49,
   "metadata": {},
   "outputs": [
    {
     "data": {
      "text/plain": [
       "array([<AxesSubplot:ylabel='tag'>], dtype=object)"
      ]
     },
     "execution_count": 49,
     "metadata": {},
     "output_type": "execute_result"
    },
    {
     "data": {
      "image/png": "[encoded data removed]",
      "text/plain": [
       "<Figure size 432x288 with 1 Axes>"
      ]
     },
     "metadata": {},
     "output_type": "display_data"
    }
   ],
   "source": [
    "movie_metadata_df.tag.value_counts().plot(kind='pie', subplots=True, autopct='%1.0f%%', title='Movie Tag Distribution')"
   ]
  },
  {
   "cell_type": "code",
   "execution_count": 50,
   "metadata": {},
   "outputs": [],
   "source": [
    "movie_path = 'movies/racism/12 Years a Slave_conv.csv'"
   ]
  },
  {
   "cell_type": "code",
   "execution_count": 51,
   "metadata": {},
   "outputs": [],
   "source": [
    "def annotate_single_movie(movie_df):\n",
    "    utterances = movie_df.dialog.values\n",
    "    predictions = []\n",
    "    batch = []\n",
    "    \n",
    "    for text in utterances:\n",
    "        # Dimension, 196609\n",
    "        layer = np.zeros(total_words,dtype=float)\n",
    "\n",
    "        for word in text.split(' '):\n",
    "            layer[word2index[word.lower()]] += 1\n",
    "\n",
    "        batch.append(layer)\n",
    "        \n",
    "    texts = torch.FloatTensor(batch).to('cuda')\n",
    "    outputs = news_net(texts)\n",
    "    _, predicted = torch.max(outputs.data, 1)\n",
    "    predictions.extend([x.item() for x in predicted])\n",
    "\n",
    "    result = []\n",
    "    \n",
    "    for i, pred in enumerate(predictions):\n",
    "        result.append({'index': i, 'label_word_embedding_fox_news': categories[pred]})\n",
    "    \n",
    "    result_df = pd.DataFrame(result)\n",
    "    movie_df = movie_df.merge(result_df, right_index=True, left_index=True)\n",
    "    \n",
    "    del movie_df['Unnamed: 0']\n",
    "    del movie_df['index']\n",
    "    \n",
    "    return movie_df"
   ]
  },
  {
   "cell_type": "markdown",
   "metadata": {},
   "source": [
    "## Annotate Movies"
   ]
  },
  {
   "cell_type": "code",
   "execution_count": 52,
   "metadata": {},
   "outputs": [],
   "source": [
    "def movie_data_cleansing(df):\n",
    "    df = df.replace(r'<[^\\\\]>', '', regex=True)\n",
    "    df = df.replace(r'<\\\\.*>', '', regex=True)\n",
    "    return df"
   ]
  },
  {
   "cell_type": "code",
   "execution_count": 53,
   "metadata": {},
   "outputs": [],
   "source": [
    "movie_df = pd.read_csv('movies/racism/12 Angry Men_conv.csv')"
   ]
  },
  {
   "cell_type": "code",
   "execution_count": 54,
   "metadata": {},
   "outputs": [
    {
     "data": {
      "text/html": [
       "<div>\n",
       "<style scoped>\n",
       "    .dataframe tbody tr th:only-of-type {\n",
       "        vertical-align: middle;\n",
       "    }\n",
       "\n",
       "    .dataframe tbody tr th {\n",
       "        vertical-align: top;\n",
       "    }\n",
       "\n",
       "    .dataframe thead th {\n",
       "        text-align: right;\n",
       "    }\n",
       "</style>\n",
       "<table border=\"1\" class=\"dataframe\">\n",
       "  <thead>\n",
       "    <tr style=\"text-align: right;\">\n",
       "      <th></th>\n",
       "      <th>Unnamed: 0</th>\n",
       "      <th>dialog</th>\n",
       "    </tr>\n",
       "  </thead>\n",
       "  <tbody>\n",
       "    <tr>\n",
       "      <th>0</th>\n",
       "      <td>0</td>\n",
       "      <td>Thank you very much, sir.</td>\n",
       "    </tr>\n",
       "    <tr>\n",
       "      <th>1</th>\n",
       "      <td>1</td>\n",
       "      <td>You did a wonderful job. Wonderful.</td>\n",
       "    </tr>\n",
       "    <tr>\n",
       "      <th>2</th>\n",
       "      <td>2</td>\n",
       "      <td>Shh. Shh.</td>\n",
       "    </tr>\n",
       "    <tr>\n",
       "      <th>3</th>\n",
       "      <td>3</td>\n",
       "      <td>We did it, Pete. We did it.</td>\n",
       "    </tr>\n",
       "    <tr>\n",
       "      <th>4</th>\n",
       "      <td>4</td>\n",
       "      <td>For a moment, we had our doubts.</td>\n",
       "    </tr>\n",
       "  </tbody>\n",
       "</table>\n",
       "</div>"
      ],
      "text/plain": [
       "   Unnamed: 0                               dialog\n",
       "0           0            Thank you very much, sir.\n",
       "1           1  You did a wonderful job. Wonderful.\n",
       "2           2                            Shh. Shh.\n",
       "3           3          We did it, Pete. We did it.\n",
       "4           4     For a moment, we had our doubts."
      ]
     },
     "execution_count": 54,
     "metadata": {},
     "output_type": "execute_result"
    }
   ],
   "source": [
    "movie_df.head()"
   ]
  },
  {
   "cell_type": "code",
   "execution_count": 55,
   "metadata": {},
   "outputs": [
    {
     "data": {
      "text/html": [
       "<div>\n",
       "<style scoped>\n",
       "    .dataframe tbody tr th:only-of-type {\n",
       "        vertical-align: middle;\n",
       "    }\n",
       "\n",
       "    .dataframe tbody tr th {\n",
       "        vertical-align: top;\n",
       "    }\n",
       "\n",
       "    .dataframe thead th {\n",
       "        text-align: right;\n",
       "    }\n",
       "</style>\n",
       "<table border=\"1\" class=\"dataframe\">\n",
       "  <thead>\n",
       "    <tr style=\"text-align: right;\">\n",
       "      <th></th>\n",
       "      <th>dialog</th>\n",
       "      <th>label_word_embedding_fox_news</th>\n",
       "    </tr>\n",
       "  </thead>\n",
       "  <tbody>\n",
       "    <tr>\n",
       "      <th>0</th>\n",
       "      <td>Thank you very much, sir.</td>\n",
       "      <td>not hate speech</td>\n",
       "    </tr>\n",
       "    <tr>\n",
       "      <th>1</th>\n",
       "      <td>You did a wonderful job. Wonderful.</td>\n",
       "      <td>not hate speech</td>\n",
       "    </tr>\n",
       "    <tr>\n",
       "      <th>2</th>\n",
       "      <td>Shh. Shh.</td>\n",
       "      <td>not hate speech</td>\n",
       "    </tr>\n",
       "    <tr>\n",
       "      <th>3</th>\n",
       "      <td>We did it, Pete. We did it.</td>\n",
       "      <td>not hate speech</td>\n",
       "    </tr>\n",
       "    <tr>\n",
       "      <th>4</th>\n",
       "      <td>For a moment, we had our doubts.</td>\n",
       "      <td>hate speech</td>\n",
       "    </tr>\n",
       "    <tr>\n",
       "      <th>...</th>\n",
       "      <td>...</td>\n",
       "      <td>...</td>\n",
       "    </tr>\n",
       "    <tr>\n",
       "      <th>2060</th>\n",
       "      <td>What's your name?</td>\n",
       "      <td>not hate speech</td>\n",
       "    </tr>\n",
       "    <tr>\n",
       "      <th>2061</th>\n",
       "      <td>Davis.</td>\n",
       "      <td>not hate speech</td>\n",
       "    </tr>\n",
       "    <tr>\n",
       "      <th>2062</th>\n",
       "      <td>My name's McCardle.</td>\n",
       "      <td>not hate speech</td>\n",
       "    </tr>\n",
       "    <tr>\n",
       "      <th>2063</th>\n",
       "      <td>Well, so long.</td>\n",
       "      <td>hate speech</td>\n",
       "    </tr>\n",
       "    <tr>\n",
       "      <th>2064</th>\n",
       "      <td>So long.</td>\n",
       "      <td>hate speech</td>\n",
       "    </tr>\n",
       "  </tbody>\n",
       "</table>\n",
       "<p>2065 rows × 2 columns</p>\n",
       "</div>"
      ],
      "text/plain": [
       "                                   dialog label_word_embedding_fox_news\n",
       "0               Thank you very much, sir.               not hate speech\n",
       "1     You did a wonderful job. Wonderful.               not hate speech\n",
       "2                               Shh. Shh.               not hate speech\n",
       "3             We did it, Pete. We did it.               not hate speech\n",
       "4        For a moment, we had our doubts.                   hate speech\n",
       "...                                   ...                           ...\n",
       "2060                    What's your name?               not hate speech\n",
       "2061                               Davis.               not hate speech\n",
       "2062                  My name's McCardle.               not hate speech\n",
       "2063                       Well, so long.                   hate speech\n",
       "2064                             So long.                   hate speech\n",
       "\n",
       "[2065 rows x 2 columns]"
      ]
     },
     "execution_count": 55,
     "metadata": {},
     "output_type": "execute_result"
    }
   ],
   "source": [
    "annotate_single_movie(movie_df)"
   ]
  },
  {
   "cell_type": "code",
   "execution_count": 56,
   "metadata": {},
   "outputs": [],
   "source": [
    "def annotate_movies(movie_metadata_df):\n",
    "    \n",
    "    pathes = movie_metadata_df.path.values\n",
    "    tags = movie_metadata_df.tag.values\n",
    "    movie_names = movie_metadata_df.movie_name.values\n",
    "    \n",
    "    result = []\n",
    "    for i in range(0, movie_metadata_df.shape[0]):\n",
    "        path = pathes[i]\n",
    "        tag = tags[i]\n",
    "        movie_name = movie_names[i]\n",
    "        print(i+1, movie_metadata_df.shape[0], path, tag, movie_name)\n",
    "        movie_df = pd.read_csv(path)\n",
    "        movie_df = movie_data_cleansing(movie_df)\n",
    "        movie_df = annotate_single_movie(movie_df)\n",
    "        \n",
    "        labels = movie_df.label_word_embedding_fox_news.values\n",
    "                \n",
    "        for i in range(0, len(labels)):\n",
    "            result.append({'movie_name': movie_name, 'index': i, 'label': labels[i] })\n",
    "                    \n",
    "    result_df = pd.DataFrame(result)     \n",
    "    return result_df"
   ]
  },
  {
   "cell_type": "code",
   "execution_count": 57,
   "metadata": {},
   "outputs": [
    {
     "name": "stdout",
     "output_type": "stream",
     "text": [
      "0 252 movies/racism//12 Angry Men_conv.csv racism 12 Angry Men\n",
      "1 252 movies/racism//12 Years a Slave_conv.csv racism 12 Years a Slave\n",
      "2 252 movies/racism//42_conv.csv racism 42\n",
      "3 252 movies/racism//A Bronx Tale_conv.csv racism A Bronx Tale\n",
      "4 252 movies/racism//A Time to Kill_conv.csv racism A Time to Kill\n",
      "5 252 movies/racism//AI Artificial Intelligence_conv.csv racism AI Artificial Intelligence\n",
      "6 252 movies/racism//American History X_conv.csv racism American History X\n",
      "7 252 movies/racism//Amistad_conv.csv racism Amistad\n",
      "8 252 movies/racism//Angel Heart_conv.csv racism Angel Heart\n",
      "9 252 movies/racism//Antebellum_conv.csv racism Antebellum\n",
      "10 252 movies/racism//Apocalypse Now_conv.csv racism Apocalypse Now\n",
      "11 252 movies/racism//Bad Boys II_conv.csv racism Bad Boys II\n",
      "12 252 movies/racism//Bend It Like Beckham_conv.csv racism Bend It Like Beckham\n",
      "13 252 movies/racism//Blood Father_conv.csv racism Blood Father\n",
      "14 252 movies/racism//Bone Tomahawk_conv.csv racism Bone Tomahawk\n",
      "15 252 movies/racism//Boyz n the Hood_conv.csv racism Boyz n the Hood\n",
      "16 252 movies/racism//Bright_conv.csv racism Bright\n",
      "17 252 movies/racism//Caged_conv.csv racism Caged\n",
      "18 252 movies/racism//Children of Men_conv.csv racism Children of Men\n",
      "19 252 movies/racism//Chinatown_conv.csv racism Chinatown\n",
      "20 252 movies/racism//Crash_conv.csv racism Crash\n",
      "21 252 movies/racism//Cruel Intentions_conv.csv racism Cruel Intentions\n",
      "22 252 movies/racism//Django Unchained_conv.csv racism Django Unchained\n",
      "23 252 movies/racism//Donnie Brasco_conv.csv racism Donnie Brasco\n",
      "24 252 movies/racism//Dragged Across Concrete_conv.csv racism Dragged Across Concrete\n",
      "25 252 movies/racism//Empire of the Sun_conv.csv racism Empire of the Sun\n",
      "26 252 movies/racism//Enter the Dragon_conv.csv racism Enter the Dragon\n",
      "27 252 movies/racism//Falling Down_conv.csv racism Falling Down\n",
      "28 252 movies/racism//Freedom Writers_conv.csv racism Freedom Writers\n",
      "29 252 movies/racism//Friday Night Lights_conv.csv racism Friday Night Lights\n",
      "30 252 movies/racism//From Dusk Till Dawn_conv.csv racism From Dusk Till Dawn\n",
      "31 252 movies/racism//Gangs of New York_conv.csv racism Gangs of New York\n",
      "32 252 movies/racism//Girl, Interrupted_conv.csv racism Girl, Interrupted\n",
      "33 252 movies/racism//Glory_conv.csv racism Glory\n",
      "34 252 movies/racism//Gran Torino_conv.csv racism Gran Torino\n",
      "35 252 movies/racism//Green Room_conv.csv racism Green Room\n",
      "36 252 movies/racism//Hairspray_conv.csv racism Hairspray\n",
      "37 252 movies/racism//Harry Potter and the Chamber of Secrets_conv.csv racism Harry Potter and the Chamber of Secrets\n",
      "38 252 movies/racism//Hell or High Water_conv.csv racism Hell or High Water\n",
      "39 252 movies/racism//Hidden Figures_conv.csv racism Hidden Figures\n",
      "40 252 movies/racism//If Beale Street Could Talk_conv.csv racism If Beale Street Could Talk\n",
      "41 252 movies/racism//In Bruges_conv.csv racism In Bruges\n",
      "42 252 movies/racism//In the Heat of the Night_conv.csv racism In the Heat of the Night\n",
      "43 252 movies/racism//Inglourious Basterds_conv.csv racism Inglourious Basterds\n",
      "44 252 movies/racism//Knives Out_conv.csv racism Knives Out\n",
      "45 252 movies/racism//LA Confidential_conv.csv racism LA Confidential\n",
      "46 252 movies/racism//Legends of the Fall_conv.csv racism Legends of the Fall\n",
      "47 252 movies/racism//Lethal Weapon 2_conv.csv racism Lethal Weapon 2\n",
      "48 252 movies/racism//Life_conv.csv racism Life\n",
      "49 252 movies/racism//Long Shot_conv.csv racism Long Shot\n",
      "50 252 movies/racism//Lost in Translation_conv.csv racism Lost in Translation\n",
      "51 252 movies/racism//Ma Rainey's Black Bottom_conv.csv racism Ma Rainey's Black Bottom\n",
      "52 252 movies/racism//Machete_conv.csv racism Machete\n",
      "53 252 movies/racism//Malcolm X_conv.csv racism Malcolm X\n",
      "54 252 movies/racism//MASH_conv.csv racism MASH\n",
      "55 252 movies/racism//Mike and Dave Need Wedding Dates_conv.csv racism Mike and Dave Need Wedding Dates\n",
      "56 252 movies/racism//Misbehaviour_conv.csv racism Misbehaviour\n",
      "57 252 movies/racism//Monster's Ball_conv.csv racism Monster's Ball\n",
      "58 252 movies/racism//Motherless Brooklyn_conv.csv racism Motherless Brooklyn\n",
      "59 252 movies/racism//Mudbound_conv.csv racism Mudbound\n",
      "60 252 movies/racism//Murder on the Orient Express_conv.csv racism Murder on the Orient Express\n",
      "61 252 movies/racism//My Big Fat Greek Wedding_conv.csv racism My Big Fat Greek Wedding\n",
      "62 252 movies/racism//Mystery Road_conv.csv racism Mystery Road\n",
      "63 252 movies/racism//Ocean's Eleven_conv.csv racism Ocean's Eleven\n",
      "64 252 movies/racism//Oz_conv.csv racism Oz\n",
      "65 252 movies/racism//Passenger 57_conv.csv racism Passenger 57\n",
      "66 252 movies/racism//Phantom Thread_conv.csv racism Phantom Thread\n",
      "67 252 movies/racism//Planet of the Apes_conv.csv racism Planet of the Apes\n",
      "68 252 movies/racism//Pocahontas_conv.csv racism Pocahontas\n",
      "69 252 movies/racism//Point Break_conv.csv racism Point Break\n",
      "70 252 movies/racism//Porky's_conv.csv racism Porky's\n",
      "71 252 movies/racism//Pulp Fiction_conv.csv racism Pulp Fiction\n",
      "72 252 movies/racism//Remember the Titans_conv.csv racism Remember the Titans\n",
      "73 252 movies/racism//Robin Hood_conv.csv racism Robin Hood\n",
      "74 252 movies/racism//Roots_conv.csv racism Roots\n",
      "75 252 movies/racism//Sausage Party_conv.csv racism Sausage Party\n",
      "76 252 movies/racism//Save the Last Dance_conv.csv racism Save the Last Dance\n",
      "77 252 movies/racism//Scary Stories to Tell in the Dark_conv.csv racism Scary Stories to Tell in the Dark\n",
      "78 252 movies/racism//Selma_conv.csv racism Selma\n",
      "79 252 movies/racism//Silverado_conv.csv racism Silverado\n",
      "80 252 movies/racism//Sophie's Choice_conv.csv racism Sophie's Choice\n",
      "81 252 movies/racism//Summerland_conv.csv racism Summerland\n",
      "82 252 movies/racism//Taxi Driver_conv.csv racism Taxi Driver\n",
      "83 252 movies/racism//The Banker_conv.csv racism The Banker\n",
      "84 252 movies/racism//The Big Sick_conv.csv racism The Big Sick\n",
      "85 252 movies/racism//The Blind Side_conv.csv racism The Blind Side\n",
      "86 252 movies/racism//The Butler_conv.csv racism The Butler\n",
      "87 252 movies/racism//The Chase_conv.csv racism The Chase\n",
      "88 252 movies/racism//The Color Purple_conv.csv racism The Color Purple\n",
      "89 252 movies/racism//The Craft_conv.csv racism The Craft\n",
      "90 252 movies/racism//The Dictator_conv.csv racism The Dictator\n",
      "91 252 movies/racism//The French Connection_conv.csv racism The French Connection\n",
      "92 252 movies/racism//The Gentlemen_conv.csv racism The Gentlemen\n",
      "93 252 movies/racism//The Green Mile_conv.csv racism The Green Mile\n",
      "94 252 movies/racism//The Happytime Murders_conv.csv racism The Happytime Murders\n",
      "95 252 movies/racism//The Hate U Give_conv.csv racism The Hate U Give\n",
      "96 252 movies/racism//The Hateful Eight_conv.csv racism The Hateful Eight\n",
      "97 252 movies/racism//The Hunchback of Notre Dame_conv.csv racism The Hunchback of Notre Dame\n",
      "98 252 movies/racism//The Hundred-Foot Journey_conv.csv racism The Hundred-Foot Journey\n",
      "99 252 movies/racism//The Hunt_conv.csv racism The Hunt\n",
      "100 252 movies/racism//The Lost City of Z_conv.csv racism The Lost City of Z\n",
      "101 252 movies/racism//The Nightingale_conv.csv racism The Nightingale\n",
      "102 252 movies/racism//The Painted Bird_conv.csv racism The Painted Bird\n",
      "103 252 movies/racism//The Rental_conv.csv racism The Rental\n",
      "104 252 movies/racism//The Royal Tenenbaums_conv.csv racism The Royal Tenenbaums\n",
      "105 252 movies/racism//The Searchers_conv.csv racism The Searchers\n",
      "106 252 movies/racism//The Shield_conv.csv racism The Shield\n",
      "107 252 movies/racism//The Terror_conv.csv racism The Terror\n",
      "108 252 movies/racism//The Trial of the Chicago 7_conv.csv racism The Trial of the Chicago 7\n",
      "109 252 movies/racism//The Untouchables_conv.csv racism The Untouchables\n",
      "110 252 movies/racism//Three Billboards Outside Ebbing, Missouri_conv.csv racism Three Billboards Outside Ebbing, Missouri\n",
      "111 252 movies/racism//To Kill a Mockingbird_conv.csv racism To Kill a Mockingbird\n",
      "112 252 movies/racism//Up in the Air_conv.csv racism Up in the Air\n",
      "113 252 movies/racism//Who Framed Roger Rabbit_conv.csv racism Who Framed Roger Rabbit\n",
      "114 252 movies/racism//Widows_conv.csv racism Widows\n",
      "115 252 movies/racism//Wrong Turn_conv.csv racism Wrong Turn\n",
      "116 252 movies/racism//X-Men_conv.csv racism X-Men\n",
      "117 252 movies/hate_speech// Electric Dreams_conv.csv hate_speech  Electric Dreams\n",
      "118 252 movies/hate_speech// Miami Vice_conv.csv hate_speech  Miami Vice\n",
      "119 252 movies/hate_speech// Pandora_conv.csv hate_speech  Pandora\n",
      "120 252 movies/hate_speech// South Park_conv.csv hate_speech  South Park\n",
      "121 252 movies/hate_speech// The Family_conv.csv hate_speech  The Family\n",
      "122 252 movies/hate_speech// The Gifted_conv.csv hate_speech  The Gifted\n",
      "123 252 movies/hate_speech// The Twilight Zone_conv.csv hate_speech  The Twilight Zone\n",
      "124 252 movies/hate_speech//afterMath_conv.csv hate_speech afterMath\n",
      "125 252 movies/hate_speech//BlacKkKlansman_conv.csv hate_speech BlacKkKlansman\n",
      "126 252 movies/hate_speech//Dante's Inferno_conv.csv hate_speech Dante's Inferno\n",
      "127 252 movies/hate_speech//Float_conv.csv hate_speech Float\n",
      "128 252 movies/hate_speech//Mosley_conv.csv hate_speech Mosley\n",
      "129 252 movies/hate_speech//My 2_conv.csv hate_speech My 2\n",
      "130 252 movies/hate_speech//Pride_conv.csv hate_speech Pride\n",
      "131 252 movies/hate_speech//Talk Radio_conv.csv hate_speech Talk Radio\n",
      "132 252 movies/hate_speech//The Butcher_conv.csv hate_speech The Butcher\n",
      "133 252 movies/hate_speech//The Intruder_conv.csv hate_speech The Intruder\n",
      "134 252 movies/hate_speech//The Red Pill_conv.csv hate_speech The Red Pill\n",
      "135 252 movies/hate_speech//Woodlawn_conv.csv hate_speech Woodlawn\n",
      "136 252 movies/friendship//1917_conv.csv friendship 1917\n",
      "137 252 movies/friendship//A Clockwork Orange_conv.csv friendship A Clockwork Orange\n",
      "138 252 movies/friendship//A Star Is Born_conv.csv friendship A Star Is Born\n",
      "139 252 movies/friendship//About Time_conv.csv friendship About Time\n",
      "140 252 movies/friendship//Aladdin_conv.csv friendship Aladdin\n",
      "141 252 movies/friendship//Almost Famous_conv.csv friendship Almost Famous\n",
      "142 252 movies/friendship//American Beauty_conv.csv friendship American Beauty\n",
      "143 252 movies/friendship//American Pie_conv.csv friendship American Pie\n",
      "144 252 movies/friendship//American Psycho_conv.csv friendship American Psycho\n",
      "145 252 movies/friendship//Ammonite_conv.csv friendship Ammonite\n",
      "146 252 movies/friendship//Ant-Man_conv.csv friendship Ant-Man\n",
      "147 252 movies/friendship//Avatar_conv.csv friendship Avatar\n",
      "148 252 movies/friendship//Bad Boys for Life_conv.csv friendship Bad Boys for Life\n",
      "149 252 movies/friendship//Black Panther_conv.csv friendship Black Panther\n",
      "150 252 movies/friendship//Bones_conv.csv friendship Bones\n",
      "151 252 movies/friendship//Booksmart_conv.csv friendship Booksmart\n",
      "152 252 movies/friendship//Breaking Bad_conv.csv friendship Breaking Bad\n",
      "153 252 movies/friendship//Captain Marvel_conv.csv friendship Captain Marvel\n",
      "154 252 movies/friendship//Cats_conv.csv friendship Cats\n",
      "155 252 movies/friendship//Citizen Kane_conv.csv friendship Citizen Kane\n",
      "156 252 movies/friendship//Coming to America_conv.csv friendship Coming to America\n",
      "157 252 movies/friendship//Community_conv.csv friendship Community\n",
      "158 252 movies/friendship//Crazy Rich Asians_conv.csv friendship Crazy Rich Asians\n",
      "159 252 movies/friendship//Dazed and Confused_conv.csv friendship Dazed and Confused\n",
      "160 252 movies/friendship//Dead Poets Society_conv.csv friendship Dead Poets Society\n",
      "161 252 movies/friendship//Deadpool_conv.csv friendship Deadpool\n",
      "162 252 movies/friendship//Doctor Sleep_conv.csv friendship Doctor Sleep\n",
      "163 252 movies/friendship//Doctor Who_conv.csv friendship Doctor Who\n",
      "164 252 movies/friendship//Emma_conv.csv friendship Emma\n",
      "165 252 movies/friendship//Entourage_conv.csv friendship Entourage\n",
      "166 252 movies/friendship//ER_conv.csv friendship ER\n",
      "167 252 movies/friendship//Eyes Wide Shut_conv.csv friendship Eyes Wide Shut\n",
      "168 252 movies/friendship//Family Guy_conv.csv friendship Family Guy\n",
      "169 252 movies/friendship//Fast Times at Ridgemont High_conv.csv friendship Fast Times at Ridgemont High\n",
      "170 252 movies/friendship//Firefly_conv.csv friendship Firefly\n",
      "171 252 movies/friendship//Ford v Ferrari_conv.csv friendship Ford v Ferrari\n",
      "172 252 movies/friendship//Friends_conv.csv friendship Friends\n",
      "173 252 movies/friendship//Get Out_conv.csv friendship Get Out\n",
      "174 252 movies/friendship//Good Will Hunting_conv.csv friendship Good Will Hunting\n",
      "175 252 movies/friendship//Goodfellas_conv.csv friendship Goodfellas\n",
      "176 252 movies/friendship//Grease_conv.csv friendship Grease\n",
      "177 252 movies/friendship//Green Book_conv.csv friendship Green Book\n",
      "178 252 movies/friendship//Guardians of the Galaxy Vol 2_conv.csv friendship Guardians of the Galaxy Vol 2\n",
      "179 252 movies/friendship//Guardians of the Galaxy_conv.csv friendship Guardians of the Galaxy\n",
      "180 252 movies/friendship//Hamilton_conv.csv friendship Hamilton\n",
      "181 252 movies/friendship//Harry Potter and the Goblet of Fire_conv.csv friendship Harry Potter and the Goblet of Fire\n",
      "182 252 movies/friendship//Harry Potter and the Prisoner of Azkaban_conv.csv friendship Harry Potter and the Prisoner of Azkaban\n",
      "183 252 movies/friendship//Harry Potter and the Sorcerer's Stone_conv.csv friendship Harry Potter and the Sorcerer's Stone\n",
      "184 252 movies/friendship//House MD_conv.csv friendship House MD\n",
      "185 252 movies/friendship//Hunter x Hunter_conv.csv friendship Hunter x Hunter\n",
      "186 252 movies/friendship//Iron Man_conv.csv friendship Iron Man\n",
      "187 252 movies/friendship//Isle of Dogs_conv.csv friendship Isle of Dogs\n",
      "188 252 movies/friendship//It_conv.csv friendship It\n",
      "189 252 movies/friendship//John Wick_conv.csv friendship John Wick\n",
      "190 252 movies/friendship//Jojo Rabbit_conv.csv friendship Jojo Rabbit\n",
      "191 252 movies/friendship//Love Actually_conv.csv friendship Love Actually\n",
      "192 252 movies/friendship//Love and Monsters_conv.csv friendship Love and Monsters\n",
      "193 252 movies/friendship//Mank_conv.csv friendship Mank\n",
      "194 252 movies/friendship//Mom_conv.csv friendship Mom\n",
      "195 252 movies/friendship//Ocean's Eight_conv.csv friendship Ocean's Eight\n",
      "196 252 movies/friendship//Once Upon a Time in America_conv.csv friendship Once Upon a Time in America\n",
      "197 252 movies/friendship//Once Upon a Time in Hollywood_conv.csv friendship Once Upon a Time in Hollywood\n",
      "198 252 movies/friendship//One Night in Miami_conv.csv friendship One Night in Miami\n",
      "199 252 movies/friendship//Psych_conv.csv friendship Psych\n",
      "200 252 movies/friendship//Ready Player One_conv.csv friendship Ready Player One\n",
      "201 252 movies/friendship//Requiem for a Dream_conv.csv friendship Requiem for a Dream\n",
      "202 252 movies/friendship//Rocketman_conv.csv friendship Rocketman\n",
      "203 252 movies/friendship//Rogue One_conv.csv friendship Rogue One\n",
      "204 252 movies/friendship//Rome_conv.csv friendship Rome\n",
      "205 252 movies/friendship//Saving Private Ryan_conv.csv friendship Saving Private Ryan\n",
      "206 252 movies/friendship//Schindler's List_conv.csv friendship Schindler's List\n",
      "207 252 movies/friendship//Scott Pilgrim vs the World_conv.csv friendship Scott Pilgrim vs the World\n",
      "208 252 movies/friendship//Seinfeld_conv.csv friendship Seinfeld\n",
      "209 252 movies/friendship//Sex and the City_conv.csv friendship Sex and the City\n",
      "210 252 movies/friendship//Sherlock_conv.csv friendship Sherlock\n",
      "211 252 movies/friendship//Sicario_conv.csv friendship Sicario\n",
      "212 252 movies/friendship//Skins_conv.csv friendship Skins\n",
      "213 252 movies/friendship//South Park_conv.csv friendship South Park\n",
      "214 252 movies/friendship//Split_conv.csv friendship Split\n",
      "215 252 movies/friendship//Star Trek Beyond_conv.csv friendship Star Trek Beyond\n",
      "216 252 movies/friendship//Superbad_conv.csv friendship Superbad\n",
      "217 252 movies/friendship//Teen Wolf_conv.csv friendship Teen Wolf\n",
      "218 252 movies/friendship//The 100_conv.csv friendship The 100\n",
      "219 252 movies/friendship//The Big Lebowski_conv.csv friendship The Big Lebowski\n",
      "220 252 movies/friendship//The Dark Knight_conv.csv friendship The Dark Knight\n",
      "221 252 movies/friendship//The Departed_conv.csv friendship The Departed\n",
      "222 252 movies/friendship//The Goonies_conv.csv friendship The Goonies\n",
      "223 252 movies/friendship//The Grand Budapest Hotel_conv.csv friendship The Grand Budapest Hotel\n",
      "224 252 movies/friendship//The Greatest Showman_conv.csv friendship The Greatest Showman\n",
      "225 252 movies/friendship//The Guest_conv.csv friendship The Guest\n",
      "226 252 movies/friendship//The Help_conv.csv friendship The Help\n",
      "227 252 movies/friendship//The Hunger Games_conv.csv friendship The Hunger Games\n",
      "228 252 movies/friendship//The Invisible Man_conv.csv friendship The Invisible Man\n",
      "229 252 movies/friendship//The Last Picture Show_conv.csv friendship The Last Picture Show\n",
      "230 252 movies/friendship//The Lion King_conv.csv friendship The Lion King\n",
      "231 252 movies/friendship//The Martian_conv.csv friendship The Martian\n",
      "232 252 movies/friendship//The Maze Runner_conv.csv friendship The Maze Runner\n",
      "233 252 movies/friendship//The OC_conv.csv friendship The OC\n",
      "234 252 movies/friendship//The Peanut Butter Falcon_conv.csv friendship The Peanut Butter Falcon\n",
      "235 252 movies/friendship//The Prestige_conv.csv friendship The Prestige\n",
      "236 252 movies/friendship//The Princess Bride_conv.csv friendship The Princess Bride\n",
      "237 252 movies/friendship//The Prom_conv.csv friendship The Prom\n",
      "238 252 movies/friendship//The Revenant_conv.csv friendship The Revenant\n",
      "239 252 movies/friendship//The Shawshank Redemption_conv.csv friendship The Shawshank Redemption\n",
      "240 252 movies/friendship//The Silence of the Lambs_conv.csv friendship The Silence of the Lambs\n",
      "241 252 movies/friendship//The Simpsons_conv.csv friendship The Simpsons\n",
      "242 252 movies/friendship//The Social Network_conv.csv friendship The Social Network\n",
      "243 252 movies/friendship//The Truman Show_conv.csv friendship The Truman Show\n",
      "244 252 movies/friendship//The War with Grandpa_conv.csv friendship The War with Grandpa\n",
      "245 252 movies/friendship//The Wolf of Wall Street_conv.csv friendship The Wolf of Wall Street\n",
      "246 252 movies/friendship//Titanic_conv.csv friendship Titanic\n",
      "247 252 movies/friendship//Titans_conv.csv friendship Titans\n",
      "248 252 movies/friendship//Twilight_conv.csv friendship Twilight\n",
      "249 252 movies/friendship//Twin Peaks_conv.csv friendship Twin Peaks\n",
      "250 252 movies/friendship//Wind River_conv.csv friendship Wind River\n",
      "251 252 movies/friendship//You_conv.csv friendship You\n"
     ]
    }
   ],
   "source": [
    "movies_annotated_df = annotate_movies(movie_metadata_df)"
   ]
  },
  {
   "cell_type": "code",
   "execution_count": 58,
   "metadata": {},
   "outputs": [],
   "source": [
    "movies_annotated_df.to_csv('annotations_word_embedding_fox_news.csv')"
   ]
  },
  {
   "cell_type": "code",
   "execution_count": null,
   "metadata": {},
   "outputs": [],
   "source": []
  }
 ],
 "metadata": {
  "kernelspec": {
   "display_name": "Python 3",
   "language": "python",
   "name": "python3"
  },
  "language_info": {
   "codemirror_mode": {
    "name": "ipython",
    "version": 3
   },
   "file_extension": ".py",
   "mimetype": "text/x-python",
   "name": "python",
   "nbconvert_exporter": "python",
   "pygments_lexer": "ipython3",
   "version": "3.7.9"
  }
 },
 "nbformat": 4,
 "nbformat_minor": 4
}
