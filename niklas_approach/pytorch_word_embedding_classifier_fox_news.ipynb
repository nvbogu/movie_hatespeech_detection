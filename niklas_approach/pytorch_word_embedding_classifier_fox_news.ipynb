{
 "cells": [
  {
   "cell_type": "code",
   "execution_count": 4,
   "metadata": {},
   "outputs": [],
   "source": [
    "import torch\n",
    "import pandas as pd\n",
    "import numpy as np\n",
    "import sklearn\n",
    "from collections import Counter"
   ]
  },
  {
   "cell_type": "code",
   "execution_count": 5,
   "metadata": {},
   "outputs": [],
   "source": [
    "from sklearn.utils import Bunch\n",
    "from sklearn.model_selection import train_test_split\n",
    "from sklearn.metrics import classification_report"
   ]
  },
  {
   "cell_type": "code",
   "execution_count": 6,
   "metadata": {},
   "outputs": [],
   "source": [
    "from itertools import combinations"
   ]
  },
  {
   "cell_type": "code",
   "execution_count": 7,
   "metadata": {},
   "outputs": [],
   "source": [
    "import re\n",
    "import os"
   ]
  },
  {
   "cell_type": "code",
   "execution_count": 8,
   "metadata": {},
   "outputs": [],
   "source": [
    "import torch.nn as nn"
   ]
  },
  {
   "cell_type": "markdown",
   "metadata": {},
   "source": [
    "# Data Loading"
   ]
  },
  {
   "cell_type": "code",
   "execution_count": 6,
   "metadata": {},
   "outputs": [
    {
     "data": {
      "text/html": [
       "<div>\n",
       "<style scoped>\n",
       "    .dataframe tbody tr th:only-of-type {\n",
       "        vertical-align: middle;\n",
       "    }\n",
       "\n",
       "    .dataframe tbody tr th {\n",
       "        vertical-align: top;\n",
       "    }\n",
       "\n",
       "    .dataframe thead th {\n",
       "        text-align: right;\n",
       "    }\n",
       "</style>\n",
       "<table border=\"1\" class=\"dataframe\">\n",
       "  <thead>\n",
       "    <tr style=\"text-align: right;\">\n",
       "      <th></th>\n",
       "      <th>text</th>\n",
       "      <th>label</th>\n",
       "    </tr>\n",
       "  </thead>\n",
       "  <tbody>\n",
       "    <tr>\n",
       "      <th>0</th>\n",
       "      <td>barryswallows Merkel would never say NO</td>\n",
       "      <td>1</td>\n",
       "    </tr>\n",
       "    <tr>\n",
       "      <th>1</th>\n",
       "      <td>PostApocalypticHero Expect more and more women...</td>\n",
       "      <td>1</td>\n",
       "    </tr>\n",
       "    <tr>\n",
       "      <th>2</th>\n",
       "      <td>californiamojo Groping people in public wasn't...</td>\n",
       "      <td>0</td>\n",
       "    </tr>\n",
       "    <tr>\n",
       "      <th>3</th>\n",
       "      <td>MikeSte Merkel, possible the only person in ch...</td>\n",
       "      <td>1</td>\n",
       "    </tr>\n",
       "    <tr>\n",
       "      <th>4</th>\n",
       "      <td>scientist They know very well, no means NO! Th...</td>\n",
       "      <td>1</td>\n",
       "    </tr>\n",
       "  </tbody>\n",
       "</table>\n",
       "</div>"
      ],
      "text/plain": [
       "                                                text  label\n",
       "0            barryswallows Merkel would never say NO      1\n",
       "1  PostApocalypticHero Expect more and more women...      1\n",
       "2  californiamojo Groping people in public wasn't...      0\n",
       "3  MikeSte Merkel, possible the only person in ch...      1\n",
       "4  scientist They know very well, no means NO! Th...      1"
      ]
     },
     "execution_count": 6,
     "metadata": {},
     "output_type": "execute_result"
    }
   ],
   "source": [
    "path = \"data/fox_news.csv\"\n",
    "df = pd.read_csv(path, index_col=0)\n",
    "df = df.rename(columns={'class': 'label'})\n",
    "df.head()"
   ]
  },
  {
   "cell_type": "code",
   "execution_count": 7,
   "metadata": {},
   "outputs": [
    {
     "name": "stdout",
     "output_type": "stream",
     "text": [
      "0    2186\n",
      "1     870\n",
      "Name: label, dtype: int64\n"
     ]
    },
    {
     "data": {
      "text/plain": [
       "array([<AxesSubplot:ylabel='label'>], dtype=object)"
      ]
     },
     "execution_count": 7,
     "metadata": {},
     "output_type": "execute_result"
    },
    {
     "data": {
      "image/png": "[encoded data removed]",
      "text/plain": [
       "<Figure size 432x288 with 1 Axes>"
      ]
     },
     "metadata": {},
     "output_type": "display_data"
    }
   ],
   "source": [
    "print(df.label.value_counts())\n",
    "df.label.value_counts().plot(kind='pie', subplots=True, autopct='%1.0f%%', title='Hate Speech Distribution')"
   ]
  },
  {
   "cell_type": "markdown",
   "metadata": {},
   "source": [
    "## Data Cleansing"
   ]
  },
  {
   "cell_type": "code",
   "execution_count": 8,
   "metadata": {},
   "outputs": [],
   "source": [
    "def filter_hatespeech_texts(df):\n",
    "    \n",
    "    def filter_texts(text):\n",
    "        text = re.sub('@.\\:|!|@\\w+|&#[0-9]*;|#\\w+|RT|\\/\\/t.co\\/\\w+|&gt|&lt', '', text)\n",
    "        return text\n",
    "\n",
    "    df['text'] = df['text'].apply(filter_texts)\n",
    "    df.replace(\"\", np.nan, inplace=True)\n",
    "    df = df.dropna()\n",
    "    \n",
    "    return df"
   ]
  },
  {
   "cell_type": "code",
   "execution_count": 9,
   "metadata": {},
   "outputs": [],
   "source": [
    "df = filter_hatespeech_texts(df)\n",
    "df = filter_hatespeech_texts(df)"
   ]
  },
  {
   "cell_type": "code",
   "execution_count": 10,
   "metadata": {},
   "outputs": [
    {
     "data": {
      "text/html": [
       "<div>\n",
       "<style scoped>\n",
       "    .dataframe tbody tr th:only-of-type {\n",
       "        vertical-align: middle;\n",
       "    }\n",
       "\n",
       "    .dataframe tbody tr th {\n",
       "        vertical-align: top;\n",
       "    }\n",
       "\n",
       "    .dataframe thead th {\n",
       "        text-align: right;\n",
       "    }\n",
       "</style>\n",
       "<table border=\"1\" class=\"dataframe\">\n",
       "  <thead>\n",
       "    <tr style=\"text-align: right;\">\n",
       "      <th></th>\n",
       "      <th>text</th>\n",
       "      <th>label</th>\n",
       "    </tr>\n",
       "  </thead>\n",
       "  <tbody>\n",
       "    <tr>\n",
       "      <th>0</th>\n",
       "      <td>barryswallows Merkel would never say NO</td>\n",
       "      <td>1</td>\n",
       "    </tr>\n",
       "    <tr>\n",
       "      <th>1</th>\n",
       "      <td>PostApocalypticHero Expect more and more women...</td>\n",
       "      <td>1</td>\n",
       "    </tr>\n",
       "    <tr>\n",
       "      <th>2</th>\n",
       "      <td>californiamojo Groping people in public wasn't...</td>\n",
       "      <td>0</td>\n",
       "    </tr>\n",
       "    <tr>\n",
       "      <th>3</th>\n",
       "      <td>MikeSte Merkel, possible the only person in ch...</td>\n",
       "      <td>1</td>\n",
       "    </tr>\n",
       "    <tr>\n",
       "      <th>4</th>\n",
       "      <td>scientist They know very well, no means NO The...</td>\n",
       "      <td>1</td>\n",
       "    </tr>\n",
       "  </tbody>\n",
       "</table>\n",
       "</div>"
      ],
      "text/plain": [
       "                                                text  label\n",
       "0            barryswallows Merkel would never say NO      1\n",
       "1  PostApocalypticHero Expect more and more women...      1\n",
       "2  californiamojo Groping people in public wasn't...      0\n",
       "3  MikeSte Merkel, possible the only person in ch...      1\n",
       "4  scientist They know very well, no means NO The...      1"
      ]
     },
     "execution_count": 10,
     "metadata": {},
     "output_type": "execute_result"
    }
   ],
   "source": [
    "df.head()"
   ]
  },
  {
   "cell_type": "markdown",
   "metadata": {},
   "source": [
    "## Data Splitting"
   ]
  },
  {
   "cell_type": "code",
   "execution_count": 11,
   "metadata": {},
   "outputs": [],
   "source": [
    "def split_dataset(df, seed, test_size):\n",
    "    train, test = train_test_split(df, test_size=test_size, random_state=seed, shuffle=True)\n",
    "    return train.text.values, train.label.values, test.text.values, test.label.values"
   ]
  },
  {
   "cell_type": "code",
   "execution_count": 12,
   "metadata": {},
   "outputs": [],
   "source": [
    "# categories = ['not hate speech', 'hate speech]\n",
    "categories = [0,1]\n",
    "seed = 11\n",
    "test_size = 0.2"
   ]
  },
  {
   "cell_type": "code",
   "execution_count": 13,
   "metadata": {},
   "outputs": [],
   "source": [
    "train, train_targets, test, test_targets = split_dataset(df, seed=seed, test_size=test_size)"
   ]
  },
  {
   "cell_type": "code",
   "execution_count": 14,
   "metadata": {},
   "outputs": [],
   "source": [
    "train_size = len(train)\n",
    "test_size = len(test)"
   ]
  },
  {
   "cell_type": "code",
   "execution_count": 15,
   "metadata": {},
   "outputs": [],
   "source": [
    "def calculate_dataset_class_distribution(targets, categories):\n",
    "    df = pd.DataFrame({'category':targets})\n",
    "    s = df.category.value_counts(normalize=True)\n",
    "    s = s.reindex(categories)\n",
    "    return [s.index[0], s[0]], [s.index[1], s[1]]"
   ]
  },
  {
   "cell_type": "code",
   "execution_count": 16,
   "metadata": {},
   "outputs": [],
   "source": [
    "train_class_distribution = calculate_dataset_class_distribution(train_targets, categories)\n",
    "test_class_distribution = calculate_dataset_class_distribution(test_targets, categories)"
   ]
  },
  {
   "cell_type": "code",
   "execution_count": 17,
   "metadata": {},
   "outputs": [],
   "source": [
    "train_ds = Bunch(data=train, target=train_targets)\n",
    "test_ds = Bunch(data=test, target=test_targets)"
   ]
  },
  {
   "cell_type": "markdown",
   "metadata": {},
   "source": [
    "## Buidling the Model"
   ]
  },
  {
   "cell_type": "code",
   "execution_count": 18,
   "metadata": {},
   "outputs": [],
   "source": [
    "# Getting all the vocabularies and indexing to a unique position\n",
    "vocab = Counter()\n",
    "#Indexing words from the training data\n",
    "for text in train_ds.data:\n",
    "    for word in text.split(' '):\n",
    "        vocab[word.lower()]+=1\n",
    "\n",
    "#Indexing words from the training data\n",
    "for text in test_ds.data:\n",
    "    for word in text.split(' '):\n",
    "        vocab[word.lower()]+=1\n",
    "\n",
    "total_words = len(vocab)\n",
    "\n",
    "def get_word_2_index(vocab):\n",
    "    word2index = {}\n",
    "    for i,word in enumerate(vocab):\n",
    "        word2index[word.lower()] = i\n",
    "\n",
    "    return word2index\n",
    "\n",
    "word2index = get_word_2_index(vocab)"
   ]
  },
  {
   "cell_type": "code",
   "execution_count": 19,
   "metadata": {},
   "outputs": [
    {
     "name": "stdout",
     "output_type": "stream",
     "text": [
      "8854\n",
      "34\n",
      "8854\n"
     ]
    }
   ],
   "source": [
    "print(len(word2index))\n",
    "print(word2index[\"the\"]) # Showing the index of 'the'\n",
    "print (total_words)"
   ]
  },
  {
   "cell_type": "code",
   "execution_count": 20,
   "metadata": {},
   "outputs": [],
   "source": [
    "# define the network\n",
    "class News_20_Net(nn.Module):\n",
    "     def __init__(self, input_size, hidden_size, num_classes):\n",
    "        super(News_20_Net, self).__init__()\n",
    "        self.layer_1 = nn.Linear(input_size,hidden_size, bias=True).cuda()\n",
    "        self.relu = nn.ReLU().cuda()\n",
    "        self.layer_2 = nn.Linear(hidden_size, hidden_size, bias=True).cuda()\n",
    "        self.output_layer = nn.Linear(hidden_size, num_classes, bias=True).cuda()\n",
    "    # accept input and return an output\n",
    "     def forward(self, x):\n",
    "        out = self.layer_1(x)\n",
    "        out = self.relu(out)\n",
    "        out = self.layer_2(out)\n",
    "        out = self.relu(out)\n",
    "        out = self.output_layer(out)\n",
    "        return out"
   ]
  },
  {
   "cell_type": "code",
   "execution_count": 21,
   "metadata": {},
   "outputs": [],
   "source": [
    "def get_batch(df,i,batch_size):\n",
    "    batches = []\n",
    "    results = []\n",
    "    # Split into different batchs, get the next batch \n",
    "    texts = df.data[i*batch_size:i*batch_size+batch_size]\n",
    "    # get the targets \n",
    "    categories = df.target[i*batch_size:i*batch_size+batch_size]\n",
    "    #print(categories)\n",
    "    for text in texts:\n",
    "        # Dimension, 196609\n",
    "        layer = np.zeros(total_words,dtype=float)\n",
    "\n",
    "        for word in text.split(' '):\n",
    "            layer[word2index[word.lower()]] += 1\n",
    "        batches.append(layer)\n",
    "\n",
    "    # We have 5 categories\n",
    "    for category in categories:\n",
    "        #print(category)\n",
    "        index_y = -1\n",
    "        if category == 0:\n",
    "            index_y = 0\n",
    "        elif category == 1:\n",
    "            index_y = 1\n",
    "        elif category == 2:\n",
    "            index_y = 2\n",
    "        results.append(index_y)\n",
    "\n",
    "    # the training and the targets\n",
    "    return np.array(batches),np.array(results)"
   ]
  },
  {
   "cell_type": "code",
   "execution_count": 22,
   "metadata": {},
   "outputs": [],
   "source": [
    "# Parameters\n",
    "learning_rate = 0.001\n",
    "num_epochs = 8\n",
    "batch_size = 32\n",
    "display_step = 1 # ADDED will multiplied by 10\n",
    "\n",
    "# Network Parameters\n",
    "hidden_size = 100      # 1st layer and 2nd layer number of features\n",
    "input_size = total_words # Words in vocab\n",
    "num_classes = len(categories)         # Categories: \"graphics\",\"space\",\"baseball\",\"guns\", \"christian\""
   ]
  },
  {
   "cell_type": "markdown",
   "metadata": {},
   "source": [
    "## Training"
   ]
  },
  {
   "cell_type": "code",
   "execution_count": 23,
   "metadata": {},
   "outputs": [],
   "source": [
    "results = []"
   ]
  },
  {
   "cell_type": "code",
   "execution_count": 24,
   "metadata": {},
   "outputs": [
    {
     "name": "stdout",
     "output_type": "stream",
     "text": [
      "{'Epoch': 1, 'Step': 10, 'Loss': 0.639973521232605}\n",
      "{'Epoch': 1, 'Step': 20, 'Loss': 0.590348482131958}\n",
      "{'Epoch': 1, 'Step': 30, 'Loss': 0.548328161239624}\n",
      "{'Epoch': 1, 'Step': 40, 'Loss': 0.45481663942337036}\n",
      "{'Epoch': 1, 'Step': 50, 'Loss': 0.49361610412597656}\n",
      "{'Epoch': 1, 'Step': 60, 'Loss': 0.32571688294410706}\n",
      "{'Epoch': 1, 'Step': 70, 'Loss': 0.5208646655082703}\n",
      "{'Epoch': 2, 'Step': 10, 'Loss': 0.2465047985315323}\n",
      "{'Epoch': 2, 'Step': 20, 'Loss': 0.2516689598560333}\n",
      "{'Epoch': 2, 'Step': 30, 'Loss': 0.12475357949733734}\n",
      "{'Epoch': 2, 'Step': 40, 'Loss': 0.09657267481088638}\n",
      "{'Epoch': 2, 'Step': 50, 'Loss': 0.056524742394685745}\n",
      "{'Epoch': 2, 'Step': 60, 'Loss': 0.036014340817928314}\n",
      "{'Epoch': 2, 'Step': 70, 'Loss': 0.09239991754293442}\n",
      "{'Epoch': 3, 'Step': 10, 'Loss': 0.04856988787651062}\n",
      "{'Epoch': 3, 'Step': 20, 'Loss': 0.02129892259836197}\n",
      "{'Epoch': 3, 'Step': 30, 'Loss': 0.0254209041595459}\n",
      "{'Epoch': 3, 'Step': 40, 'Loss': 0.01217082142829895}\n",
      "{'Epoch': 3, 'Step': 50, 'Loss': 0.011422107927501202}\n",
      "{'Epoch': 3, 'Step': 60, 'Loss': 0.0015997035661712289}\n",
      "{'Epoch': 3, 'Step': 70, 'Loss': 0.02079441398382187}\n",
      "{'Epoch': 4, 'Step': 10, 'Loss': 0.0027282030787318945}\n",
      "{'Epoch': 4, 'Step': 20, 'Loss': 0.006819510366767645}\n",
      "{'Epoch': 4, 'Step': 30, 'Loss': 0.004232094157487154}\n",
      "{'Epoch': 4, 'Step': 40, 'Loss': 0.0017595133977010846}\n",
      "{'Epoch': 4, 'Step': 50, 'Loss': 0.003899371949955821}\n",
      "{'Epoch': 4, 'Step': 60, 'Loss': 0.0005830778391100466}\n",
      "{'Epoch': 4, 'Step': 70, 'Loss': 0.005179096478968859}\n",
      "{'Epoch': 5, 'Step': 10, 'Loss': 0.0007716596592217684}\n",
      "{'Epoch': 5, 'Step': 20, 'Loss': 0.001574586145579815}\n",
      "{'Epoch': 5, 'Step': 30, 'Loss': 0.0019940149504691362}\n",
      "{'Epoch': 5, 'Step': 40, 'Loss': 0.0007088003912940621}\n",
      "{'Epoch': 5, 'Step': 50, 'Loss': 0.001821289537474513}\n",
      "{'Epoch': 5, 'Step': 60, 'Loss': 0.00031106569804251194}\n",
      "{'Epoch': 5, 'Step': 70, 'Loss': 0.0021201481577008963}\n",
      "{'Epoch': 6, 'Step': 10, 'Loss': 0.0003901103336829692}\n",
      "{'Epoch': 6, 'Step': 20, 'Loss': 0.0007449833792634308}\n",
      "{'Epoch': 6, 'Step': 30, 'Loss': 0.001136555103585124}\n",
      "{'Epoch': 6, 'Step': 40, 'Loss': 0.0003230569127481431}\n",
      "{'Epoch': 6, 'Step': 50, 'Loss': 0.0008828979334793985}\n",
      "{'Epoch': 6, 'Step': 60, 'Loss': 0.00019386611529625952}\n",
      "{'Epoch': 6, 'Step': 70, 'Loss': 0.0011711801635101438}\n",
      "{'Epoch': 7, 'Step': 10, 'Loss': 0.00023910345043987036}\n",
      "{'Epoch': 7, 'Step': 20, 'Loss': 0.00045204945490695536}\n",
      "{'Epoch': 7, 'Step': 30, 'Loss': 0.0006336325313895941}\n",
      "{'Epoch': 7, 'Step': 40, 'Loss': 0.00018428461044095457}\n",
      "{'Epoch': 7, 'Step': 50, 'Loss': 0.0005021022516302764}\n",
      "{'Epoch': 7, 'Step': 60, 'Loss': 0.00013209361350163817}\n",
      "{'Epoch': 7, 'Step': 70, 'Loss': 0.0007103867828845978}\n",
      "{'Epoch': 8, 'Step': 10, 'Loss': 0.00016170099843293428}\n",
      "{'Epoch': 8, 'Step': 20, 'Loss': 0.0003099701425526291}\n",
      "{'Epoch': 8, 'Step': 30, 'Loss': 0.000396976072806865}\n",
      "{'Epoch': 8, 'Step': 40, 'Loss': 0.00011914929928025231}\n",
      "{'Epoch': 8, 'Step': 50, 'Loss': 0.00032495122286491096}\n",
      "{'Epoch': 8, 'Step': 60, 'Loss': 9.639421477913857e-05}\n",
      "{'Epoch': 8, 'Step': 70, 'Loss': 0.00046933209523558617}\n"
     ]
    }
   ],
   "source": [
    "news_net = News_20_Net(input_size, hidden_size, num_classes)\n",
    "# Loss and Optimizer\n",
    "criterion = nn.CrossEntropyLoss()  # This includes the Softmax loss function\n",
    "optimizer = torch.optim.Adam(news_net.parameters(), lr=learning_rate)  \n",
    "\n",
    "# Train the Model\n",
    "for epoch in range(num_epochs):\n",
    "    # determine the number of min-batches based on the batch size and size of training data\n",
    "    total_batch = int(len(train_ds.data)/batch_size)\n",
    "    # Loop over all batches\n",
    "    for i in range(total_batch):\n",
    "        batch_x,batch_y = get_batch(train_ds,i,batch_size)\n",
    "        \n",
    "        articles = torch.cuda.FloatTensor(batch_x, device='cuda')\n",
    "        labels = torch.cuda.LongTensor(batch_y, device='cuda')\n",
    "\n",
    "        # Forward + Backward + Optimize\n",
    "        optimizer.zero_grad()  # zero the gradient buffer\n",
    "        outputs = news_net(articles)\n",
    "        loss = criterion(outputs, labels)\n",
    "        loss.backward()\n",
    "        optimizer.step()\n",
    "\n",
    "        if (i+1) % display_step == 0:\n",
    "            result = 'Epoch [%d/%d], Step [%d/%d], Loss: %.4f'%(epoch+1, num_epochs, i+1, len(train_ds.data)/batch_size, loss.data)\n",
    "            results.append({'Epoch': epoch+1, 'Step': i+1, 'Loss': loss.data.item()})\n",
    "            if (i+1) % (display_step*10) == 0:\n",
    "                print({'Epoch': epoch+1, 'Step': i+1, 'Loss': loss.data.item()})"
   ]
  },
  {
   "cell_type": "markdown",
   "metadata": {},
   "source": [
    "## Validation"
   ]
  },
  {
   "cell_type": "code",
   "execution_count": 25,
   "metadata": {},
   "outputs": [],
   "source": [
    "# Test the Model\n",
    "correct = 0\n",
    "total = 0\n",
    "total_test_data = len(test_ds.target)"
   ]
  },
  {
   "cell_type": "code",
   "execution_count": 26,
   "metadata": {},
   "outputs": [],
   "source": [
    "iterates = total_test_data/batch_size # ignore last (<batch_size) batch"
   ]
  },
  {
   "cell_type": "code",
   "execution_count": 27,
   "metadata": {},
   "outputs": [],
   "source": [
    "all_total = []\n",
    "all_correct = []\n",
    "labels_all = []\n",
    "predicted_all = []"
   ]
  },
  {
   "cell_type": "code",
   "execution_count": 28,
   "metadata": {},
   "outputs": [],
   "source": [
    "for i in range(int(iterates)):\n",
    "    batch_x_test,batch_y_test = get_batch(test_ds,i,batch_size)\n",
    "    \n",
    "    articles = torch.FloatTensor(batch_x_test).to('cuda')\n",
    "    \n",
    "    labels = torch.LongTensor(batch_y_test).to('cuda')\n",
    "    outputs = news_net(articles)\n",
    "    _, predicted = torch.max(outputs.data, 1)\n",
    "    \n",
    "    labels_all.extend([x.item() for x in labels])\n",
    "    predicted_all.extend([x.item() for x in predicted])"
   ]
  },
  {
   "cell_type": "code",
   "execution_count": 29,
   "metadata": {},
   "outputs": [],
   "source": [
    "categories = ['not hate speech', 'hate speech']"
   ]
  },
  {
   "cell_type": "code",
   "execution_count": 30,
   "metadata": {},
   "outputs": [],
   "source": [
    "report = classification_report(labels_all, predicted_all, target_names=categories, output_dict=True)"
   ]
  },
  {
   "cell_type": "code",
   "execution_count": 31,
   "metadata": {},
   "outputs": [],
   "source": [
    "df_report = pd.DataFrame(report).transpose()"
   ]
  },
  {
   "cell_type": "code",
   "execution_count": 32,
   "metadata": {},
   "outputs": [
    {
     "data": {
      "text/html": [
       "<div>\n",
       "<style scoped>\n",
       "    .dataframe tbody tr th:only-of-type {\n",
       "        vertical-align: middle;\n",
       "    }\n",
       "\n",
       "    .dataframe tbody tr th {\n",
       "        vertical-align: top;\n",
       "    }\n",
       "\n",
       "    .dataframe thead th {\n",
       "        text-align: right;\n",
       "    }\n",
       "</style>\n",
       "<table border=\"1\" class=\"dataframe\">\n",
       "  <thead>\n",
       "    <tr style=\"text-align: right;\">\n",
       "      <th></th>\n",
       "      <th>precision</th>\n",
       "      <th>recall</th>\n",
       "      <th>f1-score</th>\n",
       "      <th>support</th>\n",
       "    </tr>\n",
       "  </thead>\n",
       "  <tbody>\n",
       "    <tr>\n",
       "      <th>not hate speech</th>\n",
       "      <td>0.937799</td>\n",
       "      <td>0.951456</td>\n",
       "      <td>0.944578</td>\n",
       "      <td>412.000000</td>\n",
       "    </tr>\n",
       "    <tr>\n",
       "      <th>hate speech</th>\n",
       "      <td>0.894737</td>\n",
       "      <td>0.867347</td>\n",
       "      <td>0.880829</td>\n",
       "      <td>196.000000</td>\n",
       "    </tr>\n",
       "    <tr>\n",
       "      <th>accuracy</th>\n",
       "      <td>0.924342</td>\n",
       "      <td>0.924342</td>\n",
       "      <td>0.924342</td>\n",
       "      <td>0.924342</td>\n",
       "    </tr>\n",
       "    <tr>\n",
       "      <th>macro avg</th>\n",
       "      <td>0.916268</td>\n",
       "      <td>0.909402</td>\n",
       "      <td>0.912704</td>\n",
       "      <td>608.000000</td>\n",
       "    </tr>\n",
       "    <tr>\n",
       "      <th>weighted avg</th>\n",
       "      <td>0.923917</td>\n",
       "      <td>0.924342</td>\n",
       "      <td>0.924028</td>\n",
       "      <td>608.000000</td>\n",
       "    </tr>\n",
       "  </tbody>\n",
       "</table>\n",
       "</div>"
      ],
      "text/plain": [
       "                 precision    recall  f1-score     support\n",
       "not hate speech   0.937799  0.951456  0.944578  412.000000\n",
       "hate speech       0.894737  0.867347  0.880829  196.000000\n",
       "accuracy          0.924342  0.924342  0.924342    0.924342\n",
       "macro avg         0.916268  0.909402  0.912704  608.000000\n",
       "weighted avg      0.923917  0.924342  0.924028  608.000000"
      ]
     },
     "execution_count": 32,
     "metadata": {},
     "output_type": "execute_result"
    }
   ],
   "source": [
    "df_report"
   ]
  },
  {
   "cell_type": "code",
   "execution_count": 33,
   "metadata": {},
   "outputs": [],
   "source": [
    "df_results = pd.DataFrame(results)"
   ]
  },
  {
   "cell_type": "code",
   "execution_count": 34,
   "metadata": {},
   "outputs": [],
   "source": [
    "df_results['learning_rate'] = learning_rate\n",
    "df_results['num_epochs'] = num_epochs\n",
    "df_results['batch_size'] = batch_size\n",
    "df_results['num_classes'] = num_classes\n",
    "df_results['test_size'] = test_size\n",
    "df_results['train_size'] = train_size\n",
    "df_results['seed'] = seed\n",
    "df_results['test_size'] = test_size\n",
    "df_results['train_class_proportion_' + categories[0]] = round(train_class_distribution[0][1], 2)\n",
    "df_results['train_class_proportion_' + categories[1]] = round(train_class_distribution[1][1], 2)\n",
    "df_results['test_class_proportion_' + categories[0]] = round(test_class_distribution[0][1], 2)\n",
    "df_results['test_class_proportion_' + categories[1]] = round(test_class_distribution[1][1], 2)"
   ]
  },
  {
   "cell_type": "code",
   "execution_count": 35,
   "metadata": {},
   "outputs": [
    {
     "data": {
      "text/html": [
       "<div>\n",
       "<style scoped>\n",
       "    .dataframe tbody tr th:only-of-type {\n",
       "        vertical-align: middle;\n",
       "    }\n",
       "\n",
       "    .dataframe tbody tr th {\n",
       "        vertical-align: top;\n",
       "    }\n",
       "\n",
       "    .dataframe thead th {\n",
       "        text-align: right;\n",
       "    }\n",
       "</style>\n",
       "<table border=\"1\" class=\"dataframe\">\n",
       "  <thead>\n",
       "    <tr style=\"text-align: right;\">\n",
       "      <th></th>\n",
       "      <th>Epoch</th>\n",
       "      <th>Step</th>\n",
       "      <th>Loss</th>\n",
       "      <th>learning_rate</th>\n",
       "      <th>num_epochs</th>\n",
       "      <th>batch_size</th>\n",
       "      <th>num_classes</th>\n",
       "      <th>test_size</th>\n",
       "      <th>train_size</th>\n",
       "      <th>seed</th>\n",
       "      <th>train_class_proportion_not hate speech</th>\n",
       "      <th>train_class_proportion_hate speech</th>\n",
       "      <th>test_class_proportion_not hate speech</th>\n",
       "      <th>test_class_proportion_hate speech</th>\n",
       "    </tr>\n",
       "  </thead>\n",
       "  <tbody>\n",
       "    <tr>\n",
       "      <th>0</th>\n",
       "      <td>1</td>\n",
       "      <td>1</td>\n",
       "      <td>0.672575</td>\n",
       "      <td>0.001</td>\n",
       "      <td>8</td>\n",
       "      <td>32</td>\n",
       "      <td>2</td>\n",
       "      <td>612</td>\n",
       "      <td>2444</td>\n",
       "      <td>11</td>\n",
       "      <td>0.73</td>\n",
       "      <td>0.27</td>\n",
       "      <td>0.68</td>\n",
       "      <td>0.32</td>\n",
       "    </tr>\n",
       "    <tr>\n",
       "      <th>1</th>\n",
       "      <td>1</td>\n",
       "      <td>2</td>\n",
       "      <td>0.663580</td>\n",
       "      <td>0.001</td>\n",
       "      <td>8</td>\n",
       "      <td>32</td>\n",
       "      <td>2</td>\n",
       "      <td>612</td>\n",
       "      <td>2444</td>\n",
       "      <td>11</td>\n",
       "      <td>0.73</td>\n",
       "      <td>0.27</td>\n",
       "      <td>0.68</td>\n",
       "      <td>0.32</td>\n",
       "    </tr>\n",
       "    <tr>\n",
       "      <th>2</th>\n",
       "      <td>1</td>\n",
       "      <td>3</td>\n",
       "      <td>0.671045</td>\n",
       "      <td>0.001</td>\n",
       "      <td>8</td>\n",
       "      <td>32</td>\n",
       "      <td>2</td>\n",
       "      <td>612</td>\n",
       "      <td>2444</td>\n",
       "      <td>11</td>\n",
       "      <td>0.73</td>\n",
       "      <td>0.27</td>\n",
       "      <td>0.68</td>\n",
       "      <td>0.32</td>\n",
       "    </tr>\n",
       "    <tr>\n",
       "      <th>3</th>\n",
       "      <td>1</td>\n",
       "      <td>4</td>\n",
       "      <td>0.636953</td>\n",
       "      <td>0.001</td>\n",
       "      <td>8</td>\n",
       "      <td>32</td>\n",
       "      <td>2</td>\n",
       "      <td>612</td>\n",
       "      <td>2444</td>\n",
       "      <td>11</td>\n",
       "      <td>0.73</td>\n",
       "      <td>0.27</td>\n",
       "      <td>0.68</td>\n",
       "      <td>0.32</td>\n",
       "    </tr>\n",
       "    <tr>\n",
       "      <th>4</th>\n",
       "      <td>1</td>\n",
       "      <td>5</td>\n",
       "      <td>0.684578</td>\n",
       "      <td>0.001</td>\n",
       "      <td>8</td>\n",
       "      <td>32</td>\n",
       "      <td>2</td>\n",
       "      <td>612</td>\n",
       "      <td>2444</td>\n",
       "      <td>11</td>\n",
       "      <td>0.73</td>\n",
       "      <td>0.27</td>\n",
       "      <td>0.68</td>\n",
       "      <td>0.32</td>\n",
       "    </tr>\n",
       "  </tbody>\n",
       "</table>\n",
       "</div>"
      ],
      "text/plain": [
       "   Epoch  Step      Loss  learning_rate  num_epochs  batch_size  num_classes  \\\n",
       "0      1     1  0.672575          0.001           8          32            2   \n",
       "1      1     2  0.663580          0.001           8          32            2   \n",
       "2      1     3  0.671045          0.001           8          32            2   \n",
       "3      1     4  0.636953          0.001           8          32            2   \n",
       "4      1     5  0.684578          0.001           8          32            2   \n",
       "\n",
       "   test_size  train_size  seed  train_class_proportion_not hate speech  \\\n",
       "0        612        2444    11                                    0.73   \n",
       "1        612        2444    11                                    0.73   \n",
       "2        612        2444    11                                    0.73   \n",
       "3        612        2444    11                                    0.73   \n",
       "4        612        2444    11                                    0.73   \n",
       "\n",
       "   train_class_proportion_hate speech  test_class_proportion_not hate speech  \\\n",
       "0                                0.27                                   0.68   \n",
       "1                                0.27                                   0.68   \n",
       "2                                0.27                                   0.68   \n",
       "3                                0.27                                   0.68   \n",
       "4                                0.27                                   0.68   \n",
       "\n",
       "   test_class_proportion_hate speech  \n",
       "0                               0.32  \n",
       "1                               0.32  \n",
       "2                               0.32  \n",
       "3                               0.32  \n",
       "4                               0.32  "
      ]
     },
     "execution_count": 35,
     "metadata": {},
     "output_type": "execute_result"
    }
   ],
   "source": [
    "df_results.head()"
   ]
  },
  {
   "cell_type": "code",
   "execution_count": 36,
   "metadata": {},
   "outputs": [],
   "source": [
    "name = 'training_logs_word_embedding_fox_news.csv'"
   ]
  },
  {
   "cell_type": "code",
   "execution_count": 37,
   "metadata": {},
   "outputs": [],
   "source": [
    "df_results.to_csv(name)"
   ]
  },
  {
   "cell_type": "code",
   "execution_count": 38,
   "metadata": {},
   "outputs": [],
   "source": [
    "name = 'matrix_report_fox_news.csv'"
   ]
  },
  {
   "cell_type": "code",
   "execution_count": 39,
   "metadata": {},
   "outputs": [],
   "source": [
    "df_report.to_csv(name)"
   ]
  },
  {
   "cell_type": "markdown",
   "metadata": {},
   "source": [
    "----"
   ]
  },
  {
   "cell_type": "markdown",
   "metadata": {},
   "source": [
    "## Classication of Movies"
   ]
  },
  {
   "cell_type": "markdown",
   "metadata": {},
   "source": [
    "### Load Movies"
   ]
  },
  {
   "cell_type": "code",
   "execution_count": 9,
   "metadata": {},
   "outputs": [],
   "source": [
    "pathes = ['movies/racism', 'movies/hate_speech', 'movies/friendship']"
   ]
  },
  {
   "cell_type": "code",
   "execution_count": 10,
   "metadata": {},
   "outputs": [],
   "source": [
    "def read_movie_files(pathes):\n",
    "    result = []\n",
    "    for path in pathes: \n",
    "        directory = os.fsencode(path)\n",
    "\n",
    "        for file in os.listdir(directory):\n",
    "            filename = os.fsdecode(file)\n",
    "\n",
    "            if filename.endswith(\".csv\"):\n",
    "                #print(os.path.join(directory, filename))\n",
    "                #local_df = read_content(path + '//' + filename)\n",
    "                movie_df = pd.read_csv(path + '//' + filename)\n",
    "                tag = path.split('/')[1]\n",
    "                count_utterances = movie_df.shape[0]\n",
    "                result.append({'movie_name': filename[:-9], 'count_utterances': count_utterances, 'tag': tag, 'path': path + '//' + filename})\n",
    "    result_df = pd.DataFrame(result)\n",
    "    return result_df"
   ]
  },
  {
   "cell_type": "code",
   "execution_count": 11,
   "metadata": {},
   "outputs": [],
   "source": [
    "movie_metadata_df = read_movie_files(pathes)"
   ]
  },
  {
   "cell_type": "code",
   "execution_count": 12,
   "metadata": {},
   "outputs": [
    {
     "data": {
      "text/html": [
       "<div>\n",
       "<style scoped>\n",
       "    .dataframe tbody tr th:only-of-type {\n",
       "        vertical-align: middle;\n",
       "    }\n",
       "\n",
       "    .dataframe tbody tr th {\n",
       "        vertical-align: top;\n",
       "    }\n",
       "\n",
       "    .dataframe thead th {\n",
       "        text-align: right;\n",
       "    }\n",
       "</style>\n",
       "<table border=\"1\" class=\"dataframe\">\n",
       "  <thead>\n",
       "    <tr style=\"text-align: right;\">\n",
       "      <th></th>\n",
       "      <th>movie_name</th>\n",
       "      <th>count_utterances</th>\n",
       "      <th>tag</th>\n",
       "      <th>path</th>\n",
       "    </tr>\n",
       "  </thead>\n",
       "  <tbody>\n",
       "    <tr>\n",
       "      <th>0</th>\n",
       "      <td>12 Angry Men</td>\n",
       "      <td>2065</td>\n",
       "      <td>racism</td>\n",
       "      <td>movies/racism//12 Angry Men_conv.csv</td>\n",
       "    </tr>\n",
       "    <tr>\n",
       "      <th>1</th>\n",
       "      <td>12 Years a Slave</td>\n",
       "      <td>110</td>\n",
       "      <td>racism</td>\n",
       "      <td>movies/racism//12 Years a Slave_conv.csv</td>\n",
       "    </tr>\n",
       "    <tr>\n",
       "      <th>2</th>\n",
       "      <td>42</td>\n",
       "      <td>1288</td>\n",
       "      <td>racism</td>\n",
       "      <td>movies/racism//42_conv.csv</td>\n",
       "    </tr>\n",
       "    <tr>\n",
       "      <th>3</th>\n",
       "      <td>A Bronx Tale</td>\n",
       "      <td>1961</td>\n",
       "      <td>racism</td>\n",
       "      <td>movies/racism//A Bronx Tale_conv.csv</td>\n",
       "    </tr>\n",
       "    <tr>\n",
       "      <th>4</th>\n",
       "      <td>A Time to Kill</td>\n",
       "      <td>2219</td>\n",
       "      <td>racism</td>\n",
       "      <td>movies/racism//A Time to Kill_conv.csv</td>\n",
       "    </tr>\n",
       "  </tbody>\n",
       "</table>\n",
       "</div>"
      ],
      "text/plain": [
       "         movie_name  count_utterances     tag  \\\n",
       "0      12 Angry Men              2065  racism   \n",
       "1  12 Years a Slave               110  racism   \n",
       "2                42              1288  racism   \n",
       "3      A Bronx Tale              1961  racism   \n",
       "4    A Time to Kill              2219  racism   \n",
       "\n",
       "                                       path  \n",
       "0      movies/racism//12 Angry Men_conv.csv  \n",
       "1  movies/racism//12 Years a Slave_conv.csv  \n",
       "2                movies/racism//42_conv.csv  \n",
       "3      movies/racism//A Bronx Tale_conv.csv  \n",
       "4    movies/racism//A Time to Kill_conv.csv  "
      ]
     },
     "execution_count": 12,
     "metadata": {},
     "output_type": "execute_result"
    }
   ],
   "source": [
    "movie_metadata_df.head()"
   ]
  },
  {
   "cell_type": "code",
   "execution_count": 13,
   "metadata": {},
   "outputs": [
    {
     "data": {
      "text/plain": [
       "array([<AxesSubplot:ylabel='tag'>], dtype=object)"
      ]
     },
     "execution_count": 13,
     "metadata": {},
     "output_type": "execute_result"
    },
    {
     "data": {
      "image/png": "[encoded data removed]",
      "text/plain": [
       "<Figure size 432x288 with 1 Axes>"
      ]
     },
     "metadata": {},
     "output_type": "display_data"
    }
   ],
   "source": [
    "movie_metadata_df.tag.value_counts().plot(kind='pie', subplots=True, autopct='%1.0f%%', title='Movie Tag Distribution')"
   ]
  },
  {
   "cell_type": "code",
   "execution_count": 14,
   "metadata": {},
   "outputs": [],
   "source": [
    "movie_path = 'movies/racism/12 Years a Slave_conv.csv'"
   ]
  },
  {
   "cell_type": "code",
   "execution_count": 15,
   "metadata": {},
   "outputs": [],
   "source": [
    "def annotate_single_movie(movie_df):\n",
    "    utterances = movie_df.dialog.values\n",
    "    predictions = []\n",
    "    batch = []\n",
    "    \n",
    "    for text in utterances:\n",
    "        # Dimension, 196609\n",
    "        layer = np.zeros(total_words,dtype=float)\n",
    "\n",
    "        for word in text.split(' '):\n",
    "            try:\n",
    "                layer[word2index[word.lower()]] += 1\n",
    "            except:\n",
    "                # print(word)\n",
    "                continue\n",
    "        batch.append(layer)\n",
    "        \n",
    "    texts = torch.FloatTensor(batch).to('cuda')\n",
    "    outputs = news_net(texts)\n",
    "    _, predicted = torch.max(outputs.data, 1)\n",
    "    predictions.extend([x.item() for x in predicted])\n",
    "\n",
    "    result = []\n",
    "    \n",
    "    for i, pred in enumerate(predictions):\n",
    "        result.append({'index': i, 'label_word_embedding_fox_news': categories[pred]})\n",
    "    \n",
    "    result_df = pd.DataFrame(result)\n",
    "    movie_df = movie_df.merge(result_df, right_index=True, left_index=True)\n",
    "    \n",
    "    del movie_df['Unnamed: 0']\n",
    "    del movie_df['index']\n",
    "    \n",
    "    return movie_df"
   ]
  },
  {
   "cell_type": "code",
   "execution_count": 16,
   "metadata": {},
   "outputs": [],
   "source": [
    "movie_df = pd.read_csv('movies/racism/12 Angry Men_conv.csv')"
   ]
  },
  {
   "cell_type": "code",
   "execution_count": 17,
   "metadata": {},
   "outputs": [
    {
     "data": {
      "text/html": [
       "<div>\n",
       "<style scoped>\n",
       "    .dataframe tbody tr th:only-of-type {\n",
       "        vertical-align: middle;\n",
       "    }\n",
       "\n",
       "    .dataframe tbody tr th {\n",
       "        vertical-align: top;\n",
       "    }\n",
       "\n",
       "    .dataframe thead th {\n",
       "        text-align: right;\n",
       "    }\n",
       "</style>\n",
       "<table border=\"1\" class=\"dataframe\">\n",
       "  <thead>\n",
       "    <tr style=\"text-align: right;\">\n",
       "      <th></th>\n",
       "      <th>Unnamed: 0</th>\n",
       "      <th>dialog</th>\n",
       "    </tr>\n",
       "  </thead>\n",
       "  <tbody>\n",
       "    <tr>\n",
       "      <th>0</th>\n",
       "      <td>0</td>\n",
       "      <td>Thank you very much, sir.</td>\n",
       "    </tr>\n",
       "    <tr>\n",
       "      <th>1</th>\n",
       "      <td>1</td>\n",
       "      <td>You did a wonderful job. Wonderful.</td>\n",
       "    </tr>\n",
       "    <tr>\n",
       "      <th>2</th>\n",
       "      <td>2</td>\n",
       "      <td>Shh. Shh.</td>\n",
       "    </tr>\n",
       "    <tr>\n",
       "      <th>3</th>\n",
       "      <td>3</td>\n",
       "      <td>We did it, Pete. We did it.</td>\n",
       "    </tr>\n",
       "    <tr>\n",
       "      <th>4</th>\n",
       "      <td>4</td>\n",
       "      <td>For a moment, we had our doubts.</td>\n",
       "    </tr>\n",
       "  </tbody>\n",
       "</table>\n",
       "</div>"
      ],
      "text/plain": [
       "   Unnamed: 0                               dialog\n",
       "0           0            Thank you very much, sir.\n",
       "1           1  You did a wonderful job. Wonderful.\n",
       "2           2                            Shh. Shh.\n",
       "3           3          We did it, Pete. We did it.\n",
       "4           4     For a moment, we had our doubts."
      ]
     },
     "execution_count": 17,
     "metadata": {},
     "output_type": "execute_result"
    }
   ],
   "source": [
    "movie_df.head()"
   ]
  },
  {
   "cell_type": "code",
   "execution_count": 18,
   "metadata": {},
   "outputs": [
    {
     "ename": "NameError",
     "evalue": "name 'total_words' is not defined",
     "output_type": "error",
     "traceback": [
      "\u001b[1;31m---------------------------------------------------------------------------\u001b[0m",
      "\u001b[1;31mNameError\u001b[0m                                 Traceback (most recent call last)",
      "\u001b[1;32m<ipython-input-18-119742250c3b>\u001b[0m in \u001b[0;36m<module>\u001b[1;34m\u001b[0m\n\u001b[1;32m----> 1\u001b[1;33m \u001b[0mannotate_single_movie\u001b[0m\u001b[1;33m(\u001b[0m\u001b[0mmovie_df\u001b[0m\u001b[1;33m)\u001b[0m\u001b[1;33m\u001b[0m\u001b[1;33m\u001b[0m\u001b[0m\n\u001b[0m",
      "\u001b[1;32m<ipython-input-15-71d29fdc0e59>\u001b[0m in \u001b[0;36mannotate_single_movie\u001b[1;34m(movie_df)\u001b[0m\n\u001b[0;32m      6\u001b[0m     \u001b[1;32mfor\u001b[0m \u001b[0mtext\u001b[0m \u001b[1;32min\u001b[0m \u001b[0mutterances\u001b[0m\u001b[1;33m:\u001b[0m\u001b[1;33m\u001b[0m\u001b[1;33m\u001b[0m\u001b[0m\n\u001b[0;32m      7\u001b[0m         \u001b[1;31m# Dimension, 196609\u001b[0m\u001b[1;33m\u001b[0m\u001b[1;33m\u001b[0m\u001b[1;33m\u001b[0m\u001b[0m\n\u001b[1;32m----> 8\u001b[1;33m         \u001b[0mlayer\u001b[0m \u001b[1;33m=\u001b[0m \u001b[0mnp\u001b[0m\u001b[1;33m.\u001b[0m\u001b[0mzeros\u001b[0m\u001b[1;33m(\u001b[0m\u001b[0mtotal_words\u001b[0m\u001b[1;33m,\u001b[0m\u001b[0mdtype\u001b[0m\u001b[1;33m=\u001b[0m\u001b[0mfloat\u001b[0m\u001b[1;33m)\u001b[0m\u001b[1;33m\u001b[0m\u001b[1;33m\u001b[0m\u001b[0m\n\u001b[0m\u001b[0;32m      9\u001b[0m \u001b[1;33m\u001b[0m\u001b[0m\n\u001b[0;32m     10\u001b[0m         \u001b[1;32mfor\u001b[0m \u001b[0mword\u001b[0m \u001b[1;32min\u001b[0m \u001b[0mtext\u001b[0m\u001b[1;33m.\u001b[0m\u001b[0msplit\u001b[0m\u001b[1;33m(\u001b[0m\u001b[1;34m' '\u001b[0m\u001b[1;33m)\u001b[0m\u001b[1;33m:\u001b[0m\u001b[1;33m\u001b[0m\u001b[1;33m\u001b[0m\u001b[0m\n",
      "\u001b[1;31mNameError\u001b[0m: name 'total_words' is not defined"
     ]
    }
   ],
   "source": [
    "annotate_single_movie(movie_df)"
   ]
  },
  {
   "cell_type": "code",
   "execution_count": 19,
   "metadata": {},
   "outputs": [],
   "source": [
    "def annotate_movies(movie_metadata_df, save_path):\n",
    "    \n",
    "    pathes = movie_metadata_df.path.values\n",
    "    tags = movie_metadata_df.tag.values\n",
    "    movie_names = movie_metadata_df.movie_name.values\n",
    "    \n",
    "    for i in range(0, movie_metadata_df.shape[0]):\n",
    "        path = pathes[i]\n",
    "        tag = tags[i]\n",
    "        movie_name = movie_names[i]\n",
    "        print(path, tag, movie_name)\n",
    "        movie_df = pd.read_csv(path)\n",
    "        movie_df = annotate_single_movie(movie_df)\n",
    "        movie_df.to_csv(save_path + '//' + tag + '//' + movie_name + '.csv')\n",
    "        \n",
    "    return True"
   ]
  },
  {
   "cell_type": "code",
   "execution_count": 20,
   "metadata": {},
   "outputs": [],
   "source": [
    "save_path = 'movies_annotated'"
   ]
  },
  {
   "cell_type": "code",
   "execution_count": 104,
   "metadata": {},
   "outputs": [
    {
     "name": "stdout",
     "output_type": "stream",
     "text": [
      "movies/racism//12 Angry Men_conv.csv racism 12 Angry Men\n",
      "movies/racism//12 Years a Slave_conv.csv racism 12 Years a Slave\n",
      "movies/racism//42_conv.csv racism 42\n",
      "movies/racism//A Bronx Tale_conv.csv racism A Bronx Tale\n",
      "movies/racism//A Time to Kill_conv.csv racism A Time to Kill\n",
      "movies/racism//AI Artificial Intelligence_conv.csv racism AI Artificial Intelligence\n",
      "movies/racism//American History X_conv.csv racism American History X\n",
      "movies/racism//Amistad_conv.csv racism Amistad\n",
      "movies/racism//Angel Heart_conv.csv racism Angel Heart\n",
      "movies/racism//Antebellum_conv.csv racism Antebellum\n",
      "movies/racism//Apocalypse Now_conv.csv racism Apocalypse Now\n",
      "movies/racism//Bad Boys II_conv.csv racism Bad Boys II\n",
      "movies/racism//Bend It Like Beckham_conv.csv racism Bend It Like Beckham\n",
      "movies/racism//Blood Father_conv.csv racism Blood Father\n",
      "movies/racism//Bone Tomahawk_conv.csv racism Bone Tomahawk\n",
      "movies/racism//Boyz n the Hood_conv.csv racism Boyz n the Hood\n",
      "movies/racism//Bright_conv.csv racism Bright\n",
      "movies/racism//Caged_conv.csv racism Caged\n",
      "movies/racism//Children of Men_conv.csv racism Children of Men\n",
      "movies/racism//Chinatown_conv.csv racism Chinatown\n",
      "movies/racism//Crash_conv.csv racism Crash\n",
      "movies/racism//Cruel Intentions_conv.csv racism Cruel Intentions\n",
      "movies/racism//Django Unchained_conv.csv racism Django Unchained\n",
      "movies/racism//Do the Right Thing_conv.csv racism Do the Right Thing\n"
     ]
    },
    {
     "ename": "RuntimeError",
     "evalue": "mat1 dim 1 must match mat2 dim 0",
     "output_type": "error",
     "traceback": [
      "\u001b[1;31m---------------------------------------------------------------------------\u001b[0m",
      "\u001b[1;31mRuntimeError\u001b[0m                              Traceback (most recent call last)",
      "\u001b[1;32m<ipython-input-104-629eb8541c08>\u001b[0m in \u001b[0;36m<module>\u001b[1;34m\u001b[0m\n\u001b[1;32m----> 1\u001b[1;33m \u001b[0mannotate_movies\u001b[0m\u001b[1;33m(\u001b[0m\u001b[0mmovie_metadata_df\u001b[0m\u001b[1;33m,\u001b[0m \u001b[0msave_path\u001b[0m\u001b[1;33m)\u001b[0m\u001b[1;33m\u001b[0m\u001b[1;33m\u001b[0m\u001b[0m\n\u001b[0m",
      "\u001b[1;32m<ipython-input-102-fd2ccca193ba>\u001b[0m in \u001b[0;36mannotate_movies\u001b[1;34m(movie_metadata_df, save_path)\u001b[0m\n\u001b[0;32m     11\u001b[0m         \u001b[0mprint\u001b[0m\u001b[1;33m(\u001b[0m\u001b[0mpath\u001b[0m\u001b[1;33m,\u001b[0m \u001b[0mtag\u001b[0m\u001b[1;33m,\u001b[0m \u001b[0mmovie_name\u001b[0m\u001b[1;33m)\u001b[0m\u001b[1;33m\u001b[0m\u001b[1;33m\u001b[0m\u001b[0m\n\u001b[0;32m     12\u001b[0m         \u001b[0mmovie_df\u001b[0m \u001b[1;33m=\u001b[0m \u001b[0mpd\u001b[0m\u001b[1;33m.\u001b[0m\u001b[0mread_csv\u001b[0m\u001b[1;33m(\u001b[0m\u001b[0mpath\u001b[0m\u001b[1;33m)\u001b[0m\u001b[1;33m\u001b[0m\u001b[1;33m\u001b[0m\u001b[0m\n\u001b[1;32m---> 13\u001b[1;33m         \u001b[0mmovie_df\u001b[0m \u001b[1;33m=\u001b[0m \u001b[0mannotate_single_movie\u001b[0m\u001b[1;33m(\u001b[0m\u001b[0mmovie_df\u001b[0m\u001b[1;33m)\u001b[0m\u001b[1;33m\u001b[0m\u001b[1;33m\u001b[0m\u001b[0m\n\u001b[0m\u001b[0;32m     14\u001b[0m         \u001b[0mmovie_df\u001b[0m\u001b[1;33m.\u001b[0m\u001b[0mto_csv\u001b[0m\u001b[1;33m(\u001b[0m\u001b[0msave_path\u001b[0m \u001b[1;33m+\u001b[0m \u001b[1;34m'//'\u001b[0m \u001b[1;33m+\u001b[0m \u001b[0mtag\u001b[0m \u001b[1;33m+\u001b[0m \u001b[1;34m'//'\u001b[0m \u001b[1;33m+\u001b[0m \u001b[0mmovie_name\u001b[0m \u001b[1;33m+\u001b[0m \u001b[1;34m'.csv'\u001b[0m\u001b[1;33m)\u001b[0m\u001b[1;33m\u001b[0m\u001b[1;33m\u001b[0m\u001b[0m\n\u001b[0;32m     15\u001b[0m \u001b[1;33m\u001b[0m\u001b[0m\n",
      "\u001b[1;32m<ipython-input-95-71d29fdc0e59>\u001b[0m in \u001b[0;36mannotate_single_movie\u001b[1;34m(movie_df)\u001b[0m\n\u001b[0;32m     17\u001b[0m \u001b[1;33m\u001b[0m\u001b[0m\n\u001b[0;32m     18\u001b[0m     \u001b[0mtexts\u001b[0m \u001b[1;33m=\u001b[0m \u001b[0mtorch\u001b[0m\u001b[1;33m.\u001b[0m\u001b[0mFloatTensor\u001b[0m\u001b[1;33m(\u001b[0m\u001b[0mbatch\u001b[0m\u001b[1;33m)\u001b[0m\u001b[1;33m.\u001b[0m\u001b[0mto\u001b[0m\u001b[1;33m(\u001b[0m\u001b[1;34m'cuda'\u001b[0m\u001b[1;33m)\u001b[0m\u001b[1;33m\u001b[0m\u001b[1;33m\u001b[0m\u001b[0m\n\u001b[1;32m---> 19\u001b[1;33m     \u001b[0moutputs\u001b[0m \u001b[1;33m=\u001b[0m \u001b[0mnews_net\u001b[0m\u001b[1;33m(\u001b[0m\u001b[0mtexts\u001b[0m\u001b[1;33m)\u001b[0m\u001b[1;33m\u001b[0m\u001b[1;33m\u001b[0m\u001b[0m\n\u001b[0m\u001b[0;32m     20\u001b[0m     \u001b[0m_\u001b[0m\u001b[1;33m,\u001b[0m \u001b[0mpredicted\u001b[0m \u001b[1;33m=\u001b[0m \u001b[0mtorch\u001b[0m\u001b[1;33m.\u001b[0m\u001b[0mmax\u001b[0m\u001b[1;33m(\u001b[0m\u001b[0moutputs\u001b[0m\u001b[1;33m.\u001b[0m\u001b[0mdata\u001b[0m\u001b[1;33m,\u001b[0m \u001b[1;36m1\u001b[0m\u001b[1;33m)\u001b[0m\u001b[1;33m\u001b[0m\u001b[1;33m\u001b[0m\u001b[0m\n\u001b[0;32m     21\u001b[0m     \u001b[0mpredictions\u001b[0m\u001b[1;33m.\u001b[0m\u001b[0mextend\u001b[0m\u001b[1;33m(\u001b[0m\u001b[1;33m[\u001b[0m\u001b[0mx\u001b[0m\u001b[1;33m.\u001b[0m\u001b[0mitem\u001b[0m\u001b[1;33m(\u001b[0m\u001b[1;33m)\u001b[0m \u001b[1;32mfor\u001b[0m \u001b[0mx\u001b[0m \u001b[1;32min\u001b[0m \u001b[0mpredicted\u001b[0m\u001b[1;33m]\u001b[0m\u001b[1;33m)\u001b[0m\u001b[1;33m\u001b[0m\u001b[1;33m\u001b[0m\u001b[0m\n",
      "\u001b[1;32m~\\anaconda3\\envs\\NNLP-Course\\lib\\site-packages\\torch\\nn\\modules\\module.py\u001b[0m in \u001b[0;36m_call_impl\u001b[1;34m(self, *input, **kwargs)\u001b[0m\n\u001b[0;32m    725\u001b[0m             \u001b[0mresult\u001b[0m \u001b[1;33m=\u001b[0m \u001b[0mself\u001b[0m\u001b[1;33m.\u001b[0m\u001b[0m_slow_forward\u001b[0m\u001b[1;33m(\u001b[0m\u001b[1;33m*\u001b[0m\u001b[0minput\u001b[0m\u001b[1;33m,\u001b[0m \u001b[1;33m**\u001b[0m\u001b[0mkwargs\u001b[0m\u001b[1;33m)\u001b[0m\u001b[1;33m\u001b[0m\u001b[1;33m\u001b[0m\u001b[0m\n\u001b[0;32m    726\u001b[0m         \u001b[1;32melse\u001b[0m\u001b[1;33m:\u001b[0m\u001b[1;33m\u001b[0m\u001b[1;33m\u001b[0m\u001b[0m\n\u001b[1;32m--> 727\u001b[1;33m             \u001b[0mresult\u001b[0m \u001b[1;33m=\u001b[0m \u001b[0mself\u001b[0m\u001b[1;33m.\u001b[0m\u001b[0mforward\u001b[0m\u001b[1;33m(\u001b[0m\u001b[1;33m*\u001b[0m\u001b[0minput\u001b[0m\u001b[1;33m,\u001b[0m \u001b[1;33m**\u001b[0m\u001b[0mkwargs\u001b[0m\u001b[1;33m)\u001b[0m\u001b[1;33m\u001b[0m\u001b[1;33m\u001b[0m\u001b[0m\n\u001b[0m\u001b[0;32m    728\u001b[0m         for hook in itertools.chain(\n\u001b[0;32m    729\u001b[0m                 \u001b[0m_global_forward_hooks\u001b[0m\u001b[1;33m.\u001b[0m\u001b[0mvalues\u001b[0m\u001b[1;33m(\u001b[0m\u001b[1;33m)\u001b[0m\u001b[1;33m,\u001b[0m\u001b[1;33m\u001b[0m\u001b[1;33m\u001b[0m\u001b[0m\n",
      "\u001b[1;32m<ipython-input-20-f5c0dc0be519>\u001b[0m in \u001b[0;36mforward\u001b[1;34m(self, x)\u001b[0m\n\u001b[0;32m      9\u001b[0m     \u001b[1;31m# accept input and return an output\u001b[0m\u001b[1;33m\u001b[0m\u001b[1;33m\u001b[0m\u001b[1;33m\u001b[0m\u001b[0m\n\u001b[0;32m     10\u001b[0m      \u001b[1;32mdef\u001b[0m \u001b[0mforward\u001b[0m\u001b[1;33m(\u001b[0m\u001b[0mself\u001b[0m\u001b[1;33m,\u001b[0m \u001b[0mx\u001b[0m\u001b[1;33m)\u001b[0m\u001b[1;33m:\u001b[0m\u001b[1;33m\u001b[0m\u001b[1;33m\u001b[0m\u001b[0m\n\u001b[1;32m---> 11\u001b[1;33m         \u001b[0mout\u001b[0m \u001b[1;33m=\u001b[0m \u001b[0mself\u001b[0m\u001b[1;33m.\u001b[0m\u001b[0mlayer_1\u001b[0m\u001b[1;33m(\u001b[0m\u001b[0mx\u001b[0m\u001b[1;33m)\u001b[0m\u001b[1;33m\u001b[0m\u001b[1;33m\u001b[0m\u001b[0m\n\u001b[0m\u001b[0;32m     12\u001b[0m         \u001b[0mout\u001b[0m \u001b[1;33m=\u001b[0m \u001b[0mself\u001b[0m\u001b[1;33m.\u001b[0m\u001b[0mrelu\u001b[0m\u001b[1;33m(\u001b[0m\u001b[0mout\u001b[0m\u001b[1;33m)\u001b[0m\u001b[1;33m\u001b[0m\u001b[1;33m\u001b[0m\u001b[0m\n\u001b[0;32m     13\u001b[0m         \u001b[0mout\u001b[0m \u001b[1;33m=\u001b[0m \u001b[0mself\u001b[0m\u001b[1;33m.\u001b[0m\u001b[0mlayer_2\u001b[0m\u001b[1;33m(\u001b[0m\u001b[0mout\u001b[0m\u001b[1;33m)\u001b[0m\u001b[1;33m\u001b[0m\u001b[1;33m\u001b[0m\u001b[0m\n",
      "\u001b[1;32m~\\anaconda3\\envs\\NNLP-Course\\lib\\site-packages\\torch\\nn\\modules\\module.py\u001b[0m in \u001b[0;36m_call_impl\u001b[1;34m(self, *input, **kwargs)\u001b[0m\n\u001b[0;32m    725\u001b[0m             \u001b[0mresult\u001b[0m \u001b[1;33m=\u001b[0m \u001b[0mself\u001b[0m\u001b[1;33m.\u001b[0m\u001b[0m_slow_forward\u001b[0m\u001b[1;33m(\u001b[0m\u001b[1;33m*\u001b[0m\u001b[0minput\u001b[0m\u001b[1;33m,\u001b[0m \u001b[1;33m**\u001b[0m\u001b[0mkwargs\u001b[0m\u001b[1;33m)\u001b[0m\u001b[1;33m\u001b[0m\u001b[1;33m\u001b[0m\u001b[0m\n\u001b[0;32m    726\u001b[0m         \u001b[1;32melse\u001b[0m\u001b[1;33m:\u001b[0m\u001b[1;33m\u001b[0m\u001b[1;33m\u001b[0m\u001b[0m\n\u001b[1;32m--> 727\u001b[1;33m             \u001b[0mresult\u001b[0m \u001b[1;33m=\u001b[0m \u001b[0mself\u001b[0m\u001b[1;33m.\u001b[0m\u001b[0mforward\u001b[0m\u001b[1;33m(\u001b[0m\u001b[1;33m*\u001b[0m\u001b[0minput\u001b[0m\u001b[1;33m,\u001b[0m \u001b[1;33m**\u001b[0m\u001b[0mkwargs\u001b[0m\u001b[1;33m)\u001b[0m\u001b[1;33m\u001b[0m\u001b[1;33m\u001b[0m\u001b[0m\n\u001b[0m\u001b[0;32m    728\u001b[0m         for hook in itertools.chain(\n\u001b[0;32m    729\u001b[0m                 \u001b[0m_global_forward_hooks\u001b[0m\u001b[1;33m.\u001b[0m\u001b[0mvalues\u001b[0m\u001b[1;33m(\u001b[0m\u001b[1;33m)\u001b[0m\u001b[1;33m,\u001b[0m\u001b[1;33m\u001b[0m\u001b[1;33m\u001b[0m\u001b[0m\n",
      "\u001b[1;32m~\\anaconda3\\envs\\NNLP-Course\\lib\\site-packages\\torch\\nn\\modules\\linear.py\u001b[0m in \u001b[0;36mforward\u001b[1;34m(self, input)\u001b[0m\n\u001b[0;32m     91\u001b[0m \u001b[1;33m\u001b[0m\u001b[0m\n\u001b[0;32m     92\u001b[0m     \u001b[1;32mdef\u001b[0m \u001b[0mforward\u001b[0m\u001b[1;33m(\u001b[0m\u001b[0mself\u001b[0m\u001b[1;33m,\u001b[0m \u001b[0minput\u001b[0m\u001b[1;33m:\u001b[0m \u001b[0mTensor\u001b[0m\u001b[1;33m)\u001b[0m \u001b[1;33m->\u001b[0m \u001b[0mTensor\u001b[0m\u001b[1;33m:\u001b[0m\u001b[1;33m\u001b[0m\u001b[1;33m\u001b[0m\u001b[0m\n\u001b[1;32m---> 93\u001b[1;33m         \u001b[1;32mreturn\u001b[0m \u001b[0mF\u001b[0m\u001b[1;33m.\u001b[0m\u001b[0mlinear\u001b[0m\u001b[1;33m(\u001b[0m\u001b[0minput\u001b[0m\u001b[1;33m,\u001b[0m \u001b[0mself\u001b[0m\u001b[1;33m.\u001b[0m\u001b[0mweight\u001b[0m\u001b[1;33m,\u001b[0m \u001b[0mself\u001b[0m\u001b[1;33m.\u001b[0m\u001b[0mbias\u001b[0m\u001b[1;33m)\u001b[0m\u001b[1;33m\u001b[0m\u001b[1;33m\u001b[0m\u001b[0m\n\u001b[0m\u001b[0;32m     94\u001b[0m \u001b[1;33m\u001b[0m\u001b[0m\n\u001b[0;32m     95\u001b[0m     \u001b[1;32mdef\u001b[0m \u001b[0mextra_repr\u001b[0m\u001b[1;33m(\u001b[0m\u001b[0mself\u001b[0m\u001b[1;33m)\u001b[0m \u001b[1;33m->\u001b[0m \u001b[0mstr\u001b[0m\u001b[1;33m:\u001b[0m\u001b[1;33m\u001b[0m\u001b[1;33m\u001b[0m\u001b[0m\n",
      "\u001b[1;32m~\\anaconda3\\envs\\NNLP-Course\\lib\\site-packages\\torch\\nn\\functional.py\u001b[0m in \u001b[0;36mlinear\u001b[1;34m(input, weight, bias)\u001b[0m\n\u001b[0;32m   1690\u001b[0m         \u001b[0mret\u001b[0m \u001b[1;33m=\u001b[0m \u001b[0mtorch\u001b[0m\u001b[1;33m.\u001b[0m\u001b[0maddmm\u001b[0m\u001b[1;33m(\u001b[0m\u001b[0mbias\u001b[0m\u001b[1;33m,\u001b[0m \u001b[0minput\u001b[0m\u001b[1;33m,\u001b[0m \u001b[0mweight\u001b[0m\u001b[1;33m.\u001b[0m\u001b[0mt\u001b[0m\u001b[1;33m(\u001b[0m\u001b[1;33m)\u001b[0m\u001b[1;33m)\u001b[0m\u001b[1;33m\u001b[0m\u001b[1;33m\u001b[0m\u001b[0m\n\u001b[0;32m   1691\u001b[0m     \u001b[1;32melse\u001b[0m\u001b[1;33m:\u001b[0m\u001b[1;33m\u001b[0m\u001b[1;33m\u001b[0m\u001b[0m\n\u001b[1;32m-> 1692\u001b[1;33m         \u001b[0moutput\u001b[0m \u001b[1;33m=\u001b[0m \u001b[0minput\u001b[0m\u001b[1;33m.\u001b[0m\u001b[0mmatmul\u001b[0m\u001b[1;33m(\u001b[0m\u001b[0mweight\u001b[0m\u001b[1;33m.\u001b[0m\u001b[0mt\u001b[0m\u001b[1;33m(\u001b[0m\u001b[1;33m)\u001b[0m\u001b[1;33m)\u001b[0m\u001b[1;33m\u001b[0m\u001b[1;33m\u001b[0m\u001b[0m\n\u001b[0m\u001b[0;32m   1693\u001b[0m         \u001b[1;32mif\u001b[0m \u001b[0mbias\u001b[0m \u001b[1;32mis\u001b[0m \u001b[1;32mnot\u001b[0m \u001b[1;32mNone\u001b[0m\u001b[1;33m:\u001b[0m\u001b[1;33m\u001b[0m\u001b[1;33m\u001b[0m\u001b[0m\n\u001b[0;32m   1694\u001b[0m             \u001b[0moutput\u001b[0m \u001b[1;33m+=\u001b[0m \u001b[0mbias\u001b[0m\u001b[1;33m\u001b[0m\u001b[1;33m\u001b[0m\u001b[0m\n",
      "\u001b[1;31mRuntimeError\u001b[0m: mat1 dim 1 must match mat2 dim 0"
     ]
    }
   ],
   "source": [
    "annotate_movies(movie_metadata_df, save_path)"
   ]
  },
  {
   "cell_type": "code",
   "execution_count": null,
   "metadata": {},
   "outputs": [],
   "source": []
  }
 ],
 "metadata": {
  "kernelspec": {
   "display_name": "Python 3",
   "language": "python",
   "name": "python3"
  },
  "language_info": {
   "codemirror_mode": {
    "name": "ipython",
    "version": 3
   },
   "file_extension": ".py",
   "mimetype": "text/x-python",
   "name": "python",
   "nbconvert_exporter": "python",
   "pygments_lexer": "ipython3",
   "version": "3.7.9"
  }
 },
 "nbformat": 4,
 "nbformat_minor": 4
}
