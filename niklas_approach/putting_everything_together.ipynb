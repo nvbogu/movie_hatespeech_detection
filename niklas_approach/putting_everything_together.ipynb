{
 "cells": [
  {
   "cell_type": "code",
   "execution_count": 1,
   "metadata": {},
   "outputs": [],
   "source": [
    "import pandas as pd"
   ]
  },
  {
   "cell_type": "markdown",
   "metadata": {},
   "source": [
    "# Loading Dataset"
   ]
  },
  {
   "cell_type": "code",
   "execution_count": 2,
   "metadata": {},
   "outputs": [],
   "source": [
    "def load_dataset(path):\n",
    "    df = pd.read_csv(path, index_col=0)\n",
    "    return df"
   ]
  },
  {
   "cell_type": "code",
   "execution_count": 3,
   "metadata": {},
   "outputs": [
    {
     "data": {
      "text/html": [
       "<div>\n",
       "<style scoped>\n",
       "    .dataframe tbody tr th:only-of-type {\n",
       "        vertical-align: middle;\n",
       "    }\n",
       "\n",
       "    .dataframe tbody tr th {\n",
       "        vertical-align: top;\n",
       "    }\n",
       "\n",
       "    .dataframe thead th {\n",
       "        text-align: right;\n",
       "    }\n",
       "</style>\n",
       "<table border=\"1\" class=\"dataframe\">\n",
       "  <thead>\n",
       "    <tr style=\"text-align: right;\">\n",
       "      <th></th>\n",
       "      <th>movie_name</th>\n",
       "      <th>index</th>\n",
       "      <th>utterance</th>\n",
       "      <th>count_utterances</th>\n",
       "      <th>tag</th>\n",
       "    </tr>\n",
       "  </thead>\n",
       "  <tbody>\n",
       "    <tr>\n",
       "      <th>0</th>\n",
       "      <td>12 Angry Men</td>\n",
       "      <td>0</td>\n",
       "      <td>Thank you very much, sir.</td>\n",
       "      <td>2065</td>\n",
       "      <td>racism</td>\n",
       "    </tr>\n",
       "    <tr>\n",
       "      <th>1</th>\n",
       "      <td>12 Angry Men</td>\n",
       "      <td>1</td>\n",
       "      <td>You did a wonderful job. Wonderful.</td>\n",
       "      <td>2065</td>\n",
       "      <td>racism</td>\n",
       "    </tr>\n",
       "    <tr>\n",
       "      <th>2</th>\n",
       "      <td>12 Angry Men</td>\n",
       "      <td>2</td>\n",
       "      <td>Shh. Shh.</td>\n",
       "      <td>2065</td>\n",
       "      <td>racism</td>\n",
       "    </tr>\n",
       "    <tr>\n",
       "      <th>3</th>\n",
       "      <td>12 Angry Men</td>\n",
       "      <td>3</td>\n",
       "      <td>We did it, Pete. We did it.</td>\n",
       "      <td>2065</td>\n",
       "      <td>racism</td>\n",
       "    </tr>\n",
       "    <tr>\n",
       "      <th>4</th>\n",
       "      <td>12 Angry Men</td>\n",
       "      <td>4</td>\n",
       "      <td>For a moment, we had our doubts.</td>\n",
       "      <td>2065</td>\n",
       "      <td>racism</td>\n",
       "    </tr>\n",
       "  </tbody>\n",
       "</table>\n",
       "</div>"
      ],
      "text/plain": [
       "     movie_name  index                            utterance  count_utterances  \\\n",
       "0  12 Angry Men      0            Thank you very much, sir.              2065   \n",
       "1  12 Angry Men      1  You did a wonderful job. Wonderful.              2065   \n",
       "2  12 Angry Men      2                            Shh. Shh.              2065   \n",
       "3  12 Angry Men      3          We did it, Pete. We did it.              2065   \n",
       "4  12 Angry Men      4     For a moment, we had our doubts.              2065   \n",
       "\n",
       "      tag  \n",
       "0  racism  \n",
       "1  racism  \n",
       "2  racism  \n",
       "3  racism  \n",
       "4  racism  "
      ]
     },
     "execution_count": 3,
     "metadata": {},
     "output_type": "execute_result"
    }
   ],
   "source": [
    "movies_df = load_dataset('data/all_movies.csv')\n",
    "movies_df.head()"
   ]
  },
  {
   "cell_type": "code",
   "execution_count": 4,
   "metadata": {},
   "outputs": [
    {
     "data": {
      "text/html": [
       "<div>\n",
       "<style scoped>\n",
       "    .dataframe tbody tr th:only-of-type {\n",
       "        vertical-align: middle;\n",
       "    }\n",
       "\n",
       "    .dataframe tbody tr th {\n",
       "        vertical-align: top;\n",
       "    }\n",
       "\n",
       "    .dataframe thead th {\n",
       "        text-align: right;\n",
       "    }\n",
       "</style>\n",
       "<table border=\"1\" class=\"dataframe\">\n",
       "  <thead>\n",
       "    <tr style=\"text-align: right;\">\n",
       "      <th></th>\n",
       "      <th>movie_name</th>\n",
       "      <th>index</th>\n",
       "      <th>label_fox_news</th>\n",
       "    </tr>\n",
       "  </thead>\n",
       "  <tbody>\n",
       "    <tr>\n",
       "      <th>0</th>\n",
       "      <td>12 Angry Men</td>\n",
       "      <td>0</td>\n",
       "      <td>not hate speech</td>\n",
       "    </tr>\n",
       "    <tr>\n",
       "      <th>1</th>\n",
       "      <td>12 Angry Men</td>\n",
       "      <td>1</td>\n",
       "      <td>not hate speech</td>\n",
       "    </tr>\n",
       "    <tr>\n",
       "      <th>2</th>\n",
       "      <td>12 Angry Men</td>\n",
       "      <td>2</td>\n",
       "      <td>not hate speech</td>\n",
       "    </tr>\n",
       "    <tr>\n",
       "      <th>3</th>\n",
       "      <td>12 Angry Men</td>\n",
       "      <td>3</td>\n",
       "      <td>not hate speech</td>\n",
       "    </tr>\n",
       "    <tr>\n",
       "      <th>4</th>\n",
       "      <td>12 Angry Men</td>\n",
       "      <td>4</td>\n",
       "      <td>not hate speech</td>\n",
       "    </tr>\n",
       "  </tbody>\n",
       "</table>\n",
       "</div>"
      ],
      "text/plain": [
       "     movie_name  index   label_fox_news\n",
       "0  12 Angry Men      0  not hate speech\n",
       "1  12 Angry Men      1  not hate speech\n",
       "2  12 Angry Men      2  not hate speech\n",
       "3  12 Angry Men      3  not hate speech\n",
       "4  12 Angry Men      4  not hate speech"
      ]
     },
     "execution_count": 4,
     "metadata": {},
     "output_type": "execute_result"
    }
   ],
   "source": [
    "annotations_word_embedding_fox_news_df = load_dataset('annotations/annotations_word_embedding_fox_news.csv')\n",
    "annotations_word_embedding_fox_news_df.rename(columns={'label': 'label_fox_news'}, inplace=True)\n",
    "annotations_word_embedding_fox_news_df.head()"
   ]
  },
  {
   "cell_type": "markdown",
   "metadata": {},
   "source": [
    "# Joining Datasets"
   ]
  },
  {
   "cell_type": "code",
   "execution_count": 5,
   "metadata": {},
   "outputs": [],
   "source": [
    "df_results = movies_df.merge(annotations_word_embedding_fox_news_df, on=['index', 'movie_name'])"
   ]
  },
  {
   "cell_type": "code",
   "execution_count": 6,
   "metadata": {},
   "outputs": [
    {
     "data": {
      "text/html": [
       "<div>\n",
       "<style scoped>\n",
       "    .dataframe tbody tr th:only-of-type {\n",
       "        vertical-align: middle;\n",
       "    }\n",
       "\n",
       "    .dataframe tbody tr th {\n",
       "        vertical-align: top;\n",
       "    }\n",
       "\n",
       "    .dataframe thead th {\n",
       "        text-align: right;\n",
       "    }\n",
       "</style>\n",
       "<table border=\"1\" class=\"dataframe\">\n",
       "  <thead>\n",
       "    <tr style=\"text-align: right;\">\n",
       "      <th></th>\n",
       "      <th>movie_name</th>\n",
       "      <th>index</th>\n",
       "      <th>utterance</th>\n",
       "      <th>count_utterances</th>\n",
       "      <th>tag</th>\n",
       "      <th>label_fox_news</th>\n",
       "    </tr>\n",
       "  </thead>\n",
       "  <tbody>\n",
       "    <tr>\n",
       "      <th>0</th>\n",
       "      <td>12 Angry Men</td>\n",
       "      <td>0</td>\n",
       "      <td>Thank you very much, sir.</td>\n",
       "      <td>2065</td>\n",
       "      <td>racism</td>\n",
       "      <td>not hate speech</td>\n",
       "    </tr>\n",
       "    <tr>\n",
       "      <th>1</th>\n",
       "      <td>12 Angry Men</td>\n",
       "      <td>1</td>\n",
       "      <td>You did a wonderful job. Wonderful.</td>\n",
       "      <td>2065</td>\n",
       "      <td>racism</td>\n",
       "      <td>not hate speech</td>\n",
       "    </tr>\n",
       "    <tr>\n",
       "      <th>2</th>\n",
       "      <td>12 Angry Men</td>\n",
       "      <td>2</td>\n",
       "      <td>Shh. Shh.</td>\n",
       "      <td>2065</td>\n",
       "      <td>racism</td>\n",
       "      <td>not hate speech</td>\n",
       "    </tr>\n",
       "    <tr>\n",
       "      <th>3</th>\n",
       "      <td>12 Angry Men</td>\n",
       "      <td>3</td>\n",
       "      <td>We did it, Pete. We did it.</td>\n",
       "      <td>2065</td>\n",
       "      <td>racism</td>\n",
       "      <td>not hate speech</td>\n",
       "    </tr>\n",
       "    <tr>\n",
       "      <th>4</th>\n",
       "      <td>12 Angry Men</td>\n",
       "      <td>4</td>\n",
       "      <td>For a moment, we had our doubts.</td>\n",
       "      <td>2065</td>\n",
       "      <td>racism</td>\n",
       "      <td>not hate speech</td>\n",
       "    </tr>\n",
       "  </tbody>\n",
       "</table>\n",
       "</div>"
      ],
      "text/plain": [
       "     movie_name  index                            utterance  count_utterances  \\\n",
       "0  12 Angry Men      0            Thank you very much, sir.              2065   \n",
       "1  12 Angry Men      1  You did a wonderful job. Wonderful.              2065   \n",
       "2  12 Angry Men      2                            Shh. Shh.              2065   \n",
       "3  12 Angry Men      3          We did it, Pete. We did it.              2065   \n",
       "4  12 Angry Men      4     For a moment, we had our doubts.              2065   \n",
       "\n",
       "      tag   label_fox_news  \n",
       "0  racism  not hate speech  \n",
       "1  racism  not hate speech  \n",
       "2  racism  not hate speech  \n",
       "3  racism  not hate speech  \n",
       "4  racism  not hate speech  "
      ]
     },
     "execution_count": 6,
     "metadata": {},
     "output_type": "execute_result"
    }
   ],
   "source": [
    "df_results.head()"
   ]
  },
  {
   "cell_type": "markdown",
   "metadata": {},
   "source": [
    "## Analyse Results"
   ]
  },
  {
   "cell_type": "code",
   "execution_count": 25,
   "metadata": {},
   "outputs": [],
   "source": [
    "def plot_label_by_tag_distribution(df, title):\n",
    "    df = df_results.groupby('tag').label_fox_news.value_counts().to_frame('count').reset_index()\n",
    "    df_pivot = pd.pivot_table(\n",
    "        df,\n",
    "        values=\"count\",\n",
    "        index=\"tag\",\n",
    "        columns=\"label_fox_news\"\n",
    "    )\n",
    "    ax = df_pivot.plot(kind='bar', title=title)\n",
    "    return ax"
   ]
  },
  {
   "cell_type": "code",
   "execution_count": 29,
   "metadata": {},
   "outputs": [],
   "source": [
    "def plot_label_by_tag_distribution_percentage(df, title):\n",
    "    ax = df_results.groupby('tag').label_fox_news.value_counts(normalize=True).unstack().plot(kind='bar', stacked = True, title=title)\n",
    "    for p in ax.patches:\n",
    "        width = p.get_width()\n",
    "        height = p.get_height()\n",
    "        x, y = p.get_xy() \n",
    "        a = round(x + width/2, 2)\n",
    "        b = round(y + height*1.00, 2)\n",
    "        height = round(height, 2)\n",
    "        ax.annotate(f'{height}', (a, b), ha='center')\n",
    "    ax.legend(bbox_to_anchor=(1.5, 1))\n",
    "    return ax"
   ]
  },
  {
   "cell_type": "markdown",
   "metadata": {},
   "source": [
    "# Word embedding"
   ]
  },
  {
   "cell_type": "markdown",
   "metadata": {},
   "source": [
    "## Fox News"
   ]
  },
  {
   "cell_type": "code",
   "execution_count": 30,
   "metadata": {},
   "outputs": [
    {
     "data": {
      "text/plain": [
       "<AxesSubplot:title={'center':'Label by tag distribution'}, xlabel='tag'>"
      ]
     },
     "execution_count": 30,
     "metadata": {},
     "output_type": "execute_result"
    },
    {
     "data": {
      "image/png": "[encoded data removed]",
      "text/plain": [
       "<Figure size 432x288 with 1 Axes>"
      ]
     },
     "metadata": {
      "needs_background": "light"
     },
     "output_type": "display_data"
    }
   ],
   "source": [
    "plot_label_by_tag_distribution(df_results, title='Label by tag distribution')"
   ]
  },
  {
   "cell_type": "code",
   "execution_count": 31,
   "metadata": {},
   "outputs": [
    {
     "data": {
      "text/plain": [
       "<AxesSubplot:title={'center':'Label by tag distribution (Percentage)'}, xlabel='tag'>"
      ]
     },
     "execution_count": 31,
     "metadata": {},
     "output_type": "execute_result"
    },
    {
     "data": {
      "image/png": "[encoded data removed]",
      "text/plain": [
       "<Figure size 432x288 with 1 Axes>"
      ]
     },
     "metadata": {
      "needs_background": "light"
     },
     "output_type": "display_data"
    }
   ],
   "source": [
    "plot_label_by_tag_distribution_percentage(df_results, title='Label by tag distribution (Percentage)')"
   ]
  },
  {
   "cell_type": "markdown",
   "metadata": {},
   "source": [
    "## hate speech examples"
   ]
  },
  {
   "cell_type": "code",
   "execution_count": 20,
   "metadata": {},
   "outputs": [],
   "source": [
    "hatespeech_sentences = df_results[df_results.label_fox_news=='hate speech'].utterance.values"
   ]
  },
  {
   "cell_type": "code",
   "execution_count": 33,
   "metadata": {},
   "outputs": [
    {
     "name": "stdout",
     "output_type": "stream",
     "text": [
      "murder in the first degree.\n",
      "A premeditated murder is the most serious charge tried in our criminal courts.\n",
      "One man is dead.\n",
      "a reasonable doubt...\n",
      "then you must bring me a verdict of not guilty.\n",
      "Now if, however, there's no reasonable doubt...\n",
      "Oh, I thought we might want to vote by ballot.\n",
      "Yeah? I almost fell asleep.\n",
      "even when it's an openandshut case like this one.\n",
      " Mr. Foreman.\n",
      " Gee, I don't know.\n",
      "No real... dead spots.\n",
      "I tell you, we were lucky to get a murder case.\n",
      "Isn't that funny?\n",
      "If you had to sort out all that junk...\n",
      "Like that thing with the movies.\n",
      "You know what we're dealing with.\n",
      "Where do we sit here?\n",
      " I think it's reasonable to sit in order.\n",
      " Yeah. That's 12. We go around...\n",
      "I beg pardon?\n",
      "I thought he was really sharp, the way he handled all those points one by one.\n",
      "A lot of drive too, you know?\n",
      "Say, we'd like to get started.\n",
      " We'd like to get started.\n",
      "They let those kids run wild up there.\n",
      "Well, maybe it serves 'em right.\n",
      "The old man is inside.\n",
      "No. Baltimore.\n",
      "That's like being hit in the head with a crowbar once a day.\n",
      "Say, uh, we'd like to get started.\n",
      "Uh, we can, well, discuss it first and, uh, then vote on it.\n",
      "I think it's customary to take a preliminary vote.\n",
      "Yeah, let's  Let's vote. Who knows?\n",
      "Maybe we all can get outta here, huh?\n",
      "Of course you know that we have a firstdegree murder charge here...\n",
      "and if we vote the accused guilty...\n",
      " I think we know that.\n",
      "Okay. Then, uh, just remember that this has to be 12 to nothing either way.\n",
      "Okay, are we ready?\n"
     ]
    }
   ],
   "source": [
    "for i, utterance in enumerate(hatespeech_sentences):\n",
    "    if i == 40:\n",
    "        break\n",
    "    print(utterance)"
   ]
  },
  {
   "cell_type": "markdown",
   "metadata": {},
   "source": [
    "# Word embedding"
   ]
  },
  {
   "cell_type": "markdown",
   "metadata": {},
   "source": [
    "## Twitter"
   ]
  },
  {
   "cell_type": "code",
   "execution_count": null,
   "metadata": {},
   "outputs": [],
   "source": []
  }
 ],
 "metadata": {
  "kernelspec": {
   "display_name": "Python 3",
   "language": "python",
   "name": "python3"
  },
  "language_info": {
   "codemirror_mode": {
    "name": "ipython",
    "version": 3
   },
   "file_extension": ".py",
   "mimetype": "text/x-python",
   "name": "python",
   "nbconvert_exporter": "python",
   "pygments_lexer": "ipython3",
   "version": "3.7.9"
  }
 },
 "nbformat": 4,
 "nbformat_minor": 4
}
