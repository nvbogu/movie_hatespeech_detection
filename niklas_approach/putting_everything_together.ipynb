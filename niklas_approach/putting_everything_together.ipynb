{
 "cells": [
  {
   "cell_type": "code",
   "execution_count": 32,
   "metadata": {},
   "outputs": [],
   "source": [
    "import pandas as pd"
   ]
  },
  {
   "cell_type": "markdown",
   "metadata": {},
   "source": [
    "# Loading Dataset"
   ]
  },
  {
   "cell_type": "code",
   "execution_count": 33,
   "metadata": {},
   "outputs": [],
   "source": [
    "def load_dataset(path):\n",
    "    df = pd.read_csv(path, index_col=0)\n",
    "    df = delete_movies(movies_delete, df)\n",
    "    return df"
   ]
  },
  {
   "cell_type": "code",
   "execution_count": 34,
   "metadata": {},
   "outputs": [],
   "source": [
    "def delete_movies(lst, df):\n",
    "    indices = df[df['movie_name'].isin(lst)].index\n",
    "    df = df.drop(indices)\n",
    "    return df"
   ]
  },
  {
   "cell_type": "code",
   "execution_count": 35,
   "metadata": {},
   "outputs": [],
   "source": [
    "movies_delete = ['Guardians of the Galaxy Vol 2', 'Guardians of the Galaxy',\n",
    "       'Rocketman', 'The Invisible Man', '12 Years a Slave',\n",
    "       'Murder on the Orient Express', 'X-Men', 'Teen Wolf']"
   ]
  },
  {
   "cell_type": "code",
   "execution_count": 36,
   "metadata": {},
   "outputs": [
    {
     "data": {
      "text/html": [
       "<div>\n",
       "<style scoped>\n",
       "    .dataframe tbody tr th:only-of-type {\n",
       "        vertical-align: middle;\n",
       "    }\n",
       "\n",
       "    .dataframe tbody tr th {\n",
       "        vertical-align: top;\n",
       "    }\n",
       "\n",
       "    .dataframe thead th {\n",
       "        text-align: right;\n",
       "    }\n",
       "</style>\n",
       "<table border=\"1\" class=\"dataframe\">\n",
       "  <thead>\n",
       "    <tr style=\"text-align: right;\">\n",
       "      <th></th>\n",
       "      <th>movie_name</th>\n",
       "      <th>index</th>\n",
       "      <th>utterance</th>\n",
       "      <th>count_utterances</th>\n",
       "      <th>tag</th>\n",
       "    </tr>\n",
       "  </thead>\n",
       "  <tbody>\n",
       "    <tr>\n",
       "      <th>0</th>\n",
       "      <td>12 Angry Men</td>\n",
       "      <td>0</td>\n",
       "      <td>Thank you very much, sir.</td>\n",
       "      <td>2065</td>\n",
       "      <td>racism</td>\n",
       "    </tr>\n",
       "    <tr>\n",
       "      <th>1</th>\n",
       "      <td>12 Angry Men</td>\n",
       "      <td>1</td>\n",
       "      <td>You did a wonderful job. Wonderful.</td>\n",
       "      <td>2065</td>\n",
       "      <td>racism</td>\n",
       "    </tr>\n",
       "    <tr>\n",
       "      <th>2</th>\n",
       "      <td>12 Angry Men</td>\n",
       "      <td>2</td>\n",
       "      <td>Shh. Shh.</td>\n",
       "      <td>2065</td>\n",
       "      <td>racism</td>\n",
       "    </tr>\n",
       "    <tr>\n",
       "      <th>3</th>\n",
       "      <td>12 Angry Men</td>\n",
       "      <td>3</td>\n",
       "      <td>We did it, Pete. We did it.</td>\n",
       "      <td>2065</td>\n",
       "      <td>racism</td>\n",
       "    </tr>\n",
       "    <tr>\n",
       "      <th>4</th>\n",
       "      <td>12 Angry Men</td>\n",
       "      <td>4</td>\n",
       "      <td>For a moment, we had our doubts.</td>\n",
       "      <td>2065</td>\n",
       "      <td>racism</td>\n",
       "    </tr>\n",
       "  </tbody>\n",
       "</table>\n",
       "</div>"
      ],
      "text/plain": [
       "     movie_name  index                            utterance  count_utterances  \\\n",
       "0  12 Angry Men      0            Thank you very much, sir.              2065   \n",
       "1  12 Angry Men      1  You did a wonderful job. Wonderful.              2065   \n",
       "2  12 Angry Men      2                            Shh. Shh.              2065   \n",
       "3  12 Angry Men      3          We did it, Pete. We did it.              2065   \n",
       "4  12 Angry Men      4     For a moment, we had our doubts.              2065   \n",
       "\n",
       "      tag  \n",
       "0  racism  \n",
       "1  racism  \n",
       "2  racism  \n",
       "3  racism  \n",
       "4  racism  "
      ]
     },
     "execution_count": 36,
     "metadata": {},
     "output_type": "execute_result"
    }
   ],
   "source": [
    "movies_df = load_dataset('data/all_movies.csv')\n",
    "delete_movies(movies_delete, movies_df)\n",
    "movies_df.head()"
   ]
  },
  {
   "cell_type": "code",
   "execution_count": 37,
   "metadata": {},
   "outputs": [
    {
     "data": {
      "text/plain": [
       "(351280, 5)"
      ]
     },
     "execution_count": 37,
     "metadata": {},
     "output_type": "execute_result"
    }
   ],
   "source": [
    "movies_df.shape"
   ]
  },
  {
   "cell_type": "markdown",
   "metadata": {},
   "source": [
    "# Word Embedding"
   ]
  },
  {
   "cell_type": "code",
   "execution_count": 38,
   "metadata": {},
   "outputs": [
    {
     "data": {
      "text/html": [
       "<div>\n",
       "<style scoped>\n",
       "    .dataframe tbody tr th:only-of-type {\n",
       "        vertical-align: middle;\n",
       "    }\n",
       "\n",
       "    .dataframe tbody tr th {\n",
       "        vertical-align: top;\n",
       "    }\n",
       "\n",
       "    .dataframe thead th {\n",
       "        text-align: right;\n",
       "    }\n",
       "</style>\n",
       "<table border=\"1\" class=\"dataframe\">\n",
       "  <thead>\n",
       "    <tr style=\"text-align: right;\">\n",
       "      <th></th>\n",
       "      <th>movie_name</th>\n",
       "      <th>index</th>\n",
       "      <th>we_label_fox_news</th>\n",
       "    </tr>\n",
       "  </thead>\n",
       "  <tbody>\n",
       "    <tr>\n",
       "      <th>0</th>\n",
       "      <td>12 Angry Men</td>\n",
       "      <td>0</td>\n",
       "      <td>not hate speech</td>\n",
       "    </tr>\n",
       "    <tr>\n",
       "      <th>1</th>\n",
       "      <td>12 Angry Men</td>\n",
       "      <td>1</td>\n",
       "      <td>not hate speech</td>\n",
       "    </tr>\n",
       "    <tr>\n",
       "      <th>2</th>\n",
       "      <td>12 Angry Men</td>\n",
       "      <td>2</td>\n",
       "      <td>not hate speech</td>\n",
       "    </tr>\n",
       "    <tr>\n",
       "      <th>3</th>\n",
       "      <td>12 Angry Men</td>\n",
       "      <td>3</td>\n",
       "      <td>not hate speech</td>\n",
       "    </tr>\n",
       "    <tr>\n",
       "      <th>4</th>\n",
       "      <td>12 Angry Men</td>\n",
       "      <td>4</td>\n",
       "      <td>hate speech</td>\n",
       "    </tr>\n",
       "    <tr>\n",
       "      <th>...</th>\n",
       "      <td>...</td>\n",
       "      <td>...</td>\n",
       "      <td>...</td>\n",
       "    </tr>\n",
       "    <tr>\n",
       "      <th>359031</th>\n",
       "      <td>You</td>\n",
       "      <td>1767</td>\n",
       "      <td>not hate speech</td>\n",
       "    </tr>\n",
       "    <tr>\n",
       "      <th>359032</th>\n",
       "      <td>You</td>\n",
       "      <td>1768</td>\n",
       "      <td>not hate speech</td>\n",
       "    </tr>\n",
       "    <tr>\n",
       "      <th>359033</th>\n",
       "      <td>You</td>\n",
       "      <td>1769</td>\n",
       "      <td>not hate speech</td>\n",
       "    </tr>\n",
       "    <tr>\n",
       "      <th>359034</th>\n",
       "      <td>You</td>\n",
       "      <td>1770</td>\n",
       "      <td>not hate speech</td>\n",
       "    </tr>\n",
       "    <tr>\n",
       "      <th>359035</th>\n",
       "      <td>You</td>\n",
       "      <td>1771</td>\n",
       "      <td>not hate speech</td>\n",
       "    </tr>\n",
       "  </tbody>\n",
       "</table>\n",
       "<p>351280 rows × 3 columns</p>\n",
       "</div>"
      ],
      "text/plain": [
       "          movie_name  index we_label_fox_news\n",
       "0       12 Angry Men      0   not hate speech\n",
       "1       12 Angry Men      1   not hate speech\n",
       "2       12 Angry Men      2   not hate speech\n",
       "3       12 Angry Men      3   not hate speech\n",
       "4       12 Angry Men      4       hate speech\n",
       "...              ...    ...               ...\n",
       "359031           You   1767   not hate speech\n",
       "359032           You   1768   not hate speech\n",
       "359033           You   1769   not hate speech\n",
       "359034           You   1770   not hate speech\n",
       "359035           You   1771   not hate speech\n",
       "\n",
       "[351280 rows x 3 columns]"
      ]
     },
     "execution_count": 38,
     "metadata": {},
     "output_type": "execute_result"
    }
   ],
   "source": [
    "annotations_word_embedding_fox_news_df = load_dataset('annotations/annotations_word_embedding_fox_news.csv')\n",
    "annotations_word_embedding_fox_news_df.rename(columns={'label': 'we_label_fox_news'}, inplace=True)\n",
    "annotations_word_embedding_fox_news_df"
   ]
  },
  {
   "cell_type": "code",
   "execution_count": 8,
   "metadata": {},
   "outputs": [
    {
     "data": {
      "text/html": [
       "<div>\n",
       "<style scoped>\n",
       "    .dataframe tbody tr th:only-of-type {\n",
       "        vertical-align: middle;\n",
       "    }\n",
       "\n",
       "    .dataframe tbody tr th {\n",
       "        vertical-align: top;\n",
       "    }\n",
       "\n",
       "    .dataframe thead th {\n",
       "        text-align: right;\n",
       "    }\n",
       "</style>\n",
       "<table border=\"1\" class=\"dataframe\">\n",
       "  <thead>\n",
       "    <tr style=\"text-align: right;\">\n",
       "      <th></th>\n",
       "      <th>movie_name</th>\n",
       "      <th>index</th>\n",
       "      <th>we_label_twitter</th>\n",
       "    </tr>\n",
       "  </thead>\n",
       "  <tbody>\n",
       "    <tr>\n",
       "      <th>0</th>\n",
       "      <td>12 Angry Men</td>\n",
       "      <td>0</td>\n",
       "      <td>neither</td>\n",
       "    </tr>\n",
       "    <tr>\n",
       "      <th>1</th>\n",
       "      <td>12 Angry Men</td>\n",
       "      <td>1</td>\n",
       "      <td>neither</td>\n",
       "    </tr>\n",
       "    <tr>\n",
       "      <th>2</th>\n",
       "      <td>12 Angry Men</td>\n",
       "      <td>2</td>\n",
       "      <td>offensive language</td>\n",
       "    </tr>\n",
       "    <tr>\n",
       "      <th>3</th>\n",
       "      <td>12 Angry Men</td>\n",
       "      <td>3</td>\n",
       "      <td>neither</td>\n",
       "    </tr>\n",
       "    <tr>\n",
       "      <th>4</th>\n",
       "      <td>12 Angry Men</td>\n",
       "      <td>4</td>\n",
       "      <td>neither</td>\n",
       "    </tr>\n",
       "    <tr>\n",
       "      <th>...</th>\n",
       "      <td>...</td>\n",
       "      <td>...</td>\n",
       "      <td>...</td>\n",
       "    </tr>\n",
       "    <tr>\n",
       "      <th>359031</th>\n",
       "      <td>You</td>\n",
       "      <td>1767</td>\n",
       "      <td>offensive language</td>\n",
       "    </tr>\n",
       "    <tr>\n",
       "      <th>359032</th>\n",
       "      <td>You</td>\n",
       "      <td>1768</td>\n",
       "      <td>neither</td>\n",
       "    </tr>\n",
       "    <tr>\n",
       "      <th>359033</th>\n",
       "      <td>You</td>\n",
       "      <td>1769</td>\n",
       "      <td>neither</td>\n",
       "    </tr>\n",
       "    <tr>\n",
       "      <th>359034</th>\n",
       "      <td>You</td>\n",
       "      <td>1770</td>\n",
       "      <td>offensive language</td>\n",
       "    </tr>\n",
       "    <tr>\n",
       "      <th>359035</th>\n",
       "      <td>You</td>\n",
       "      <td>1771</td>\n",
       "      <td>neither</td>\n",
       "    </tr>\n",
       "  </tbody>\n",
       "</table>\n",
       "<p>351280 rows × 3 columns</p>\n",
       "</div>"
      ],
      "text/plain": [
       "          movie_name  index    we_label_twitter\n",
       "0       12 Angry Men      0             neither\n",
       "1       12 Angry Men      1             neither\n",
       "2       12 Angry Men      2  offensive language\n",
       "3       12 Angry Men      3             neither\n",
       "4       12 Angry Men      4             neither\n",
       "...              ...    ...                 ...\n",
       "359031           You   1767  offensive language\n",
       "359032           You   1768             neither\n",
       "359033           You   1769             neither\n",
       "359034           You   1770  offensive language\n",
       "359035           You   1771             neither\n",
       "\n",
       "[351280 rows x 3 columns]"
      ]
     },
     "execution_count": 8,
     "metadata": {},
     "output_type": "execute_result"
    }
   ],
   "source": [
    "annotations_word_embedding_twitter_df = load_dataset('annotations/annotations_word_embedding_twitter.csv')\n",
    "annotations_word_embedding_twitter_df.rename(columns={'label': 'we_label_twitter'}, inplace=True)\n",
    "annotations_word_embedding_twitter_df"
   ]
  },
  {
   "cell_type": "markdown",
   "metadata": {},
   "source": [
    "# Bert"
   ]
  },
  {
   "cell_type": "code",
   "execution_count": 9,
   "metadata": {},
   "outputs": [
    {
     "data": {
      "text/html": [
       "<div>\n",
       "<style scoped>\n",
       "    .dataframe tbody tr th:only-of-type {\n",
       "        vertical-align: middle;\n",
       "    }\n",
       "\n",
       "    .dataframe tbody tr th {\n",
       "        vertical-align: top;\n",
       "    }\n",
       "\n",
       "    .dataframe thead th {\n",
       "        text-align: right;\n",
       "    }\n",
       "</style>\n",
       "<table border=\"1\" class=\"dataframe\">\n",
       "  <thead>\n",
       "    <tr style=\"text-align: right;\">\n",
       "      <th></th>\n",
       "      <th>index</th>\n",
       "      <th>movie_name</th>\n",
       "      <th>bert_label_fox_news</th>\n",
       "    </tr>\n",
       "  </thead>\n",
       "  <tbody>\n",
       "    <tr>\n",
       "      <th>0</th>\n",
       "      <td>0</td>\n",
       "      <td>1917</td>\n",
       "      <td>hate speech</td>\n",
       "    </tr>\n",
       "    <tr>\n",
       "      <th>1</th>\n",
       "      <td>1</td>\n",
       "      <td>1917</td>\n",
       "      <td>not hate speech</td>\n",
       "    </tr>\n",
       "    <tr>\n",
       "      <th>2</th>\n",
       "      <td>2</td>\n",
       "      <td>1917</td>\n",
       "      <td>not hate speech</td>\n",
       "    </tr>\n",
       "    <tr>\n",
       "      <th>3</th>\n",
       "      <td>3</td>\n",
       "      <td>1917</td>\n",
       "      <td>not hate speech</td>\n",
       "    </tr>\n",
       "    <tr>\n",
       "      <th>4</th>\n",
       "      <td>4</td>\n",
       "      <td>1917</td>\n",
       "      <td>not hate speech</td>\n",
       "    </tr>\n",
       "    <tr>\n",
       "      <th>...</th>\n",
       "      <td>...</td>\n",
       "      <td>...</td>\n",
       "      <td>...</td>\n",
       "    </tr>\n",
       "    <tr>\n",
       "      <th>360126</th>\n",
       "      <td>1032</td>\n",
       "      <td>Wrong Turn</td>\n",
       "      <td>not hate speech</td>\n",
       "    </tr>\n",
       "    <tr>\n",
       "      <th>360127</th>\n",
       "      <td>1033</td>\n",
       "      <td>Wrong Turn</td>\n",
       "      <td>not hate speech</td>\n",
       "    </tr>\n",
       "    <tr>\n",
       "      <th>360128</th>\n",
       "      <td>1034</td>\n",
       "      <td>Wrong Turn</td>\n",
       "      <td>hate speech</td>\n",
       "    </tr>\n",
       "    <tr>\n",
       "      <th>360129</th>\n",
       "      <td>1035</td>\n",
       "      <td>Wrong Turn</td>\n",
       "      <td>not hate speech</td>\n",
       "    </tr>\n",
       "    <tr>\n",
       "      <th>360130</th>\n",
       "      <td>1036</td>\n",
       "      <td>Wrong Turn</td>\n",
       "      <td>not hate speech</td>\n",
       "    </tr>\n",
       "  </tbody>\n",
       "</table>\n",
       "<p>351280 rows × 3 columns</p>\n",
       "</div>"
      ],
      "text/plain": [
       "        index  movie_name bert_label_fox_news\n",
       "0           0        1917         hate speech\n",
       "1           1        1917     not hate speech\n",
       "2           2        1917     not hate speech\n",
       "3           3        1917     not hate speech\n",
       "4           4        1917     not hate speech\n",
       "...       ...         ...                 ...\n",
       "360126   1032  Wrong Turn     not hate speech\n",
       "360127   1033  Wrong Turn     not hate speech\n",
       "360128   1034  Wrong Turn         hate speech\n",
       "360129   1035  Wrong Turn     not hate speech\n",
       "360130   1036  Wrong Turn     not hate speech\n",
       "\n",
       "[351280 rows x 3 columns]"
      ]
     },
     "execution_count": 9,
     "metadata": {},
     "output_type": "execute_result"
    }
   ],
   "source": [
    "annotations_bert_fox_news_df = load_dataset('annotations/annotations_bert_fox_news.csv')\n",
    "annotations_bert_fox_news_df.rename(columns={'label': 'bert_label_fox_news'}, inplace=True)\n",
    "annotations_bert_fox_news_df"
   ]
  },
  {
   "cell_type": "code",
   "execution_count": 10,
   "metadata": {},
   "outputs": [
    {
     "data": {
      "text/html": [
       "<div>\n",
       "<style scoped>\n",
       "    .dataframe tbody tr th:only-of-type {\n",
       "        vertical-align: middle;\n",
       "    }\n",
       "\n",
       "    .dataframe tbody tr th {\n",
       "        vertical-align: top;\n",
       "    }\n",
       "\n",
       "    .dataframe thead th {\n",
       "        text-align: right;\n",
       "    }\n",
       "</style>\n",
       "<table border=\"1\" class=\"dataframe\">\n",
       "  <thead>\n",
       "    <tr style=\"text-align: right;\">\n",
       "      <th></th>\n",
       "      <th>index</th>\n",
       "      <th>movie_name</th>\n",
       "      <th>bert_label_twitter</th>\n",
       "    </tr>\n",
       "  </thead>\n",
       "  <tbody>\n",
       "    <tr>\n",
       "      <th>0</th>\n",
       "      <td>0</td>\n",
       "      <td>1917</td>\n",
       "      <td>neither</td>\n",
       "    </tr>\n",
       "    <tr>\n",
       "      <th>1</th>\n",
       "      <td>1</td>\n",
       "      <td>1917</td>\n",
       "      <td>neither</td>\n",
       "    </tr>\n",
       "    <tr>\n",
       "      <th>2</th>\n",
       "      <td>2</td>\n",
       "      <td>1917</td>\n",
       "      <td>neither</td>\n",
       "    </tr>\n",
       "    <tr>\n",
       "      <th>3</th>\n",
       "      <td>3</td>\n",
       "      <td>1917</td>\n",
       "      <td>neither</td>\n",
       "    </tr>\n",
       "    <tr>\n",
       "      <th>4</th>\n",
       "      <td>4</td>\n",
       "      <td>1917</td>\n",
       "      <td>neither</td>\n",
       "    </tr>\n",
       "    <tr>\n",
       "      <th>...</th>\n",
       "      <td>...</td>\n",
       "      <td>...</td>\n",
       "      <td>...</td>\n",
       "    </tr>\n",
       "    <tr>\n",
       "      <th>360126</th>\n",
       "      <td>1032</td>\n",
       "      <td>Wrong Turn</td>\n",
       "      <td>neither</td>\n",
       "    </tr>\n",
       "    <tr>\n",
       "      <th>360127</th>\n",
       "      <td>1033</td>\n",
       "      <td>Wrong Turn</td>\n",
       "      <td>neither</td>\n",
       "    </tr>\n",
       "    <tr>\n",
       "      <th>360128</th>\n",
       "      <td>1034</td>\n",
       "      <td>Wrong Turn</td>\n",
       "      <td>neither</td>\n",
       "    </tr>\n",
       "    <tr>\n",
       "      <th>360129</th>\n",
       "      <td>1035</td>\n",
       "      <td>Wrong Turn</td>\n",
       "      <td>offensive language</td>\n",
       "    </tr>\n",
       "    <tr>\n",
       "      <th>360130</th>\n",
       "      <td>1036</td>\n",
       "      <td>Wrong Turn</td>\n",
       "      <td>neither</td>\n",
       "    </tr>\n",
       "  </tbody>\n",
       "</table>\n",
       "<p>351280 rows × 3 columns</p>\n",
       "</div>"
      ],
      "text/plain": [
       "        index  movie_name  bert_label_twitter\n",
       "0           0        1917             neither\n",
       "1           1        1917             neither\n",
       "2           2        1917             neither\n",
       "3           3        1917             neither\n",
       "4           4        1917             neither\n",
       "...       ...         ...                 ...\n",
       "360126   1032  Wrong Turn             neither\n",
       "360127   1033  Wrong Turn             neither\n",
       "360128   1034  Wrong Turn             neither\n",
       "360129   1035  Wrong Turn  offensive language\n",
       "360130   1036  Wrong Turn             neither\n",
       "\n",
       "[351280 rows x 3 columns]"
      ]
     },
     "execution_count": 10,
     "metadata": {},
     "output_type": "execute_result"
    }
   ],
   "source": [
    "annotations_bert_twitter_df = load_dataset('annotations/annotations_bert_twitter.csv')\n",
    "annotations_bert_twitter_df.rename(columns={'label': 'bert_label_twitter'}, inplace=True)\n",
    "annotations_bert_twitter_df"
   ]
  },
  {
   "cell_type": "markdown",
   "metadata": {},
   "source": [
    "# LSTM"
   ]
  },
  {
   "cell_type": "code",
   "execution_count": 11,
   "metadata": {},
   "outputs": [
    {
     "data": {
      "text/html": [
       "<div>\n",
       "<style scoped>\n",
       "    .dataframe tbody tr th:only-of-type {\n",
       "        vertical-align: middle;\n",
       "    }\n",
       "\n",
       "    .dataframe tbody tr th {\n",
       "        vertical-align: top;\n",
       "    }\n",
       "\n",
       "    .dataframe thead th {\n",
       "        text-align: right;\n",
       "    }\n",
       "</style>\n",
       "<table border=\"1\" class=\"dataframe\">\n",
       "  <thead>\n",
       "    <tr style=\"text-align: right;\">\n",
       "      <th></th>\n",
       "      <th>movie_name</th>\n",
       "      <th>index</th>\n",
       "      <th>lstm_label_fox_news</th>\n",
       "    </tr>\n",
       "  </thead>\n",
       "  <tbody>\n",
       "    <tr>\n",
       "      <th>0</th>\n",
       "      <td>A Time to Kill</td>\n",
       "      <td>0</td>\n",
       "      <td>not hate speech</td>\n",
       "    </tr>\n",
       "    <tr>\n",
       "      <th>1</th>\n",
       "      <td>A Time to Kill</td>\n",
       "      <td>1</td>\n",
       "      <td>not hate speech</td>\n",
       "    </tr>\n",
       "    <tr>\n",
       "      <th>2</th>\n",
       "      <td>A Time to Kill</td>\n",
       "      <td>2</td>\n",
       "      <td>not hate speech</td>\n",
       "    </tr>\n",
       "    <tr>\n",
       "      <th>3</th>\n",
       "      <td>A Time to Kill</td>\n",
       "      <td>3</td>\n",
       "      <td>not hate speech</td>\n",
       "    </tr>\n",
       "    <tr>\n",
       "      <th>4</th>\n",
       "      <td>A Time to Kill</td>\n",
       "      <td>4</td>\n",
       "      <td>not hate speech</td>\n",
       "    </tr>\n",
       "    <tr>\n",
       "      <th>...</th>\n",
       "      <td>...</td>\n",
       "      <td>...</td>\n",
       "      <td>...</td>\n",
       "    </tr>\n",
       "    <tr>\n",
       "      <th>359031</th>\n",
       "      <td>Wind River</td>\n",
       "      <td>1264</td>\n",
       "      <td>not hate speech</td>\n",
       "    </tr>\n",
       "    <tr>\n",
       "      <th>359032</th>\n",
       "      <td>Wind River</td>\n",
       "      <td>1265</td>\n",
       "      <td>not hate speech</td>\n",
       "    </tr>\n",
       "    <tr>\n",
       "      <th>359033</th>\n",
       "      <td>Wind River</td>\n",
       "      <td>1266</td>\n",
       "      <td>not hate speech</td>\n",
       "    </tr>\n",
       "    <tr>\n",
       "      <th>359034</th>\n",
       "      <td>Wind River</td>\n",
       "      <td>1267</td>\n",
       "      <td>hate speech</td>\n",
       "    </tr>\n",
       "    <tr>\n",
       "      <th>359035</th>\n",
       "      <td>Wind River</td>\n",
       "      <td>1268</td>\n",
       "      <td>not hate speech</td>\n",
       "    </tr>\n",
       "  </tbody>\n",
       "</table>\n",
       "<p>351280 rows × 3 columns</p>\n",
       "</div>"
      ],
      "text/plain": [
       "            movie_name  index lstm_label_fox_news\n",
       "0       A Time to Kill      0     not hate speech\n",
       "1       A Time to Kill      1     not hate speech\n",
       "2       A Time to Kill      2     not hate speech\n",
       "3       A Time to Kill      3     not hate speech\n",
       "4       A Time to Kill      4     not hate speech\n",
       "...                ...    ...                 ...\n",
       "359031      Wind River   1264     not hate speech\n",
       "359032      Wind River   1265     not hate speech\n",
       "359033      Wind River   1266     not hate speech\n",
       "359034      Wind River   1267         hate speech\n",
       "359035      Wind River   1268     not hate speech\n",
       "\n",
       "[351280 rows x 3 columns]"
      ]
     },
     "execution_count": 11,
     "metadata": {},
     "output_type": "execute_result"
    }
   ],
   "source": [
    "annotations_lstm_fox_news_df = load_dataset('annotations/annotations_lstm_fox_news.csv')\n",
    "annotations_lstm_fox_news_df.rename(columns={'label': 'lstm_label_fox_news'}, inplace=True)\n",
    "annotations_lstm_fox_news_df"
   ]
  },
  {
   "cell_type": "code",
   "execution_count": 12,
   "metadata": {},
   "outputs": [
    {
     "data": {
      "text/html": [
       "<div>\n",
       "<style scoped>\n",
       "    .dataframe tbody tr th:only-of-type {\n",
       "        vertical-align: middle;\n",
       "    }\n",
       "\n",
       "    .dataframe tbody tr th {\n",
       "        vertical-align: top;\n",
       "    }\n",
       "\n",
       "    .dataframe thead th {\n",
       "        text-align: right;\n",
       "    }\n",
       "</style>\n",
       "<table border=\"1\" class=\"dataframe\">\n",
       "  <thead>\n",
       "    <tr style=\"text-align: right;\">\n",
       "      <th></th>\n",
       "      <th>movie_name</th>\n",
       "      <th>index</th>\n",
       "      <th>lstm_label_twitter</th>\n",
       "    </tr>\n",
       "  </thead>\n",
       "  <tbody>\n",
       "    <tr>\n",
       "      <th>0</th>\n",
       "      <td>Falling Down</td>\n",
       "      <td>0</td>\n",
       "      <td>offensive language</td>\n",
       "    </tr>\n",
       "    <tr>\n",
       "      <th>1</th>\n",
       "      <td>Falling Down</td>\n",
       "      <td>1</td>\n",
       "      <td>offensive language</td>\n",
       "    </tr>\n",
       "    <tr>\n",
       "      <th>2</th>\n",
       "      <td>Falling Down</td>\n",
       "      <td>2</td>\n",
       "      <td>offensive language</td>\n",
       "    </tr>\n",
       "    <tr>\n",
       "      <th>3</th>\n",
       "      <td>Falling Down</td>\n",
       "      <td>3</td>\n",
       "      <td>neither</td>\n",
       "    </tr>\n",
       "    <tr>\n",
       "      <th>4</th>\n",
       "      <td>Falling Down</td>\n",
       "      <td>4</td>\n",
       "      <td>offensive language</td>\n",
       "    </tr>\n",
       "    <tr>\n",
       "      <th>...</th>\n",
       "      <td>...</td>\n",
       "      <td>...</td>\n",
       "      <td>...</td>\n",
       "    </tr>\n",
       "    <tr>\n",
       "      <th>359031</th>\n",
       "      <td>The Social Network</td>\n",
       "      <td>2405</td>\n",
       "      <td>offensive language</td>\n",
       "    </tr>\n",
       "    <tr>\n",
       "      <th>359032</th>\n",
       "      <td>The Social Network</td>\n",
       "      <td>2406</td>\n",
       "      <td>offensive language</td>\n",
       "    </tr>\n",
       "    <tr>\n",
       "      <th>359033</th>\n",
       "      <td>The Social Network</td>\n",
       "      <td>2407</td>\n",
       "      <td>offensive language</td>\n",
       "    </tr>\n",
       "    <tr>\n",
       "      <th>359034</th>\n",
       "      <td>The Social Network</td>\n",
       "      <td>2408</td>\n",
       "      <td>neither</td>\n",
       "    </tr>\n",
       "    <tr>\n",
       "      <th>359035</th>\n",
       "      <td>The Social Network</td>\n",
       "      <td>2409</td>\n",
       "      <td>offensive language</td>\n",
       "    </tr>\n",
       "  </tbody>\n",
       "</table>\n",
       "<p>351280 rows × 3 columns</p>\n",
       "</div>"
      ],
      "text/plain": [
       "                movie_name  index  lstm_label_twitter\n",
       "0             Falling Down      0  offensive language\n",
       "1             Falling Down      1  offensive language\n",
       "2             Falling Down      2  offensive language\n",
       "3             Falling Down      3             neither\n",
       "4             Falling Down      4  offensive language\n",
       "...                    ...    ...                 ...\n",
       "359031  The Social Network   2405  offensive language\n",
       "359032  The Social Network   2406  offensive language\n",
       "359033  The Social Network   2407  offensive language\n",
       "359034  The Social Network   2408             neither\n",
       "359035  The Social Network   2409  offensive language\n",
       "\n",
       "[351280 rows x 3 columns]"
      ]
     },
     "execution_count": 12,
     "metadata": {},
     "output_type": "execute_result"
    }
   ],
   "source": [
    "annotations_lstm_twitter_df = load_dataset('annotations/annotations_lstm_twitter.csv')\n",
    "annotations_lstm_twitter_df.rename(columns={'label': 'lstm_label_twitter'}, inplace=True)\n",
    "annotations_lstm_twitter_df"
   ]
  },
  {
   "cell_type": "markdown",
   "metadata": {},
   "source": [
    "# Joining Datasets"
   ]
  },
  {
   "cell_type": "code",
   "execution_count": 13,
   "metadata": {},
   "outputs": [],
   "source": [
    "df_results = movies_df.merge(annotations_word_embedding_fox_news_df, on=['index', 'movie_name'])\n",
    "df_results = df_results.merge(annotations_word_embedding_twitter_df, on=['index', 'movie_name'])"
   ]
  },
  {
   "cell_type": "code",
   "execution_count": 14,
   "metadata": {},
   "outputs": [],
   "source": [
    "df_results = df_results.merge(annotations_bert_twitter_df, on=['index', 'movie_name'])\n",
    "df_results = df_results.merge(annotations_bert_fox_news_df, on=['index', 'movie_name'])"
   ]
  },
  {
   "cell_type": "code",
   "execution_count": 15,
   "metadata": {},
   "outputs": [],
   "source": [
    "df_results = df_results.merge(annotations_lstm_twitter_df, on=['index', 'movie_name'])\n",
    "df_results = df_results.merge(annotations_lstm_fox_news_df, on=['index', 'movie_name'])"
   ]
  },
  {
   "cell_type": "code",
   "execution_count": 16,
   "metadata": {},
   "outputs": [
    {
     "data": {
      "text/html": [
       "<div>\n",
       "<style scoped>\n",
       "    .dataframe tbody tr th:only-of-type {\n",
       "        vertical-align: middle;\n",
       "    }\n",
       "\n",
       "    .dataframe tbody tr th {\n",
       "        vertical-align: top;\n",
       "    }\n",
       "\n",
       "    .dataframe thead th {\n",
       "        text-align: right;\n",
       "    }\n",
       "</style>\n",
       "<table border=\"1\" class=\"dataframe\">\n",
       "  <thead>\n",
       "    <tr style=\"text-align: right;\">\n",
       "      <th></th>\n",
       "      <th>movie_name</th>\n",
       "      <th>index</th>\n",
       "      <th>utterance</th>\n",
       "      <th>count_utterances</th>\n",
       "      <th>tag</th>\n",
       "      <th>we_label_fox_news</th>\n",
       "      <th>we_label_twitter</th>\n",
       "      <th>bert_label_twitter</th>\n",
       "      <th>bert_label_fox_news</th>\n",
       "      <th>lstm_label_twitter</th>\n",
       "      <th>lstm_label_fox_news</th>\n",
       "    </tr>\n",
       "  </thead>\n",
       "  <tbody>\n",
       "    <tr>\n",
       "      <th>0</th>\n",
       "      <td>12 Angry Men</td>\n",
       "      <td>0</td>\n",
       "      <td>Thank you very much, sir.</td>\n",
       "      <td>2065</td>\n",
       "      <td>racism</td>\n",
       "      <td>not hate speech</td>\n",
       "      <td>neither</td>\n",
       "      <td>neither</td>\n",
       "      <td>not hate speech</td>\n",
       "      <td>hate speech</td>\n",
       "      <td>not hate speech</td>\n",
       "    </tr>\n",
       "    <tr>\n",
       "      <th>1</th>\n",
       "      <td>12 Angry Men</td>\n",
       "      <td>1</td>\n",
       "      <td>You did a wonderful job. Wonderful.</td>\n",
       "      <td>2065</td>\n",
       "      <td>racism</td>\n",
       "      <td>not hate speech</td>\n",
       "      <td>neither</td>\n",
       "      <td>neither</td>\n",
       "      <td>not hate speech</td>\n",
       "      <td>offensive language</td>\n",
       "      <td>not hate speech</td>\n",
       "    </tr>\n",
       "    <tr>\n",
       "      <th>2</th>\n",
       "      <td>12 Angry Men</td>\n",
       "      <td>2</td>\n",
       "      <td>Shh. Shh.</td>\n",
       "      <td>2065</td>\n",
       "      <td>racism</td>\n",
       "      <td>not hate speech</td>\n",
       "      <td>offensive language</td>\n",
       "      <td>offensive language</td>\n",
       "      <td>not hate speech</td>\n",
       "      <td>neither</td>\n",
       "      <td>not hate speech</td>\n",
       "    </tr>\n",
       "    <tr>\n",
       "      <th>3</th>\n",
       "      <td>12 Angry Men</td>\n",
       "      <td>3</td>\n",
       "      <td>We did it, Pete. We did it.</td>\n",
       "      <td>2065</td>\n",
       "      <td>racism</td>\n",
       "      <td>not hate speech</td>\n",
       "      <td>neither</td>\n",
       "      <td>neither</td>\n",
       "      <td>not hate speech</td>\n",
       "      <td>offensive language</td>\n",
       "      <td>not hate speech</td>\n",
       "    </tr>\n",
       "    <tr>\n",
       "      <th>4</th>\n",
       "      <td>12 Angry Men</td>\n",
       "      <td>4</td>\n",
       "      <td>For a moment, we had our doubts.</td>\n",
       "      <td>2065</td>\n",
       "      <td>racism</td>\n",
       "      <td>hate speech</td>\n",
       "      <td>neither</td>\n",
       "      <td>neither</td>\n",
       "      <td>not hate speech</td>\n",
       "      <td>offensive language</td>\n",
       "      <td>not hate speech</td>\n",
       "    </tr>\n",
       "  </tbody>\n",
       "</table>\n",
       "</div>"
      ],
      "text/plain": [
       "     movie_name  index                            utterance  count_utterances  \\\n",
       "0  12 Angry Men      0            Thank you very much, sir.              2065   \n",
       "1  12 Angry Men      1  You did a wonderful job. Wonderful.              2065   \n",
       "2  12 Angry Men      2                            Shh. Shh.              2065   \n",
       "3  12 Angry Men      3          We did it, Pete. We did it.              2065   \n",
       "4  12 Angry Men      4     For a moment, we had our doubts.              2065   \n",
       "\n",
       "      tag we_label_fox_news    we_label_twitter  bert_label_twitter  \\\n",
       "0  racism   not hate speech             neither             neither   \n",
       "1  racism   not hate speech             neither             neither   \n",
       "2  racism   not hate speech  offensive language  offensive language   \n",
       "3  racism   not hate speech             neither             neither   \n",
       "4  racism       hate speech             neither             neither   \n",
       "\n",
       "  bert_label_fox_news  lstm_label_twitter lstm_label_fox_news  \n",
       "0     not hate speech         hate speech     not hate speech  \n",
       "1     not hate speech  offensive language     not hate speech  \n",
       "2     not hate speech             neither     not hate speech  \n",
       "3     not hate speech  offensive language     not hate speech  \n",
       "4     not hate speech  offensive language     not hate speech  "
      ]
     },
     "execution_count": 16,
     "metadata": {},
     "output_type": "execute_result"
    }
   ],
   "source": [
    "df_results.head()"
   ]
  },
  {
   "cell_type": "code",
   "execution_count": 17,
   "metadata": {},
   "outputs": [
    {
     "data": {
      "text/html": [
       "<div>\n",
       "<style scoped>\n",
       "    .dataframe tbody tr th:only-of-type {\n",
       "        vertical-align: middle;\n",
       "    }\n",
       "\n",
       "    .dataframe tbody tr th {\n",
       "        vertical-align: top;\n",
       "    }\n",
       "\n",
       "    .dataframe thead th {\n",
       "        text-align: right;\n",
       "    }\n",
       "</style>\n",
       "<table border=\"1\" class=\"dataframe\">\n",
       "  <thead>\n",
       "    <tr style=\"text-align: right;\">\n",
       "      <th></th>\n",
       "      <th>movie_name</th>\n",
       "      <th>index</th>\n",
       "      <th>utterance</th>\n",
       "      <th>count_utterances</th>\n",
       "      <th>tag</th>\n",
       "      <th>we_label_fox_news</th>\n",
       "      <th>we_label_twitter</th>\n",
       "      <th>bert_label_twitter</th>\n",
       "      <th>bert_label_fox_news</th>\n",
       "      <th>lstm_label_twitter</th>\n",
       "      <th>lstm_label_fox_news</th>\n",
       "    </tr>\n",
       "  </thead>\n",
       "  <tbody>\n",
       "    <tr>\n",
       "      <th>0</th>\n",
       "      <td>12 Angry Men</td>\n",
       "      <td>0</td>\n",
       "      <td>Thank you very much, sir.</td>\n",
       "      <td>2065</td>\n",
       "      <td>racism</td>\n",
       "      <td>not hate speech</td>\n",
       "      <td>neither</td>\n",
       "      <td>neither</td>\n",
       "      <td>not hate speech</td>\n",
       "      <td>hate speech</td>\n",
       "      <td>not hate speech</td>\n",
       "    </tr>\n",
       "    <tr>\n",
       "      <th>1</th>\n",
       "      <td>12 Angry Men</td>\n",
       "      <td>1</td>\n",
       "      <td>You did a wonderful job. Wonderful.</td>\n",
       "      <td>2065</td>\n",
       "      <td>racism</td>\n",
       "      <td>not hate speech</td>\n",
       "      <td>neither</td>\n",
       "      <td>neither</td>\n",
       "      <td>not hate speech</td>\n",
       "      <td>offensive language</td>\n",
       "      <td>not hate speech</td>\n",
       "    </tr>\n",
       "  </tbody>\n",
       "</table>\n",
       "</div>"
      ],
      "text/plain": [
       "     movie_name  index                            utterance  count_utterances  \\\n",
       "0  12 Angry Men      0            Thank you very much, sir.              2065   \n",
       "1  12 Angry Men      1  You did a wonderful job. Wonderful.              2065   \n",
       "\n",
       "      tag we_label_fox_news we_label_twitter bert_label_twitter  \\\n",
       "0  racism   not hate speech          neither            neither   \n",
       "1  racism   not hate speech          neither            neither   \n",
       "\n",
       "  bert_label_fox_news  lstm_label_twitter lstm_label_fox_news  \n",
       "0     not hate speech         hate speech     not hate speech  \n",
       "1     not hate speech  offensive language     not hate speech  "
      ]
     },
     "execution_count": 17,
     "metadata": {},
     "output_type": "execute_result"
    }
   ],
   "source": [
    "df_results.head(2)"
   ]
  },
  {
   "cell_type": "code",
   "execution_count": 18,
   "metadata": {},
   "outputs": [],
   "source": [
    "df_results.to_csv('results.csv')"
   ]
  },
  {
   "cell_type": "markdown",
   "metadata": {},
   "source": [
    "#### Analyzing all dataset values"
   ]
  },
  {
   "cell_type": "markdown",
   "metadata": {},
   "source": [
    "## Analyse Results"
   ]
  },
  {
   "cell_type": "code",
   "execution_count": 27,
   "metadata": {},
   "outputs": [],
   "source": [
    "def plot_label_by_tag_distribution(df, title, label):\n",
    "    df = df_results.groupby('tag')[label].value_counts().to_frame('count').reset_index()\n",
    "    df_pivot = pd.pivot_table(\n",
    "        df,\n",
    "        values=\"count\",\n",
    "        index=\"tag\",\n",
    "        columns=label\n",
    "    )\n",
    "    ax = df_pivot.plot(kind='bar', title=title)\n",
    "    return ax"
   ]
  },
  {
   "cell_type": "code",
   "execution_count": 28,
   "metadata": {},
   "outputs": [],
   "source": [
    "def plot_label_by_tag_distribution_percentage(df, title, label):\n",
    "    ax = df_results.groupby('tag')[label].value_counts(normalize=True).unstack().plot(kind='bar', stacked = True, title=title)\n",
    "    for p in ax.patches:\n",
    "        width = p.get_width()\n",
    "        height = p.get_height()\n",
    "        x, y = p.get_xy() \n",
    "        a = round(x + width/2, 2)\n",
    "        b = round(y + height*1.00, 2)\n",
    "        height = round(height, 2)\n",
    "        ax.annotate(f'{height}', (a, b), ha='center')\n",
    "    ax.legend(bbox_to_anchor=(1.5, 1))\n",
    "    return ax"
   ]
  },
  {
   "cell_type": "markdown",
   "metadata": {},
   "source": [
    "# Word embedding"
   ]
  },
  {
   "cell_type": "markdown",
   "metadata": {},
   "source": [
    "## Fox News"
   ]
  },
  {
   "cell_type": "code",
   "execution_count": 29,
   "metadata": {},
   "outputs": [
    {
     "data": {
      "text/plain": [
       "<AxesSubplot:title={'center':'Label by tag distribution'}, xlabel='tag'>"
      ]
     },
     "execution_count": 29,
     "metadata": {},
     "output_type": "execute_result"
    },
    {
     "data": {
      "image/png": "[encoded data removed]",
      "text/plain": [
       "<Figure size 432x288 with 1 Axes>"
      ]
     },
     "metadata": {
      "needs_background": "light"
     },
     "output_type": "display_data"
    },
    {
     "data": {
      "image/png": "[encoded data removed]",
      "text/plain": [
       "<Figure size 432x288 with 1 Axes>"
      ]
     },
     "metadata": {
      "needs_background": "light"
     },
     "output_type": "display_data"
    },
    {
     "data": {
      "image/png": "[encoded data removed]",
      "text/plain": [
       "<Figure size 432x288 with 1 Axes>"
      ]
     },
     "metadata": {
      "needs_background": "light"
     },
     "output_type": "display_data"
    }
   ],
   "source": [
    "plot_label_by_tag_distribution(df_results, title='Label by tag distribution', label='we_label_fox_news')\n",
    "plot_label_by_tag_distribution(df_results, title='Label by tag distribution', label='lstm_label_fox_news')\n",
    "plot_label_by_tag_distribution(df_results, title='Label by tag distribution', label='bert_label_fox_news')"
   ]
  },
  {
   "cell_type": "code",
   "execution_count": 30,
   "metadata": {},
   "outputs": [
    {
     "data": {
      "text/plain": [
       "<AxesSubplot:title={'center':'Bert, Label by tag distribution (Percentage)'}, xlabel='tag'>"
      ]
     },
     "execution_count": 30,
     "metadata": {},
     "output_type": "execute_result"
    },
    {
     "data": {
      "image/png": "[encoded data removed]",
      "text/plain": [
       "<Figure size 432x288 with 1 Axes>"
      ]
     },
     "metadata": {
      "needs_background": "light"
     },
     "output_type": "display_data"
    },
    {
     "data": {
      "image/png": "[encoded data removed]",
      "text/plain": [
       "<Figure size 432x288 with 1 Axes>"
      ]
     },
     "metadata": {
      "needs_background": "light"
     },
     "output_type": "display_data"
    },
    {
     "data": {
      "image/png": "[encoded data removed]",
      "text/plain": [
       "<Figure size 432x288 with 1 Axes>"
      ]
     },
     "metadata": {
      "needs_background": "light"
     },
     "output_type": "display_data"
    }
   ],
   "source": [
    "plot_label_by_tag_distribution_percentage(df_results, title='WE, Label by tag distribution (Percentage)', label='we_label_fox_news')\n",
    "plot_label_by_tag_distribution_percentage(df_results, title='LSTM, Label by tag distribution (Percentage)', label='lstm_label_fox_news')\n",
    "plot_label_by_tag_distribution_percentage(df_results, title='Bert, Label by tag distribution (Percentage)', label='bert_label_fox_news')"
   ]
  },
  {
   "cell_type": "markdown",
   "metadata": {},
   "source": [
    "## hate speech examples"
   ]
  },
  {
   "cell_type": "code",
   "execution_count": 31,
   "metadata": {},
   "outputs": [
    {
     "ename": "AttributeError",
     "evalue": "'DataFrame' object has no attribute 'label_fox_news'",
     "output_type": "error",
     "traceback": [
      "\u001b[1;31m---------------------------------------------------------------------------\u001b[0m",
      "\u001b[1;31mAttributeError\u001b[0m                            Traceback (most recent call last)",
      "\u001b[1;32m<ipython-input-31-43927f9d43af>\u001b[0m in \u001b[0;36m<module>\u001b[1;34m\u001b[0m\n\u001b[1;32m----> 1\u001b[1;33m \u001b[0mhatespeech_sentences\u001b[0m \u001b[1;33m=\u001b[0m \u001b[0mdf_results\u001b[0m\u001b[1;33m[\u001b[0m\u001b[0mdf_results\u001b[0m\u001b[1;33m.\u001b[0m\u001b[0mlabel_fox_news\u001b[0m\u001b[1;33m==\u001b[0m\u001b[1;34m'hate speech'\u001b[0m\u001b[1;33m]\u001b[0m\u001b[1;33m.\u001b[0m\u001b[0mutterance\u001b[0m\u001b[1;33m.\u001b[0m\u001b[0mvalues\u001b[0m\u001b[1;33m\u001b[0m\u001b[1;33m\u001b[0m\u001b[0m\n\u001b[0m\u001b[0;32m      2\u001b[0m \u001b[1;32mfor\u001b[0m \u001b[0mi\u001b[0m\u001b[1;33m,\u001b[0m \u001b[0mutterance\u001b[0m \u001b[1;32min\u001b[0m \u001b[0menumerate\u001b[0m\u001b[1;33m(\u001b[0m\u001b[0mhatespeech_sentences\u001b[0m\u001b[1;33m)\u001b[0m\u001b[1;33m:\u001b[0m\u001b[1;33m\u001b[0m\u001b[1;33m\u001b[0m\u001b[0m\n\u001b[0;32m      3\u001b[0m     \u001b[1;32mif\u001b[0m \u001b[0mi\u001b[0m \u001b[1;33m==\u001b[0m \u001b[1;36m40\u001b[0m\u001b[1;33m:\u001b[0m\u001b[1;33m\u001b[0m\u001b[1;33m\u001b[0m\u001b[0m\n\u001b[0;32m      4\u001b[0m         \u001b[1;32mbreak\u001b[0m\u001b[1;33m\u001b[0m\u001b[1;33m\u001b[0m\u001b[0m\n\u001b[0;32m      5\u001b[0m     \u001b[0mprint\u001b[0m\u001b[1;33m(\u001b[0m\u001b[0mutterance\u001b[0m\u001b[1;33m)\u001b[0m\u001b[1;33m\u001b[0m\u001b[1;33m\u001b[0m\u001b[0m\n",
      "\u001b[1;32m~\\anaconda3\\lib\\site-packages\\pandas\\core\\generic.py\u001b[0m in \u001b[0;36m__getattr__\u001b[1;34m(self, name)\u001b[0m\n\u001b[0;32m   5460\u001b[0m             \u001b[1;32mif\u001b[0m \u001b[0mself\u001b[0m\u001b[1;33m.\u001b[0m\u001b[0m_info_axis\u001b[0m\u001b[1;33m.\u001b[0m\u001b[0m_can_hold_identifiers_and_holds_name\u001b[0m\u001b[1;33m(\u001b[0m\u001b[0mname\u001b[0m\u001b[1;33m)\u001b[0m\u001b[1;33m:\u001b[0m\u001b[1;33m\u001b[0m\u001b[1;33m\u001b[0m\u001b[0m\n\u001b[0;32m   5461\u001b[0m                 \u001b[1;32mreturn\u001b[0m \u001b[0mself\u001b[0m\u001b[1;33m[\u001b[0m\u001b[0mname\u001b[0m\u001b[1;33m]\u001b[0m\u001b[1;33m\u001b[0m\u001b[1;33m\u001b[0m\u001b[0m\n\u001b[1;32m-> 5462\u001b[1;33m             \u001b[1;32mreturn\u001b[0m \u001b[0mobject\u001b[0m\u001b[1;33m.\u001b[0m\u001b[0m__getattribute__\u001b[0m\u001b[1;33m(\u001b[0m\u001b[0mself\u001b[0m\u001b[1;33m,\u001b[0m \u001b[0mname\u001b[0m\u001b[1;33m)\u001b[0m\u001b[1;33m\u001b[0m\u001b[1;33m\u001b[0m\u001b[0m\n\u001b[0m\u001b[0;32m   5463\u001b[0m \u001b[1;33m\u001b[0m\u001b[0m\n\u001b[0;32m   5464\u001b[0m     \u001b[1;32mdef\u001b[0m \u001b[0m__setattr__\u001b[0m\u001b[1;33m(\u001b[0m\u001b[0mself\u001b[0m\u001b[1;33m,\u001b[0m \u001b[0mname\u001b[0m\u001b[1;33m:\u001b[0m \u001b[0mstr\u001b[0m\u001b[1;33m,\u001b[0m \u001b[0mvalue\u001b[0m\u001b[1;33m)\u001b[0m \u001b[1;33m->\u001b[0m \u001b[1;32mNone\u001b[0m\u001b[1;33m:\u001b[0m\u001b[1;33m\u001b[0m\u001b[1;33m\u001b[0m\u001b[0m\n",
      "\u001b[1;31mAttributeError\u001b[0m: 'DataFrame' object has no attribute 'label_fox_news'"
     ]
    }
   ],
   "source": [
    "hatespeech_sentences = df_results[df_results.label_fox_news=='hate speech'].utterance.values\n",
    "for i, utterance in enumerate(hatespeech_sentences):\n",
    "    if i == 40:\n",
    "        break\n",
    "    print(utterance)\n",
    "    print('---')"
   ]
  },
  {
   "cell_type": "markdown",
   "metadata": {},
   "source": [
    "# Word embedding"
   ]
  },
  {
   "cell_type": "markdown",
   "metadata": {},
   "source": [
    "## Twitter"
   ]
  },
  {
   "cell_type": "code",
   "execution_count": null,
   "metadata": {},
   "outputs": [],
   "source": [
    "plot_label_by_tag_distribution(df_results, title='WE, Label by tag distribution', label='we_label_twitter')\n",
    "plot_label_by_tag_distribution(df_results, title='LSTM, Label by tag distribution', label='lstm_label_twitter')\n",
    "plot_label_by_tag_distribution(df_results, title='Bert, Label by tag distribution', label='bert_label_twitter')"
   ]
  },
  {
   "cell_type": "code",
   "execution_count": null,
   "metadata": {},
   "outputs": [],
   "source": [
    "plot_label_by_tag_distribution_percentage(df_results, title='WE, Label by tag distribution (Percentage)', label='we_label_twitter')\n",
    "plot_label_by_tag_distribution_percentage(df_results, title='LSTM, Label by tag distribution (Percentage)', label='lstm_label_twitter')\n",
    "plot_label_by_tag_distribution_percentage(df_results, title='Bert, Label by tag distribution (Percentage)', label='bert_label_twitter')"
   ]
  },
  {
   "cell_type": "code",
   "execution_count": null,
   "metadata": {},
   "outputs": [],
   "source": [
    "hatespeech_sentences = df_results[df_results.label_twitter=='hate speech'].utterance.values\n",
    "for i, utterance in enumerate(hatespeech_sentences):\n",
    "    if i == 40:\n",
    "        break\n",
    "    print(utterance)\n",
    "    print('---')"
   ]
  },
  {
   "cell_type": "markdown",
   "metadata": {},
   "source": [
    "## Intersections"
   ]
  },
  {
   "cell_type": "markdown",
   "metadata": {},
   "source": [
    "### both are \"hate speech\""
   ]
  },
  {
   "cell_type": "code",
   "execution_count": null,
   "metadata": {},
   "outputs": [],
   "source": [
    "df_intersections = df_results[(df_results.label_twitter=='hate speech')&(df_results.label_fox_news=='hate speech')]"
   ]
  },
  {
   "cell_type": "code",
   "execution_count": null,
   "metadata": {},
   "outputs": [],
   "source": [
    "df_intersections"
   ]
  },
  {
   "cell_type": "markdown",
   "metadata": {},
   "source": [
    "### fox news is \"hate speech\" and twitter is \"offensive language\""
   ]
  },
  {
   "cell_type": "code",
   "execution_count": null,
   "metadata": {},
   "outputs": [],
   "source": [
    "df_intersections = df_results[(df_results.label_twitter=='offensive language')&(df_results.label_fox_news=='hate speech')]"
   ]
  },
  {
   "cell_type": "code",
   "execution_count": null,
   "metadata": {},
   "outputs": [],
   "source": [
    "df_intersections"
   ]
  },
  {
   "cell_type": "code",
   "execution_count": null,
   "metadata": {},
   "outputs": [],
   "source": [
    "df_results"
   ]
  },
  {
   "cell_type": "code",
   "execution_count": null,
   "metadata": {},
   "outputs": [],
   "source": [
    "label = 'hate speech'"
   ]
  },
  {
   "cell_type": "code",
   "execution_count": null,
   "metadata": {},
   "outputs": [],
   "source": [
    "df_results[(df_results.we_label_twitter==label) & (df_results.lstm_label_twitter==label) & (df_results.bert_label_twitter==label)]"
   ]
  },
  {
   "cell_type": "code",
   "execution_count": null,
   "metadata": {},
   "outputs": [],
   "source": [
    "df_results[(df_results.movie_name=='BlacKkKlansman') & (df_results.bert_label_twitter=='hate speech')][['utterance', 'bert_label_twitter', 'lstm_label_twitter', 'we_label_twitter']]"
   ]
  },
  {
   "cell_type": "code",
   "execution_count": null,
   "metadata": {},
   "outputs": [],
   "source": []
  },
  {
   "cell_type": "code",
   "execution_count": null,
   "metadata": {},
   "outputs": [],
   "source": []
  }
 ],
 "metadata": {
  "kernelspec": {
   "display_name": "Python 3",
   "language": "python",
   "name": "python3"
  },
  "language_info": {
   "codemirror_mode": {
    "name": "ipython",
    "version": 3
   },
   "file_extension": ".py",
   "mimetype": "text/x-python",
   "name": "python",
   "nbconvert_exporter": "python",
   "pygments_lexer": "ipython3",
   "version": "3.8.3"
  }
 },
 "nbformat": 4,
 "nbformat_minor": 4
}
