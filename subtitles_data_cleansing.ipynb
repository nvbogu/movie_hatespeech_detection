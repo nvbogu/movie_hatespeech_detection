{
 "cells": [
  {
   "cell_type": "code",
   "execution_count": 5,
   "metadata": {},
   "outputs": [],
   "source": [
    "import pandas as pd\n",
    "import re\n",
    "import numpy as np"
   ]
  },
  {
   "cell_type": "code",
   "execution_count": 6,
   "metadata": {},
   "outputs": [
    {
     "ename": "UnicodeDecodeError",
     "evalue": "'utf-8' codec can't decode byte 0xe0 in position 433: invalid continuation byte",
     "output_type": "error",
     "traceback": [
      "\u001b[1;31m---------------------------------------------------------------------------\u001b[0m",
      "\u001b[1;31mUnicodeDecodeError\u001b[0m                        Traceback (most recent call last)",
      "\u001b[1;32m<ipython-input-6-dfe72aa4933c>\u001b[0m in \u001b[0;36m<module>\u001b[1;34m\u001b[0m\n\u001b[0;32m     62\u001b[0m \u001b[1;33m\u001b[0m\u001b[0m\n\u001b[0;32m     63\u001b[0m \u001b[0mpath\u001b[0m \u001b[1;33m=\u001b[0m \u001b[1;34mr'C:\\Users\\Niklas\\Documents\\GitHub\\movie_hatespeech_detection\\annotation\\movies/Mrs Doubtfire 1993 DVDRip Eng-English.srt'\u001b[0m\u001b[1;33m\u001b[0m\u001b[1;33m\u001b[0m\u001b[0m\n\u001b[1;32m---> 64\u001b[1;33m \u001b[0mmain\u001b[0m\u001b[1;33m(\u001b[0m\u001b[0mpath\u001b[0m\u001b[1;33m)\u001b[0m\u001b[1;33m\u001b[0m\u001b[1;33m\u001b[0m\u001b[0m\n\u001b[0m\u001b[0;32m     65\u001b[0m \u001b[1;33m\u001b[0m\u001b[0m\n\u001b[0;32m     66\u001b[0m \"\"\"\n",
      "\u001b[1;32m<ipython-input-6-dfe72aa4933c>\u001b[0m in \u001b[0;36mmain\u001b[1;34m(file_name)\u001b[0m\n\u001b[0;32m     54\u001b[0m   \u001b[0mfile_encoding\u001b[0m  \u001b[1;33m=\u001b[0m  \u001b[1;34m'utf-8'\u001b[0m\u001b[1;33m\u001b[0m\u001b[1;33m\u001b[0m\u001b[0m\n\u001b[0;32m     55\u001b[0m   \u001b[1;32mwith\u001b[0m  \u001b[0mopen\u001b[0m \u001b[1;33m(\u001b[0m \u001b[0mfile_name\u001b[0m \u001b[1;33m,\u001b[0m \u001b[0mencoding\u001b[0m \u001b[1;33m=\u001b[0m \u001b[1;34m'utf-8'\u001b[0m\u001b[1;33m)\u001b[0m \u001b[1;32mas\u001b[0m  \u001b[0mf\u001b[0m \u001b[1;33m:\u001b[0m\u001b[1;33m\u001b[0m\u001b[1;33m\u001b[0m\u001b[0m\n\u001b[1;32m---> 56\u001b[1;33m     \u001b[0mlines\u001b[0m  \u001b[1;33m=\u001b[0m  \u001b[0mf\u001b[0m \u001b[1;33m.\u001b[0m \u001b[0mread\u001b[0m \u001b[1;33m(\u001b[0m\u001b[1;33m)\u001b[0m\u001b[1;33m.\u001b[0m \u001b[0msplitlines\u001b[0m \u001b[1;33m(\u001b[0m\u001b[1;33m)\u001b[0m\u001b[1;33m\u001b[0m\u001b[1;33m\u001b[0m\u001b[0m\n\u001b[0m\u001b[0;32m     57\u001b[0m     \u001b[0mnew_lines\u001b[0m  \u001b[1;33m=\u001b[0m  \u001b[0mclean_up\u001b[0m \u001b[1;33m(\u001b[0m \u001b[0mlines\u001b[0m \u001b[1;33m)\u001b[0m\u001b[1;33m\u001b[0m\u001b[1;33m\u001b[0m\u001b[0m\n\u001b[0;32m     58\u001b[0m     \u001b[0mmovie\u001b[0m\u001b[1;33m.\u001b[0m\u001b[0mappend\u001b[0m\u001b[1;33m(\u001b[0m\u001b[0mnew_lines\u001b[0m\u001b[1;33m)\u001b[0m\u001b[1;33m\u001b[0m\u001b[1;33m\u001b[0m\u001b[0m\n",
      "\u001b[1;32m~\\anaconda3\\envs\\NNLP-Course\\lib\\codecs.py\u001b[0m in \u001b[0;36mdecode\u001b[1;34m(self, input, final)\u001b[0m\n\u001b[0;32m    320\u001b[0m         \u001b[1;31m# decode input (taking the buffer into account)\u001b[0m\u001b[1;33m\u001b[0m\u001b[1;33m\u001b[0m\u001b[1;33m\u001b[0m\u001b[0m\n\u001b[0;32m    321\u001b[0m         \u001b[0mdata\u001b[0m \u001b[1;33m=\u001b[0m \u001b[0mself\u001b[0m\u001b[1;33m.\u001b[0m\u001b[0mbuffer\u001b[0m \u001b[1;33m+\u001b[0m \u001b[0minput\u001b[0m\u001b[1;33m\u001b[0m\u001b[1;33m\u001b[0m\u001b[0m\n\u001b[1;32m--> 322\u001b[1;33m         \u001b[1;33m(\u001b[0m\u001b[0mresult\u001b[0m\u001b[1;33m,\u001b[0m \u001b[0mconsumed\u001b[0m\u001b[1;33m)\u001b[0m \u001b[1;33m=\u001b[0m \u001b[0mself\u001b[0m\u001b[1;33m.\u001b[0m\u001b[0m_buffer_decode\u001b[0m\u001b[1;33m(\u001b[0m\u001b[0mdata\u001b[0m\u001b[1;33m,\u001b[0m \u001b[0mself\u001b[0m\u001b[1;33m.\u001b[0m\u001b[0merrors\u001b[0m\u001b[1;33m,\u001b[0m \u001b[0mfinal\u001b[0m\u001b[1;33m)\u001b[0m\u001b[1;33m\u001b[0m\u001b[1;33m\u001b[0m\u001b[0m\n\u001b[0m\u001b[0;32m    323\u001b[0m         \u001b[1;31m# keep undecoded input until the next call\u001b[0m\u001b[1;33m\u001b[0m\u001b[1;33m\u001b[0m\u001b[1;33m\u001b[0m\u001b[0m\n\u001b[0;32m    324\u001b[0m         \u001b[0mself\u001b[0m\u001b[1;33m.\u001b[0m\u001b[0mbuffer\u001b[0m \u001b[1;33m=\u001b[0m \u001b[0mdata\u001b[0m\u001b[1;33m[\u001b[0m\u001b[0mconsumed\u001b[0m\u001b[1;33m:\u001b[0m\u001b[1;33m]\u001b[0m\u001b[1;33m\u001b[0m\u001b[1;33m\u001b[0m\u001b[0m\n",
      "\u001b[1;31mUnicodeDecodeError\u001b[0m: 'utf-8' codec can't decode byte 0xe0 in position 433: invalid continuation byte"
     ]
    }
   ],
   "source": [
    "import  re , sys\n",
    "\n",
    "def  cleanhtml ( raw_html ):\n",
    "  cleanr  =  re . compile ( '<. *?>' )\n",
    "  cleantext  =  re . sub ( cleanr , '' , raw_html )\n",
    "  return  cleantext\n",
    "\n",
    "def  is_time_stamp ( l ):\n",
    "  if  l [: 2 ]. isnumeric () and  l [ 2 ] ==  ':' :\n",
    "    return  True\n",
    "  return  False\n",
    "\n",
    "def  has_letters ( line ):\n",
    "  if  re . search ( '[a-zA-Z]' , line ):\n",
    "    return  True\n",
    "  return  False\n",
    "\n",
    "def  has_no_text ( line ):\n",
    "  l  =  line . strip ()\n",
    "  if  not  len ( l ):\n",
    "    return  True\n",
    "  if  l . isnumeric ():\n",
    "    return  True\n",
    "  if  is_time_stamp ( l ):\n",
    "    return  True\n",
    "  if  l [ 0 ] ==  '('  and  l [ - 1 ] ==  ')' :\n",
    "    return  True\n",
    "  if  not  has_letters ( line ):\n",
    "    return  True\n",
    "  return  False\n",
    "\n",
    "def  is_lowercase_letter_or_comma ( letter ):\n",
    "  if  letter . isalpha () and  letter . lower () ==  letter :\n",
    "    return  True\n",
    "  if  letter  ==  ',' :\n",
    "    return  True\n",
    "  return  False\n",
    "\n",
    "def  clean_up ( lines ):\n",
    "  new_lines  = []\n",
    "  for  line  in  lines [ 1 :]:\n",
    "    if  has_no_text ( line ):\n",
    "      continue\n",
    "    elif  len ( new_lines ) and  is_lowercase_letter_or_comma ( line [ 0 ]):\n",
    "      #combine with previous line\n",
    "      new_lines [ - 1 ] =  new_lines [ - 1 ]. strip () +  ''  +  line\n",
    "    else :\n",
    "      #append line\n",
    "      new_lines . append ( line )\n",
    "  return  new_lines\n",
    "\n",
    "def  main ( file_name ):\n",
    "#   file_name  =  args [ 1 ]\n",
    "  file_encoding  =  'utf-8'\n",
    "  with  open ( file_name , encoding = 'utf-8') as  f :\n",
    "    lines  =  f . read (). splitlines ()\n",
    "    new_lines  =  clean_up ( lines )\n",
    "    movie.append(new_lines)\n",
    "  new_file_name  =  file_name [: - 4 ] +  '.txt'\n",
    "  with  open ( \"new_file_name.txt\" , 'w', encoding='utf-8' ) as  f :\n",
    "    f . write ( cleanhtml ( ' \\ n ' . join ( new_lines )))\n",
    "\n",
    "path = r'C:\\Users\\Niklas\\Documents\\GitHub\\movie_hatespeech_detection\\annotation\\movies/Mrs Doubtfire 1993 DVDRip Eng-English.srt'\n",
    "main(path)\n",
    "    \n",
    "\"\"\"\n",
    "NOTES\n",
    " * Run from command line as\n",
    " ** python srt_to_txt.py file_name.srt cp1252\n",
    " * Creates file_name.txt with extracted text from file_name.srt \n",
    " * Script assumes that lines beginning with lowercase letters or commas \n",
    " * are part of the previous line and lines beginning with any other character\n",
    "* are new lines. This won't always be correct.\n",
    "\"\"\""
   ]
  },
  {
   "cell_type": "code",
   "execution_count": 7,
   "metadata": {},
   "outputs": [],
   "source": []
  },
  {
   "cell_type": "code",
   "execution_count": 89,
   "metadata": {},
   "outputs": [],
   "source": [
    "path = r'annotation\\movies\\[SubtitleTools.com] BlacKkKlansman.2018.1080p.BluRay.x264-[YTS.AM]-English.txt'"
   ]
  },
  {
   "cell_type": "code",
   "execution_count": 121,
   "metadata": {},
   "outputs": [],
   "source": [
    "movie = []\n",
    "with open(path, \"r\", encoding = 'utf-8') as f:\n",
    "    line = f.read().splitlines()\n",
    "    #print(f.read().splitlines())\n",
    "    movie.append(line)"
   ]
  },
  {
   "cell_type": "code",
   "execution_count": null,
   "metadata": {},
   "outputs": [],
   "source": []
  },
  {
   "cell_type": "code",
   "execution_count": 122,
   "metadata": {},
   "outputs": [],
   "source": [
    "df = pd.DataFrame(movie[0])"
   ]
  },
  {
   "cell_type": "code",
   "execution_count": 123,
   "metadata": {},
   "outputs": [],
   "source": [
    "df.to_csv('initial.csv')"
   ]
  },
  {
   "cell_type": "code",
   "execution_count": 124,
   "metadata": {},
   "outputs": [
    {
     "data": {
      "text/html": [
       "<div>\n",
       "<style scoped>\n",
       "    .dataframe tbody tr th:only-of-type {\n",
       "        vertical-align: middle;\n",
       "    }\n",
       "\n",
       "    .dataframe tbody tr th {\n",
       "        vertical-align: top;\n",
       "    }\n",
       "\n",
       "    .dataframe thead th {\n",
       "        text-align: right;\n",
       "    }\n",
       "</style>\n",
       "<table border=\"1\" class=\"dataframe\">\n",
       "  <thead>\n",
       "    <tr style=\"text-align: right;\">\n",
       "      <th></th>\n",
       "      <th>0</th>\n",
       "    </tr>\n",
       "  </thead>\n",
       "  <tbody>\n",
       "    <tr>\n",
       "      <th>0</th>\n",
       "      <td>﻿Have you seen Dr. Meade?</td>\n",
       "    </tr>\n",
       "    <tr>\n",
       "      <th>1</th>\n",
       "      <td></td>\n",
       "    </tr>\n",
       "    <tr>\n",
       "      <th>2</th>\n",
       "      <td>Dr. Meade!</td>\n",
       "    </tr>\n",
       "    <tr>\n",
       "      <th>3</th>\n",
       "      <td></td>\n",
       "    </tr>\n",
       "    <tr>\n",
       "      <th>4</th>\n",
       "      <td>Oh, can you help me</td>\n",
       "    </tr>\n",
       "    <tr>\n",
       "      <th>5</th>\n",
       "      <td>find Dr. Meade?</td>\n",
       "    </tr>\n",
       "    <tr>\n",
       "      <th>6</th>\n",
       "      <td></td>\n",
       "    </tr>\n",
       "    <tr>\n",
       "      <th>7</th>\n",
       "      <td>God, help us.</td>\n",
       "    </tr>\n",
       "    <tr>\n",
       "      <th>8</th>\n",
       "      <td></td>\n",
       "    </tr>\n",
       "    <tr>\n",
       "      <th>9</th>\n",
       "      <td>God, save</td>\n",
       "    </tr>\n",
       "  </tbody>\n",
       "</table>\n",
       "</div>"
      ],
      "text/plain": [
       "                           0\n",
       "0  ﻿Have you seen Dr. Meade?\n",
       "1                           \n",
       "2                 Dr. Meade!\n",
       "3                           \n",
       "4        Oh, can you help me\n",
       "5            find Dr. Meade?\n",
       "6                           \n",
       "7              God, help us.\n",
       "8                           \n",
       "9                  God, save"
      ]
     },
     "execution_count": 124,
     "metadata": {},
     "output_type": "execute_result"
    }
   ],
   "source": [
    "df.head(10)"
   ]
  },
  {
   "cell_type": "code",
   "execution_count": 125,
   "metadata": {},
   "outputs": [
    {
     "data": {
      "text/plain": [
       "RangeIndex(start=0, stop=1, step=1)"
      ]
     },
     "execution_count": 125,
     "metadata": {},
     "output_type": "execute_result"
    }
   ],
   "source": [
    "df.columns"
   ]
  },
  {
   "cell_type": "code",
   "execution_count": 126,
   "metadata": {},
   "outputs": [
    {
     "data": {
      "text/plain": [
       "(6389, 1)"
      ]
     },
     "execution_count": 126,
     "metadata": {},
     "output_type": "execute_result"
    }
   ],
   "source": [
    "df.shape"
   ]
  },
  {
   "cell_type": "markdown",
   "metadata": {},
   "source": [
    "brackets \n",
    "/n\n",
    "-\n",
    "remove first 3 lines"
   ]
  },
  {
   "cell_type": "code",
   "execution_count": 127,
   "metadata": {},
   "outputs": [],
   "source": [
    "def cleansing(df, n, x):\n",
    "    \n",
    "    def remove_blank_lines(df):\n",
    "        df.replace(\"\", np.nan, inplace=True)\n",
    "        df = df.dropna()\n",
    "        return df\n",
    "    \n",
    "    def remove_brackets(df):\n",
    "        df = df.replace(r'^-?\\(.*\\)$', '', regex=True)\n",
    "        return df\n",
    "    \n",
    "    def _minus(df):\n",
    "        df = df.replace('^-','', regex=True)\n",
    "        return df\n",
    "    \n",
    "    def remove_brackets_in_line(df):\n",
    "        df = df.replace('\\(.*\\)','', regex=True)\n",
    "        return df\n",
    "\n",
    "    def remove_first_n_lines(df, n):\n",
    "        df = df.iloc[n:]\n",
    "        return df\n",
    "    \n",
    "    def remove_last_n_lines(df, x):\n",
    "        df = df.iloc[:-x]\n",
    "        return df\n",
    "    \n",
    "    def remove_dots_in_line(df):\n",
    "        df = df.replace('\\.{2,}','.', regex=True)\n",
    "        return df\n",
    "    \n",
    "    df = remove_blank_lines(df)\n",
    "    df = remove_brackets(df)\n",
    "#     df = remove_first_n_lines(df, n)\n",
    "#     df = remove_last_n_lines(df, x)\n",
    "    df = _minus(df)\n",
    "    df = remove_brackets_in_line(df)\n",
    "    df = remove_dots_in_line(df)\n",
    "    df = remove_blank_lines(df)\n",
    "    \n",
    "    return df"
   ]
  },
  {
   "cell_type": "code",
   "execution_count": 128,
   "metadata": {},
   "outputs": [],
   "source": [
    "df_movie = cleansing(df, 0, 0)"
   ]
  },
  {
   "cell_type": "code",
   "execution_count": 129,
   "metadata": {},
   "outputs": [
    {
     "data": {
      "text/html": [
       "<div>\n",
       "<style scoped>\n",
       "    .dataframe tbody tr th:only-of-type {\n",
       "        vertical-align: middle;\n",
       "    }\n",
       "\n",
       "    .dataframe tbody tr th {\n",
       "        vertical-align: top;\n",
       "    }\n",
       "\n",
       "    .dataframe thead th {\n",
       "        text-align: right;\n",
       "    }\n",
       "</style>\n",
       "<table border=\"1\" class=\"dataframe\">\n",
       "  <thead>\n",
       "    <tr style=\"text-align: right;\">\n",
       "      <th></th>\n",
       "      <th>0</th>\n",
       "    </tr>\n",
       "  </thead>\n",
       "  <tbody>\n",
       "    <tr>\n",
       "      <th>0</th>\n",
       "      <td>﻿Have you seen Dr. Meade?</td>\n",
       "    </tr>\n",
       "    <tr>\n",
       "      <th>2</th>\n",
       "      <td>Dr. Meade!</td>\n",
       "    </tr>\n",
       "    <tr>\n",
       "      <th>4</th>\n",
       "      <td>Oh, can you help me</td>\n",
       "    </tr>\n",
       "    <tr>\n",
       "      <th>5</th>\n",
       "      <td>find Dr. Meade?</td>\n",
       "    </tr>\n",
       "    <tr>\n",
       "      <th>7</th>\n",
       "      <td>God, help us.</td>\n",
       "    </tr>\n",
       "    <tr>\n",
       "      <th>...</th>\n",
       "      <td>...</td>\n",
       "    </tr>\n",
       "    <tr>\n",
       "      <th>6382</th>\n",
       "      <td>laying there, hardly breathing,</td>\n",
       "    </tr>\n",
       "    <tr>\n",
       "      <th>6384</th>\n",
       "      <td>and we ended up</td>\n",
       "    </tr>\n",
       "    <tr>\n",
       "      <th>6385</th>\n",
       "      <td>rolling her over, and she died.</td>\n",
       "    </tr>\n",
       "    <tr>\n",
       "      <th>6387</th>\n",
       "      <td>This is my town! We did not</td>\n",
       "    </tr>\n",
       "    <tr>\n",
       "      <th>6388</th>\n",
       "      <td>want them motherfuckers here!</td>\n",
       "    </tr>\n",
       "  </tbody>\n",
       "</table>\n",
       "<p>3945 rows × 1 columns</p>\n",
       "</div>"
      ],
      "text/plain": [
       "                                    0\n",
       "0           ﻿Have you seen Dr. Meade?\n",
       "2                          Dr. Meade!\n",
       "4                 Oh, can you help me\n",
       "5                     find Dr. Meade?\n",
       "7                       God, help us.\n",
       "...                               ...\n",
       "6382  laying there, hardly breathing,\n",
       "6384                  and we ended up\n",
       "6385  rolling her over, and she died.\n",
       "6387      This is my town! We did not\n",
       "6388    want them motherfuckers here!\n",
       "\n",
       "[3945 rows x 1 columns]"
      ]
     },
     "execution_count": 129,
     "metadata": {},
     "output_type": "execute_result"
    }
   ],
   "source": [
    "df_movie"
   ]
  },
  {
   "cell_type": "code",
   "execution_count": 130,
   "metadata": {},
   "outputs": [],
   "source": [
    "df_movie.to_csv('blackkklansman.csv')"
   ]
  },
  {
   "cell_type": "code",
   "execution_count": 111,
   "metadata": {},
   "outputs": [
    {
     "data": {
      "text/plain": [
       "RangeIndex(start=0, stop=1, step=1)"
      ]
     },
     "execution_count": 111,
     "metadata": {},
     "output_type": "execute_result"
    }
   ],
   "source": [
    "df_movie.columns"
   ]
  },
  {
   "cell_type": "code",
   "execution_count": null,
   "metadata": {},
   "outputs": [],
   "source": []
  },
  {
   "cell_type": "code",
   "execution_count": 66,
   "metadata": {},
   "outputs": [
    {
     "data": {
      "text/plain": [
       "\" I don't work with the males\""
      ]
     },
     "execution_count": 66,
     "metadata": {},
     "output_type": "execute_result"
    }
   ],
   "source": [
    "df_movie[0][1043]"
   ]
  },
  {
   "cell_type": "code",
   "execution_count": null,
   "metadata": {},
   "outputs": [],
   "source": []
  }
 ],
 "metadata": {
  "kernelspec": {
   "display_name": "Python 3",
   "language": "python",
   "name": "python3"
  },
  "language_info": {
   "codemirror_mode": {
    "name": "ipython",
    "version": 3
   },
   "file_extension": ".py",
   "mimetype": "text/x-python",
   "name": "python",
   "nbconvert_exporter": "python",
   "pygments_lexer": "ipython3",
   "version": "3.8.3"
  }
 },
 "nbformat": 4,
 "nbformat_minor": 4
}
