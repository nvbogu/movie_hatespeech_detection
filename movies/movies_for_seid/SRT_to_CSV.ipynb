{
 "cells": [
  {
   "cell_type": "code",
   "execution_count": 11,
   "id": "brilliant-highlight",
   "metadata": {},
   "outputs": [],
   "source": [
    "import re\n",
    "import numpy as np\n",
    "import zipfile\n",
    "import pandas as pd\n",
    "import glob\n",
    "import sys\n",
    "import os"
   ]
  },
  {
   "cell_type": "markdown",
   "id": "abb63dad-f4f9-4a1e-9af2-a6c9ec504863",
   "metadata": {},
   "source": [
    "- pulp fction\n",
    "- acsent è\n",
    "- Garçon,\n",
    "- ♪♪ [\"MISIRLOU\"] change that to [sound]\n",
    "- make the segmanted file"
   ]
  },
  {
   "cell_type": "code",
   "execution_count": 12,
   "id": "progressive-territory",
   "metadata": {},
   "outputs": [],
   "source": [
    "def srt_to_csv(movie_data, filename, destination):\n",
    "    df = pd.DataFrame(movie_data, columns=['dialog'])\n",
    "    #print(df.head())\n",
    "    #print(df.columns)\n",
    "\n",
    "    def cleansing(df, n, x):\n",
    "        def remove_blank_lines(df):\n",
    "            df.replace(\"\", np.nan, inplace=True)\n",
    "            df = df.dropna()\n",
    "            return df\n",
    "\n",
    "        def remove_brackets(df):\n",
    "            df = df.replace(r'^-?\\(.*\\)$', '', regex=True)\n",
    "            df = df.replace(r'\\(.*?\\)', '', regex=True)\n",
    "            return df\n",
    "\n",
    "        def strip_all_values(df):\n",
    "            df = df.apply(lambda x: x.str.strip())\n",
    "            return df\n",
    "\n",
    "        def remove_specialchars(df):\n",
    "            df = df.replace(r'[\\=\\-\\{\\}\\[\\]\\^\\#]', '', regex=True)\n",
    "            df = df.replace(r'\\\\... ', '', regex=True)\n",
    "            df = df.replace(r'<.*?>', '', regex=True)\n",
    "            df['dialog'] = df['dialog'].apply(lambda x: ''.join([\" \" if ord(i) < 32 or ord(i) > 126 else i for i in x]))\n",
    "            return df\n",
    "\n",
    "        def remove_nonchar_lines(df):\n",
    "            df = df.drop(df[df.dialog.str.contains(r'^\\d?\\d?\\d?\\d|\\d\\d:\\d\\d:\\d\\d,.*', regex=True)].index)\n",
    "            return df\n",
    "\n",
    "        def remove_first_n_lines(df, n):\n",
    "            df = df.iloc[n:]\n",
    "            return df\n",
    "        \n",
    "        \n",
    "\n",
    "        df = remove_blank_lines(df)\n",
    "        df = strip_all_values(df)\n",
    "        df = remove_brackets(df)\n",
    "        df = remove_nonchar_lines(df)\n",
    "        df = remove_specialchars(df)\n",
    "        df = remove_blank_lines(df)\n",
    "        df = remove_first_n_lines(df, n)\n",
    "        df = remove_blank_lines(df)\n",
    "\n",
    "        return df\n",
    "\n",
    "\n",
    "    df_movie = cleansing(df, 1, 0)\n",
    "\n",
    "    movie_txt = df_movie.dialog.values.tolist()\n",
    "\n",
    "    sent = ''\n",
    "    new_l = []\n",
    "    for t in movie_txt:\n",
    "        if t[-1] not in ['.', '?', '!']:\n",
    "            sent += t + ' '\n",
    "        else:\n",
    "            sent += t\n",
    "            new_l.append(sent)\n",
    "            sent = ''\n",
    "    df_movie_updated = pd.DataFrame(columns=['dialog'])\n",
    "    df_movie_updated['dialog'] = new_l\n",
    "    df_movie_updated.head()\n",
    "\n",
    "    #print(\"converting to csv\")\n",
    "    df_movie_updated.to_csv(destination + filename[4:-4]+'.csv')\n",
    "\n",
    "def main(path, destination):\n",
    "    for filename in glob.glob(path+'*.srt'):\n",
    "        #print(filename)\n",
    "        file_encoding = 'cp1252' \n",
    "        with open(filename, encoding=file_encoding, errors='replace') as f:\n",
    "            lines = f.readlines()\n",
    "        new_lines = srt_to_csv(lines, filename, destination)"
   ]
  },
  {
   "cell_type": "code",
   "execution_count": 14,
   "id": "actual-butterfly",
   "metadata": {},
   "outputs": [],
   "source": [
    "path = 'SRT/'\n",
    "destination = 'CSV/'\n",
    "main(path, destination)"
   ]
  },
  {
   "cell_type": "code",
   "execution_count": null,
   "id": "94ba8298-5ea6-49bc-b492-a03602e319d8",
   "metadata": {},
   "outputs": [],
   "source": []
  }
 ],
 "metadata": {
  "kernelspec": {
   "display_name": "Python 3",
   "language": "python",
   "name": "python3"
  },
  "language_info": {
   "codemirror_mode": {
    "name": "ipython",
    "version": 3
   },
   "file_extension": ".py",
   "mimetype": "text/x-python",
   "name": "python",
   "nbconvert_exporter": "python",
   "pygments_lexer": "ipython3",
   "version": "3.7.10"
  }
 },
 "nbformat": 4,
 "nbformat_minor": 5
}
