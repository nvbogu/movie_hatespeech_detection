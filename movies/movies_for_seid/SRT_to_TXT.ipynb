{
 "cells": [
  {
   "cell_type": "markdown",
   "id": "6c1786bd-aad8-466f-9f0c-cb1ba59417f7",
   "metadata": {},
   "source": [
    "## SRT to TXT"
   ]
  },
  {
   "cell_type": "code",
   "execution_count": 25,
   "id": "empty-helicopter",
   "metadata": {},
   "outputs": [],
   "source": [
    "import re\n",
    "import numpy as np\n",
    "import zipfile\n",
    "import pandas as pd\n",
    "import glob\n",
    "import sys\n",
    "import os"
   ]
  },
  {
   "cell_type": "code",
   "execution_count": 26,
   "id": "jewish-fifteen",
   "metadata": {},
   "outputs": [],
   "source": [
    "def srt_to_txt(path, destination):\n",
    "    def is_time_stamp(l):\n",
    "      if l[:2].isnumeric() and l[2] == ':':\n",
    "        return True\n",
    "      return False\n",
    "\n",
    "    def has_letters(line):\n",
    "      if re.search('[a-zA-Z]', line):\n",
    "        return True\n",
    "      return False\n",
    "\n",
    "    def has_no_text(line):\n",
    "      l = line.strip()\n",
    "      if not len(l):\n",
    "        return True\n",
    "      if l.isnumeric():\n",
    "        return True\n",
    "      if is_time_stamp(l):\n",
    "        return True\n",
    "      if l[0] == '(' and l[-1] == ')':\n",
    "        return True\n",
    "      if not has_letters(line):\n",
    "        return True\n",
    "      return False\n",
    "\n",
    "    def is_lowercase_letter_or_comma(letter):\n",
    "      if letter.isalpha() and letter.lower() == letter:\n",
    "        return True\n",
    "      if letter == ',':\n",
    "        return True\n",
    "      return False\n",
    "\n",
    "    def clean_up(lines):\n",
    "      \"\"\"\n",
    "      Get rid of all non-text lines and\n",
    "      try to combine text broken into multiple lines\n",
    "      \"\"\"\n",
    "      new_lines = []\n",
    "      for line in lines[1:]:\n",
    "        if has_no_text(line):\n",
    "          continue\n",
    "        elif len(new_lines) and is_lowercase_letter_or_comma(line[0]):\n",
    "          #combine with previous line\n",
    "          new_lines[-1] = new_lines[-1].strip() + ' ' + line\n",
    "        else:\n",
    "          #append line\n",
    "          new_lines.append(line)\n",
    "      return new_lines\n",
    "\n",
    "    \n",
    "    for filename in glob.glob(path+'*.srt'):\n",
    "        print(filename)\n",
    "        file_encoding = 'cp1252' \n",
    "        with open(filename, encoding=file_encoding, errors='replace') as f:\n",
    "            lines = f.readlines()\n",
    "        new_lines = clean_up(lines)\n",
    "        new_file_name = destination + '/' + filename[4:-4] + '.txt'\n",
    "        \n",
    "        # new_file_name = filename[:-4] + '.txt'\n",
    "        with open(new_file_name, 'w+') as f:\n",
    "            for line in new_lines:\n",
    "              f.write(line)\n",
    "        f.close()"
   ]
  },
  {
   "cell_type": "code",
   "execution_count": 27,
   "id": "generous-equity",
   "metadata": {},
   "outputs": [],
   "source": [
    "path = r'SRT/'\n",
    "destination = r'TXT'"
   ]
  },
  {
   "cell_type": "code",
   "execution_count": 28,
   "id": "3dd859ce-86de-48b9-9c28-a2a0d284c02f",
   "metadata": {},
   "outputs": [
    {
     "name": "stdout",
     "output_type": "stream",
     "text": [
      "SRT\\American History X (1998).en.srt\n",
      "SRT\\BlacKkKlansman (2018)23.976fps-134.49 min mp4 version-syn-edited-colorized-moreCompleted-Hi.srt\n",
      "SRT\\Django.Unchained.2012.720p.BluRay.DTS.x264-HDMaNiAcS.srt\n",
      "SRT\\Pulp.Fiction.1994.1080p.BluRay.EN.srt\n",
      "SRT\\South.Park.Bigger.Longer.and.Uncut.480p.BluRay.x264-MHQ.srt\n",
      "SRT\\The Wolf of Wall Street 2013 BluRay.srt\n"
     ]
    }
   ],
   "source": [
    "srt_to_txt(path, destination)"
   ]
  },
  {
   "cell_type": "code",
   "execution_count": null,
   "id": "831384ec-df7c-4671-8407-2767138290fe",
   "metadata": {},
   "outputs": [],
   "source": []
  }
 ],
 "metadata": {
  "kernelspec": {
   "display_name": "Python 3",
   "language": "python",
   "name": "python3"
  },
  "language_info": {
   "codemirror_mode": {
    "name": "ipython",
    "version": 3
   },
   "file_extension": ".py",
   "mimetype": "text/x-python",
   "name": "python",
   "nbconvert_exporter": "python",
   "pygments_lexer": "ipython3",
   "version": "3.7.10"
  }
 },
 "nbformat": 4,
 "nbformat_minor": 5
}
