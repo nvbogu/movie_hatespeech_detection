{
 "cells": [
  {
   "cell_type": "code",
   "execution_count": 1,
   "metadata": {},
   "outputs": [],
   "source": [
    "import pandas as pd"
   ]
  },
  {
   "cell_type": "markdown",
   "metadata": {},
   "source": [
    "# Loading Dataset"
   ]
  },
  {
   "cell_type": "code",
   "execution_count": 2,
   "metadata": {},
   "outputs": [],
   "source": [
    "def load_dataset(path):\n",
    "    df = pd.read_csv(path, index_col=0)\n",
    "    return df"
   ]
  },
  {
   "cell_type": "code",
   "execution_count": 3,
   "metadata": {},
   "outputs": [
    {
     "data": {
      "text/html": [
       "<div>\n",
       "<style scoped>\n",
       "    .dataframe tbody tr th:only-of-type {\n",
       "        vertical-align: middle;\n",
       "    }\n",
       "\n",
       "    .dataframe tbody tr th {\n",
       "        vertical-align: top;\n",
       "    }\n",
       "\n",
       "    .dataframe thead th {\n",
       "        text-align: right;\n",
       "    }\n",
       "</style>\n",
       "<table border=\"1\" class=\"dataframe\">\n",
       "  <thead>\n",
       "    <tr style=\"text-align: right;\">\n",
       "      <th></th>\n",
       "      <th>index</th>\n",
       "      <th>utterance</th>\n",
       "      <th>movie_name</th>\n",
       "      <th>tag</th>\n",
       "      <th>count_utterances</th>\n",
       "    </tr>\n",
       "  </thead>\n",
       "  <tbody>\n",
       "    <tr>\n",
       "      <th>0</th>\n",
       "      <td>0</td>\n",
       "      <td>I got here as fast as legally possible.</td>\n",
       "      <td>1917</td>\n",
       "      <td>friendship</td>\n",
       "      <td>1480</td>\n",
       "    </tr>\n",
       "    <tr>\n",
       "      <th>1</th>\n",
       "      <td>1</td>\n",
       "      <td>Do you have my will?</td>\n",
       "      <td>1917</td>\n",
       "      <td>friendship</td>\n",
       "      <td>1480</td>\n",
       "    </tr>\n",
       "    <tr>\n",
       "      <th>2</th>\n",
       "      <td>2</td>\n",
       "      <td>Yes, sir.</td>\n",
       "      <td>1917</td>\n",
       "      <td>friendship</td>\n",
       "      <td>1480</td>\n",
       "    </tr>\n",
       "    <tr>\n",
       "      <th>3</th>\n",
       "      <td>3</td>\n",
       "      <td>I think we should take him to the hospital.</td>\n",
       "      <td>1917</td>\n",
       "      <td>friendship</td>\n",
       "      <td>1480</td>\n",
       "    </tr>\n",
       "    <tr>\n",
       "      <th>4</th>\n",
       "      <td>4</td>\n",
       "      <td>No, George wants to stay at home.</td>\n",
       "      <td>1917</td>\n",
       "      <td>friendship</td>\n",
       "      <td>1480</td>\n",
       "    </tr>\n",
       "  </tbody>\n",
       "</table>\n",
       "</div>"
      ],
      "text/plain": [
       "   index                                    utterance movie_name         tag  \\\n",
       "0      0      I got here as fast as legally possible.       1917  friendship   \n",
       "1      1                         Do you have my will?       1917  friendship   \n",
       "2      2                                    Yes, sir.       1917  friendship   \n",
       "3      3  I think we should take him to the hospital.       1917  friendship   \n",
       "4      4            No, George wants to stay at home.       1917  friendship   \n",
       "\n",
       "   count_utterances  \n",
       "0              1480  \n",
       "1              1480  \n",
       "2              1480  \n",
       "3              1480  \n",
       "4              1480  "
      ]
     },
     "execution_count": 3,
     "metadata": {},
     "output_type": "execute_result"
    }
   ],
   "source": [
    "movies_df = load_dataset('data/all_movies_combined.csv')\n",
    "movies_df.head()"
   ]
  },
  {
   "cell_type": "code",
   "execution_count": 25,
   "metadata": {},
   "outputs": [
    {
     "data": {
      "text/html": [
       "<div>\n",
       "<style scoped>\n",
       "    .dataframe tbody tr th:only-of-type {\n",
       "        vertical-align: middle;\n",
       "    }\n",
       "\n",
       "    .dataframe tbody tr th {\n",
       "        vertical-align: top;\n",
       "    }\n",
       "\n",
       "    .dataframe thead th {\n",
       "        text-align: right;\n",
       "    }\n",
       "</style>\n",
       "<table border=\"1\" class=\"dataframe\">\n",
       "  <thead>\n",
       "    <tr style=\"text-align: right;\">\n",
       "      <th></th>\n",
       "      <th>index</th>\n",
       "      <th>movie_name</th>\n",
       "      <th>label_fox_news</th>\n",
       "    </tr>\n",
       "  </thead>\n",
       "  <tbody>\n",
       "    <tr>\n",
       "      <th>0</th>\n",
       "      <td>0</td>\n",
       "      <td>1917</td>\n",
       "      <td>Hate-Speech</td>\n",
       "    </tr>\n",
       "    <tr>\n",
       "      <th>1</th>\n",
       "      <td>1</td>\n",
       "      <td>1917</td>\n",
       "      <td>Non Hate-Speech</td>\n",
       "    </tr>\n",
       "    <tr>\n",
       "      <th>2</th>\n",
       "      <td>2</td>\n",
       "      <td>1917</td>\n",
       "      <td>Non Hate-Speech</td>\n",
       "    </tr>\n",
       "    <tr>\n",
       "      <th>3</th>\n",
       "      <td>3</td>\n",
       "      <td>1917</td>\n",
       "      <td>Non Hate-Speech</td>\n",
       "    </tr>\n",
       "    <tr>\n",
       "      <th>4</th>\n",
       "      <td>4</td>\n",
       "      <td>1917</td>\n",
       "      <td>Non Hate-Speech</td>\n",
       "    </tr>\n",
       "  </tbody>\n",
       "</table>\n",
       "</div>"
      ],
      "text/plain": [
       "   index movie_name   label_fox_news\n",
       "0      0       1917      Hate-Speech\n",
       "1      1       1917  Non Hate-Speech\n",
       "2      2       1917  Non Hate-Speech\n",
       "3      3       1917  Non Hate-Speech\n",
       "4      4       1917  Non Hate-Speech"
      ]
     },
     "execution_count": 25,
     "metadata": {},
     "output_type": "execute_result"
    }
   ],
   "source": [
    "annotations_word_embedding_fox_news_df = load_dataset('output/concat_movie_data_10epochs_fox.csv')\n",
    "annotations_word_embedding_fox_news_df = annotations_word_embedding_fox_news_df.drop(columns=['Unnamed: 0.1', 'utterance', 'tag', 'count_utterances', 'sentence'])\n",
    "annotations_word_embedding_fox_news_df['label'] = annotations_word_embedding_fox_news_df['label'].map({0: 'Non Hate-Speech', 1: 'Hate-Speech'})\n",
    "annotations_word_embedding_fox_news_df.rename(columns={'label': 'label_fox_news'}, inplace=True)\n",
    "annotations_word_embedding_fox_news_df.head()"
   ]
  },
  {
   "cell_type": "code",
   "execution_count": 26,
   "metadata": {},
   "outputs": [
    {
     "data": {
      "text/html": [
       "<div>\n",
       "<style scoped>\n",
       "    .dataframe tbody tr th:only-of-type {\n",
       "        vertical-align: middle;\n",
       "    }\n",
       "\n",
       "    .dataframe tbody tr th {\n",
       "        vertical-align: top;\n",
       "    }\n",
       "\n",
       "    .dataframe thead th {\n",
       "        text-align: right;\n",
       "    }\n",
       "</style>\n",
       "<table border=\"1\" class=\"dataframe\">\n",
       "  <thead>\n",
       "    <tr style=\"text-align: right;\">\n",
       "      <th></th>\n",
       "      <th>index</th>\n",
       "      <th>movie_name</th>\n",
       "      <th>label_twitter</th>\n",
       "    </tr>\n",
       "  </thead>\n",
       "  <tbody>\n",
       "    <tr>\n",
       "      <th>0</th>\n",
       "      <td>0</td>\n",
       "      <td>1917</td>\n",
       "      <td>Neither</td>\n",
       "    </tr>\n",
       "    <tr>\n",
       "      <th>1</th>\n",
       "      <td>1</td>\n",
       "      <td>1917</td>\n",
       "      <td>Neither</td>\n",
       "    </tr>\n",
       "    <tr>\n",
       "      <th>2</th>\n",
       "      <td>2</td>\n",
       "      <td>1917</td>\n",
       "      <td>Neither</td>\n",
       "    </tr>\n",
       "    <tr>\n",
       "      <th>3</th>\n",
       "      <td>3</td>\n",
       "      <td>1917</td>\n",
       "      <td>Neither</td>\n",
       "    </tr>\n",
       "    <tr>\n",
       "      <th>4</th>\n",
       "      <td>4</td>\n",
       "      <td>1917</td>\n",
       "      <td>Neither</td>\n",
       "    </tr>\n",
       "  </tbody>\n",
       "</table>\n",
       "</div>"
      ],
      "text/plain": [
       "   index movie_name label_twitter\n",
       "0      0       1917       Neither\n",
       "1      1       1917       Neither\n",
       "2      2       1917       Neither\n",
       "3      3       1917       Neither\n",
       "4      4       1917       Neither"
      ]
     },
     "execution_count": 26,
     "metadata": {},
     "output_type": "execute_result"
    }
   ],
   "source": [
    "annotations_word_embedding_twitter_df = load_dataset('output/concat_movie_data_twitter_10epochs.csv')\n",
    "annotations_word_embedding_twitter_df = annotations_word_embedding_twitter_df.drop(columns=['Unnamed: 0.1', 'utterance', 'tag', 'count_utterances', 'sentence'])\n",
    "annotations_word_embedding_twitter_df['label'] = annotations_word_embedding_twitter_df['label'].map({0: 'Hate-Speech', 1: 'Offensive Language', 2:'Neither'})\n",
    "annotations_word_embedding_twitter_df.rename(columns={'label': 'label_twitter'}, inplace=True)\n",
    "annotations_word_embedding_twitter_df.head()"
   ]
  },
  {
   "cell_type": "markdown",
   "metadata": {},
   "source": [
    "annotations_word_embedding_fox_news_df# Joining Datasets"
   ]
  },
  {
   "cell_type": "code",
   "execution_count": 27,
   "metadata": {},
   "outputs": [],
   "source": [
    "df_results = movies_df.merge(annotations_word_embedding_fox_news_df, on=['index', 'movie_name'])\n",
    "df_results = df_results.merge(annotations_word_embedding_twitter_df, on=['index', 'movie_name'])"
   ]
  },
  {
   "cell_type": "code",
   "execution_count": 28,
   "metadata": {},
   "outputs": [
    {
     "data": {
      "text/html": [
       "<div>\n",
       "<style scoped>\n",
       "    .dataframe tbody tr th:only-of-type {\n",
       "        vertical-align: middle;\n",
       "    }\n",
       "\n",
       "    .dataframe tbody tr th {\n",
       "        vertical-align: top;\n",
       "    }\n",
       "\n",
       "    .dataframe thead th {\n",
       "        text-align: right;\n",
       "    }\n",
       "</style>\n",
       "<table border=\"1\" class=\"dataframe\">\n",
       "  <thead>\n",
       "    <tr style=\"text-align: right;\">\n",
       "      <th></th>\n",
       "      <th>index</th>\n",
       "      <th>utterance</th>\n",
       "      <th>movie_name</th>\n",
       "      <th>tag</th>\n",
       "      <th>count_utterances</th>\n",
       "      <th>label_fox_news</th>\n",
       "      <th>label_twitter</th>\n",
       "    </tr>\n",
       "  </thead>\n",
       "  <tbody>\n",
       "    <tr>\n",
       "      <th>0</th>\n",
       "      <td>0</td>\n",
       "      <td>I got here as fast as legally possible.</td>\n",
       "      <td>1917</td>\n",
       "      <td>friendship</td>\n",
       "      <td>1480</td>\n",
       "      <td>Hate-Speech</td>\n",
       "      <td>Neither</td>\n",
       "    </tr>\n",
       "    <tr>\n",
       "      <th>1</th>\n",
       "      <td>1</td>\n",
       "      <td>Do you have my will?</td>\n",
       "      <td>1917</td>\n",
       "      <td>friendship</td>\n",
       "      <td>1480</td>\n",
       "      <td>Non Hate-Speech</td>\n",
       "      <td>Neither</td>\n",
       "    </tr>\n",
       "    <tr>\n",
       "      <th>2</th>\n",
       "      <td>2</td>\n",
       "      <td>Yes, sir.</td>\n",
       "      <td>1917</td>\n",
       "      <td>friendship</td>\n",
       "      <td>1480</td>\n",
       "      <td>Non Hate-Speech</td>\n",
       "      <td>Neither</td>\n",
       "    </tr>\n",
       "    <tr>\n",
       "      <th>3</th>\n",
       "      <td>3</td>\n",
       "      <td>I think we should take him to the hospital.</td>\n",
       "      <td>1917</td>\n",
       "      <td>friendship</td>\n",
       "      <td>1480</td>\n",
       "      <td>Non Hate-Speech</td>\n",
       "      <td>Neither</td>\n",
       "    </tr>\n",
       "    <tr>\n",
       "      <th>4</th>\n",
       "      <td>4</td>\n",
       "      <td>No, George wants to stay at home.</td>\n",
       "      <td>1917</td>\n",
       "      <td>friendship</td>\n",
       "      <td>1480</td>\n",
       "      <td>Non Hate-Speech</td>\n",
       "      <td>Neither</td>\n",
       "    </tr>\n",
       "  </tbody>\n",
       "</table>\n",
       "</div>"
      ],
      "text/plain": [
       "   index                                    utterance movie_name         tag  \\\n",
       "0      0      I got here as fast as legally possible.       1917  friendship   \n",
       "1      1                         Do you have my will?       1917  friendship   \n",
       "2      2                                    Yes, sir.       1917  friendship   \n",
       "3      3  I think we should take him to the hospital.       1917  friendship   \n",
       "4      4            No, George wants to stay at home.       1917  friendship   \n",
       "\n",
       "   count_utterances   label_fox_news label_twitter  \n",
       "0              1480      Hate-Speech       Neither  \n",
       "1              1480  Non Hate-Speech       Neither  \n",
       "2              1480  Non Hate-Speech       Neither  \n",
       "3              1480  Non Hate-Speech       Neither  \n",
       "4              1480  Non Hate-Speech       Neither  "
      ]
     },
     "execution_count": 28,
     "metadata": {},
     "output_type": "execute_result"
    }
   ],
   "source": [
    "df_results.head()"
   ]
  },
  {
   "cell_type": "markdown",
   "metadata": {},
   "source": [
    "## Analyse Results"
   ]
  },
  {
   "cell_type": "code",
   "execution_count": 29,
   "metadata": {},
   "outputs": [],
   "source": [
    "def plot_label_by_tag_distribution(df, title, label):\n",
    "    df = df_results.groupby('tag')[label].value_counts().to_frame('count').reset_index()\n",
    "    df_pivot = pd.pivot_table(\n",
    "        df,\n",
    "        values=\"count\",\n",
    "        index=\"tag\",\n",
    "        columns=label\n",
    "    )\n",
    "    ax = df_pivot.plot(kind='bar', title=title)\n",
    "    return ax"
   ]
  },
  {
   "cell_type": "code",
   "execution_count": 30,
   "metadata": {},
   "outputs": [],
   "source": [
    "def plot_label_by_tag_distribution_percentage(df, title, label):\n",
    "    ax = df_results.groupby('tag')[label].value_counts(normalize=True).unstack().plot(kind='bar', stacked = True, title=title)\n",
    "    for p in ax.patches:\n",
    "        width = p.get_width()\n",
    "        height = p.get_height()\n",
    "        x, y = p.get_xy() \n",
    "        a = round(x + width/2, 2)\n",
    "        b = round(y + height*1.00, 2)\n",
    "        height = round(height, 2)\n",
    "        ax.annotate(f'{height}', (a, b), ha='center')\n",
    "    ax.legend(bbox_to_anchor=(1.5, 1))\n",
    "    return ax"
   ]
  },
  {
   "cell_type": "markdown",
   "metadata": {},
   "source": [
    "# Word embedding"
   ]
  },
  {
   "cell_type": "markdown",
   "metadata": {},
   "source": [
    "## Fox News"
   ]
  },
  {
   "cell_type": "code",
   "execution_count": 31,
   "metadata": {},
   "outputs": [
    {
     "data": {
      "text/plain": [
       "<AxesSubplot:title={'center':'Label by tag distribution'}, xlabel='tag'>"
      ]
     },
     "execution_count": 31,
     "metadata": {},
     "output_type": "execute_result"
    },
    {
     "data": {
      "image/png": "[encoded data removed]",
      "text/plain": [
       "<Figure size 432x288 with 1 Axes>"
      ]
     },
     "metadata": {
      "needs_background": "light"
     },
     "output_type": "display_data"
    }
   ],
   "source": [
    "plot_label_by_tag_distribution(df_results, title='Label by tag distribution', label='label_fox_news')"
   ]
  },
  {
   "cell_type": "code",
   "execution_count": 32,
   "metadata": {},
   "outputs": [
    {
     "data": {
      "text/plain": [
       "<AxesSubplot:title={'center':'Label by tag distribution (Percentage)'}, xlabel='tag'>"
      ]
     },
     "execution_count": 32,
     "metadata": {},
     "output_type": "execute_result"
    },
    {
     "data": {
      "image/png": "[encoded data removed]",
      "text/plain": [
       "<Figure size 432x288 with 1 Axes>"
      ]
     },
     "metadata": {
      "needs_background": "light"
     },
     "output_type": "display_data"
    }
   ],
   "source": [
    "plot_label_by_tag_distribution_percentage(df_results, title='Label by tag distribution (Percentage)', label='label_fox_news')"
   ]
  },
  {
   "cell_type": "markdown",
   "metadata": {},
   "source": [
    "## hate speech examples"
   ]
  },
  {
   "cell_type": "code",
   "execution_count": 33,
   "metadata": {},
   "outputs": [
    {
     "name": "stdout",
     "output_type": "stream",
     "text": [
      " I got here as fast as legally possible.\n",
      "---\n",
      " That's me.\n",
      "---\n",
      " Oh, and who is this handsome young man?\n",
      "---\n",
      "He was about, oh, this tall when last you saw him.\n",
      "---\n",
      " It's in the car.\n",
      "---\n",
      "Just found this baby stashed in here.  That woman is a total bitch.\n",
      "---\n",
      " Yeah, he was going to but I brought it here.\n",
      "---\n",
      "I was completely drunk.\n",
      "---\n",
      "I got diddly squat when I worked for the old man.\n",
      "---\n",
      " Ya know, I remember it being bigger.\n",
      "---\n",
      " We're all blood.\n",
      "---\n",
      "I think she was from Iran or something.\n",
      "---\n",
      "She's just a child.\n",
      "---\n",
      "It's amazing, they look like polar bears.\n",
      "---\n",
      "Draw a bird up there.\n",
      "---\n",
      "Maybe a nest, a bird's nest.\n",
      "---\n",
      " Have some eggs in it.\n",
      "---\n",
      "I am so sick and tired of living in this old elephant house.\n",
      "---\n",
      " Well, truth be told, Mona was pregnant.\n",
      "---\n",
      " I don't know, but I'm pregnant.\n",
      "---\n",
      "Ya know, I can help arrange an abortion.\n",
      "---\n",
      "I wanna know what being a mother is like.\n",
      "---\n",
      " No idea.\n",
      "---\n",
      "It's a pretty cool and enchanting place.\n",
      "---\n",
      "Ya know, a real camera.\n",
      "---\n",
      "  You know, you are a sick family.\n",
      "---\n",
      "You never considered Mona to be a part of your family because of her Middle Eastern heritage and you felt her behavior undermined the family's dignity.\n",
      "---\n",
      "Mona is just a mixed up kid.\n",
      "---\n",
      "That's why we're all here.\n",
      "---\n",
      "You controlled half of Mr.\n",
      "---\n",
      "Woods' business and you were afraid Mona was gonna stand in the way of the other half after Mr.\n",
      "---\n",
      " So what's your point?\n",
      "---\n",
      " I know for a fact that she is.\n",
      "---\n",
      " No wonder people call you a slut.\n",
      "---\n",
      "A whore's daughter is a whore, too.\n",
      "---\n",
      "Guy doesn't even have a job.\n",
      "---\n",
      " Well, Mona is a vengeful woman.\n",
      "---\n",
      "I don't think this guy is doing all this for Uncle George, but for his big fat ego.\n",
      "---\n",
      " It's just this room.\n",
      "---\n",
      "He certainly wasn't.\n",
      "---\n"
     ]
    }
   ],
   "source": [
    "hatespeech_sentences = df_results[df_results.label_fox_news=='Hate-Speech'].utterance.values\n",
    "for i, utterance in enumerate(hatespeech_sentences):\n",
    "    if i == 40:\n",
    "        break\n",
    "    print(utterance)\n",
    "    print('---')"
   ]
  },
  {
   "cell_type": "markdown",
   "metadata": {},
   "source": [
    "# Word embedding"
   ]
  },
  {
   "cell_type": "markdown",
   "metadata": {},
   "source": [
    "## Twitter"
   ]
  },
  {
   "cell_type": "code",
   "execution_count": 34,
   "metadata": {},
   "outputs": [
    {
     "data": {
      "text/plain": [
       "<AxesSubplot:title={'center':'Label by tag distribution'}, xlabel='tag'>"
      ]
     },
     "execution_count": 34,
     "metadata": {},
     "output_type": "execute_result"
    },
    {
     "data": {
      "image/png": "[encoded data removed]",
      "text/plain": [
       "<Figure size 432x288 with 1 Axes>"
      ]
     },
     "metadata": {
      "needs_background": "light"
     },
     "output_type": "display_data"
    }
   ],
   "source": [
    "plot_label_by_tag_distribution(df_results, title='Label by tag distribution', label='label_twitter')"
   ]
  },
  {
   "cell_type": "code",
   "execution_count": 35,
   "metadata": {},
   "outputs": [
    {
     "data": {
      "text/plain": [
       "<AxesSubplot:title={'center':'Label by tag distribution (Percentage)'}, xlabel='tag'>"
      ]
     },
     "execution_count": 35,
     "metadata": {},
     "output_type": "execute_result"
    },
    {
     "data": {
      "image/png": "[encoded data removed]",
      "text/plain": [
       "<Figure size 432x288 with 1 Axes>"
      ]
     },
     "metadata": {
      "needs_background": "light"
     },
     "output_type": "display_data"
    }
   ],
   "source": [
    "plot_label_by_tag_distribution_percentage(df_results, title='Label by tag distribution (Percentage)', label='label_twitter')"
   ]
  },
  {
   "cell_type": "code",
   "execution_count": 37,
   "metadata": {},
   "outputs": [
    {
     "name": "stdout",
     "output_type": "stream",
     "text": [
      "It strengthens my suspicion that each one of you is a murder suspect.\n",
      "---\n",
      " I mean all of you had a motive to kill Mona.\n",
      "---\n",
      "Yes you are part of this.\n",
      "---\n",
      "I think you had a reason and opportunity to kill Mona as well.\n",
      "---\n",
      "Go back to where you belong, okay?\n",
      "---\n",
      " We've been over all this before, George, but without a body we can't press charges against your soninlaw or anyone else.\n",
      "---\n",
      "And that's how you handle irate relatives.\n",
      "---\n",
      " It's clear.\n",
      "---\n",
      "You thought you would plunder Mr. Woods' entire estate.\n",
      "---\n",
      " The old man overheard the rumors about you abusing Mona.\n",
      "---\n",
      "That's all I can tell from a quick glance.\n",
      "---\n",
      "I've seen many cases like yours.\n",
      "---\n",
      " Nadia saw you murder Mona.\n",
      "---\n",
      "Open this door!\n",
      "---\n",
      " I may be too old to remember a poem, but I'm young enough to remember who tried to murder me.\n",
      "---\n",
      " You don't think he's Mona's Casper, do you?\n",
      "---\n",
      " It's none of your business.\n",
      "---\n",
      "The sooner everyone knows he killed Mona, the sooner he goes to jail.\n",
      "---\n",
      "They're on their way.\n",
      "---\n",
      "You deserve to die.\n",
      "---\n",
      "... was to see a filthy, dirty old drunkie...\n",
      "---\n",
      "Go on! Do me in, you bastard cowards!\n",
      "---\n",
      "You'll have to go somewhere else.\n",
      "---\n",
      "He are here!\n",
      "---\n",
      "He have arrived!\n",
      "---\n",
      "So around we come to your abode.\n",
      "---\n",
      "As I am your droog and leader I'm entitled to know what goes on.\n",
      "---\n",
      "You're a big, strong chelloveck, like us all.\n",
      "---\n",
      "At last we meet.\n",
      "---\n",
      "Who are you?\n",
      "---\n",
      "...and get out of here before you get yourself into serious trouble.\n",
      "---\n",
      "Now get out of here...\n",
      "---\n",
      "Where are my treacherous droogs?\n",
      "---\n",
      "Get them before they get away!\n",
      "---\n",
      "It was all their idea, brothers.\n",
      "---\n",
      "It'll be your own torture.\n",
      "---\n",
      "...among smelly perverts and hardened prestoopniks.\n",
      "---\n",
      "You are now in H. M. Prison Parkmoor.\n",
      "---\n",
      "...and realize the punishments that await unrepentant sinners...\n",
      "---\n",
      "...of unrepentant criminal sinners like yourselves Don't you laugh, damn you!\n",
      "---\n"
     ]
    }
   ],
   "source": [
    "hatespeech_sentences = df_results[df_results.label_twitter=='Hate-Speech'].utterance.values\n",
    "for i, utterance in enumerate(hatespeech_sentences):\n",
    "    if i == 40:\n",
    "        break\n",
    "    print(utterance)\n",
    "    print('---')"
   ]
  },
  {
   "cell_type": "markdown",
   "metadata": {},
   "source": [
    "## Intersections"
   ]
  },
  {
   "cell_type": "markdown",
   "metadata": {},
   "source": [
    "### both are \"hate speech\""
   ]
  },
  {
   "cell_type": "code",
   "execution_count": 38,
   "metadata": {},
   "outputs": [],
   "source": [
    "df_intersections = df_results[(df_results.label_twitter=='Hate-Speech')&(df_results.label_fox_news=='Hate-Speech')]"
   ]
  },
  {
   "cell_type": "code",
   "execution_count": 39,
   "metadata": {},
   "outputs": [
    {
     "data": {
      "text/html": [
       "<div>\n",
       "<style scoped>\n",
       "    .dataframe tbody tr th:only-of-type {\n",
       "        vertical-align: middle;\n",
       "    }\n",
       "\n",
       "    .dataframe tbody tr th {\n",
       "        vertical-align: top;\n",
       "    }\n",
       "\n",
       "    .dataframe thead th {\n",
       "        text-align: right;\n",
       "    }\n",
       "</style>\n",
       "<table border=\"1\" class=\"dataframe\">\n",
       "  <thead>\n",
       "    <tr style=\"text-align: right;\">\n",
       "      <th></th>\n",
       "      <th>index</th>\n",
       "      <th>utterance</th>\n",
       "      <th>movie_name</th>\n",
       "      <th>tag</th>\n",
       "      <th>count_utterances</th>\n",
       "      <th>label_fox_news</th>\n",
       "      <th>label_twitter</th>\n",
       "    </tr>\n",
       "  </thead>\n",
       "  <tbody>\n",
       "    <tr>\n",
       "      <th>946</th>\n",
       "      <td>946</td>\n",
       "      <td>That's all I can tell from a quick glance.</td>\n",
       "      <td>1917</td>\n",
       "      <td>friendship</td>\n",
       "      <td>1480</td>\n",
       "      <td>Hate-Speech</td>\n",
       "      <td>Hate-Speech</td>\n",
       "    </tr>\n",
       "    <tr>\n",
       "      <th>1490</th>\n",
       "      <td>10</td>\n",
       "      <td>... was to see a filthy, dirty old drunkie...</td>\n",
       "      <td>A Clockwork Orange</td>\n",
       "      <td>friendship</td>\n",
       "      <td>1730</td>\n",
       "      <td>Hate-Speech</td>\n",
       "      <td>Hate-Speech</td>\n",
       "    </tr>\n",
       "    <tr>\n",
       "      <th>1721</th>\n",
       "      <td>241</td>\n",
       "      <td>He have arrived!</td>\n",
       "      <td>A Clockwork Orange</td>\n",
       "      <td>friendship</td>\n",
       "      <td>1730</td>\n",
       "      <td>Hate-Speech</td>\n",
       "      <td>Hate-Speech</td>\n",
       "    </tr>\n",
       "    <tr>\n",
       "      <th>1730</th>\n",
       "      <td>250</td>\n",
       "      <td>So around we come to your abode.</td>\n",
       "      <td>A Clockwork Orange</td>\n",
       "      <td>friendship</td>\n",
       "      <td>1730</td>\n",
       "      <td>Hate-Speech</td>\n",
       "      <td>Hate-Speech</td>\n",
       "    </tr>\n",
       "    <tr>\n",
       "      <th>1805</th>\n",
       "      <td>325</td>\n",
       "      <td>You're a big, strong chelloveck, like us all.</td>\n",
       "      <td>A Clockwork Orange</td>\n",
       "      <td>friendship</td>\n",
       "      <td>1730</td>\n",
       "      <td>Hate-Speech</td>\n",
       "      <td>Hate-Speech</td>\n",
       "    </tr>\n",
       "    <tr>\n",
       "      <th>...</th>\n",
       "      <td>...</td>\n",
       "      <td>...</td>\n",
       "      <td>...</td>\n",
       "      <td>...</td>\n",
       "      <td>...</td>\n",
       "      <td>...</td>\n",
       "      <td>...</td>\n",
       "    </tr>\n",
       "    <tr>\n",
       "      <th>360256</th>\n",
       "      <td>125</td>\n",
       "      <td>SPIT IN THEIR EYE.</td>\n",
       "      <td>X-Men</td>\n",
       "      <td>racism</td>\n",
       "      <td>948</td>\n",
       "      <td>Hate-Speech</td>\n",
       "      <td>Hate-Speech</td>\n",
       "    </tr>\n",
       "    <tr>\n",
       "      <th>360518</th>\n",
       "      <td>387</td>\n",
       "      <td>NO MATTER HOW LONG THEY LIVE WITH WHITE FOLKS,...</td>\n",
       "      <td>X-Men</td>\n",
       "      <td>racism</td>\n",
       "      <td>948</td>\n",
       "      <td>Hate-Speech</td>\n",
       "      <td>Hate-Speech</td>\n",
       "    </tr>\n",
       "    <tr>\n",
       "      <th>360760</th>\n",
       "      <td>629</td>\n",
       "      <td>HE ENDED UP BEING AN IMITATION WHITE MAN.</td>\n",
       "      <td>X-Men</td>\n",
       "      <td>racism</td>\n",
       "      <td>948</td>\n",
       "      <td>Hate-Speech</td>\n",
       "      <td>Hate-Speech</td>\n",
       "    </tr>\n",
       "    <tr>\n",
       "      <th>360941</th>\n",
       "      <td>810</td>\n",
       "      <td>THE WHITE MEN NEVER LEARN.</td>\n",
       "      <td>X-Men</td>\n",
       "      <td>racism</td>\n",
       "      <td>948</td>\n",
       "      <td>Hate-Speech</td>\n",
       "      <td>Hate-Speech</td>\n",
       "    </tr>\n",
       "    <tr>\n",
       "      <th>360999</th>\n",
       "      <td>868</td>\n",
       "      <td>ARE YOU SUGGESTING I DON'T KNOW HOW TO DEPORT ...</td>\n",
       "      <td>X-Men</td>\n",
       "      <td>racism</td>\n",
       "      <td>948</td>\n",
       "      <td>Hate-Speech</td>\n",
       "      <td>Hate-Speech</td>\n",
       "    </tr>\n",
       "  </tbody>\n",
       "</table>\n",
       "<p>3302 rows × 7 columns</p>\n",
       "</div>"
      ],
      "text/plain": [
       "        index                                          utterance  \\\n",
       "946       946         That's all I can tell from a quick glance.   \n",
       "1490       10      ... was to see a filthy, dirty old drunkie...   \n",
       "1721      241                                   He have arrived!   \n",
       "1730      250                   So around we come to your abode.   \n",
       "1805      325      You're a big, strong chelloveck, like us all.   \n",
       "...       ...                                                ...   \n",
       "360256    125                                 SPIT IN THEIR EYE.   \n",
       "360518    387  NO MATTER HOW LONG THEY LIVE WITH WHITE FOLKS,...   \n",
       "360760    629          HE ENDED UP BEING AN IMITATION WHITE MAN.   \n",
       "360941    810                         THE WHITE MEN NEVER LEARN.   \n",
       "360999    868  ARE YOU SUGGESTING I DON'T KNOW HOW TO DEPORT ...   \n",
       "\n",
       "                movie_name         tag  count_utterances label_fox_news  \\\n",
       "946                   1917  friendship              1480    Hate-Speech   \n",
       "1490    A Clockwork Orange  friendship              1730    Hate-Speech   \n",
       "1721    A Clockwork Orange  friendship              1730    Hate-Speech   \n",
       "1730    A Clockwork Orange  friendship              1730    Hate-Speech   \n",
       "1805    A Clockwork Orange  friendship              1730    Hate-Speech   \n",
       "...                    ...         ...               ...            ...   \n",
       "360256               X-Men      racism               948    Hate-Speech   \n",
       "360518               X-Men      racism               948    Hate-Speech   \n",
       "360760               X-Men      racism               948    Hate-Speech   \n",
       "360941               X-Men      racism               948    Hate-Speech   \n",
       "360999               X-Men      racism               948    Hate-Speech   \n",
       "\n",
       "       label_twitter  \n",
       "946      Hate-Speech  \n",
       "1490     Hate-Speech  \n",
       "1721     Hate-Speech  \n",
       "1730     Hate-Speech  \n",
       "1805     Hate-Speech  \n",
       "...              ...  \n",
       "360256   Hate-Speech  \n",
       "360518   Hate-Speech  \n",
       "360760   Hate-Speech  \n",
       "360941   Hate-Speech  \n",
       "360999   Hate-Speech  \n",
       "\n",
       "[3302 rows x 7 columns]"
      ]
     },
     "execution_count": 39,
     "metadata": {},
     "output_type": "execute_result"
    }
   ],
   "source": [
    "df_intersections"
   ]
  },
  {
   "cell_type": "markdown",
   "metadata": {},
   "source": [
    "### fox news is \"hate speech\" and twitter is \"offensive language\""
   ]
  },
  {
   "cell_type": "code",
   "execution_count": 40,
   "metadata": {},
   "outputs": [],
   "source": [
    "df_intersections = df_results[(df_results.label_twitter=='Offensive Language')&(df_results.label_fox_news=='Hate-Speech')]"
   ]
  },
  {
   "cell_type": "code",
   "execution_count": 41,
   "metadata": {},
   "outputs": [
    {
     "data": {
      "text/html": [
       "<div>\n",
       "<style scoped>\n",
       "    .dataframe tbody tr th:only-of-type {\n",
       "        vertical-align: middle;\n",
       "    }\n",
       "\n",
       "    .dataframe tbody tr th {\n",
       "        vertical-align: top;\n",
       "    }\n",
       "\n",
       "    .dataframe thead th {\n",
       "        text-align: right;\n",
       "    }\n",
       "</style>\n",
       "<table border=\"1\" class=\"dataframe\">\n",
       "  <thead>\n",
       "    <tr style=\"text-align: right;\">\n",
       "      <th></th>\n",
       "      <th>index</th>\n",
       "      <th>utterance</th>\n",
       "      <th>movie_name</th>\n",
       "      <th>tag</th>\n",
       "      <th>count_utterances</th>\n",
       "      <th>label_fox_news</th>\n",
       "      <th>label_twitter</th>\n",
       "    </tr>\n",
       "  </thead>\n",
       "  <tbody>\n",
       "    <tr>\n",
       "      <th>48</th>\n",
       "      <td>48</td>\n",
       "      <td>That's me.</td>\n",
       "      <td>1917</td>\n",
       "      <td>friendship</td>\n",
       "      <td>1480</td>\n",
       "      <td>Hate-Speech</td>\n",
       "      <td>Offensive Language</td>\n",
       "    </tr>\n",
       "    <tr>\n",
       "      <th>72</th>\n",
       "      <td>72</td>\n",
       "      <td>Just found this baby stashed in here.  That wo...</td>\n",
       "      <td>1917</td>\n",
       "      <td>friendship</td>\n",
       "      <td>1480</td>\n",
       "      <td>Hate-Speech</td>\n",
       "      <td>Offensive Language</td>\n",
       "    </tr>\n",
       "    <tr>\n",
       "      <th>109</th>\n",
       "      <td>109</td>\n",
       "      <td>I was completely drunk.</td>\n",
       "      <td>1917</td>\n",
       "      <td>friendship</td>\n",
       "      <td>1480</td>\n",
       "      <td>Hate-Speech</td>\n",
       "      <td>Offensive Language</td>\n",
       "    </tr>\n",
       "    <tr>\n",
       "      <th>136</th>\n",
       "      <td>136</td>\n",
       "      <td>I got diddly squat when I worked for the old man.</td>\n",
       "      <td>1917</td>\n",
       "      <td>friendship</td>\n",
       "      <td>1480</td>\n",
       "      <td>Hate-Speech</td>\n",
       "      <td>Offensive Language</td>\n",
       "    </tr>\n",
       "    <tr>\n",
       "      <th>169</th>\n",
       "      <td>169</td>\n",
       "      <td>We're all blood.</td>\n",
       "      <td>1917</td>\n",
       "      <td>friendship</td>\n",
       "      <td>1480</td>\n",
       "      <td>Hate-Speech</td>\n",
       "      <td>Offensive Language</td>\n",
       "    </tr>\n",
       "    <tr>\n",
       "      <th>...</th>\n",
       "      <td>...</td>\n",
       "      <td>...</td>\n",
       "      <td>...</td>\n",
       "      <td>...</td>\n",
       "      <td>...</td>\n",
       "      <td>...</td>\n",
       "      <td>...</td>\n",
       "    </tr>\n",
       "    <tr>\n",
       "      <th>360862</th>\n",
       "      <td>731</td>\n",
       "      <td>I WONDERED WHAT THE LITTLE RICH LADY WOULD LOO...</td>\n",
       "      <td>X-Men</td>\n",
       "      <td>racism</td>\n",
       "      <td>948</td>\n",
       "      <td>Hate-Speech</td>\n",
       "      <td>Offensive Language</td>\n",
       "    </tr>\n",
       "    <tr>\n",
       "      <th>360980</th>\n",
       "      <td>849</td>\n",
       "      <td>THE MAN HAD RAPED HER.</td>\n",
       "      <td>X-Men</td>\n",
       "      <td>racism</td>\n",
       "      <td>948</td>\n",
       "      <td>Hate-Speech</td>\n",
       "      <td>Offensive Language</td>\n",
       "    </tr>\n",
       "    <tr>\n",
       "      <th>360984</th>\n",
       "      <td>853</td>\n",
       "      <td>HE KILLED HER THERE WITH HIS HANDS.</td>\n",
       "      <td>X-Men</td>\n",
       "      <td>racism</td>\n",
       "      <td>948</td>\n",
       "      <td>Hate-Speech</td>\n",
       "      <td>Offensive Language</td>\n",
       "    </tr>\n",
       "    <tr>\n",
       "      <th>361014</th>\n",
       "      <td>883</td>\n",
       "      <td>GET UP THERE.</td>\n",
       "      <td>X-Men</td>\n",
       "      <td>racism</td>\n",
       "      <td>948</td>\n",
       "      <td>Hate-Speech</td>\n",
       "      <td>Offensive Language</td>\n",
       "    </tr>\n",
       "    <tr>\n",
       "      <th>361018</th>\n",
       "      <td>887</td>\n",
       "      <td>EASY, BOY.</td>\n",
       "      <td>X-Men</td>\n",
       "      <td>racism</td>\n",
       "      <td>948</td>\n",
       "      <td>Hate-Speech</td>\n",
       "      <td>Offensive Language</td>\n",
       "    </tr>\n",
       "  </tbody>\n",
       "</table>\n",
       "<p>14770 rows × 7 columns</p>\n",
       "</div>"
      ],
      "text/plain": [
       "        index                                          utterance movie_name  \\\n",
       "48         48                                         That's me.       1917   \n",
       "72         72  Just found this baby stashed in here.  That wo...       1917   \n",
       "109       109                            I was completely drunk.       1917   \n",
       "136       136  I got diddly squat when I worked for the old man.       1917   \n",
       "169       169                                   We're all blood.       1917   \n",
       "...       ...                                                ...        ...   \n",
       "360862    731  I WONDERED WHAT THE LITTLE RICH LADY WOULD LOO...      X-Men   \n",
       "360980    849                             THE MAN HAD RAPED HER.      X-Men   \n",
       "360984    853                HE KILLED HER THERE WITH HIS HANDS.      X-Men   \n",
       "361014    883                                      GET UP THERE.      X-Men   \n",
       "361018    887                                         EASY, BOY.      X-Men   \n",
       "\n",
       "               tag  count_utterances label_fox_news       label_twitter  \n",
       "48      friendship              1480    Hate-Speech  Offensive Language  \n",
       "72      friendship              1480    Hate-Speech  Offensive Language  \n",
       "109     friendship              1480    Hate-Speech  Offensive Language  \n",
       "136     friendship              1480    Hate-Speech  Offensive Language  \n",
       "169     friendship              1480    Hate-Speech  Offensive Language  \n",
       "...            ...               ...            ...                 ...  \n",
       "360862      racism               948    Hate-Speech  Offensive Language  \n",
       "360980      racism               948    Hate-Speech  Offensive Language  \n",
       "360984      racism               948    Hate-Speech  Offensive Language  \n",
       "361014      racism               948    Hate-Speech  Offensive Language  \n",
       "361018      racism               948    Hate-Speech  Offensive Language  \n",
       "\n",
       "[14770 rows x 7 columns]"
      ]
     },
     "execution_count": 41,
     "metadata": {},
     "output_type": "execute_result"
    }
   ],
   "source": [
    "df_intersections"
   ]
  },
  {
   "cell_type": "code",
   "execution_count": null,
   "metadata": {},
   "outputs": [],
   "source": []
  }
 ],
 "metadata": {
  "kernelspec": {
   "display_name": "Python 3",
   "language": "python",
   "name": "python3"
  },
  "language_info": {
   "codemirror_mode": {
    "name": "ipython",
    "version": 3
   },
   "file_extension": ".py",
   "mimetype": "text/x-python",
   "name": "python",
   "nbconvert_exporter": "python",
   "pygments_lexer": "ipython3",
   "version": "3.8.3"
  }
 },
 "nbformat": 4,
 "nbformat_minor": 4
}
