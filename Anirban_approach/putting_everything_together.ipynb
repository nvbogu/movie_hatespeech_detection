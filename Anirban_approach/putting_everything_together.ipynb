{
  "nbformat": 4,
  "nbformat_minor": 0,
  "metadata": {
    "kernelspec": {
      "display_name": "Python 3",
      "language": "python",
      "name": "python3"
    },
    "language_info": {
      "codemirror_mode": {
        "name": "ipython",
        "version": 3
      },
      "file_extension": ".py",
      "mimetype": "text/x-python",
      "name": "python",
      "nbconvert_exporter": "python",
      "pygments_lexer": "ipython3",
      "version": "3.8.5"
    },
    "colab": {
      "name": "putting_everything_together.ipynb",
      "provenance": []
    }
  },
  "cells": [
    {
      "cell_type": "code",
      "metadata": {
        "id": "uUVHp49MYvfc"
      },
      "source": [
        "import pandas as pd"
      ],
      "execution_count": null,
      "outputs": []
    },
    {
      "cell_type": "code",
      "metadata": {
        "colab": {
          "base_uri": "https://localhost:8080/"
        },
        "id": "Kuyjr_zGY77P",
        "outputId": "94e6dda8-a2f2-418f-cd1a-72e79f16afa1"
      },
      "source": [
        "from google.colab import drive\r\n",
        "drive.mount('/content/drive')#"
      ],
      "execution_count": null,
      "outputs": [
        {
          "output_type": "stream",
          "text": [
            "Drive already mounted at /content/drive; to attempt to forcibly remount, call drive.mount(\"/content/drive\", force_remount=True).\n"
          ],
          "name": "stdout"
        }
      ]
    },
    {
      "cell_type": "markdown",
      "metadata": {
        "id": "BFRDseZiYvfm"
      },
      "source": [
        "# Loading Dataset"
      ]
    },
    {
      "cell_type": "code",
      "metadata": {
        "id": "FlywjvGjYvfn"
      },
      "source": [
        "def load_dataset(path):\n",
        "    df = pd.read_csv(path, index_col=0)\n",
        "    return df"
      ],
      "execution_count": null,
      "outputs": []
    },
    {
      "cell_type": "code",
      "metadata": {
        "colab": {
          "base_uri": "https://localhost:8080/",
          "height": 202
        },
        "id": "lfTrOGXjYvfn",
        "outputId": "03ad560c-1ec2-4dce-e8bd-72181574379b"
      },
      "source": [
        "movies_df = load_dataset('drive/MyDrive/IAS/Semester3/NLP/data/all_movies.csv')\n",
        "movies_df.head()"
      ],
      "execution_count": null,
      "outputs": [
        {
          "output_type": "execute_result",
          "data": {
            "text/html": [
              "<div>\n",
              "<style scoped>\n",
              "    .dataframe tbody tr th:only-of-type {\n",
              "        vertical-align: middle;\n",
              "    }\n",
              "\n",
              "    .dataframe tbody tr th {\n",
              "        vertical-align: top;\n",
              "    }\n",
              "\n",
              "    .dataframe thead th {\n",
              "        text-align: right;\n",
              "    }\n",
              "</style>\n",
              "<table border=\"1\" class=\"dataframe\">\n",
              "  <thead>\n",
              "    <tr style=\"text-align: right;\">\n",
              "      <th></th>\n",
              "      <th>movie_name</th>\n",
              "      <th>index</th>\n",
              "      <th>utterance</th>\n",
              "      <th>count_utterances</th>\n",
              "      <th>tag</th>\n",
              "    </tr>\n",
              "  </thead>\n",
              "  <tbody>\n",
              "    <tr>\n",
              "      <th>0</th>\n",
              "      <td>12 Angry Men</td>\n",
              "      <td>0</td>\n",
              "      <td>Thank you very much, sir.</td>\n",
              "      <td>2065</td>\n",
              "      <td>racism</td>\n",
              "    </tr>\n",
              "    <tr>\n",
              "      <th>1</th>\n",
              "      <td>12 Angry Men</td>\n",
              "      <td>1</td>\n",
              "      <td>You did a wonderful job. Wonderful.</td>\n",
              "      <td>2065</td>\n",
              "      <td>racism</td>\n",
              "    </tr>\n",
              "    <tr>\n",
              "      <th>2</th>\n",
              "      <td>12 Angry Men</td>\n",
              "      <td>2</td>\n",
              "      <td>Shh. Shh.</td>\n",
              "      <td>2065</td>\n",
              "      <td>racism</td>\n",
              "    </tr>\n",
              "    <tr>\n",
              "      <th>3</th>\n",
              "      <td>12 Angry Men</td>\n",
              "      <td>3</td>\n",
              "      <td>We did it, Pete. We did it.</td>\n",
              "      <td>2065</td>\n",
              "      <td>racism</td>\n",
              "    </tr>\n",
              "    <tr>\n",
              "      <th>4</th>\n",
              "      <td>12 Angry Men</td>\n",
              "      <td>4</td>\n",
              "      <td>For a moment, we had our doubts.</td>\n",
              "      <td>2065</td>\n",
              "      <td>racism</td>\n",
              "    </tr>\n",
              "  </tbody>\n",
              "</table>\n",
              "</div>"
            ],
            "text/plain": [
              "     movie_name  index  ... count_utterances     tag\n",
              "0  12 Angry Men      0  ...             2065  racism\n",
              "1  12 Angry Men      1  ...             2065  racism\n",
              "2  12 Angry Men      2  ...             2065  racism\n",
              "3  12 Angry Men      3  ...             2065  racism\n",
              "4  12 Angry Men      4  ...             2065  racism\n",
              "\n",
              "[5 rows x 5 columns]"
            ]
          },
          "metadata": {
            "tags": []
          },
          "execution_count": 27
        }
      ]
    },
    {
      "cell_type": "code",
      "metadata": {
        "colab": {
          "base_uri": "https://localhost:8080/",
          "height": 415
        },
        "id": "02kVHjnqYvfp",
        "outputId": "8cd6f05a-e306-49d7-c556-4cdb41865760"
      },
      "source": [
        "annotations_LSTM_fox_news_df = load_dataset('drive/MyDrive/IAS/Semester3/NLP/annotations/annotations_LSTM_FoxNews.csv')\n",
        "annotations_LSTM_fox_news_df.rename(columns={'label': 'label_fox_news'}, inplace=True)\n",
        "annotations_LSTM_fox_news_df"
      ],
      "execution_count": null,
      "outputs": [
        {
          "output_type": "execute_result",
          "data": {
            "text/html": [
              "<div>\n",
              "<style scoped>\n",
              "    .dataframe tbody tr th:only-of-type {\n",
              "        vertical-align: middle;\n",
              "    }\n",
              "\n",
              "    .dataframe tbody tr th {\n",
              "        vertical-align: top;\n",
              "    }\n",
              "\n",
              "    .dataframe thead th {\n",
              "        text-align: right;\n",
              "    }\n",
              "</style>\n",
              "<table border=\"1\" class=\"dataframe\">\n",
              "  <thead>\n",
              "    <tr style=\"text-align: right;\">\n",
              "      <th></th>\n",
              "      <th>movie_name</th>\n",
              "      <th>index</th>\n",
              "      <th>label_fox_news</th>\n",
              "    </tr>\n",
              "  </thead>\n",
              "  <tbody>\n",
              "    <tr>\n",
              "      <th>0</th>\n",
              "      <td>A Time to Kill</td>\n",
              "      <td>0</td>\n",
              "      <td>not hate speech</td>\n",
              "    </tr>\n",
              "    <tr>\n",
              "      <th>1</th>\n",
              "      <td>A Time to Kill</td>\n",
              "      <td>1</td>\n",
              "      <td>not hate speech</td>\n",
              "    </tr>\n",
              "    <tr>\n",
              "      <th>2</th>\n",
              "      <td>A Time to Kill</td>\n",
              "      <td>2</td>\n",
              "      <td>not hate speech</td>\n",
              "    </tr>\n",
              "    <tr>\n",
              "      <th>3</th>\n",
              "      <td>A Time to Kill</td>\n",
              "      <td>3</td>\n",
              "      <td>not hate speech</td>\n",
              "    </tr>\n",
              "    <tr>\n",
              "      <th>4</th>\n",
              "      <td>A Time to Kill</td>\n",
              "      <td>4</td>\n",
              "      <td>not hate speech</td>\n",
              "    </tr>\n",
              "    <tr>\n",
              "      <th>...</th>\n",
              "      <td>...</td>\n",
              "      <td>...</td>\n",
              "      <td>...</td>\n",
              "    </tr>\n",
              "    <tr>\n",
              "      <th>359031</th>\n",
              "      <td>Wind River</td>\n",
              "      <td>1264</td>\n",
              "      <td>not hate speech</td>\n",
              "    </tr>\n",
              "    <tr>\n",
              "      <th>359032</th>\n",
              "      <td>Wind River</td>\n",
              "      <td>1265</td>\n",
              "      <td>not hate speech</td>\n",
              "    </tr>\n",
              "    <tr>\n",
              "      <th>359033</th>\n",
              "      <td>Wind River</td>\n",
              "      <td>1266</td>\n",
              "      <td>not hate speech</td>\n",
              "    </tr>\n",
              "    <tr>\n",
              "      <th>359034</th>\n",
              "      <td>Wind River</td>\n",
              "      <td>1267</td>\n",
              "      <td>hate speech</td>\n",
              "    </tr>\n",
              "    <tr>\n",
              "      <th>359035</th>\n",
              "      <td>Wind River</td>\n",
              "      <td>1268</td>\n",
              "      <td>not hate speech</td>\n",
              "    </tr>\n",
              "  </tbody>\n",
              "</table>\n",
              "<p>359036 rows × 3 columns</p>\n",
              "</div>"
            ],
            "text/plain": [
              "            movie_name  index   label_fox_news\n",
              "0       A Time to Kill      0  not hate speech\n",
              "1       A Time to Kill      1  not hate speech\n",
              "2       A Time to Kill      2  not hate speech\n",
              "3       A Time to Kill      3  not hate speech\n",
              "4       A Time to Kill      4  not hate speech\n",
              "...                ...    ...              ...\n",
              "359031      Wind River   1264  not hate speech\n",
              "359032      Wind River   1265  not hate speech\n",
              "359033      Wind River   1266  not hate speech\n",
              "359034      Wind River   1267      hate speech\n",
              "359035      Wind River   1268  not hate speech\n",
              "\n",
              "[359036 rows x 3 columns]"
            ]
          },
          "metadata": {
            "tags": []
          },
          "execution_count": 28
        }
      ]
    },
    {
      "cell_type": "code",
      "metadata": {
        "colab": {
          "base_uri": "https://localhost:8080/",
          "height": 415
        },
        "id": "FrM5E9TtYvfq",
        "outputId": "0bb02322-ea77-4540-9eb7-080141597427"
      },
      "source": [
        "annotations_LSTM_twitter_df = load_dataset('drive/MyDrive/IAS/Semester3/NLP/annotations/annotations_LSTM_twitter.csv')\n",
        "annotations_LSTM_twitter_df.rename(columns={'label': 'label_twitter'}, inplace=True)\n",
        "annotations_LSTM_twitter_df"
      ],
      "execution_count": null,
      "outputs": [
        {
          "output_type": "execute_result",
          "data": {
            "text/html": [
              "<div>\n",
              "<style scoped>\n",
              "    .dataframe tbody tr th:only-of-type {\n",
              "        vertical-align: middle;\n",
              "    }\n",
              "\n",
              "    .dataframe tbody tr th {\n",
              "        vertical-align: top;\n",
              "    }\n",
              "\n",
              "    .dataframe thead th {\n",
              "        text-align: right;\n",
              "    }\n",
              "</style>\n",
              "<table border=\"1\" class=\"dataframe\">\n",
              "  <thead>\n",
              "    <tr style=\"text-align: right;\">\n",
              "      <th></th>\n",
              "      <th>movie_name</th>\n",
              "      <th>index</th>\n",
              "      <th>label_twitter</th>\n",
              "    </tr>\n",
              "  </thead>\n",
              "  <tbody>\n",
              "    <tr>\n",
              "      <th>0</th>\n",
              "      <td>Falling Down</td>\n",
              "      <td>0</td>\n",
              "      <td>offensive language</td>\n",
              "    </tr>\n",
              "    <tr>\n",
              "      <th>1</th>\n",
              "      <td>Falling Down</td>\n",
              "      <td>1</td>\n",
              "      <td>offensive language</td>\n",
              "    </tr>\n",
              "    <tr>\n",
              "      <th>2</th>\n",
              "      <td>Falling Down</td>\n",
              "      <td>2</td>\n",
              "      <td>offensive language</td>\n",
              "    </tr>\n",
              "    <tr>\n",
              "      <th>3</th>\n",
              "      <td>Falling Down</td>\n",
              "      <td>3</td>\n",
              "      <td>neither</td>\n",
              "    </tr>\n",
              "    <tr>\n",
              "      <th>4</th>\n",
              "      <td>Falling Down</td>\n",
              "      <td>4</td>\n",
              "      <td>offensive language</td>\n",
              "    </tr>\n",
              "    <tr>\n",
              "      <th>...</th>\n",
              "      <td>...</td>\n",
              "      <td>...</td>\n",
              "      <td>...</td>\n",
              "    </tr>\n",
              "    <tr>\n",
              "      <th>359031</th>\n",
              "      <td>The Social Network</td>\n",
              "      <td>2405</td>\n",
              "      <td>offensive language</td>\n",
              "    </tr>\n",
              "    <tr>\n",
              "      <th>359032</th>\n",
              "      <td>The Social Network</td>\n",
              "      <td>2406</td>\n",
              "      <td>offensive language</td>\n",
              "    </tr>\n",
              "    <tr>\n",
              "      <th>359033</th>\n",
              "      <td>The Social Network</td>\n",
              "      <td>2407</td>\n",
              "      <td>offensive language</td>\n",
              "    </tr>\n",
              "    <tr>\n",
              "      <th>359034</th>\n",
              "      <td>The Social Network</td>\n",
              "      <td>2408</td>\n",
              "      <td>neither</td>\n",
              "    </tr>\n",
              "    <tr>\n",
              "      <th>359035</th>\n",
              "      <td>The Social Network</td>\n",
              "      <td>2409</td>\n",
              "      <td>offensive language</td>\n",
              "    </tr>\n",
              "  </tbody>\n",
              "</table>\n",
              "<p>359036 rows × 3 columns</p>\n",
              "</div>"
            ],
            "text/plain": [
              "                movie_name  index       label_twitter\n",
              "0             Falling Down      0  offensive language\n",
              "1             Falling Down      1  offensive language\n",
              "2             Falling Down      2  offensive language\n",
              "3             Falling Down      3             neither\n",
              "4             Falling Down      4  offensive language\n",
              "...                    ...    ...                 ...\n",
              "359031  The Social Network   2405  offensive language\n",
              "359032  The Social Network   2406  offensive language\n",
              "359033  The Social Network   2407  offensive language\n",
              "359034  The Social Network   2408             neither\n",
              "359035  The Social Network   2409  offensive language\n",
              "\n",
              "[359036 rows x 3 columns]"
            ]
          },
          "metadata": {
            "tags": []
          },
          "execution_count": 29
        }
      ]
    },
    {
      "cell_type": "markdown",
      "metadata": {
        "id": "GGryHhhlYvfr"
      },
      "source": [
        "# Joining Datasets"
      ]
    },
    {
      "cell_type": "code",
      "metadata": {
        "id": "VxmWNX7FYvfr"
      },
      "source": [
        "df_results = movies_df.merge(annotations_LSTM_fox_news_df, on=['index', 'movie_name'])\n",
        "df_results = df_results.merge(annotations_LSTM_twitter_df, on=['index', 'movie_name'])"
      ],
      "execution_count": null,
      "outputs": []
    },
    {
      "cell_type": "code",
      "metadata": {
        "colab": {
          "base_uri": "https://localhost:8080/",
          "height": 202
        },
        "id": "CSgHKMc-Yvfs",
        "outputId": "50e325fd-44cd-4a5b-fa76-ccddc41ac834"
      },
      "source": [
        "df_results.head()"
      ],
      "execution_count": null,
      "outputs": [
        {
          "output_type": "execute_result",
          "data": {
            "text/html": [
              "<div>\n",
              "<style scoped>\n",
              "    .dataframe tbody tr th:only-of-type {\n",
              "        vertical-align: middle;\n",
              "    }\n",
              "\n",
              "    .dataframe tbody tr th {\n",
              "        vertical-align: top;\n",
              "    }\n",
              "\n",
              "    .dataframe thead th {\n",
              "        text-align: right;\n",
              "    }\n",
              "</style>\n",
              "<table border=\"1\" class=\"dataframe\">\n",
              "  <thead>\n",
              "    <tr style=\"text-align: right;\">\n",
              "      <th></th>\n",
              "      <th>movie_name</th>\n",
              "      <th>index</th>\n",
              "      <th>utterance</th>\n",
              "      <th>count_utterances</th>\n",
              "      <th>tag</th>\n",
              "      <th>label_fox_news</th>\n",
              "      <th>label_twitter</th>\n",
              "    </tr>\n",
              "  </thead>\n",
              "  <tbody>\n",
              "    <tr>\n",
              "      <th>0</th>\n",
              "      <td>12 Angry Men</td>\n",
              "      <td>0</td>\n",
              "      <td>Thank you very much, sir.</td>\n",
              "      <td>2065</td>\n",
              "      <td>racism</td>\n",
              "      <td>not hate speech</td>\n",
              "      <td>hate speech</td>\n",
              "    </tr>\n",
              "    <tr>\n",
              "      <th>1</th>\n",
              "      <td>12 Angry Men</td>\n",
              "      <td>1</td>\n",
              "      <td>You did a wonderful job. Wonderful.</td>\n",
              "      <td>2065</td>\n",
              "      <td>racism</td>\n",
              "      <td>not hate speech</td>\n",
              "      <td>offensive language</td>\n",
              "    </tr>\n",
              "    <tr>\n",
              "      <th>2</th>\n",
              "      <td>12 Angry Men</td>\n",
              "      <td>2</td>\n",
              "      <td>Shh. Shh.</td>\n",
              "      <td>2065</td>\n",
              "      <td>racism</td>\n",
              "      <td>not hate speech</td>\n",
              "      <td>neither</td>\n",
              "    </tr>\n",
              "    <tr>\n",
              "      <th>3</th>\n",
              "      <td>12 Angry Men</td>\n",
              "      <td>3</td>\n",
              "      <td>We did it, Pete. We did it.</td>\n",
              "      <td>2065</td>\n",
              "      <td>racism</td>\n",
              "      <td>not hate speech</td>\n",
              "      <td>offensive language</td>\n",
              "    </tr>\n",
              "    <tr>\n",
              "      <th>4</th>\n",
              "      <td>12 Angry Men</td>\n",
              "      <td>4</td>\n",
              "      <td>For a moment, we had our doubts.</td>\n",
              "      <td>2065</td>\n",
              "      <td>racism</td>\n",
              "      <td>not hate speech</td>\n",
              "      <td>offensive language</td>\n",
              "    </tr>\n",
              "  </tbody>\n",
              "</table>\n",
              "</div>"
            ],
            "text/plain": [
              "     movie_name  index  ...   label_fox_news       label_twitter\n",
              "0  12 Angry Men      0  ...  not hate speech         hate speech\n",
              "1  12 Angry Men      1  ...  not hate speech  offensive language\n",
              "2  12 Angry Men      2  ...  not hate speech             neither\n",
              "3  12 Angry Men      3  ...  not hate speech  offensive language\n",
              "4  12 Angry Men      4  ...  not hate speech  offensive language\n",
              "\n",
              "[5 rows x 7 columns]"
            ]
          },
          "metadata": {
            "tags": []
          },
          "execution_count": 31
        }
      ]
    },
    {
      "cell_type": "markdown",
      "metadata": {
        "id": "17HXQbubYvfs"
      },
      "source": [
        "## Analyse Results"
      ]
    },
    {
      "cell_type": "code",
      "metadata": {
        "id": "WNoeZm0TYvft"
      },
      "source": [
        "def plot_label_by_tag_distribution(df, title, label):\n",
        "    df = df_results.groupby('tag')[label].value_counts().to_frame('count').reset_index()\n",
        "    df_pivot = pd.pivot_table(\n",
        "        df,\n",
        "        values=\"count\",\n",
        "        index=\"tag\",\n",
        "        columns=label\n",
        "    )\n",
        "    ax = df_pivot.plot(kind='bar', title=title)\n",
        "    return ax"
      ],
      "execution_count": null,
      "outputs": []
    },
    {
      "cell_type": "code",
      "metadata": {
        "id": "XQvq70VGYvft"
      },
      "source": [
        "def plot_label_by_tag_distribution_percentage(df, title, label):\n",
        "    ax = df_results.groupby('tag')[label].value_counts(normalize=True).unstack().plot(kind='bar', stacked = True, title=title)\n",
        "    for p in ax.patches:\n",
        "        width = p.get_width()\n",
        "        height = p.get_height()\n",
        "        x, y = p.get_xy() \n",
        "        a = round(x + width/2, 2)\n",
        "        b = round(y + height*1.00, 2)\n",
        "        height = round(height, 2)\n",
        "        ax.annotate(f'{height}', (a, b), ha='center')\n",
        "    ax.legend(bbox_to_anchor=(1.5, 1))\n",
        "    return ax"
      ],
      "execution_count": null,
      "outputs": []
    },
    {
      "cell_type": "markdown",
      "metadata": {
        "id": "zW3BSwPQYvfu"
      },
      "source": [
        "# Word embedding"
      ]
    },
    {
      "cell_type": "markdown",
      "metadata": {
        "id": "oFczrwg8Yvfu"
      },
      "source": [
        "## Fox News"
      ]
    },
    {
      "cell_type": "code",
      "metadata": {
        "colab": {
          "base_uri": "https://localhost:8080/",
          "height": 365
        },
        "id": "SSV91MbTYvfu",
        "outputId": "fbe56959-340b-42bc-be20-160eb32e9e71"
      },
      "source": [
        "plot_label_by_tag_distribution(df_results, title='Label by tag distribution', label='label_fox_news')"
      ],
      "execution_count": null,
      "outputs": [
        {
          "output_type": "execute_result",
          "data": {
            "text/plain": [
              "<matplotlib.axes._subplots.AxesSubplot at 0x7fe525bdd6d8>"
            ]
          },
          "metadata": {
            "tags": []
          },
          "execution_count": 34
        },
        {
          "output_type": "display_data",
          "data": {
            "image/png": "[encoded data removed]",
            "text/plain": [
              "<Figure size 432x288 with 1 Axes>"
            ]
          },
          "metadata": {
            "tags": [],
            "needs_background": "light"
          }
        }
      ]
    },
    {
      "cell_type": "code",
      "metadata": {
        "colab": {
          "base_uri": "https://localhost:8080/",
          "height": 365
        },
        "id": "20pKXWmVYvfv",
        "outputId": "e0ac6120-53e3-475c-cce3-7363cf3b3573"
      },
      "source": [
        "plot_label_by_tag_distribution_percentage(df_results, title='Label by tag distribution (Percentage)', label='label_fox_news')"
      ],
      "execution_count": null,
      "outputs": [
        {
          "output_type": "execute_result",
          "data": {
            "text/plain": [
              "<matplotlib.axes._subplots.AxesSubplot at 0x7fe529069390>"
            ]
          },
          "metadata": {
            "tags": []
          },
          "execution_count": 35
        },
        {
          "output_type": "display_data",
          "data": {
            "image/png": "[encoded data removed]",
            "text/plain": [
              "<Figure size 432x288 with 1 Axes>"
            ]
          },
          "metadata": {
            "tags": [],
            "needs_background": "light"
          }
        }
      ]
    },
    {
      "cell_type": "markdown",
      "metadata": {
        "id": "8lyveqInYvfw"
      },
      "source": [
        "## hate speech examples"
      ]
    },
    {
      "cell_type": "code",
      "metadata": {
        "colab": {
          "base_uri": "https://localhost:8080/"
        },
        "id": "ZThX5uOOYvfw",
        "outputId": "1943508e-4008-4620-8fbd-a969547ac3b0"
      },
      "source": [
        "hatespeech_sentences = df_results[df_results.label_fox_news=='hate speech'].utterance.values\n",
        "for i, utterance in enumerate(hatespeech_sentences):\n",
        "    if i == 40:\n",
        "        break\n",
        "    print(utterance)\n",
        "    print('---')"
      ],
      "execution_count": null,
      "outputs": [
        {
          "output_type": "stream",
          "text": [
            "If there's a reasonable doubt in your minds as to the guilt of the accused...\n",
            "---\n",
            "Now, if there's anything you want, I'll be right outside the door.\n",
            "---\n",
            "Sure they lock the door.\n",
            "---\n",
            "Oh, I thought we might want to vote by ballot.\n",
            "---\n",
            "It was pretty interesting.\n",
            "---\n",
            "What gets me is the way those lawyers talk and talk and talk...\n",
            "---\n",
            "Well, I guess they're entitled.\n",
            "---\n",
            " We probably all got things to do here.\n",
            "---\n",
            "I mean, it had a lot of interest for me.\n",
            "---\n",
            "I figured us for an assault or burglary.\n",
            "---\n",
            "Well, I expected that.\n",
            "---\n",
            "Got 37 men working.\n",
            "---\n",
            "You're a real baseball fan, aren't you?\n",
            "---\n",
            "One, two, three, four, five  so on, around the table.\n",
            "---\n",
            "If that's okay with you gentlemen.\n",
            "---\n",
            " We start with you. One, right?\n",
            "---\n",
            " One, yeah. Two, three, four, five, six.\n",
            "---\n",
            "Okay. Two. You're two.\n",
            "---\n",
            "I thought he was really sharp, the way he handled all those points one by one.\n",
            "---\n",
            "Oh, forgive me, gentlemen.\n",
            "---\n",
            "Uh, we can, well, discuss it first and, uh, then vote on it.\n",
            "---\n",
            "I think it's customary to take a preliminary vote.\n",
            "---\n",
            "uh, we've got to send him to the chair.\n",
            "---\n",
            " We might as well.\n",
            "---\n",
            "One, two, three, four, five, six, seven...\n",
            "---\n",
            "Okay. That's 11 guilty.\n",
            "---\n",
            "That's 11 guilty. One not guilty.\n",
            "---\n",
            " What's there to talk about?\n",
            "---\n",
            "I want to ask you something.\n",
            "---\n",
            "I don't know whether I believe it or not.\n",
            "---\n",
            "Well, there were 11 votes for guilty.\n",
            "---\n",
            "Who's got something to say?\n",
            "---\n",
            "What are we sitting here for?\n",
            "---\n",
            "his father was serving a jail term for forgery.\n",
            "---\n",
            "He's a  a wild, angry kid.\n",
            "---\n",
            "'Cause he's been hit on the head by somebody once a day every day.\n",
            "---\n",
            "He's had a  He's had a pretty miserable 18 years.\n",
            "---\n",
            "I  I just think we owe him a few words.\n",
            "---\n",
            " We have a job to do. Now let's do it.\n",
            "---\n",
            " Very catchy.\n",
            "---\n"
          ],
          "name": "stdout"
        }
      ]
    },
    {
      "cell_type": "markdown",
      "metadata": {
        "id": "BsNEj-fmYvfw"
      },
      "source": [
        "# Word embedding"
      ]
    },
    {
      "cell_type": "markdown",
      "metadata": {
        "id": "nOE0zo07Yvfx"
      },
      "source": [
        "## Twitter"
      ]
    },
    {
      "cell_type": "code",
      "metadata": {
        "colab": {
          "base_uri": "https://localhost:8080/",
          "height": 365
        },
        "id": "lk3xBydmYvfx",
        "outputId": "5742c82f-518b-46c9-b42b-3894d0493495"
      },
      "source": [
        "plot_label_by_tag_distribution(df_results, title='Label by tag distribution', label='label_twitter')"
      ],
      "execution_count": null,
      "outputs": [
        {
          "output_type": "execute_result",
          "data": {
            "text/plain": [
              "<matplotlib.axes._subplots.AxesSubplot at 0x7fe525b14390>"
            ]
          },
          "metadata": {
            "tags": []
          },
          "execution_count": 37
        },
        {
          "output_type": "display_data",
          "data": {
            "image/png": "[encoded data removed]",
            "text/plain": [
              "<Figure size 432x288 with 1 Axes>"
            ]
          },
          "metadata": {
            "tags": [],
            "needs_background": "light"
          }
        }
      ]
    },
    {
      "cell_type": "code",
      "metadata": {
        "colab": {
          "base_uri": "https://localhost:8080/",
          "height": 365
        },
        "id": "C_f61maRYvfy",
        "outputId": "4ad8d02d-6c15-4695-df93-cd470def5d6b"
      },
      "source": [
        "plot_label_by_tag_distribution_percentage(df_results, title='Label by tag distribution (Percentage)', label='label_twitter')"
      ],
      "execution_count": null,
      "outputs": [
        {
          "output_type": "execute_result",
          "data": {
            "text/plain": [
              "<matplotlib.axes._subplots.AxesSubplot at 0x7fe525a594a8>"
            ]
          },
          "metadata": {
            "tags": []
          },
          "execution_count": 38
        },
        {
          "output_type": "display_data",
          "data": {
            "image/png": "[encoded data removed]",
            "text/plain": [
              "<Figure size 432x288 with 1 Axes>"
            ]
          },
          "metadata": {
            "tags": [],
            "needs_background": "light"
          }
        }
      ]
    },
    {
      "cell_type": "code",
      "metadata": {
        "colab": {
          "base_uri": "https://localhost:8080/"
        },
        "id": "tsUb9IvVYvfz",
        "outputId": "1479f036-d69e-4f0b-a3b0-8331e89eed71"
      },
      "source": [
        "hatespeech_sentences = df_results[df_results.label_twitter=='hate speech'].utterance.values\n",
        "for i, utterance in enumerate(hatespeech_sentences):\n",
        "    if i == 40:\n",
        "        break\n",
        "    print(utterance)\n",
        "    print('---')"
      ],
      "execution_count": null,
      "outputs": [
        {
          "output_type": "stream",
          "text": [
            "Thank you very much, sir.\n",
            "---\n",
            "Hey. Oh, oh.\n",
            "---\n",
            " No, thanks.\n",
            "---\n",
            " Come on, I'll give you a hand.\n",
            "---\n",
            "That's it.\n",
            "---\n",
            "Hey.\n",
            "---\n",
            " Sure.\n",
            "---\n",
            " Sure.\n",
            "---\n",
            "Gentleman at the window.\n",
            "---\n",
            "Look, what's the difference how long it takes?\n",
            "---\n",
            "That's not why we're sitting here.\n",
            "---\n",
            "What are we sitting here for?\n",
            "---\n",
            " Only an ignorant man can believe that.\n",
            "---\n",
            "Do you think you were born with a monopoly on the truth?\n",
            "---\n",
            "Well, uh...\n",
            "---\n",
            "At 10 minutes after 12:00 on the night of the killing...\n",
            "---\n",
            "She's dying with the heat.\n",
            "---\n",
            "Then they heard the father hit the boy twice.\n",
            "---\n",
            "Well, it don't exactly prove anything.\n",
            "---\n",
            "I think we're missing the point here.\n",
            "---\n",
            "Let's go.\n",
            "---\n",
            " Where'd you get that?\n",
            "---\n",
            "Well, that's it.\n",
            "---\n",
            "I did.\n",
            "---\n",
            "Some account exec will get up, and he'll say, uh...\n",
            "---\n",
            "Uh...\n",
            "---\n",
            "Uh...\n",
            "---\n",
            " Okay, go.\n",
            "---\n",
            "She said she saw the killing through the windows of a moving elevated train.\n",
            "---\n",
            " Hey.\n",
            "---\n",
            "Oh, brother. Don't matter though.\n",
            "---\n",
            "I think I know this man better than anyone here.\n",
            "---\n",
            "No. He wouldn't really lie.\n",
            "---\n",
            " No, thanks.\n",
            "---\n",
            "Thanks.\n",
            "---\n",
            " Oh, come on, will ya?\n",
            "---\n",
            "Pardon. This is my whole point.\n",
            "---\n",
            "Tell him, will ya?\n",
            "---\n",
            " Don't you remember that?\n",
            "---\n",
            " Sure he could have done it.\n",
            "---\n"
          ],
          "name": "stdout"
        }
      ]
    },
    {
      "cell_type": "markdown",
      "metadata": {
        "id": "06w96RnKYvf0"
      },
      "source": [
        "## Intersections"
      ]
    },
    {
      "cell_type": "markdown",
      "metadata": {
        "id": "JO5VBAVLYvf0"
      },
      "source": [
        "### both are \"hate speech\""
      ]
    },
    {
      "cell_type": "code",
      "metadata": {
        "id": "Owe6vhVeYvf1"
      },
      "source": [
        "df_intersections = df_results[(df_results.label_twitter=='hate speech')&(df_results.label_fox_news=='hate speech')]"
      ],
      "execution_count": null,
      "outputs": []
    },
    {
      "cell_type": "code",
      "metadata": {
        "colab": {
          "base_uri": "https://localhost:8080/",
          "height": 419
        },
        "id": "q3yUzcHsYvf1",
        "outputId": "616b5492-b999-4868-887b-b30949759270"
      },
      "source": [
        "df_intersections"
      ],
      "execution_count": null,
      "outputs": [
        {
          "output_type": "execute_result",
          "data": {
            "text/html": [
              "<div>\n",
              "<style scoped>\n",
              "    .dataframe tbody tr th:only-of-type {\n",
              "        vertical-align: middle;\n",
              "    }\n",
              "\n",
              "    .dataframe tbody tr th {\n",
              "        vertical-align: top;\n",
              "    }\n",
              "\n",
              "    .dataframe thead th {\n",
              "        text-align: right;\n",
              "    }\n",
              "</style>\n",
              "<table border=\"1\" class=\"dataframe\">\n",
              "  <thead>\n",
              "    <tr style=\"text-align: right;\">\n",
              "      <th></th>\n",
              "      <th>movie_name</th>\n",
              "      <th>index</th>\n",
              "      <th>utterance</th>\n",
              "      <th>count_utterances</th>\n",
              "      <th>tag</th>\n",
              "      <th>label_fox_news</th>\n",
              "      <th>label_twitter</th>\n",
              "    </tr>\n",
              "  </thead>\n",
              "  <tbody>\n",
              "    <tr>\n",
              "      <th>274</th>\n",
              "      <td>12 Angry Men</td>\n",
              "      <td>274</td>\n",
              "      <td>What are we sitting here for?</td>\n",
              "      <td>2065</td>\n",
              "      <td>racism</td>\n",
              "      <td>hate speech</td>\n",
              "      <td>hate speech</td>\n",
              "    </tr>\n",
              "    <tr>\n",
              "      <th>509</th>\n",
              "      <td>12 Angry Men</td>\n",
              "      <td>509</td>\n",
              "      <td>Let's go.</td>\n",
              "      <td>2065</td>\n",
              "      <td>racism</td>\n",
              "      <td>hate speech</td>\n",
              "      <td>hate speech</td>\n",
              "    </tr>\n",
              "    <tr>\n",
              "      <th>884</th>\n",
              "      <td>12 Angry Men</td>\n",
              "      <td>884</td>\n",
              "      <td>Okay, go.</td>\n",
              "      <td>2065</td>\n",
              "      <td>racism</td>\n",
              "      <td>hate speech</td>\n",
              "      <td>hate speech</td>\n",
              "    </tr>\n",
              "    <tr>\n",
              "      <th>1647</th>\n",
              "      <td>12 Angry Men</td>\n",
              "      <td>1647</td>\n",
              "      <td>Who's got a suggestion?</td>\n",
              "      <td>2065</td>\n",
              "      <td>racism</td>\n",
              "      <td>hate speech</td>\n",
              "      <td>hate speech</td>\n",
              "    </tr>\n",
              "    <tr>\n",
              "      <th>1961</th>\n",
              "      <td>12 Angry Men</td>\n",
              "      <td>1961</td>\n",
              "      <td>From glasses, right?</td>\n",
              "      <td>2065</td>\n",
              "      <td>racism</td>\n",
              "      <td>hate speech</td>\n",
              "      <td>hate speech</td>\n",
              "    </tr>\n",
              "    <tr>\n",
              "      <th>...</th>\n",
              "      <td>...</td>\n",
              "      <td>...</td>\n",
              "      <td>...</td>\n",
              "      <td>...</td>\n",
              "      <td>...</td>\n",
              "      <td>...</td>\n",
              "      <td>...</td>\n",
              "    </tr>\n",
              "    <tr>\n",
              "      <th>349812</th>\n",
              "      <td>Wind River</td>\n",
              "      <td>751</td>\n",
              "      <td>They were best friends.</td>\n",
              "      <td>1269</td>\n",
              "      <td>friendship</td>\n",
              "      <td>hate speech</td>\n",
              "      <td>hate speech</td>\n",
              "    </tr>\n",
              "    <tr>\n",
              "      <th>349970</th>\n",
              "      <td>Wind River</td>\n",
              "      <td>909</td>\n",
              "      <td>Dillon, holster your weapon.</td>\n",
              "      <td>1269</td>\n",
              "      <td>friendship</td>\n",
              "      <td>hate speech</td>\n",
              "      <td>hate speech</td>\n",
              "    </tr>\n",
              "    <tr>\n",
              "      <th>350042</th>\n",
              "      <td>Wind River</td>\n",
              "      <td>981</td>\n",
              "      <td>I remember thinking they were all like they ha...</td>\n",
              "      <td>1269</td>\n",
              "      <td>friendship</td>\n",
              "      <td>hate speech</td>\n",
              "      <td>hate speech</td>\n",
              "    </tr>\n",
              "    <tr>\n",
              "      <th>350044</th>\n",
              "      <td>Wind River</td>\n",
              "      <td>983</td>\n",
              "      <td>Like they've all figured it out.</td>\n",
              "      <td>1269</td>\n",
              "      <td>friendship</td>\n",
              "      <td>hate speech</td>\n",
              "      <td>hate speech</td>\n",
              "    </tr>\n",
              "    <tr>\n",
              "      <th>351242</th>\n",
              "      <td>You</td>\n",
              "      <td>912</td>\n",
              "      <td>Dressing rehearsals must be going nicely.</td>\n",
              "      <td>1772</td>\n",
              "      <td>friendship</td>\n",
              "      <td>hate speech</td>\n",
              "      <td>hate speech</td>\n",
              "    </tr>\n",
              "  </tbody>\n",
              "</table>\n",
              "<p>1333 rows × 7 columns</p>\n",
              "</div>"
            ],
            "text/plain": [
              "          movie_name  index  ... label_fox_news  label_twitter\n",
              "274     12 Angry Men    274  ...    hate speech    hate speech\n",
              "509     12 Angry Men    509  ...    hate speech    hate speech\n",
              "884     12 Angry Men    884  ...    hate speech    hate speech\n",
              "1647    12 Angry Men   1647  ...    hate speech    hate speech\n",
              "1961    12 Angry Men   1961  ...    hate speech    hate speech\n",
              "...              ...    ...  ...            ...            ...\n",
              "349812    Wind River    751  ...    hate speech    hate speech\n",
              "349970    Wind River    909  ...    hate speech    hate speech\n",
              "350042    Wind River    981  ...    hate speech    hate speech\n",
              "350044    Wind River    983  ...    hate speech    hate speech\n",
              "351242           You    912  ...    hate speech    hate speech\n",
              "\n",
              "[1333 rows x 7 columns]"
            ]
          },
          "metadata": {
            "tags": []
          },
          "execution_count": 41
        }
      ]
    },
    {
      "cell_type": "markdown",
      "metadata": {
        "id": "3chuHDMsYvf1"
      },
      "source": [
        "### fox news is \"hate speech\" and twitter is \"offensive language\""
      ]
    },
    {
      "cell_type": "code",
      "metadata": {
        "id": "44j__26NYvf1"
      },
      "source": [
        "df_intersections = df_results[(df_results.label_twitter=='offensive language')&(df_results.label_fox_news=='hate speech')]"
      ],
      "execution_count": null,
      "outputs": []
    },
    {
      "cell_type": "code",
      "metadata": {
        "colab": {
          "base_uri": "https://localhost:8080/",
          "height": 419
        },
        "id": "Ho2cp20wYvf2",
        "outputId": "b24826c9-fd55-4653-d52c-4495f54df4f5"
      },
      "source": [
        "df_intersections"
      ],
      "execution_count": null,
      "outputs": [
        {
          "output_type": "execute_result",
          "data": {
            "text/html": [
              "<div>\n",
              "<style scoped>\n",
              "    .dataframe tbody tr th:only-of-type {\n",
              "        vertical-align: middle;\n",
              "    }\n",
              "\n",
              "    .dataframe tbody tr th {\n",
              "        vertical-align: top;\n",
              "    }\n",
              "\n",
              "    .dataframe thead th {\n",
              "        text-align: right;\n",
              "    }\n",
              "</style>\n",
              "<table border=\"1\" class=\"dataframe\">\n",
              "  <thead>\n",
              "    <tr style=\"text-align: right;\">\n",
              "      <th></th>\n",
              "      <th>movie_name</th>\n",
              "      <th>index</th>\n",
              "      <th>utterance</th>\n",
              "      <th>count_utterances</th>\n",
              "      <th>tag</th>\n",
              "      <th>label_fox_news</th>\n",
              "      <th>label_twitter</th>\n",
              "    </tr>\n",
              "  </thead>\n",
              "  <tbody>\n",
              "    <tr>\n",
              "      <th>14</th>\n",
              "      <td>12 Angry Men</td>\n",
              "      <td>14</td>\n",
              "      <td>If there's a reasonable doubt in your minds as...</td>\n",
              "      <td>2065</td>\n",
              "      <td>racism</td>\n",
              "      <td>hate speech</td>\n",
              "      <td>offensive language</td>\n",
              "    </tr>\n",
              "    <tr>\n",
              "      <th>58</th>\n",
              "      <td>12 Angry Men</td>\n",
              "      <td>58</td>\n",
              "      <td>Oh, I thought we might want to vote by ballot.</td>\n",
              "      <td>2065</td>\n",
              "      <td>racism</td>\n",
              "      <td>hate speech</td>\n",
              "      <td>offensive language</td>\n",
              "    </tr>\n",
              "    <tr>\n",
              "      <th>63</th>\n",
              "      <td>12 Angry Men</td>\n",
              "      <td>63</td>\n",
              "      <td>It was pretty interesting.</td>\n",
              "      <td>2065</td>\n",
              "      <td>racism</td>\n",
              "      <td>hate speech</td>\n",
              "      <td>offensive language</td>\n",
              "    </tr>\n",
              "    <tr>\n",
              "      <th>67</th>\n",
              "      <td>12 Angry Men</td>\n",
              "      <td>67</td>\n",
              "      <td>What gets me is the way those lawyers talk and...</td>\n",
              "      <td>2065</td>\n",
              "      <td>racism</td>\n",
              "      <td>hate speech</td>\n",
              "      <td>offensive language</td>\n",
              "    </tr>\n",
              "    <tr>\n",
              "      <th>78</th>\n",
              "      <td>12 Angry Men</td>\n",
              "      <td>78</td>\n",
              "      <td>We probably all got things to do here.</td>\n",
              "      <td>2065</td>\n",
              "      <td>racism</td>\n",
              "      <td>hate speech</td>\n",
              "      <td>offensive language</td>\n",
              "    </tr>\n",
              "    <tr>\n",
              "      <th>...</th>\n",
              "      <td>...</td>\n",
              "      <td>...</td>\n",
              "      <td>...</td>\n",
              "      <td>...</td>\n",
              "      <td>...</td>\n",
              "      <td>...</td>\n",
              "      <td>...</td>\n",
              "    </tr>\n",
              "    <tr>\n",
              "      <th>352053</th>\n",
              "      <td>You</td>\n",
              "      <td>1723</td>\n",
              "      <td>It's time to go to bed and let these two young...</td>\n",
              "      <td>1772</td>\n",
              "      <td>friendship</td>\n",
              "      <td>hate speech</td>\n",
              "      <td>offensive language</td>\n",
              "    </tr>\n",
              "    <tr>\n",
              "      <th>352054</th>\n",
              "      <td>You</td>\n",
              "      <td>1724</td>\n",
              "      <td>Yes it's our bedtime so Aw Y'all be good.</td>\n",
              "      <td>1772</td>\n",
              "      <td>friendship</td>\n",
              "      <td>hate speech</td>\n",
              "      <td>offensive language</td>\n",
              "    </tr>\n",
              "    <tr>\n",
              "      <th>352068</th>\n",
              "      <td>You</td>\n",
              "      <td>1738</td>\n",
              "      <td>What did you and momma talk about  No no it's...</td>\n",
              "      <td>1772</td>\n",
              "      <td>friendship</td>\n",
              "      <td>hate speech</td>\n",
              "      <td>offensive language</td>\n",
              "    </tr>\n",
              "    <tr>\n",
              "      <th>352096</th>\n",
              "      <td>You</td>\n",
              "      <td>1766</td>\n",
              "      <td>I would say the inspiration for this song was...</td>\n",
              "      <td>1772</td>\n",
              "      <td>friendship</td>\n",
              "      <td>hate speech</td>\n",
              "      <td>offensive language</td>\n",
              "    </tr>\n",
              "    <tr>\n",
              "      <th>352099</th>\n",
              "      <td>You</td>\n",
              "      <td>1769</td>\n",
              "      <td>He's no stranger to the stage and he's arisen...</td>\n",
              "      <td>1772</td>\n",
              "      <td>friendship</td>\n",
              "      <td>hate speech</td>\n",
              "      <td>offensive language</td>\n",
              "    </tr>\n",
              "  </tbody>\n",
              "</table>\n",
              "<p>30168 rows × 7 columns</p>\n",
              "</div>"
            ],
            "text/plain": [
              "          movie_name  index  ... label_fox_news       label_twitter\n",
              "14      12 Angry Men     14  ...    hate speech  offensive language\n",
              "58      12 Angry Men     58  ...    hate speech  offensive language\n",
              "63      12 Angry Men     63  ...    hate speech  offensive language\n",
              "67      12 Angry Men     67  ...    hate speech  offensive language\n",
              "78      12 Angry Men     78  ...    hate speech  offensive language\n",
              "...              ...    ...  ...            ...                 ...\n",
              "352053           You   1723  ...    hate speech  offensive language\n",
              "352054           You   1724  ...    hate speech  offensive language\n",
              "352068           You   1738  ...    hate speech  offensive language\n",
              "352096           You   1766  ...    hate speech  offensive language\n",
              "352099           You   1769  ...    hate speech  offensive language\n",
              "\n",
              "[30168 rows x 7 columns]"
            ]
          },
          "metadata": {
            "tags": []
          },
          "execution_count": 43
        }
      ]
    },
    {
      "cell_type": "code",
      "metadata": {
        "id": "rMUGfvROYvf2"
      },
      "source": [
        ""
      ],
      "execution_count": null,
      "outputs": []
    }
  ]
}