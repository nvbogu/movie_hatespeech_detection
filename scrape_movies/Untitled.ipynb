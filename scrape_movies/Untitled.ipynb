{
 "cells": [
  {
   "cell_type": "code",
   "execution_count": 1,
   "metadata": {},
   "outputs": [],
   "source": [
    "import re\n",
    "import numpy as np\n",
    "import sys\n",
    "import zipfile\n",
    "import pandas as pd\n"
   ]
  },
  {
   "cell_type": "code",
   "execution_count": 2,
   "metadata": {},
   "outputs": [],
   "source": [
    "path = r'Talk Radio.zip'"
   ]
  },
  {
   "cell_type": "code",
   "execution_count": 3,
   "metadata": {},
   "outputs": [],
   "source": [
    "movie = []"
   ]
  },
  {
   "cell_type": "code",
   "execution_count": 4,
   "metadata": {},
   "outputs": [
    {
     "name": "stdout",
     "output_type": "stream",
     "text": [
      "opening file\n"
     ]
    }
   ],
   "source": [
    "print(\"opening file\")\n",
    "archive = zipfile.ZipFile(path, 'r')\n",
    "files = zipfile.ZipFile.namelist(archive)\n",
    "for file in files:\n",
    "\tfilename = re.findall(r'.*\\.srt', file)\n",
    "\tif len(filename)>0:\n",
    "\t\tfilename = filename[0]\n",
    "\t\tbreak"
   ]
  },
  {
   "cell_type": "code",
   "execution_count": 213,
   "metadata": {},
   "outputs": [],
   "source": [
    "movie_data = archive.read(filename)\n",
    "movie_data = movie_data.decode().split('\\r\\n')"
   ]
  },
  {
   "cell_type": "code",
   "execution_count": 214,
   "metadata": {},
   "outputs": [
    {
     "name": "stdout",
     "output_type": "stream",
     "text": [
      "Processing file\n",
      "                          dialog\n",
      "0                             ﻿1\n",
      "1  00:00:26,635 --> 00:00:29,763\n",
      "2        There's a tornado watch\n",
      "3   for a portion of West Texas.\n",
      "4                               \n",
      "Index(['dialog'], dtype='object')\n"
     ]
    }
   ],
   "source": [
    "print(\"Processing file\")\n",
    "df = pd.DataFrame(movie_data, columns=['dialog'])\n",
    "print(df.head())\n",
    "print(df.columns)"
   ]
  },
  {
   "cell_type": "code",
   "execution_count": 237,
   "metadata": {},
   "outputs": [],
   "source": [
    "def cleansing(df, n, x):\n",
    "    def remove_blank_lines(df):\n",
    "        df.replace(\"\", np.nan, inplace=True)\n",
    "        df = df.dropna()\n",
    "        return df\n",
    "    \n",
    "    def remove_brackets(df):\n",
    "        df = df.replace(r'^-?\\(.*\\)$', '', regex=True)\n",
    "        return df\n",
    "    \n",
    "    def remove_specialchars(df):\n",
    "        df = df.replace(r'[\\=\\-\\{\\}\\[\\]\\^\\#]', '', regex=True)\n",
    "        return df\n",
    "    \n",
    "    def _minus(df):\n",
    "        return df\n",
    "\n",
    "    def remove_nonchar_lines(df):\n",
    "        df = df.drop(df[df.dialog.str.contains(r'^\\d?\\d?\\d?\\d|\\d\\d:\\d\\d:\\d\\d,.*', regex=True)].index)\n",
    "        return df\n",
    "    \n",
    "    def remove_first_n_lines(df, n):\n",
    "        df = df.iloc[n:]\n",
    "        return df\n",
    "    \n",
    "    \n",
    "    df = remove_blank_lines(df)\n",
    "    df = remove_brackets(df)\n",
    "    df = remove_nonchar_lines(df)\n",
    "    df = remove_specialchars(df)\n",
    "    df = remove_blank_lines(df)\n",
    "    df = remove_first_n_lines(df, n)\n",
    "    df = remove_blank_lines(df)\n",
    "    \n",
    "    return df"
   ]
  },
  {
   "cell_type": "code",
   "execution_count": 238,
   "metadata": {},
   "outputs": [],
   "source": [
    "df_movie = cleansing(df, 1, 0)"
   ]
  },
  {
   "cell_type": "code",
   "execution_count": 239,
   "metadata": {},
   "outputs": [
    {
     "data": {
      "text/html": [
       "<div>\n",
       "<style scoped>\n",
       "    .dataframe tbody tr th:only-of-type {\n",
       "        vertical-align: middle;\n",
       "    }\n",
       "\n",
       "    .dataframe tbody tr th {\n",
       "        vertical-align: top;\n",
       "    }\n",
       "\n",
       "    .dataframe thead th {\n",
       "        text-align: right;\n",
       "    }\n",
       "</style>\n",
       "<table border=\"1\" class=\"dataframe\">\n",
       "  <thead>\n",
       "    <tr style=\"text-align: right;\">\n",
       "      <th></th>\n",
       "      <th>dialog</th>\n",
       "    </tr>\n",
       "  </thead>\n",
       "  <tbody>\n",
       "    <tr>\n",
       "      <th>2</th>\n",
       "      <td>There's a tornado watch</td>\n",
       "    </tr>\n",
       "    <tr>\n",
       "      <th>3</th>\n",
       "      <td>for a portion of West Texas.</td>\n",
       "    </tr>\n",
       "    <tr>\n",
       "      <th>7</th>\n",
       "      <td>Brian Chadwick is with the county</td>\n",
       "    </tr>\n",
       "    <tr>\n",
       "      <th>8</th>\n",
       "      <td>sheriff's office in Sweetwater.</td>\n",
       "    </tr>\n",
       "    <tr>\n",
       "      <th>12</th>\n",
       "      <td>We're trying to get the word out to</td>\n",
       "    </tr>\n",
       "    <tr>\n",
       "      <th>...</th>\n",
       "      <td>...</td>\n",
       "    </tr>\n",
       "    <tr>\n",
       "      <th>8818</th>\n",
       "      <td>Now he's dead.</td>\n",
       "    </tr>\n",
       "    <tr>\n",
       "      <th>8822</th>\n",
       "      <td>I don't know if you</td>\n",
       "    </tr>\n",
       "    <tr>\n",
       "      <th>8823</th>\n",
       "      <td>understand that analogy,</td>\n",
       "    </tr>\n",
       "    <tr>\n",
       "      <th>8827</th>\n",
       "      <td>but it's the clearest</td>\n",
       "    </tr>\n",
       "    <tr>\n",
       "      <th>8828</th>\n",
       "      <td>one I can make.</td>\n",
       "    </tr>\n",
       "  </tbody>\n",
       "</table>\n",
       "<p>3360 rows × 1 columns</p>\n",
       "</div>"
      ],
      "text/plain": [
       "                                   dialog\n",
       "2                 There's a tornado watch\n",
       "3            for a portion of West Texas.\n",
       "7       Brian Chadwick is with the county\n",
       "8         sheriff's office in Sweetwater.\n",
       "12    We're trying to get the word out to\n",
       "...                                   ...\n",
       "8818                       Now he's dead.\n",
       "8822                  I don't know if you\n",
       "8823             understand that analogy,\n",
       "8827                but it's the clearest\n",
       "8828                      one I can make.\n",
       "\n",
       "[3360 rows x 1 columns]"
      ]
     },
     "execution_count": 239,
     "metadata": {},
     "output_type": "execute_result"
    }
   ],
   "source": [
    "df_movie"
   ]
  },
  {
   "cell_type": "code",
   "execution_count": 252,
   "metadata": {},
   "outputs": [],
   "source": [
    "movie_txt = df_movie.dialog.values.tolist()"
   ]
  },
  {
   "cell_type": "code",
   "execution_count": 253,
   "metadata": {},
   "outputs": [
    {
     "data": {
      "text/html": [
       "<div>\n",
       "<style scoped>\n",
       "    .dataframe tbody tr th:only-of-type {\n",
       "        vertical-align: middle;\n",
       "    }\n",
       "\n",
       "    .dataframe tbody tr th {\n",
       "        vertical-align: top;\n",
       "    }\n",
       "\n",
       "    .dataframe thead th {\n",
       "        text-align: right;\n",
       "    }\n",
       "</style>\n",
       "<table border=\"1\" class=\"dataframe\">\n",
       "  <thead>\n",
       "    <tr style=\"text-align: right;\">\n",
       "      <th></th>\n",
       "      <th>dialog</th>\n",
       "    </tr>\n",
       "  </thead>\n",
       "  <tbody>\n",
       "    <tr>\n",
       "      <th>0</th>\n",
       "      <td>There's a tornado watch for a portion of West ...</td>\n",
       "    </tr>\n",
       "    <tr>\n",
       "      <th>1</th>\n",
       "      <td>Brian Chadwick is with the county sheriff's of...</td>\n",
       "    </tr>\n",
       "    <tr>\n",
       "      <th>2</th>\n",
       "      <td>We're trying to get the word out to the commun...</td>\n",
       "    </tr>\n",
       "    <tr>\n",
       "      <th>3</th>\n",
       "      <td>We hope this thing's not gonna develop into a ...</td>\n",
       "    </tr>\n",
       "    <tr>\n",
       "      <th>4</th>\n",
       "      <td>but after Saragosa, we're not taking any chances.</td>\n",
       "    </tr>\n",
       "  </tbody>\n",
       "</table>\n",
       "</div>"
      ],
      "text/plain": [
       "                                              dialog\n",
       "0  There's a tornado watch for a portion of West ...\n",
       "1  Brian Chadwick is with the county sheriff's of...\n",
       "2  We're trying to get the word out to the commun...\n",
       "3  We hope this thing's not gonna develop into a ...\n",
       "4  but after Saragosa, we're not taking any chances."
      ]
     },
     "execution_count": 253,
     "metadata": {},
     "output_type": "execute_result"
    }
   ],
   "source": [
    "sent = ''\n",
    "new_l = []\n",
    "for t in movie_txt:\n",
    "    if t[-1] not in ['.','?','!']:\n",
    "        sent+=t+' '\n",
    "    else:\n",
    "        sent+=t\n",
    "        new_l.append(sent)\n",
    "        sent = ''\n",
    "        \n",
    "df_movie_updated = pd.DataFrame(columns=['dialog'])\n",
    "df_movie_updated['dialog'] = new_l\n",
    "df_movie_updated.head()"
   ]
  },
  {
   "cell_type": "code",
   "execution_count": 256,
   "metadata": {},
   "outputs": [
    {
     "name": "stdout",
     "output_type": "stream",
     "text": [
      "converting to csv\n"
     ]
    }
   ],
   "source": [
    "print(\"converting to csv\")\n",
    "df_movie_updated.to_csv('talk_radio_conv.csv')"
   ]
  },
  {
   "cell_type": "code",
   "execution_count": null,
   "metadata": {},
   "outputs": [],
   "source": []
  },
  {
   "cell_type": "code",
   "execution_count": null,
   "metadata": {},
   "outputs": [],
   "source": []
  }
 ],
 "metadata": {
  "kernelspec": {
   "display_name": "Python 3",
   "language": "python",
   "name": "python3"
  },
  "language_info": {
   "codemirror_mode": {
    "name": "ipython",
    "version": 3
   },
   "file_extension": ".py",
   "mimetype": "text/x-python",
   "name": "python",
   "nbconvert_exporter": "python",
   "pygments_lexer": "ipython3",
   "version": "3.8.3"
  }
 },
 "nbformat": 4,
 "nbformat_minor": 4
}
