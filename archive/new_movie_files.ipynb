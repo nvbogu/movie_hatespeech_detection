{
 "cells": [
  {
   "cell_type": "code",
   "execution_count": 4,
   "metadata": {},
   "outputs": [],
   "source": [
    "import pandas as pd"
   ]
  },
  {
   "cell_type": "code",
   "execution_count": 2,
   "metadata": {},
   "outputs": [
    {
     "data": {
      "text/plain": [
       "'American Beauty_conv.csv'"
      ]
     },
     "execution_count": 2,
     "metadata": {},
     "output_type": "execute_result"
    }
   ],
   "source": [
    "'American Beauty_conv.csv'"
   ]
  },
  {
   "cell_type": "code",
   "execution_count": null,
   "metadata": {},
   "outputs": [],
   "source": [
    "pathes = ['movies/racism', 'movies/hate_speech', 'movies/friendship']"
   ]
  },
  {
   "cell_type": "code",
   "execution_count": 2,
   "metadata": {},
   "outputs": [],
   "source": [
    "save_path = ['movies/racism']"
   ]
  },
  {
   "cell_type": "code",
   "execution_count": 5,
   "metadata": {},
   "outputs": [],
   "source": [
    "df = pd.read_csv(r'data/all_movies_combined.csv')"
   ]
  },
  {
   "cell_type": "code",
   "execution_count": 9,
   "metadata": {},
   "outputs": [
    {
     "data": {
      "text/html": [
       "<div>\n",
       "<style scoped>\n",
       "    .dataframe tbody tr th:only-of-type {\n",
       "        vertical-align: middle;\n",
       "    }\n",
       "\n",
       "    .dataframe tbody tr th {\n",
       "        vertical-align: top;\n",
       "    }\n",
       "\n",
       "    .dataframe thead th {\n",
       "        text-align: right;\n",
       "    }\n",
       "</style>\n",
       "<table border=\"1\" class=\"dataframe\">\n",
       "  <thead>\n",
       "    <tr style=\"text-align: right;\">\n",
       "      <th></th>\n",
       "      <th>Unnamed: 0</th>\n",
       "      <th>index</th>\n",
       "      <th>utterance</th>\n",
       "      <th>movie_name</th>\n",
       "      <th>tag</th>\n",
       "      <th>count_utterances</th>\n",
       "    </tr>\n",
       "  </thead>\n",
       "  <tbody>\n",
       "    <tr>\n",
       "      <th>0</th>\n",
       "      <td>0</td>\n",
       "      <td>0</td>\n",
       "      <td>I got here as fast as legally possible.</td>\n",
       "      <td>1917</td>\n",
       "      <td>friendship</td>\n",
       "      <td>1480</td>\n",
       "    </tr>\n",
       "    <tr>\n",
       "      <th>1</th>\n",
       "      <td>1</td>\n",
       "      <td>1</td>\n",
       "      <td>Do you have my will?</td>\n",
       "      <td>1917</td>\n",
       "      <td>friendship</td>\n",
       "      <td>1480</td>\n",
       "    </tr>\n",
       "    <tr>\n",
       "      <th>2</th>\n",
       "      <td>2</td>\n",
       "      <td>2</td>\n",
       "      <td>Yes, sir.</td>\n",
       "      <td>1917</td>\n",
       "      <td>friendship</td>\n",
       "      <td>1480</td>\n",
       "    </tr>\n",
       "    <tr>\n",
       "      <th>3</th>\n",
       "      <td>3</td>\n",
       "      <td>3</td>\n",
       "      <td>I think we should take him to the hospital.</td>\n",
       "      <td>1917</td>\n",
       "      <td>friendship</td>\n",
       "      <td>1480</td>\n",
       "    </tr>\n",
       "    <tr>\n",
       "      <th>4</th>\n",
       "      <td>4</td>\n",
       "      <td>4</td>\n",
       "      <td>No, George wants to stay at home.</td>\n",
       "      <td>1917</td>\n",
       "      <td>friendship</td>\n",
       "      <td>1480</td>\n",
       "    </tr>\n",
       "    <tr>\n",
       "      <th>...</th>\n",
       "      <td>...</td>\n",
       "      <td>...</td>\n",
       "      <td>...</td>\n",
       "      <td>...</td>\n",
       "      <td>...</td>\n",
       "      <td>...</td>\n",
       "    </tr>\n",
       "    <tr>\n",
       "      <th>361074</th>\n",
       "      <td>943</td>\n",
       "      <td>943</td>\n",
       "      <td>OH...SURE.</td>\n",
       "      <td>X-Men</td>\n",
       "      <td>racism</td>\n",
       "      <td>948</td>\n",
       "    </tr>\n",
       "    <tr>\n",
       "      <th>361075</th>\n",
       "      <td>944</td>\n",
       "      <td>944</td>\n",
       "      <td>LEAVE HIM ALONE.</td>\n",
       "      <td>X-Men</td>\n",
       "      <td>racism</td>\n",
       "      <td>948</td>\n",
       "    </tr>\n",
       "    <tr>\n",
       "      <th>361076</th>\n",
       "      <td>945</td>\n",
       "      <td>945</td>\n",
       "      <td>I CAN MAKE IT.</td>\n",
       "      <td>X-Men</td>\n",
       "      <td>racism</td>\n",
       "      <td>948</td>\n",
       "    </tr>\n",
       "    <tr>\n",
       "      <th>361077</th>\n",
       "      <td>946</td>\n",
       "      <td>946</td>\n",
       "      <td>I'LL LEAVE YOU CROCKER'S HORSE.</td>\n",
       "      <td>X-Men</td>\n",
       "      <td>racism</td>\n",
       "      <td>948</td>\n",
       "    </tr>\n",
       "    <tr>\n",
       "      <th>361078</th>\n",
       "      <td>947</td>\n",
       "      <td>947</td>\n",
       "      <td>YOU'RE THE DAMNEDEST MAN I'VE EVER KNOWN.</td>\n",
       "      <td>X-Men</td>\n",
       "      <td>racism</td>\n",
       "      <td>948</td>\n",
       "    </tr>\n",
       "  </tbody>\n",
       "</table>\n",
       "<p>361079 rows × 6 columns</p>\n",
       "</div>"
      ],
      "text/plain": [
       "        Unnamed: 0  index                                    utterance  \\\n",
       "0                0      0      I got here as fast as legally possible.   \n",
       "1                1      1                         Do you have my will?   \n",
       "2                2      2                                    Yes, sir.   \n",
       "3                3      3  I think we should take him to the hospital.   \n",
       "4                4      4            No, George wants to stay at home.   \n",
       "...            ...    ...                                          ...   \n",
       "361074         943    943                                   OH...SURE.   \n",
       "361075         944    944                             LEAVE HIM ALONE.   \n",
       "361076         945    945                               I CAN MAKE IT.   \n",
       "361077         946    946              I'LL LEAVE YOU CROCKER'S HORSE.   \n",
       "361078         947    947    YOU'RE THE DAMNEDEST MAN I'VE EVER KNOWN.   \n",
       "\n",
       "       movie_name         tag  count_utterances  \n",
       "0            1917  friendship              1480  \n",
       "1            1917  friendship              1480  \n",
       "2            1917  friendship              1480  \n",
       "3            1917  friendship              1480  \n",
       "4            1917  friendship              1480  \n",
       "...           ...         ...               ...  \n",
       "361074      X-Men      racism               948  \n",
       "361075      X-Men      racism               948  \n",
       "361076      X-Men      racism               948  \n",
       "361077      X-Men      racism               948  \n",
       "361078      X-Men      racism               948  \n",
       "\n",
       "[361079 rows x 6 columns]"
      ]
     },
     "execution_count": 9,
     "metadata": {},
     "output_type": "execute_result"
    }
   ],
   "source": [
    "df"
   ]
  },
  {
   "cell_type": "code",
   "execution_count": null,
   "metadata": {},
   "outputs": [],
   "source": [
    "def save_movies(save_path, df, tag):\n",
    "    df = df[df.tag==tag]\n",
    "    groups = df.groupby('movie_name')\n",
    "    "
   ]
  },
  {
   "cell_type": "code",
   "execution_count": 8,
   "metadata": {},
   "outputs": [],
   "source": [
    "save_movies(save_path, df, tag)"
   ]
  }
 ],
 "metadata": {
  "kernelspec": {
   "display_name": "Python 3",
   "language": "python",
   "name": "python3"
  },
  "language_info": {
   "codemirror_mode": {
    "name": "ipython",
    "version": 3
   },
   "file_extension": ".py",
   "mimetype": "text/x-python",
   "name": "python",
   "nbconvert_exporter": "python",
   "pygments_lexer": "ipython3",
   "version": "3.7.9"
  }
 },
 "nbformat": 4,
 "nbformat_minor": 4
}
