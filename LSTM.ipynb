{
 "cells": [
  {
   "cell_type": "code",
   "execution_count": 222,
   "metadata": {},
   "outputs": [
    {
     "name": "stderr",
     "output_type": "stream",
     "text": [
      "Using TensorFlow backend.\n"
     ]
    }
   ],
   "source": [
    "import pandas as pd\n",
    "import tensorflow as tf\n",
    "from sklearn.preprocessing import LabelEncoder\n",
    "import datetime\n",
    "from sklearn.model_selection import train_test_split\n",
    "from sklearn import preprocessing\n",
    "from sklearn.model_selection import KFold\n",
    "import matplotlib.pyplot as plt\n",
    "from copy import copy\n",
    "import numpy as np\n",
    "import joblib\n",
    "\n",
    "from keras.models import Sequential\n",
    "from keras.layers import Dense\n",
    "from keras.layers import LSTM"
   ]
  },
  {
   "cell_type": "code",
   "execution_count": 143,
   "metadata": {},
   "outputs": [],
   "source": [
    "df = pd.read_csv('lol_data_pre_processed.csv')\n",
    "\n",
    "def change_win_values(win):\n",
    "    if win == 'team_RED':\n",
    "        return 0\n",
    "    if win == 'team_BLUE':\n",
    "        return 1\n",
    "    \n",
    "df['win'] = df['win'].apply(change_win_values)"
   ]
  },
  {
   "cell_type": "code",
   "execution_count": 144,
   "metadata": {},
   "outputs": [],
   "source": [
    "names = df.name.unique()"
   ]
  },
  {
   "cell_type": "code",
   "execution_count": 211,
   "metadata": {},
   "outputs": [],
   "source": [
    "values = list()\n",
    "targets = list()\n",
    "\n",
    "for name in names:\n",
    "    df_new = df[df.name==name]\n",
    "    \n",
    "    del df_new['name']\n",
    "    del df_new['team_blue']\n",
    "    del df_new['team_red']\n",
    "    del df_new['Unnamed: 0']\n",
    "    del df_new['week']\n",
    "    del df_new['frame_number']\n",
    "    del df_new['second']\n",
    "    \n",
    "    target = df_new.pop('win')\n",
    "    scaler = preprocessing.StandardScaler()\n",
    "    X = scaler.fit_transform(df_new.values)\n",
    "    values.append(X)\n",
    "    targets.append(target.values)"
   ]
  },
  {
   "cell_type": "code",
   "execution_count": 213,
   "metadata": {},
   "outputs": [],
   "source": [
    "sequences = list()\n",
    "zielvariablen = list()\n",
    "\n",
    "for value, target in zip(values, targets):\n",
    "    n = len(value)\n",
    "    n = n % 60\n",
    "    value = value[:-n]\n",
    "    target = target[:-n]\n",
    "    n = len(value) / 60\n",
    "    chunks_value  = np.array_split(value, n)\n",
    "    chunks_target = np.array_split(target, n)\n",
    "    for a,b in zip(chunks_value, chunks_target):\n",
    "        sequences.append(a)\n",
    "        zielvariablen.append(b)"
   ]
  },
  {
   "cell_type": "code",
   "execution_count": 214,
   "metadata": {},
   "outputs": [
    {
     "data": {
      "text/plain": [
       "2183"
      ]
     },
     "execution_count": 214,
     "metadata": {},
     "output_type": "execute_result"
    }
   ],
   "source": [
    "len(sequences)"
   ]
  },
  {
   "cell_type": "code",
   "execution_count": 215,
   "metadata": {},
   "outputs": [
    {
     "data": {
      "text/plain": [
       "60"
      ]
     },
     "execution_count": 215,
     "metadata": {},
     "output_type": "execute_result"
    }
   ],
   "source": [
    "len(zielvariablen[4])"
   ]
  },
  {
   "cell_type": "code",
   "execution_count": 216,
   "metadata": {},
   "outputs": [],
   "source": [
    "zielvariablen_new = list()\n",
    "for var in zielvariablen:\n",
    "    #print(type(var))\n",
    "    zielvariablen_new.append(var[0])"
   ]
  },
  {
   "cell_type": "code",
   "execution_count": 217,
   "metadata": {},
   "outputs": [
    {
     "data": {
      "text/plain": [
       "2183"
      ]
     },
     "execution_count": 217,
     "metadata": {},
     "output_type": "execute_result"
    }
   ],
   "source": [
    "len(zielvariablen_new)"
   ]
  },
  {
   "cell_type": "code",
   "execution_count": 218,
   "metadata": {},
   "outputs": [
    {
     "data": {
      "text/plain": [
       "array([[-0.69939567, -1.22352341, -1.48464687, ..., -1.89861258,\n",
       "        -0.73926453, -0.74330461],\n",
       "       [-0.69939567, -1.22352341, -1.48464687, ..., -1.89861258,\n",
       "        -0.73926453, -0.74330461],\n",
       "       [-0.69939567, -1.22352341, -1.48464687, ..., -1.89861258,\n",
       "        -0.73926453, -0.74330461],\n",
       "       ...,\n",
       "       [-0.69939567, -1.22352341, -1.48464687, ..., -1.89861258,\n",
       "        -0.73926453, -0.74330461],\n",
       "       [-0.69939567, -1.22352341, -1.48464687, ..., -1.89861258,\n",
       "        -0.73926453, -0.74330461],\n",
       "       [-0.69939567, -1.22352341, -1.48464687, ..., -1.89861258,\n",
       "        -0.73926453, -0.74330461]])"
      ]
     },
     "execution_count": 218,
     "metadata": {},
     "output_type": "execute_result"
    }
   ],
   "source": [
    "sequences[0]"
   ]
  },
  {
   "cell_type": "code",
   "execution_count": 232,
   "metadata": {},
   "outputs": [],
   "source": [
    "X_train, X_test, y_train, y_test = train_test_split(sequences, zielvariablen_new, test_size=0.3, random_state=42)"
   ]
  },
  {
   "cell_type": "code",
   "execution_count": 247,
   "metadata": {},
   "outputs": [],
   "source": [
    "X_train = np.array(X_train)\n",
    "X_test = np.array(X_test)\n",
    "y_train = np.array(y_train)\n",
    "y_test = np.array(y_test)"
   ]
  },
  {
   "cell_type": "code",
   "execution_count": 299,
   "metadata": {},
   "outputs": [],
   "source": [
    "def get_compiled_model():\n",
    "  model = tf.keras.Sequential([\n",
    "        tf.keras.layers.LSTM(256, input_shape=(60, 45)),\n",
    "        tf.keras.layers.Dense(1, activation = 'sigmoid')\n",
    "  ])\n",
    "\n",
    "  model.compile(optimizer= tf.keras.optimizers.Adam(learning_rate=0.001),\n",
    "                loss='binary_crossentropy',\n",
    "                metrics=['accuracy', tf.keras.metrics.Precision(), tf.keras.metrics.Recall()])\n",
    "  return model\n",
    "\n"
   ]
  },
  {
   "cell_type": "code",
   "execution_count": 300,
   "metadata": {},
   "outputs": [],
   "source": [
    "model = get_compiled_model()"
   ]
  },
  {
   "cell_type": "code",
   "execution_count": 301,
   "metadata": {
    "scrolled": true
   },
   "outputs": [
    {
     "name": "stdout",
     "output_type": "stream",
     "text": [
      "Model: \"sequential_9\"\n",
      "_________________________________________________________________\n",
      "Layer (type)                 Output Shape              Param #   \n",
      "=================================================================\n",
      "lstm_10 (LSTM)               (None, 256)               309248    \n",
      "_________________________________________________________________\n",
      "dense_9 (Dense)              (None, 1)                 257       \n",
      "=================================================================\n",
      "Total params: 309,505\n",
      "Trainable params: 309,505\n",
      "Non-trainable params: 0\n",
      "_________________________________________________________________\n"
     ]
    }
   ],
   "source": [
    "model.summary()"
   ]
  },
  {
   "cell_type": "code",
   "execution_count": 302,
   "metadata": {},
   "outputs": [],
   "source": [
    "history = []"
   ]
  },
  {
   "cell_type": "code",
   "execution_count": 316,
   "metadata": {},
   "outputs": [
    {
     "name": "stdout",
     "output_type": "stream",
     "text": [
      "Train on 1528 samples, validate on 655 samples\n",
      "Epoch 1/15\n",
      "1528/1528 [==============================] - 6s 4ms/sample - loss: 0.1772 - accuracy: 0.9365 - precision_8: 0.9238 - recall_8: 0.9495 - val_loss: 0.2393 - val_accuracy: 0.9099 - val_precision_8: 0.9099 - val_recall_8: 0.9179\n",
      "Epoch 2/15\n",
      "1528/1528 [==============================] - 7s 4ms/sample - loss: 0.3289 - accuracy: 0.8626 - precision_8: 0.8512 - recall_8: 0.8738 - val_loss: 0.4227 - val_accuracy: 0.7924 - val_precision_8: 0.8339 - val_recall_8: 0.7507\n",
      "Epoch 3/15\n",
      "1528/1528 [==============================] - 6s 4ms/sample - loss: 0.2920 - accuracy: 0.8737 - precision_8: 0.8784 - recall_8: 0.8632 - val_loss: 0.3304 - val_accuracy: 0.8748 - val_precision_8: 0.8689 - val_recall_8: 0.8944\n",
      "Epoch 4/15\n",
      "1528/1528 [==============================] - 6s 4ms/sample - loss: 0.2721 - accuracy: 0.8874 - precision_8: 0.8701 - recall_8: 0.9070 - val_loss: 0.3338 - val_accuracy: 0.8641 - val_precision_8: 0.9038 - val_recall_8: 0.8270\n",
      "Epoch 5/15\n",
      "1528/1528 [==============================] - 7s 4ms/sample - loss: 0.2343 - accuracy: 0.9064 - precision_8: 0.8930 - recall_8: 0.9203 - val_loss: 0.3696 - val_accuracy: 0.8473 - val_precision_8: 0.8433 - val_recall_8: 0.8680\n",
      "Epoch 6/15\n",
      "1528/1528 [==============================] - 6s 4ms/sample - loss: 0.2240 - accuracy: 0.9175 - precision_8: 0.9024 - recall_8: 0.9336 - val_loss: 0.2868 - val_accuracy: 0.8885 - val_precision_8: 0.8564 - val_recall_8: 0.9443\n",
      "Epoch 7/15\n",
      "1528/1528 [==============================] - 6s 4ms/sample - loss: 0.1600 - accuracy: 0.9431 - precision_8: 0.9247 - recall_8: 0.9628 - val_loss: 0.2582 - val_accuracy: 0.8992 - val_precision_8: 0.8686 - val_recall_8: 0.9501\n",
      "Epoch 8/15\n",
      "1528/1528 [==============================] - 6s 4ms/sample - loss: 0.1719 - accuracy: 0.9352 - precision_8: 0.9160 - recall_8: 0.9562 - val_loss: 0.2999 - val_accuracy: 0.8916 - val_precision_8: 0.8610 - val_recall_8: 0.9443\n",
      "Epoch 9/15\n",
      "1528/1528 [==============================] - 6s 4ms/sample - loss: 0.1119 - accuracy: 0.9627 - precision_8: 0.9567 - recall_8: 0.9681 - val_loss: 0.2479 - val_accuracy: 0.9237 - val_precision_8: 0.9477 - val_recall_8: 0.9032\n",
      "Epoch 10/15\n",
      "1528/1528 [==============================] - 6s 4ms/sample - loss: 0.1351 - accuracy: 0.9522 - precision_8: 0.9450 - recall_8: 0.9588 - val_loss: 0.1842 - val_accuracy: 0.9450 - val_precision_8: 0.9420 - val_recall_8: 0.9531\n",
      "Epoch 11/15\n",
      "1528/1528 [==============================] - 6s 4ms/sample - loss: 0.0563 - accuracy: 0.9830 - precision_8: 0.9802 - recall_8: 0.9854 - val_loss: 0.2184 - val_accuracy: 0.9359 - val_precision_8: 0.9410 - val_recall_8: 0.9355\n",
      "Epoch 12/15\n",
      "1528/1528 [==============================] - 7s 4ms/sample - loss: 0.0444 - accuracy: 0.9843 - precision_8: 0.9828 - recall_8: 0.9854 - val_loss: 0.1994 - val_accuracy: 0.9542 - val_precision_8: 0.9614 - val_recall_8: 0.9501\n",
      "Epoch 13/15\n",
      "1528/1528 [==============================] - 6s 4ms/sample - loss: 0.1875 - accuracy: 0.9483 - precision_8: 0.9707 - recall_8: 0.9230 - val_loss: 0.7958 - val_accuracy: 0.7298 - val_precision_8: 0.8504 - val_recall_8: 0.5836\n",
      "Epoch 14/15\n",
      "1528/1528 [==============================] - 6s 4ms/sample - loss: 0.2951 - accuracy: 0.8757 - precision_8: 0.8680 - recall_8: 0.8818 - val_loss: 0.3613 - val_accuracy: 0.8840 - val_precision_8: 0.8886 - val_recall_8: 0.8886\n",
      "Epoch 15/15\n",
      "1528/1528 [==============================] - 6s 4ms/sample - loss: 0.1892 - accuracy: 0.9195 - precision_8: 0.9145 - recall_8: 0.9230 - val_loss: 0.2587 - val_accuracy: 0.8885 - val_precision_8: 0.8918 - val_recall_8: 0.8944\n"
     ]
    }
   ],
   "source": [
    "history = model.fit(X_train, y_train, \n",
    "      epochs=15,  \n",
    "      verbose=1, \n",
    "      validation_data=(X_test, y_test),\n",
    "      batch_size=32)"
   ]
  },
  {
   "cell_type": "code",
   "execution_count": 311,
   "metadata": {},
   "outputs": [],
   "source": [
    "figures = []\n",
    "columns=[\"loss\", \"accuracy\", \"precision\", \"recall\", \"val_loss\", \"val_accuracy\", \"val_precision\", \"val_recall\", \"seed\", \"epoch\"]\n",
    "history_data = pd.DataFrame(columns=columns)"
   ]
  },
  {
   "cell_type": "code",
   "execution_count": 312,
   "metadata": {},
   "outputs": [
    {
     "name": "stdout",
     "output_type": "stream",
     "text": [
      "{'loss': [0.15132532514514724, 0.10386733285575638, 0.10016135270682928, 0.117336467064488, 0.32839231684569914, 0.1369788684926108, 0.11793066596329524, 0.2675357150469775, 0.25512803677489, 0.2135280952325666, 0.47125257075769117, 0.39124470925768007, 0.2719134125097884, 0.19710412995977553, 0.2546186437001403], 'accuracy': [0.95418847, 0.9679319, 0.9659686, 0.9633508, 0.8638743, 0.95222515, 0.96007854, 0.8985602, 0.8992147, 0.91753924, 0.77159685, 0.822644, 0.88481677, 0.9286649, 0.9024869], 'precision_8': [0.94293123, 0.9668435, 0.95816994, 0.94394904, 0.86092716, 0.9485488, 0.9505208, 0.89973265, 0.90971273, 0.92422193, 0.75062037, 0.816273, 0.86939824, 0.9192708, 0.90591395], 'recall_8': [0.96547145, 0.9681275, 0.9734396, 0.98406374, 0.86321384, 0.9548473, 0.96945554, 0.8937583, 0.8831341, 0.9070385, 0.80345285, 0.82602924, 0.9017264, 0.937583, 0.89508635], 'val_loss': [0.2672848406752557, 0.26190715648859514, 0.25935118861553325, 0.8604282982704293, 0.3421282408005409, 0.25310726769780384, 0.2604318849799287, 0.32219210121467823, 0.3369663877796581, 0.6753367815308898, 0.49398026557369085, 0.3601584652907976, 0.304991419670236, 0.3578656477555064, 0.3153467159462339], 'val_accuracy': [0.90839696, 0.90839696, 0.91908395, 0.78778625, 0.86564887, 0.8961832, 0.92519087, 0.8839695, 0.8503817, 0.7374046, 0.77709925, 0.8442748, 0.8687023, 0.8396947, 0.86259544], 'val_precision_8': [0.9488818, 0.8807588, 0.88709676, 0.7264574, 0.87315637, 0.9099099, 0.9219653, 0.90519875, 0.9204152, 0.74351585, 0.8095238, 0.8545994, 0.8632479, 0.7920792, 0.8476454], 'val_recall_8': [0.87096775, 0.95307916, 0.9677419, 0.9501466, 0.8680352, 0.88856304, 0.9354839, 0.8680352, 0.7800586, 0.75659823, 0.7478006, 0.8445748, 0.88856304, 0.9384164, 0.8973607]}\n"
     ]
    }
   ],
   "source": [
    "\n",
    "print(history.history)\n",
    "epoch = 1\n",
    "loss = history.history['loss']\n",
    "accuracy = history.history['accuracy']\n",
    "precision = history.history['precision_8']\n",
    "recall = history.history['recall_8']\n",
    "val_loss = history.history['val_loss']\n",
    "val_accuracy = history.history['val_accuracy']\n",
    "val_precision = history.history['val_precision_8']\n",
    "val_recall = history.history['val_recall_8']\n",
    "seed = np.repeat('1', len(loss))\n",
    "\n",
    "for x in range(len(loss)):\n",
    "    sample = {}\n",
    "    sample.update({'loss': loss[x]})\n",
    "    sample.update({'accuracy': accuracy[x]})\n",
    "    sample.update({'precision': precision[x]})\n",
    "    sample.update({'recall': recall[x]})\n",
    "    sample.update({'val_loss': val_loss[x]})\n",
    "    sample.update({'val_accuracy': val_accuracy[x]})\n",
    "    sample.update({'val_precision': val_precision[x]})\n",
    "    sample.update({'val_recall': val_recall[x]})\n",
    "    sample.update({'seed': seed[x]})\n",
    "    sample.update({'epoch': epoch})\n",
    "\n",
    "    history_data = history_data.append(sample, ignore_index=True)\n",
    "    epoch+=1"
   ]
  },
  {
   "cell_type": "code",
   "execution_count": 313,
   "metadata": {},
   "outputs": [],
   "source": [
    "for item in figures:\n",
    "    fig = plt.figure(figsize=(10,2))\n",
    "    ax1\n",
    "    fig.add_subplot(item[0])\n",
    "    fig.add_subplot(item[1])\n",
    "    fig.add_subplot(item[2])\n",
    "    fig.add_subplot(item[3])"
   ]
  },
  {
   "cell_type": "code",
   "execution_count": 314,
   "metadata": {},
   "outputs": [],
   "source": [
    "grouped = history_data.groupby('seed')"
   ]
  },
  {
   "cell_type": "code",
   "execution_count": 315,
   "metadata": {},
   "outputs": [
    {
     "data": {
      "image/png": "[encoded data removed]",
      "text/plain": [
       "<Figure size 1440x208.8 with 4 Axes>"
      ]
     },
     "metadata": {
      "needs_background": "light"
     },
     "output_type": "display_data"
    }
   ],
   "source": [
    "for name, group in grouped:\n",
    "    fig = plt.figure(figsize=(20,2.9))\n",
    "    \n",
    "    ax1 = fig.add_subplot(1, 4, 1)\n",
    "    ax2 = fig.add_subplot(1, 4, 2)\n",
    "    ax3 = fig.add_subplot(1, 4, 3)\n",
    "    ax4 = fig.add_subplot(1, 4, 4)\n",
    "    \n",
    "    ax1.plot(group['epoch'], group['loss'], label='loss')\n",
    "    ax1.plot(group['epoch'], group['val_loss'], label='val_loss')\n",
    "    ax1.set_xlabel('epoch')\n",
    "    ax1.set_ylabel('loss')\n",
    "    ax1.set_title(name)\n",
    "    ax1.legend()\n",
    "    ax1.legend(loc=\"upper left\")\n",
    "\n",
    "    ax2.plot(group['epoch'], group['accuracy'], label='accuracy')\n",
    "    ax2.plot(group['epoch'], group['val_accuracy'], label='val_accuracy')\n",
    "    ax2.set_xlabel('epoch')\n",
    "    ax2.set_ylabel('accuracy')\n",
    "    ax2.set_title(name)\n",
    "    ax2.legend()\n",
    "    ax2.legend(loc=\"upper left\")\n",
    "    \n",
    "    ax3.plot(group['epoch'], group['precision'], label='precision')\n",
    "    ax3.plot(group['epoch'], group['val_precision'], label='val_precision')\n",
    "    ax3.set_xlabel('epoch')\n",
    "    ax3.set_ylabel('precision')\n",
    "    ax3.set_title(name)\n",
    "    ax3.legend()\n",
    "    ax3.legend(loc=\"upper left\")\n",
    "    \n",
    "    ax4.plot(group['epoch'], group['recall'], label='recall')\n",
    "    ax4.plot(group['epoch'], group['val_recall'], label='val_recall')\n",
    "    ax4.set_xlabel('epoch')\n",
    "    ax4.set_ylabel('recall')\n",
    "    ax4.set_title(name)\n",
    "    ax4.legend()\n",
    "    ax4.legend(loc=\"upper left\")\n",
    "    \n",
    "    "
   ]
  },
  {
   "cell_type": "code",
   "execution_count": 317,
   "metadata": {},
   "outputs": [],
   "source": [
    "model.save('model_weights/TEST-LSTM-v1.h5')"
   ]
  },
  {
   "cell_type": "code",
   "execution_count": null,
   "metadata": {},
   "outputs": [],
   "source": []
  }
 ],
 "metadata": {
  "kernelspec": {
   "display_name": "Python 3",
   "language": "python",
   "name": "python3"
  },
  "language_info": {
   "codemirror_mode": {
    "name": "ipython",
    "version": 3
   },
   "file_extension": ".py",
   "mimetype": "text/x-python",
   "name": "python",
   "nbconvert_exporter": "python",
   "pygments_lexer": "ipython3",
   "version": "3.8.5"
  }
 },
 "nbformat": 4,
 "nbformat_minor": 4
}
